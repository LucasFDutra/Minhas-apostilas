{
  "nbformat": 4,
  "nbformat_minor": 0,
  "metadata": {
    "colab": {
      "name": "Como Trabalhar com arquivos utilizando o google colaboratory e google drive.ipynb",
      "version": "0.3.2",
      "provenance": [],
      "collapsed_sections": [],
      "toc_visible": true,
      "include_colab_link": true
    },
    "kernelspec": {
      "name": "python3",
      "display_name": "Python 3"
    }
  },
  "cells": [
    {
      "cell_type": "markdown",
      "metadata": {
        "id": "view-in-github",
        "colab_type": "text"
      },
      "source": [
        "<a href=\"https://colab.research.google.com/github/LucasFDutra/Google-Colaboratory/blob/master/Tutorial%20de%20utiliza%C3%A7%C3%A3o%20do%20google%20colaboratory.ipynb\" target=\"_parent\"><img src=\"https://colab.research.google.com/assets/colab-badge.svg\" alt=\"Open In Colab\"/></a>"
      ]
    },
    {
      "metadata": {
        "id": "rE9y6u2yUIO9",
        "colab_type": "text"
      },
      "cell_type": "markdown",
      "source": [
        "# COMMIT NO GITHUB\n",
        "Se tiver um notebook já salvo no GitHub e queira editá-lo a partir do google colaboratory, basta seguir os passos:\n",
        "- 1 - Copie o url do repositório como se fosse fazer um clone dele.\n",
        "- 2 - Abra o [google colaboratory](https://colab.research.google.com/notebooks/welcome.ipynb#recent=true)\n",
        "- 3 - Nele você pode ir em \"File -> Open notebook\", conforme a imagem abaixo.\n",
        "\n",
        "![](https://github.com/LucasFDutra/Google-Colaboratory/blob/master/Imagens/GitHub/Figura_1.png?raw=true)\n",
        "\n",
        "- 4 - Após clicar em \"Open notebook\" aparecerá a tela da figura abaixo, no espaço indicado cole o url do repositório.\n",
        "\n",
        "![](https://github.com/LucasFDutra/Google-Colaboratory/blob/master/Imagens/GitHub/Figura_2.png?raw=true)\n",
        "\n",
        "- 5 - Edite o notebook.\n",
        "- 6 - Para efetuar o commit no github vá em \"File -> Save a copy on GitHub\", como indicado abaixo.\n",
        "\n",
        "![](https://github.com/LucasFDutra/Google-Colaboratory/blob/master/Imagens/GitHub/Figura_3.png?raw=true)\n",
        "\n",
        "- 7 - Agora irá aparecer a tela abaixo, nela verifique se o repositório, o branch e o nome estão corretos, caso afirmativo basta  clicar em \"ok\".\n",
        "\n",
        "![](https://github.com/LucasFDutra/Google-Colaboratory/blob/master/Imagens/GitHub/Figura_4.png?raw=true)\n",
        "\n",
        "> OBS 1.: Caso deixe a opção \"Include a link to Colaboratory\" o arquivo que será salvo no github receberá uma pequena imagem no início que será um link para poder abrir o arquivo diretamente do github para o colaboratory, assim não precisando efetuar as etapas de 1 a 4.\n",
        "\n",
        "> OBS 2.: Caso não coloque o nome do arquivo igual ao original, será criado um novo arquivo que irá coexistir com o antigo."
      ]
    },
    {
      "metadata": {
        "id": "4mdpnodvUrcr",
        "colab_type": "text"
      },
      "cell_type": "markdown",
      "source": [
        "# TRABALHANDO COM GPU\n",
        "Uma das maiores vantagens do google colaboratory é trabalhar com GPUs direto da nuvem. Para poder aproveitar desse recurso é bem simples.\n",
        "- 1 - Vá em \"Edit -> Notebook Settings\", conforme a imagem abaixo.\n",
        "\n",
        "![](https://github.com/LucasFDutra/Google-Colaboratory/blob/master/Imagens/GPU/Figura_1.png?raw=true)\n",
        "\n",
        "- 2 - Ao aparecer a tela indicada na figura abaixo, em \"Hardware accelerator\" escolha a opção \"GPU\" conforme os indicativos da imagem.\n",
        "\n",
        "![](https://github.com/LucasFDutra/Google-Colaboratory/blob/master/Imagens/GPU/Figura_2.png?raw=true)"
      ]
    },
    {
      "metadata": {
        "id": "oHvErTzySiYW",
        "colab_type": "text"
      },
      "cell_type": "markdown",
      "source": [
        "# SALVANDO E LENDO MODELOS DE MACHINE LEARNING NO GOOGLE DRIVE"
      ]
    },
    {
      "metadata": {
        "id": "xvmunIMvnf15",
        "colab_type": "text"
      },
      "cell_type": "markdown",
      "source": [
        "## MÉTODO 1\n",
        "\n"
      ]
    },
    {
      "metadata": {
        "id": "2Hera-nMpCbG",
        "colab_type": "text"
      },
      "cell_type": "markdown",
      "source": [
        "### Efetuando as configurações de conexão com o drive\n",
        "\n",
        "Primeiro de tudo certifique-se de que o navegador está logado na sua conta google. Pois só assim o colab será capaz de efetuar os passos a seguir. \n",
        "\n",
        "> **É necessário efetuar todos esses códigos de configuração sempre que tiver um novo notebook**\n",
        "\n",
        "Copie o código abaixo e execute.\n",
        "> Irá aparecer um link, click nele e isso te direcionará para uma pagina da google gerando um código que deve ser copiado e colado no lugar que se abrirá no output da célula."
      ]
    },
    {
      "metadata": {
        "id": "mnq5iZXuocNc",
        "colab_type": "code",
        "colab": {}
      },
      "cell_type": "code",
      "source": [
        "from google.colab import drive\n",
        "drive.mount('/content/gdrive')"
      ],
      "execution_count": 0,
      "outputs": []
    },
    {
      "metadata": {
        "id": "rAP7VQWdodLL",
        "colab_type": "text"
      },
      "cell_type": "markdown",
      "source": [
        "Para ver as pastas que contem dentro do seu drive, utilize o comando.\n",
        "```python\n",
        "!ls \"gdrive/My Drive\"\n",
        "```\n",
        "\n",
        "E pronto, para salvar ou carregar seus modelos no google drive basta indicar o caminho correto\n",
        "```python\n",
        "gdrive/My Drive/diretório\"\n",
        "```\n",
        "### Salvando um modelo já treinado"
      ]
    },
    {
      "metadata": {
        "id": "WPD9lMG0pL3k",
        "colab_type": "code",
        "colab": {}
      },
      "cell_type": "code",
      "source": [
        "model.save('gdrive/My Drive/Colab Notebooks/my_model.h5')"
      ],
      "execution_count": 0,
      "outputs": []
    },
    {
      "metadata": {
        "id": "Jl1l30hwpVHS",
        "colab_type": "text"
      },
      "cell_type": "markdown",
      "source": [
        "### Fazendo upload do modelo treinado"
      ]
    },
    {
      "metadata": {
        "id": "1femEPropXB7",
        "colab_type": "code",
        "colab": {}
      },
      "cell_type": "code",
      "source": [
        "model = keras.models.load_model('gdrive/My Drive/Colab Notebooks/my_model.h5')"
      ],
      "execution_count": 0,
      "outputs": []
    },
    {
      "metadata": {
        "id": "rx-HyaYlpelP",
        "colab_type": "text"
      },
      "cell_type": "markdown",
      "source": [
        "## MÉTODO 2"
      ]
    },
    {
      "metadata": {
        "id": "CWZauCiWIQij",
        "colab_type": "text"
      },
      "cell_type": "markdown",
      "source": [
        "### Efetuando as configurações de conexão com o drive\n",
        "\n",
        "Primeiro de tudo certifique-se de que o navegador está logado na sua conta google. Pois só assim o colab será capaz de efetuar os passos a seguir. \n",
        "\n",
        "> **É necessário efetuar todos esses códigos de configuração sempre que tiver um novo notebook**\n",
        "\n",
        "Copie o código abaixo e execute.\n",
        "> Irá aparecer um link, click nele e isso te direcionará para uma pagina da google gerando um código que deve ser copiado e colado no lugar que se abrirá no output da célula."
      ]
    },
    {
      "metadata": {
        "id": "m0tNGCa8yQrv",
        "colab_type": "code",
        "colab": {}
      },
      "cell_type": "code",
      "source": [
        "!apt-get install -y -qq software-properties-common python-software-properties module-init-tools\n",
        "!add-apt-repository -y ppa:alessandro-strada/ppa 2>&1 > /dev/null\n",
        "!apt-get update -qq 2>&1 > /dev/null\n",
        "!apt-get -y install -qq google-drive-ocamlfuse fuse\n",
        "\n",
        "from google.colab import auth\n",
        "auth.authenticate_user()\n",
        "from oauth2client.client import GoogleCredentials\n",
        "creds = GoogleCredentials.get_application_default()\n",
        "import getpass"
      ],
      "execution_count": 0,
      "outputs": []
    },
    {
      "metadata": {
        "id": "IJPAnuuQy6Kk",
        "colab_type": "text"
      },
      "cell_type": "markdown",
      "source": [
        "Agora rode o segundo grupo de comando, que também retornará um link, siga os mesmos procedimentos anteriores."
      ]
    },
    {
      "metadata": {
        "id": "dIvqG_EJzBqT",
        "colab_type": "code",
        "colab": {}
      },
      "cell_type": "code",
      "source": [
        "!google-drive-ocamlfuse -headless -id={creds.client_id} -secret={creds.client_secret} < /dev/null 2>&1 | grep URL\n",
        "vcode = getpass.getpass()\n",
        "!echo {vcode} | google-drive-ocamlfuse -headless -id={creds.client_id} -secret={creds.client_secret}"
      ],
      "execution_count": 0,
      "outputs": []
    },
    {
      "metadata": {
        "id": "403nmcFPzOpe",
        "colab_type": "text"
      },
      "cell_type": "markdown",
      "source": [
        "Execute mais esse grupo de comandos."
      ]
    },
    {
      "metadata": {
        "id": "lJsX9ECCzXe3",
        "colab_type": "code",
        "colab": {}
      },
      "cell_type": "code",
      "source": [
        "!mkdir -p drive\n",
        "!google-drive-ocamlfuse drive"
      ],
      "execution_count": 0,
      "outputs": []
    },
    {
      "metadata": {
        "id": "heE1AkK_zaTS",
        "colab_type": "text"
      },
      "cell_type": "markdown",
      "source": [
        "Agora já é possível navegar pelas pastas do google drive utilizando os comandos do linux antecedidos por ''!''."
      ]
    },
    {
      "metadata": {
        "id": "u0xbTkNfyKHw",
        "colab_type": "text"
      },
      "cell_type": "markdown",
      "source": [
        "### Salvando um modelo já treinado\n"
      ]
    },
    {
      "metadata": {
        "id": "U6POftftjzel",
        "colab_type": "code",
        "colab": {}
      },
      "cell_type": "code",
      "source": [
        "model.save('drive/Colab Notebooks/my_model.h5')"
      ],
      "execution_count": 0,
      "outputs": []
    },
    {
      "metadata": {
        "id": "Uw-9TqdJQvPb",
        "colab_type": "text"
      },
      "cell_type": "markdown",
      "source": [
        "### Fazendo upload do modelo treinado"
      ]
    },
    {
      "metadata": {
        "id": "Z4jZ9HX8QueN",
        "colab_type": "code",
        "colab": {}
      },
      "cell_type": "code",
      "source": [
        "model = keras.models.load_model('drive/Colab Notebooks/my_model.h5')"
      ],
      "execution_count": 0,
      "outputs": []
    },
    {
      "metadata": {
        "id": "SgH3AH86SW8_",
        "colab_type": "text"
      },
      "cell_type": "markdown",
      "source": [
        "# CRIANDO E SALVANDO GIFS"
      ]
    },
    {
      "metadata": {
        "id": "ranSh7N8SbNk",
        "colab_type": "code",
        "colab": {}
      },
      "cell_type": "code",
      "source": [
        "import matplotlib.animation as animation\n",
        "ims = []\n",
        "fig = plt.figure()\n",
        "for i in x_train_false_img:\n",
        "    im = plt.imshow(i.reshape(28,28))\n",
        "    ims.append([im])\n",
        "\n",
        "ani = animation.ArtistAnimation(fig, ims, interval=500, blit=True, repeat_delay=100)\n",
        "ani.save('gdrive/My Drive/Colab Notebooks/Figura_3.gif', writer='pillow')"
      ],
      "execution_count": 0,
      "outputs": []
    }
  ]
}