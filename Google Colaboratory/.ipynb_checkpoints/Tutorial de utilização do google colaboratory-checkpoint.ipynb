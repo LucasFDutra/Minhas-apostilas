{
 "cells": [
  {
   "cell_type": "markdown",
   "metadata": {
    "colab_type": "text",
    "id": "view-in-github"
   },
   "source": [
    "<a href=\"https://colab.research.google.com/github/LucasFDutra/Google-Colaboratory/blob/master/Tutorial%20de%20utiliza%C3%A7%C3%A3o%20do%20google%20colaboratory.ipynb\" target=\"_parent\"><img src=\"https://colab.research.google.com/assets/colab-badge.svg\" alt=\"Open In Colab\"/></a>"
   ]
  },
  {
   "cell_type": "markdown",
   "metadata": {
    "colab_type": "text",
    "id": "rE9y6u2yUIO9"
   },
   "source": [
    "# COMMIT NO GITHUB\n",
    "Se tiver um notebook já salvo no GitHub e queira editá-lo a partir do google colaboratory, basta seguir os passos:\n",
    "- 1 - Copie o url do repositório como se fosse fazer um clone dele.\n",
    "- 2 - Abra o [google colaboratory](https://colab.research.google.com/notebooks/welcome.ipynb#recent=true)\n",
    "- 3 - Nele você pode ir em \"File -> Open notebook\", conforme a imagem abaixo.\n",
    "\n",
    "![](https://github.com/LucasFDutra/Minhas-apostilas/blob/master/Google%20Colaboratory/Imagens/GitHub/Figura_1.png?raw=true)\n",
    "\n",
    "- 4 - Após clicar em \"Open notebook\" aparecerá a tela da figura abaixo, no espaço indicado cole o url do repositório.\n",
    "\n",
    "![](https://github.com/LucasFDutra/Minhas-apostilas/blob/master/Google%20Colaboratory/Imagens/GitHub/Figura_2.png?raw=true)\n",
    "\n",
    "- 5 - Edite o notebook.\n",
    "- 6 - Para efetuar o commit no github vá em \"File -> Save a copy on GitHub\", como indicado abaixo.\n",
    "\n",
    "![](https://github.com/LucasFDutra/Minhas-apostilas/blob/master/Google%20Colaboratory/Imagens/GitHub/Figura_3.png?raw=true)\n",
    "\n",
    "- 7 - Agora irá aparecer a tela abaixo, nela verifique se o repositório, o branch e o nome estão corretos, caso afirmativo basta  clicar em \"ok\".\n",
    "\n",
    "![](https://github.com/LucasFDutra/Minhas-apostilas/blob/master/Google%20Colaboratory/Imagens/GitHub/Figura_4.png?raw=true)\n",
    "\n",
    "> OBS 1.: Caso deixe a opção \"Include a link to Colaboratory\" o arquivo que será salvo no github receberá uma pequena imagem no início que será um link para poder abrir o arquivo diretamente do github para o colaboratory, assim não precisando efetuar as etapas de 1 a 4.\n",
    "\n",
    "> OBS 2.: Caso não coloque o nome do arquivo igual ao original, será criado um novo arquivo que irá coexistir com o antigo."
   ]
  },
  {
   "cell_type": "markdown",
   "metadata": {
    "colab_type": "text",
    "id": "4mdpnodvUrcr"
   },
   "source": [
    "# TRABALHANDO COM GPU\n",
    "Uma das maiores vantagens do google colaboratory é trabalhar com GPUs direto da nuvem. Para poder aproveitar desse recurso é bem simples.\n",
    "- 1 - Vá em \"Edit -> Notebook Settings\", conforme a imagem abaixo.\n",
    "\n",
    "![](https://github.com/LucasFDutra/Google-Colaboratory/blob/master/Imagens/GPU/Figura_1.png?raw=true)\n",
    "\n",
    "- 2 - Ao aparecer a tela indicada na figura abaixo, em \"Hardware accelerator\" escolha a opção \"GPU\" conforme os indicativos da imagem.\n",
    "\n",
    "![](https://github.com/LucasFDutra/Google-Colaboratory/blob/master/Imagens/GPU/Figura_2.png?raw=true)"
   ]
  },
  {
   "cell_type": "markdown",
   "metadata": {
    "colab_type": "text",
    "id": "oHvErTzySiYW"
   },
   "source": [
    "# SALVANDO E LENDO MODELOS DE MACHINE LEARNING NO GOOGLE DRIVE"
   ]
  },
  {
   "cell_type": "markdown",
   "metadata": {
    "colab_type": "text",
    "id": "xvmunIMvnf15"
   },
   "source": [
    "## MÉTODO 1\n",
    "\n"
   ]
  },
  {
   "cell_type": "markdown",
   "metadata": {
    "colab_type": "text",
    "id": "2Hera-nMpCbG"
   },
   "source": [
    "### Efetuando as configurações de conexão com o drive\n",
    "\n",
    "Primeiro de tudo certifique-se de que o navegador está logado na sua conta google. Pois só assim o colab será capaz de efetuar os passos a seguir. \n",
    "\n",
    "> **É necessário efetuar todos esses códigos de configuração sempre que tiver um novo notebook**\n",
    "\n",
    "Copie o código abaixo e execute.\n",
    "> Irá aparecer um link, click nele e isso te direcionará para uma pagina da google gerando um código que deve ser copiado e colado no lugar que se abrirá no output da célula."
   ]
  },
  {
   "cell_type": "code",
   "execution_count": 0,
   "metadata": {
    "colab": {},
    "colab_type": "code",
    "id": "mnq5iZXuocNc"
   },
   "outputs": [],
   "source": [
    "from google.colab import drive\n",
    "drive.mount('/content/gdrive')"
   ]
  },
  {
   "cell_type": "markdown",
   "metadata": {
    "colab_type": "text",
    "id": "rAP7VQWdodLL"
   },
   "source": [
    "Para ver as pastas que contem dentro do seu drive, utilize o comando.\n",
    "```python\n",
    "!ls \"gdrive/My Drive\"\n",
    "```\n",
    "\n",
    "E pronto, para salvar ou carregar seus modelos no google drive basta indicar o caminho correto\n",
    "```python\n",
    "gdrive/My Drive/diretório\"\n",
    "```\n",
    "### Salvando um modelo já treinado"
   ]
  },
  {
   "cell_type": "code",
   "execution_count": 0,
   "metadata": {
    "colab": {},
    "colab_type": "code",
    "id": "WPD9lMG0pL3k"
   },
   "outputs": [],
   "source": [
    "model.save('gdrive/My Drive/Colab Notebooks/my_model.h5')"
   ]
  },
  {
   "cell_type": "markdown",
   "metadata": {
    "colab_type": "text",
    "id": "Jl1l30hwpVHS"
   },
   "source": [
    "### Fazendo upload do modelo treinado"
   ]
  },
  {
   "cell_type": "code",
   "execution_count": 0,
   "metadata": {
    "colab": {},
    "colab_type": "code",
    "id": "1femEPropXB7"
   },
   "outputs": [],
   "source": [
    "model = keras.models.load_model('gdrive/My Drive/Colab Notebooks/my_model.h5')"
   ]
  },
  {
   "cell_type": "markdown",
   "metadata": {
    "colab_type": "text",
    "id": "rx-HyaYlpelP"
   },
   "source": [
    "## MÉTODO 2"
   ]
  },
  {
   "cell_type": "markdown",
   "metadata": {
    "colab_type": "text",
    "id": "CWZauCiWIQij"
   },
   "source": [
    "### Efetuando as configurações de conexão com o drive\n",
    "\n",
    "Primeiro de tudo certifique-se de que o navegador está logado na sua conta google. Pois só assim o colab será capaz de efetuar os passos a seguir. \n",
    "\n",
    "> **É necessário efetuar todos esses códigos de configuração sempre que tiver um novo notebook**\n",
    "\n",
    "Copie o código abaixo e execute.\n",
    "> Irá aparecer um link, click nele e isso te direcionará para uma pagina da google gerando um código que deve ser copiado e colado no lugar que se abrirá no output da célula."
   ]
  },
  {
   "cell_type": "code",
   "execution_count": 0,
   "metadata": {
    "colab": {},
    "colab_type": "code",
    "id": "m0tNGCa8yQrv"
   },
   "outputs": [],
   "source": [
    "!apt-get install -y -qq software-properties-common python-software-properties module-init-tools\n",
    "!add-apt-repository -y ppa:alessandro-strada/ppa 2>&1 > /dev/null\n",
    "!apt-get update -qq 2>&1 > /dev/null\n",
    "!apt-get -y install -qq google-drive-ocamlfuse fuse\n",
    "\n",
    "from google.colab import auth\n",
    "auth.authenticate_user()\n",
    "from oauth2client.client import GoogleCredentials\n",
    "creds = GoogleCredentials.get_application_default()\n",
    "import getpass"
   ]
  },
  {
   "cell_type": "markdown",
   "metadata": {
    "colab_type": "text",
    "id": "IJPAnuuQy6Kk"
   },
   "source": [
    "Agora rode o segundo grupo de comando, que também retornará um link, siga os mesmos procedimentos anteriores."
   ]
  },
  {
   "cell_type": "code",
   "execution_count": 0,
   "metadata": {
    "colab": {},
    "colab_type": "code",
    "id": "dIvqG_EJzBqT"
   },
   "outputs": [],
   "source": [
    "!google-drive-ocamlfuse -headless -id={creds.client_id} -secret={creds.client_secret} < /dev/null 2>&1 | grep URL\n",
    "vcode = getpass.getpass()\n",
    "!echo {vcode} | google-drive-ocamlfuse -headless -id={creds.client_id} -secret={creds.client_secret}"
   ]
  },
  {
   "cell_type": "markdown",
   "metadata": {
    "colab_type": "text",
    "id": "403nmcFPzOpe"
   },
   "source": [
    "Execute mais esse grupo de comandos."
   ]
  },
  {
   "cell_type": "code",
   "execution_count": 0,
   "metadata": {
    "colab": {},
    "colab_type": "code",
    "id": "lJsX9ECCzXe3"
   },
   "outputs": [],
   "source": [
    "!mkdir -p drive\n",
    "!google-drive-ocamlfuse drive"
   ]
  },
  {
   "cell_type": "markdown",
   "metadata": {
    "colab_type": "text",
    "id": "heE1AkK_zaTS"
   },
   "source": [
    "Agora já é possível navegar pelas pastas do google drive utilizando os comandos do linux antecedidos por ''!''."
   ]
  },
  {
   "cell_type": "markdown",
   "metadata": {
    "colab_type": "text",
    "id": "u0xbTkNfyKHw"
   },
   "source": [
    "### Salvando um modelo já treinado\n"
   ]
  },
  {
   "cell_type": "code",
   "execution_count": 0,
   "metadata": {
    "colab": {},
    "colab_type": "code",
    "id": "U6POftftjzel"
   },
   "outputs": [],
   "source": [
    "model.save('drive/Colab Notebooks/my_model.h5')"
   ]
  },
  {
   "cell_type": "markdown",
   "metadata": {
    "colab_type": "text",
    "id": "Uw-9TqdJQvPb"
   },
   "source": [
    "### Fazendo upload do modelo treinado"
   ]
  },
  {
   "cell_type": "code",
   "execution_count": 0,
   "metadata": {
    "colab": {},
    "colab_type": "code",
    "id": "Z4jZ9HX8QueN"
   },
   "outputs": [],
   "source": [
    "model = keras.models.load_model('drive/Colab Notebooks/my_model.h5')"
   ]
  },
  {
   "cell_type": "markdown",
   "metadata": {
    "colab_type": "text",
    "id": "SgH3AH86SW8_"
   },
   "source": [
    "# CRIANDO E SALVANDO GIFS"
   ]
  },
  {
   "cell_type": "code",
   "execution_count": 0,
   "metadata": {
    "colab": {},
    "colab_type": "code",
    "id": "ranSh7N8SbNk"
   },
   "outputs": [],
   "source": [
    "import matplotlib.animation as animation\n",
    "ims = []\n",
    "fig = plt.figure()\n",
    "for i in x_train_false_img:\n",
    "    im = plt.imshow(i.reshape(28,28))\n",
    "    ims.append([im])\n",
    "\n",
    "ani = animation.ArtistAnimation(fig, ims, interval=500, blit=True, repeat_delay=100)\n",
    "ani.save('gdrive/My Drive/Colab Notebooks/Figura_3.gif', writer='pillow')"
   ]
  }
 ],
 "metadata": {
  "colab": {
   "collapsed_sections": [],
   "include_colab_link": true,
   "name": "Como Trabalhar com arquivos utilizando o google colaboratory e google drive.ipynb",
   "provenance": [],
   "toc_visible": true,
   "version": "0.3.2"
  },
  "kernelspec": {
   "display_name": "Python 3",
   "language": "python",
   "name": "python3"
  },
  "language_info": {
   "codemirror_mode": {
    "name": "ipython",
    "version": 3
   },
   "file_extension": ".py",
   "mimetype": "text/x-python",
   "name": "python",
   "nbconvert_exporter": "python",
   "pygments_lexer": "ipython3",
   "version": "3.6.8"
  }
 },
 "nbformat": 4,
 "nbformat_minor": 1
}
