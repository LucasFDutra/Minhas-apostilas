{
 "cells": [
  {
   "cell_type": "markdown",
   "metadata": {},
   "source": [
    "# Apostila de linguagem C\n",
    "Autor: Lucas Felipe Dutra\n",
    "\n",
    "**ANTES DE QUALQUER COISA, VEJA ESSE VIDEO [AQUI](https://www.youtube.com/watch?v=9w3o9NHXqu0&list=PLMdYygf53DP5Sc6yFYs6ZmjsuuA2fu0TK) PARA APRENDER MAIS SOBRE CLEAN CODE**\n",
    "\n",
    "[Documentação](https://devdocs.io/c/)\n",
    "\n",
    "[Code Blocks](http://www.codeblocks.org/)\n",
    "\n",
    "[Atom](https://atom.io/)\n",
    "\n",
    "[Visual Studio Code](https://code.visualstudio.com/)\n",
    "\n",
    "[Sublime Text](https://www.sublimetext.com/)\n",
    "\n",
    "Após ter instalado o compilador, utilize o comando abaixo para compilar e executar o seus códigos:\n",
    "\n",
    "> gcc nome_do_arquivo.c -o nome_do_arquivo.run && ./nome_do_arquivo.run\n",
    "\n",
    "\n",
    "# SUMÁRIO\n",
    "- **[1. TIPOS DE VARIÁVEL](#1.-TIPOS-DE-VARIÁVEL)**\n",
    "  - [1.1 DECLARAÇÃO](#1.1-DECLARAÇÃO)\n",
    "  \n",
    "\n",
    "- **[2. ESTRUTURA DO CÓDIGO](#2.-ESTRUTURA-DO-CÓDIGO)**\n",
    "\n",
    "\n",
    "- **[3. LENDO E ESCREVENDO](#3.-LENDO-E-ESCREVENDO)**\n",
    "\n",
    "\n",
    "- **[4. CODICIONAIS](#4.-CODICIONAIS)**\n",
    "  - [4.1 IF](#4.1-IF)\n",
    "  - [4.2 ELSE IF](#4.2-ELSE-IF)\n",
    "  - [4.3 ELSE](#4.3-ELSE)\n",
    "  \n",
    "\n",
    "- **[5. ESTRUTURAS DE REPETIÇÃO](#5.-ESTRUTURAS-DE-REPETIÇÃO)**\n",
    "  - [5.1 FOR](#5.1-FOR)\n",
    "  - [5.2 WHILE](#5.2-WHILE)\n",
    "  - [5.3 DO WHILE](#5.3-DO-WHILE)\n",
    "  - [5.4 BREAK](#5.4-BREAK)\n",
    "  \n",
    "\n",
    "- **[6. ARRAYS](#6.-ARRAYS)**\n",
    "  - [6.1 ARRAY SEM DIMENSÃO](#6.1-ARRAY-SEM-DIMENSÃO)\n",
    "  - [6.2 EXEMPLO DE VETOR](#6.2-EXEMPLO-DE-VETOR)\n",
    "  - [6.3 EXEMPLO DE MATRIZ](#6.3-EXEMPLO-DE-MATRIZ)\n",
    "  - [6.4 STRINGS](#6.4-STRINGS)\n",
    "    - [6.4.1 Lendo string do teclado](#6.4.1-Lendo-string-do-teclado)\n",
    "    - [6.4.2 Funções de manipulação de strings](#6.4.2-Funções-de-manipulação-de-strings)\n",
    "        - [6.4.2.1 Tamanho de uma string](#6.4.2.1-Tamanho-de-uma-string)\n",
    "        - [6.4.2.2 Copiando string](#6.4.2.2-Copiando-string)\n",
    "        - [6.4.2.3 Concatenando strings](#6.4.2.3-Concatenando-strings)\n",
    "        - [6.4.2.4 Comparando duas strings](#6.4.2.4-Comparando-duas-strings)\n",
    "        \n",
    "\n",
    "- **[7. STRUCT](#7.-STRUCT)**\n",
    "  - [7.1 UTILIZANDO STRUCTS](#7.1-UTILIZANDO-STRUCTS)\n",
    "  \n",
    "\n",
    "- **[8. FUNÇÕES](#8.-FUNÇÕES)**\n",
    "  - [8.1 PASSANDO PARÂMETRO POR REFERENCIA](#8.1-PASSANDO-PARÂMETRO-POR-REFERENCIA)\n",
    "  - [8.2 PASSANDO ARRAY PARA UMA FUNÇÃO](#8.2-PASSANDO-ARRAY-PARA-UMA-FUNÇÃO)\n",
    "  - [8.3 PASSANDO STRUCT PARA FUNÇÃO](#8.3-PASSANDO-STRUCT-PARA-FUNÇÃO)\n",
    "  - [8.4 RECURSÃO](#8.4-RECURSÃO)\n",
    "  \n",
    "\n",
    "- **[9. PONTEIROS](#9.-PONTEIROS)**\n",
    "  - [9.1 PONTEIROS E ARRAYS](#9.1-PONTEIROS-E-ARRAYS)\n",
    "    - [9.1.1 Ponteiro para array de multiplas dimensões](#9.1.1-Ponteiro-para-array-de-multiplas-dimensões)\n",
    "    - [9.2 PONTEIRO PARA PONTEIRO](#9.2-PONTEIRO-PARA-PONTEIRO)\n",
    "    \n",
    "\n",
    "- **[10. ALOCAÇÃO DINÂMICA](#10.-ALOCAÇÃO-DINÂMICA)**\n",
    "  - [10.1 MALLOC](#10.1-MALLOC)\n",
    "  - [10.2 CALLOC](#10.2-CALLOC)\n",
    "  - [10.3 REALLOC](#10.3-REALLOC)\n",
    "  - [10.4 FREE](#10.4-FREE)\n",
    "  - [10.5 ALOCAÇÃO EM ARRAYS DE MULTIPLAS DIMENSÕES](#10.5-ALOCAÇÃO-EM-ARRAYS-DE-MULTIPLAS-DIMENSÕES)"
   ]
  },
  {
   "cell_type": "markdown",
   "metadata": {},
   "source": [
    "# **1. TIPOS DE VARIÁVEL**\n",
    "São os tipos de variáveis que encontramos em C:\n",
    "- int: Para números inteiros. \n",
    "- float: Número real.\n",
    "- double: Número real muito grande.\n",
    "- char: É utilizado para armazenar caracteres, em geral letras, porém também serve para armazenar números, porém os mesmos não ficam operáveis."
   ]
  },
  {
   "cell_type": "markdown",
   "metadata": {},
   "source": [
    "## 1.1 DECLARAÇÃO\n",
    "```c\n",
    "int a;\n",
    "int a = 3;\n",
    "float b;\n",
    "float b = 2.134;\n",
    "double c;\n",
    "double c = 3.11233445;\n",
    "char d;\n",
    "char d = 'd';\n",
    "```\n",
    "> Veja que as variáveis podem ou não terem seus valores pré-definidos."
   ]
  },
  {
   "cell_type": "markdown",
   "metadata": {},
   "source": [
    "# **2. ESTRUTURA DO CÓDIGO**\n",
    "- Todo código em C precisa de uma função `main` para poder saber por onde iniciar o código.\n",
    "- Toda linha de código deve terminar com um `;`.\n",
    "- Todo bloco de código deve estar entre chaves."
   ]
  },
  {
   "cell_type": "markdown",
   "metadata": {},
   "source": [
    "# **3. LENDO E ESCREVENDO**\n",
    "Normalmente em um programa haverá a necessidade de interação entre usuário e máquina, e para isso precisamos efetuar entradas e saídas de informação. Para isso vamos utilizar uma biblioteca que se chama `stdio.h` que nada mais é do que uma biblioteca responsável por fazer a integração entre as entradas e saídas do pc com o programa.\n",
    "\n",
    "No exemplo abaixo vamos utilizar o comando `printf` para mostrar uma mensagem de `olá` e vamos utilizar o comando `scanf` para receber um valor x.\n",
    "\n",
    "As estruturas dessas duas função são:\n",
    "```c\n",
    "printf(\"texto\");\n",
    "scanf(\"%tipo_da_variável_1, %tipo_da_variável_2, ..., %tipo_da_variável_n\", &variável_1, &variável_2, ...,&variável_n);\n",
    "```\n",
    "O comando `printf` também pode ser utilizado para mostrar o valor de coisas variáveis que forma salvas durante o código, para isso, ele deve ser utilizado da seguinte forma.\n",
    "```c\n",
    "printf(\"texto %tipo_da_variável_1, %tipo_da_variável_2, ..., %tipo_da_variável_n\", variável_1, variável_2, variável_n);\n",
    "```\n",
    "Veja que dentro dos comandos é necessário identificar o tipo da variável que vamos mostrar ou receber, para isso são utilizadas siglas, são elas:\n",
    "\n",
    "- %c char\n",
    "- %d int\n",
    "- %f float\n",
    "- %lf double\n",
    "\n",
    "> Obs.: `//` é para colocar comentários no código. E `\\n` é para pular uma linha. "
   ]
  },
  {
   "cell_type": "code",
   "execution_count": 1,
   "metadata": {},
   "outputs": [
    {
     "name": "stdout",
     "output_type": "stream",
     "text": [
      "o valor de x é: 3 \n",
      "digite o valor de x: \n",
      "o novo valor de x é: 3 \n"
     ]
    }
   ],
   "source": [
    "#include <stdio.h>\n",
    "\n",
    "int main(){\n",
    "    int x = 3; // declarando um valor para a vairável inteira x.\n",
    "    printf(\"o valor de x é: %d \\n\", x); // Mostrando o valor de x.\n",
    "    printf(\"digite o valor de x: \\n\"); // Pedindo para o usuário digitar um valor para x\n",
    "    scanf(\"%d\", &x); // Armazenando o novo valor de x.\n",
    "    printf(\"o novo valor de x é: %d \\n\", x);\n",
    "}"
   ]
  },
  {
   "cell_type": "markdown",
   "metadata": {},
   "source": [
    "# **4. CODICIONAIS**\n",
    "Temos aqui as condições:\n",
    "- igual: ==\n",
    "- maior: >\n",
    "- menor: <\n",
    "- maior ou igual: >=\n",
    "- menor ou igual: <=\n",
    "- diferente: <> ou !=\n",
    "\n",
    "Também podemos utilizar multiplas condições, utilizando os operadores:\n",
    "- ou: ||\n",
    "- e: &&\n",
    "\n",
    "Para indicar para o computador que queremos estabelecer uma condição utilizamos o comando `if`. Após o comando `if` ser utilizado podemos utilizar um outro comando, que seria o comando `else`."
   ]
  },
  {
   "cell_type": "markdown",
   "metadata": {},
   "source": [
    "## 4.1 IF\n",
    "o comando `if` precisa ter na frente uma dada condição.\n",
    "```c\n",
    "if (condição){\n",
    "    Código...\n",
    "}\n",
    "```"
   ]
  },
  {
   "cell_type": "markdown",
   "metadata": {},
   "source": [
    "## 4.2 ELSE IF\n",
    "Essa condição somente será vista caso a condição do `if` não seja atendida. Isso evita gasto computacional, pois se tivessemos dois `ifs` iriamos verificar duas condições diferentes, assim nós só nos preocuparemos com as condições seguintes caso a primeira seja invalida.\n",
    "\n",
    "```c\n",
    "else if (condição){\n",
    "    // Código...\n",
    "}\n",
    "```"
   ]
  },
  {
   "cell_type": "markdown",
   "metadata": {},
   "source": [
    "## 4.3 ELSE\n",
    "Engloba tudo que for o contrário das condições impostas no `if` e no `else if`. Logo não coloca-se condições para o comando else.\n",
    "\n",
    "```c\n",
    "else{\n",
    "    Código...\n",
    "}\n",
    "```\n",
    "\n",
    "Vamos utilizar o seguinte exemplo:"
   ]
  },
  {
   "cell_type": "code",
   "execution_count": 2,
   "metadata": {},
   "outputs": [
    {
     "name": "stdout",
     "output_type": "stream",
     "text": [
      "O valor de x é maior que 5 \n"
     ]
    }
   ],
   "source": [
    "#include <stdio.h>\n",
    "\n",
    "int main(){\n",
    "    int x = 10;\n",
    "    if (x > 5){\n",
    "        printf(\"O valor de x é maior que 5 \\n\");\n",
    "    }\n",
    "    else if (x>8){\n",
    "        printf(\"O valor de x é maior que 8 \\n\");\n",
    "    }\n",
    "    else{\n",
    "        printf(\"O valor de x não atende as condições anteriores \\n\");\n",
    "    }\n",
    "}"
   ]
  },
  {
   "cell_type": "markdown",
   "metadata": {},
   "source": [
    "> OBS.: Veja que o mesmo a condição `x>8` sendo verdadeira ela não foi verificada, pois a condição do `if` já havia sido atendida."
   ]
  },
  {
   "cell_type": "markdown",
   "metadata": {},
   "source": [
    "# **5. ESTRUTURAS DE REPETIÇÃO**\n",
    "Quando queremos que uma dada instrução seja repetida diversas vezes, nós chamamos as estruturas de repetição. São elas:"
   ]
  },
  {
   "cell_type": "markdown",
   "metadata": {},
   "source": [
    "## 5.1 FOR\n",
    "O for vai definir uma variação em um dado parâmetro, e só irá parar de executar quando esse parâmetro atingir uma dada condição, sendo que a cada interação algo acontece com esse parâmetro.\n",
    "\n",
    "```c\n",
    "for(inicialização; condição; incremento){\n",
    "    Código...\n",
    "}\n",
    "```\n",
    "Exemplo: vamos imprimir na tela o valor da variável i enquanto ela for menor do que 10, e a cada rodada vamos incrementar 1 ou valor de i, sendo que ele é iniciado em zero."
   ]
  },
  {
   "cell_type": "code",
   "execution_count": 3,
   "metadata": {},
   "outputs": [
    {
     "name": "stdout",
     "output_type": "stream",
     "text": [
      "o valor de i é: 0 \n",
      "o valor de i é: 1 \n",
      "o valor de i é: 2 \n",
      "o valor de i é: 3 \n",
      "o valor de i é: 4 \n",
      "o valor de i é: 5 \n",
      "o valor de i é: 6 \n",
      "o valor de i é: 7 \n",
      "o valor de i é: 8 \n",
      "o valor de i é: 9 \n"
     ]
    }
   ],
   "source": [
    "#include <stdio.h>\n",
    "\n",
    "int main(){\n",
    "    int i;\n",
    "    for(i=0; i<10; i++){\n",
    "        printf(\"o valor de i é: %d \\n\", i);\n",
    "    }\n",
    "}"
   ]
  },
  {
   "cell_type": "markdown",
   "metadata": {},
   "source": [
    "## 5.2 WHILE\n",
    "Diferentemente do `for` o comando `while` tem como objetivo colocar apenas uma condição de parada, assim o loop vai parar somente quando algo dentro do código acontecer.\n",
    "\n",
    "Veja bem, se tivermos definido que queremos que o loop pare quando x for igual a 10, mas não sabemos quando isso ocorrerá, então precisamos de um while, pois o for nós temos que saber exatamente quantas interações serão necessárias para atingirmos o objetivo.\n",
    "\n",
    "```c\n",
    "while(condição){\n",
    "    Código...\n",
    "}\n",
    "```\n",
    "Exemplo: O loop continuar enquanto i for menor do que 10."
   ]
  },
  {
   "cell_type": "code",
   "execution_count": 4,
   "metadata": {},
   "outputs": [
    {
     "name": "stdout",
     "output_type": "stream",
     "text": [
      "o valor de i é: 0 \n",
      "o valor de i é: 1 \n",
      "o valor de i é: 2 \n",
      "o valor de i é: 3 \n",
      "o valor de i é: 4 \n",
      "o valor de i é: 5 \n",
      "o valor de i é: 6 \n",
      "o valor de i é: 7 \n",
      "o valor de i é: 8 \n",
      "o valor de i é: 9 \n"
     ]
    }
   ],
   "source": [
    "#include <stdio.h>\n",
    "\n",
    "int main(){\n",
    "    int i = 0;\n",
    "    while(i<10){\n",
    "        printf(\"o valor de i é: %d \\n\", i);\n",
    "        i++;\n",
    "    }\n",
    "}"
   ]
  },
  {
   "cell_type": "markdown",
   "metadata": {},
   "source": [
    "## 5.3 DO WHILE\n",
    "A diferença do `while` e do `do while` é que o while avalia a condição antes de executar o código, já o comando do while avalia a condição depois de executar o código.\n",
    "\n",
    "```c\n",
    "do{\n",
    "    Código...\n",
    "}while(condição);\n",
    "```\n",
    "\n",
    "Se utilizarmos o mesmo exemplo de antes, não vamos notar diferença no no resultado."
   ]
  },
  {
   "cell_type": "code",
   "execution_count": 5,
   "metadata": {},
   "outputs": [
    {
     "name": "stdout",
     "output_type": "stream",
     "text": [
      "o valor de i é: 0 \n",
      "o valor de i é: 1 \n",
      "o valor de i é: 2 \n",
      "o valor de i é: 3 \n",
      "o valor de i é: 4 \n",
      "o valor de i é: 5 \n",
      "o valor de i é: 6 \n",
      "o valor de i é: 7 \n",
      "o valor de i é: 8 \n",
      "o valor de i é: 9 \n"
     ]
    }
   ],
   "source": [
    "#include <stdio.h>\n",
    "\n",
    "int main(){\n",
    "    int i = 0;\n",
    "    do{\n",
    "        printf(\"o valor de i é: %d \\n\", i);\n",
    "        i++;\n",
    "    }while(i<10);\n",
    "}"
   ]
  },
  {
   "cell_type": "markdown",
   "metadata": {},
   "source": [
    "Porém se fizermos um códig em que i inicia em 10, o código com while não iria ser executádo, pois a verificação acontece antes, já o código com do while seria executado, pois a verificação só ocorre depois."
   ]
  },
  {
   "cell_type": "code",
   "execution_count": 6,
   "metadata": {},
   "outputs": [
    {
     "name": "stdout",
     "output_type": "stream",
     "text": [
      "fora do 'while', o valor de i é: 10"
     ]
    }
   ],
   "source": [
    "#include <stdio.h>\n",
    "\n",
    "int main(){\n",
    "    int i = 10;\n",
    "    while(i<10){\n",
    "        printf(\"O valor de i é: %d \\n\", i);\n",
    "        i++;\n",
    "    }\n",
    "    printf(\"fora do 'while', o valor de i é: %d\", i);\n",
    "}"
   ]
  },
  {
   "cell_type": "code",
   "execution_count": 7,
   "metadata": {},
   "outputs": [
    {
     "name": "stdout",
     "output_type": "stream",
     "text": [
      "O valor de i é: 10 \n",
      "fora do 'do while' o valor de i é: 11"
     ]
    }
   ],
   "source": [
    "#include <stdio.h>\n",
    "\n",
    "int main(){\n",
    "    int i = 10;\n",
    "    do{\n",
    "        printf(\"O valor de i é: %d \\n\", i);\n",
    "        i++;\n",
    "    }while(i<10);\n",
    "    printf(\"fora do 'do while' o valor de i é: %d\", i);\n",
    "}"
   ]
  },
  {
   "cell_type": "markdown",
   "metadata": {},
   "source": [
    "Veja que no primeiro código não entramos dentro do loop, por isso o valor de i fora dele não foi alterado. Já no segundo bloco foi possível entrar no loop, porém veja que o valor de i foi alterado em apenas uma unidade, isso porque quando acabou o loop já foi identificado que o valor de i era maior do que 10, então o loop não foi executado novamente."
   ]
  },
  {
   "cell_type": "markdown",
   "metadata": {},
   "source": [
    "## 5.4 BREAK\n",
    "O comando break é utilizado para parar a execução de um loop mediante uma condição específica. Ou seja, ele vai dentro de um `if`.\n",
    "\n",
    "```c\n",
    "while(Condição){\n",
    "    Código...\n",
    "    if(Condição){\n",
    "        break;\n",
    "    }\n",
    "}\n",
    "```\n",
    "\n",
    "Exemplo: Vamos parar um loop infinito caso a seja igual a b.\n",
    "\n",
    "> OBS.: Opções para loop infinito\n",
    "```c\n",
    "while(1)\n",
    "for(;;)\n",
    "```\n",
    "    "
   ]
  },
  {
   "cell_type": "code",
   "execution_count": 8,
   "metadata": {},
   "outputs": [
    {
     "name": "stdout",
     "output_type": "stream",
     "text": [
      "iniciando o loop while \n",
      "Valor de a é: 0 \n",
      "Valor de a é: 1 \n",
      "Valor de a é: 2 \n",
      "Valor de a é: 3 \n",
      "Valor de a é: 4 \n",
      "Valor de a é: 5 \n",
      "Valor de a é: 6 \n",
      "Valor de a é: 7 \n",
      "Valor de a é: 8 \n",
      "Valor de a é: 9 \n",
      "\n",
      "iniciando o loop for \n",
      "Valor de a é: 0 \n",
      "Valor de a é: 1 \n",
      "Valor de a é: 2 \n",
      "Valor de a é: 3 \n",
      "Valor de a é: 4 \n",
      "Valor de a é: 5 \n",
      "Valor de a é: 6 \n",
      "Valor de a é: 7 \n",
      "Valor de a é: 8 \n",
      "Valor de a é: 9 \n"
     ]
    }
   ],
   "source": [
    "#include <stdio.h>\n",
    "\n",
    "int main(){\n",
    "    int a = 0;\n",
    "    int b = 10;\n",
    "    printf(\"iniciando o loop while \\n\");\n",
    "    // Exemplo para while\n",
    "    while(1){\n",
    "        printf(\"Valor de a é: %d \\n\", a);\n",
    "        a++;\n",
    "        if(a == b){\n",
    "            break;\n",
    "        }\n",
    "    }\n",
    "    printf(\"\\niniciando o loop for \\n\");\n",
    "    // Exemplo para for\n",
    "    a = 0;\n",
    "    for(;;){\n",
    "        printf(\"Valor de a é: %d \\n\", a);\n",
    "        a++;\n",
    "        if(a == b){\n",
    "            break;\n",
    "        }\n",
    "    }\n",
    "}"
   ]
  },
  {
   "cell_type": "markdown",
   "metadata": {},
   "source": [
    "# **6. ARRAYS**\n",
    "\n",
    "Arrays são basicamente vetores ou metrizes, sejam lá de qual dimensão estamos falando. A declaração de um array é feita da seguinte forma:\n",
    "\n",
    "```c\n",
    "tipo_de_dado nome_do_array[dimensão_1][dimensão_2]...[dimensão_n];\n",
    "```\n",
    "\n",
    "ExemploS:\n",
    "```c\n",
    "// Para uma dimensão\n",
    "int a1[10];\n",
    "int a2[3] = {1,2,3} // já definindo elementos previos ao array\n",
    "\n",
    "// Para duas dimensões\n",
    "int b1[10][10];\n",
    "int b2[3][3] = {{1,2,3},{4,5,6}};\n",
    "\n",
    "// Para n dimensões (é melhor colocar um exemplo se não será impossível descrever para n)\n",
    "int c1[10][10]...[10];\n",
    "// vamos colocar um exemplo de 3 dimensões.\n",
    "int c2[2][3][2] = { {{1,2},{3,4},{5,6}}, {{7,8},{9,10},{11,12}} }; // 2 grupos com 3 grupos de 2\n",
    "```\n",
    "\n",
    "> OBS.: A dimensão de um array é imutável. Ou seja, uma vez definido o tamanho de um array ele sempre terá esse tamanho.\n",
    "\n",
    "> OBS.: Se quiser copiar um array para outro não basta apenas fazer `array1 = array2`, é preciso rodar um for, e ir copiando elemento por elemento."
   ]
  },
  {
   "cell_type": "markdown",
   "metadata": {},
   "source": [
    "## 6.1 ARRAY SEM DIMENSÃO\n",
    "Também é possivel declarar uma array sem nenhuma dimensão. Dai é aplicarmos a mesma lógica utilizada anteriormente, e chegamos a conclusão de que a declaração seria:\n",
    "\n",
    "```c\n",
    "tipo_de_dado nome_do_array[] = {dados};\n",
    "```\n",
    "Porém nesse caso é necessário colocar os dados. A vantagem de utilizar esse tipo de array é que caso você utilize palavras para colocar dentro do array, então você não vai querer ficar contando quantas letras tem essa palavra para assim definir o tamanho do array, logo é mais fácil declarar um array sem nenhum tamamnho pré-definido e deixar que o compilador \"descubra\" quantos espaços de memória alocar para esse array.\n",
    "\n",
    "Abaixo vão seguir dois exemplos, que são os mais recorrentes, sendo o primeiro de um array de uma dimensão (vetor) e outro de duas dimensões (matriz). Em ambos os casos serão inseridos e lidos valores às posiçẽos do array."
   ]
  },
  {
   "cell_type": "markdown",
   "metadata": {},
   "source": [
    "## 6.2 EXEMPLO DE VETOR"
   ]
  },
  {
   "cell_type": "code",
   "execution_count": 9,
   "metadata": {},
   "outputs": [
    {
     "name": "stdout",
     "output_type": "stream",
     "text": [
      "0 1 2 3 4 5 6 7 8 9 "
     ]
    }
   ],
   "source": [
    "# include <stdio.h>\n",
    "\n",
    "int main(){\n",
    "    int vetor[10];\n",
    "    int i = 0;\n",
    "    \n",
    "    // inserindo valores\n",
    "    \n",
    "    for(i; i<10; i++){\n",
    "        vetor[i] = i;\n",
    "    }\n",
    "    \n",
    "    // lendo valores\n",
    "    \n",
    "    i = 0;\n",
    "    for(i; i<10; i++){\n",
    "        printf(\"%d \", vetor[i]);\n",
    "    }\n",
    "}"
   ]
  },
  {
   "cell_type": "markdown",
   "metadata": {},
   "source": [
    "## 6.3 EXEMPLO DE MATRIZ"
   ]
  },
  {
   "cell_type": "code",
   "execution_count": 10,
   "metadata": {},
   "outputs": [
    {
     "name": "stdout",
     "output_type": "stream",
     "text": [
      "0 0 0 0 0 0 0 0 0 0 \n",
      "1 1 1 1 1 1 1 1 1 1 \n",
      "2 2 2 2 2 2 2 2 2 2 \n",
      "3 3 3 3 3 3 3 3 3 3 \n",
      "4 4 4 4 4 4 4 4 4 4 \n",
      "5 5 5 5 5 5 5 5 5 5 \n",
      "6 6 6 6 6 6 6 6 6 6 \n",
      "7 7 7 7 7 7 7 7 7 7 \n",
      "8 8 8 8 8 8 8 8 8 8 \n",
      "9 9 9 9 9 9 9 9 9 9 \n"
     ]
    }
   ],
   "source": [
    "# include <stdio.h>\n",
    "\n",
    "int main(){\n",
    "    int matriz[10][10];\n",
    "    int i, j;\n",
    "    \n",
    "    // inserindo valores\n",
    "    \n",
    "    for(i=0; i<10; i++){\n",
    "        for(j=0; j<10; j++){\n",
    "            matriz[i][j] = i;\n",
    "        }\n",
    "    }\n",
    "    \n",
    "    // lendo valores\n",
    "\n",
    "    for(i=0; i<10; i++){\n",
    "        for(j=0; j<10; j++){\n",
    "            printf(\"%d \", matriz[i][j]);\n",
    "        }\n",
    "        printf(\"\\n\");\n",
    "    }\n",
    "}"
   ]
  },
  {
   "cell_type": "markdown",
   "metadata": {},
   "source": [
    "## 6.4 STRINGS\n",
    "\n",
    "Uma outra variante dos arrays que deve ser mencionada são as strings. Strings são arrays de char, que são utilizadas para alocarmos palavras.\n",
    "\n",
    "Exemplos:\n",
    "```c\n",
    "char str[3]=\"ola\";\n",
    "char str[3]={'o','l','a'}; // nada prático\n",
    "```\n",
    "\n",
    "Um problema que pode ocorrer com stringes, é definirmos um espaço de memório maior do que o que será utilizado, isso faz com que o espaço que fica sobrando se encha de lixo de memória, e isso irá aparecer quando formos exibir a nossa string. Para indicar o fim da string utiliza-se `\\0`, com isso ele entende que a string parou ali e não mostra os caracteres lixo.\n",
    "\n",
    "```c\n",
    "char str[3]={'o','l','a', '\\0'};\n",
    "char str[10]=\"ola\";\n",
    "```\n",
    "Veja que a segunda opção não precisa do `\\0`, o que facilita a vida.\n",
    "\n",
    "> O acesso e escrita em uma string pode ser feito do mesmo modo que em qualquer array, afinal ela é um array."
   ]
  },
  {
   "cell_type": "markdown",
   "metadata": {},
   "source": [
    "### **6.4.1 Lendo string do teclado**\n",
    "\n",
    "Se utilizarmos o comando `scanf` para ler uma string, vai dar certo, porém ele lê somente strings sem espaços. Ou seja, ele lê somente palavras. Se quisermos ler frases devemos utilizar o camando `gets`\n",
    "\n",
    "```c\n",
    "char str[20];\n",
    "printf(\"digite sua string: \");\n",
    "setbuf(stdin, NULL); // limpa o buffer e evita erros.\n",
    "gets(str);\n",
    "printf(\"%s\", str); // veja que é possível imprimir strings sem usar um for.\n",
    "```"
   ]
  },
  {
   "cell_type": "markdown",
   "metadata": {},
   "source": [
    "### **6.4.2 Funções de manipulação de strings**"
   ]
  },
  {
   "cell_type": "markdown",
   "metadata": {},
   "source": [
    "#### 6.4.2.1 Tamanho de uma string\n",
    "stdlen(string);\n",
    "```c\n",
    "char str[15] = \"teste\";\n",
    "int tamanho;\n",
    "tamanho = strlen(str);\n",
    "```"
   ]
  },
  {
   "cell_type": "markdown",
   "metadata": {},
   "source": [
    "#### 6.4.2.2 Copiando string\n",
    "strcpy(destino, origem)\n",
    "```c\n",
    "char str1[15] = \"teste\"; // origem\n",
    "char str2[15]; // destino\n",
    "strcpy(str2, str1);\n",
    "```"
   ]
  },
  {
   "cell_type": "markdown",
   "metadata": {},
   "source": [
    "#### 6.4.2.3 Concatenando strings\n",
    "strcat(destino, origem);\n",
    "```c\n",
    "char str1[15] = \"teste\"; // destino\n",
    "char str2[13] = \"um\"; // origem\n",
    "printf(\"%s\", str1); // resultado: teste um\n",
    "```\n",
    "> OBS.: O tamanho da string de destino deve ser grande o suficiente para comportar os caracteres dela mais os da string de origem."
   ]
  },
  {
   "cell_type": "markdown",
   "metadata": {},
   "source": [
    "#### 6.4.2.4 Comparando duas strings\n",
    "strcmp(str1, str2)\n",
    "A função retorna um valor inteiro, em que caso o retorno seja:\n",
    "- igual à 0: as strings são iguais.\n",
    "- diferente de 0: as strings são diferentes.\n",
    "\n",
    "```c\n",
    "char str1[15] = \"teste\";\n",
    "char str2[15] = \"teste\";\n",
    "if(strcmp(str1,str2) == 0){\n",
    "    printf(\"as strings são iguais\");\n",
    "}\n",
    "```"
   ]
  },
  {
   "cell_type": "markdown",
   "metadata": {},
   "source": [
    "# **7. STRUCT**\n",
    "\n",
    "Structs são estruturas de tipos de dados compostos que são feitas com base nos tipos de dados básicos da linguagem (char, int, float, double, void).\n",
    "\n",
    "Para definir uma struct fazemos a seguinte implementação:\n",
    "```c\n",
    "struct nome_da_struct{\n",
    "    tipo1 campo1;\n",
    "    tipo2 campo2;\n",
    "    .\n",
    "    .\n",
    "    .\n",
    "    tipoN campoN;\n",
    "};\n",
    "```\n",
    "\n",
    "Exemplo:\n",
    "```c\n",
    "struct cadastro{\n",
    "    char nome[50];\n",
    "    int idade;\n",
    "    char rua[50];\n",
    "    int numero;\n",
    "};\n",
    "```\n",
    "\n",
    "> OBS.: cada estrutura é única, logo posso definir a mesma variável para duas structs diferentes que não haverá problema.\n",
    "\n",
    "A vantagem de utilizar uma estrutura composta pode ser observada no exemplo:\n",
    "\n",
    "Imagine que você precisa cadastrar 15 clientes. No modo convencional precisariamos de nome1, nome2,..., nome15; idade1, idade2,...,idade15 e assim por diante. Com uma struct basta declarar que queremos uma variável com 15 posições e ela terá em cada posição todos os atributos da struct em questão."
   ]
  },
  {
   "cell_type": "markdown",
   "metadata": {},
   "source": [
    "## 7.1 UTILIZANDO STRUCTS\n",
    "Após declarada a strutura basta utilizar o comando:\n",
    "\n",
    "```c\n",
    "struct nome_da_struct nome_da_variavel;\n",
    "struct nome_da_struct array[dimensão];\n",
    "struct nome_da_struct struct_pre_definida = {\"variável_char_1\", variável_int_2,..., \"variável_char_n\"};\n",
    "```\n",
    "\n",
    "> Quando for pré-definir a struct precisa-se colocar os dados na mesma ordem que estão declarados na struct.\n",
    "\n",
    "veja que é possível declarar um array com essa estrutura, o que viabiliza o exemplo que dei na vantagem de utilizar uma struct.\n",
    "\n",
    "Agora quando queremos salvar algo dentro da struct precisamos tomar um cuidado. Não podemos salvar um caracter em uma variável int, então devemos sempre indicar em que parte da nossa struct iremos salvar cada coisa. Para isso fazemos o seguinte:\n",
    "- supondo a struct cadastro. Vamos cadastrar um nome, então ele deve ir para cadastro-nome, se quisermos cadastrar a idade ela deve ir para cadastro-idade. No código isso é representado da seguinte forma:\n",
    "\n",
    "```c\n",
    "struct cadastro c;\n",
    "printf(\"digite a idade\");\n",
    "scanf(\"%d\", &c.idade);\n",
    "```\n",
    "\n",
    "Vamos ver um exemplo, que será justamente o cadastro de 3 clientes.\n",
    "\n",
    "> OBS.: o jupyter notebook não me permite dar inputs do teclado utilizando o kernel para a linguagem C, por isso não vou criar uma celula de código, mas deixarei aqui o código.\n",
    "\n",
    "```c\n",
    "# include <stdio.h>\n",
    "\n",
    "// a estrutura normalmente é definida no escopo globas para assim poder ser utilizada por todo o código\n",
    "\n",
    "struct cadastro{\n",
    "    char nome[50];\n",
    "    int idade;\n",
    "};\n",
    "\n",
    "int main(){\n",
    "    int i;\n",
    "    struct cadastro cliente[3]; // 3 clientes\n",
    "    \n",
    "    for(i=0; i<3; i++){\n",
    "        \n",
    "        // nome\n",
    "        printf(\"digite o nome: \");\n",
    "        setbuf(stdin, NULL);\n",
    "        gets(cliente[i].nome);\n",
    "        \n",
    "        // idade\n",
    "        printf(\"digite a idade: \");\n",
    "        scanf(\"%d\", &cliente[i].idade);\n",
    "    }\n",
    "}\n",
    "```\n",
    "\n",
    "> OBS.: caso existam duas estrutura veja elas como tipos de dados diferentes, mesmo que elas possuam os mesmos subtipos. Pois assim como não podemos atribuir int à float ou à char não podemos fazer atribuições entre structs."
   ]
  },
  {
   "cell_type": "markdown",
   "metadata": {},
   "source": [
    "# **8. FUNÇÕES**\n",
    "\n",
    "Uma função nada mais é do que um bloco de instruções que é viável ser criado quando iremos executar a mesma atividade diversas vezes. Um exemplo de função é o `printf`, mas essa função está imbutida nas bibliotecas da propria linguagem, porém ela é uma função. E assim como o `printf` nós também podemos criar nossas proprias funções. Para isso precisamos seguir o escopo:\n",
    "\n",
    "```c\n",
    "tipo_retornado nome_da_função(tipo1 parametro1, tipo2 parametro2,..., tipoN parametroN){\n",
    "    Código...;\n",
    "}\n",
    "```\n",
    "> OBS.:\n",
    "- Quando vamos utilizar uma função que não irá retornar nada declaramos ela como `void`.\n",
    "- Quando queremos retornar alguma coisa, utilizamos o comando `return`.\n",
    "- Não é obrigatório uma função ter parâmetros, depende apenas de seu propósito.\n",
    "- O código sempre se inicia do main, e a partir dele as funções são chamadas.\n",
    "- Uma função pode chamar outra função.\n",
    "\n",
    "Exemplo: Vamos criar 4 funções:\n",
    "- 1 - Exibe uma mensagem de boas vindas.\n",
    "- 2 - Efetua uma soma.\n",
    "- 3 - Mostra o resultado da soma.\n",
    "- 4 - Que efetuará a multiplicação de dois valores e retornará isso."
   ]
  },
  {
   "cell_type": "code",
   "execution_count": 11,
   "metadata": {},
   "outputs": [
    {
     "name": "stdout",
     "output_type": "stream",
     "text": [
      "Bem vindo\n",
      "O valor da soma é: 5\n",
      "o resultado da multiplicação é: 6"
     ]
    }
   ],
   "source": [
    "# include <stdio.h>\n",
    "\n",
    "void recepcao(){\n",
    "    printf(\"Bem vindo\\n\");\n",
    "}\n",
    "\n",
    "void resultado(int s){\n",
    "    printf(\"O valor da soma é: %d\", s);\n",
    "}\n",
    "\n",
    "int soma(int x, int y){\n",
    "    resultado(x+y);\n",
    "}\n",
    "\n",
    "int mult(int x, int y){\n",
    "    return (x*y);\n",
    "}\n",
    "\n",
    "int main(){\n",
    "    recepcao();\n",
    "    soma(2, 3);\n",
    "    int a = mult(2,3);\n",
    "    printf(\"\\no resultado da multiplicação é: %d\", a);\n",
    "}"
   ]
  },
  {
   "cell_type": "markdown",
   "metadata": {},
   "source": [
    "## 8.1 PASSANDO PARÂMETRO POR REFERENCIA\n",
    "A Passagem por referência consiste em passar o valor da posição na memória em que se encontra uma vairável ou um array. Isso já começa a entrar em ponteiros, que são um assunto mais para a frente.\n",
    "\n",
    "Quando vamos passar uma variável simples por referência, devemos operar da seguinte forma:\n",
    "\n",
    "```c\n",
    "void função(int *m){\n",
    "    // Código tratando a variável como sendo `*m`.\n",
    "    *m + 1;\n",
    "    *m + *m;\n",
    "    printf(\"%d\", *m);\n",
    "}\n",
    "\n",
    "int main(){\n",
    "    int variavel = 1;\n",
    "    função(&variavel);\n",
    "}\n",
    "```\n",
    "Veja o exemplo abaixo"
   ]
  },
  {
   "cell_type": "code",
   "execution_count": 12,
   "metadata": {},
   "outputs": [
    {
     "name": "stdout",
     "output_type": "stream",
     "text": [
      "1"
     ]
    }
   ],
   "source": [
    "# include <stdio.h>\n",
    "\n",
    "void imprimir1(int *m){\n",
    "    printf(\"%d\",*m);\n",
    "}\n",
    "\n",
    "int main(){\n",
    "    int a = 1;\n",
    "    imprimir1(&a);\n",
    "}"
   ]
  },
  {
   "cell_type": "markdown",
   "metadata": {},
   "source": [
    "## 8.2 PASSANDO ARRAY PARA UMA FUNÇÃO\n",
    "\n",
    "Ao passar um array para uma função existem 3 jeitos diferentes.\n",
    "\n",
    "Suponha que queremos passar um array de inteiros.\n",
    "```c\n",
    "void função(int *m); // Passagem por referencia\n",
    "void função(int m[]);\n",
    "void função(int m[5]);\n",
    "```\n",
    "\n",
    "> OBS.:\n",
    "- Quando passamos um array por referência o esquema de tratamento da variável é um pouco diferente do que fazemos com uma variável simples. No exemplo abaixo isso poderá ser observado.\n",
    "- Para array com mais do que uma dimensão precisamos informar o tamanho de todas elas, exceto da primeira. E caso queira passar por referência o método continua o mesmo.\n",
    "\n",
    "```c\n",
    "void função(int m[][5][6]);\n",
    "```\n",
    "\n",
    "Exemplo: No exemplo abaixo teremos 3 funções, todas eles vão imprimir o array, porém cada uma vai recebe-lo de forma diferente."
   ]
  },
  {
   "cell_type": "code",
   "execution_count": 13,
   "metadata": {},
   "outputs": [
    {
     "name": "stdout",
     "output_type": "stream",
     "text": [
      "1 2 3 \n",
      "1 2 3 \n",
      "1 2 3 \n"
     ]
    }
   ],
   "source": [
    "# include <stdio.h>\n",
    "\n",
    "void imprimir1(int *m){\n",
    "    int i;\n",
    "    for(i=0; i<3; i++){\n",
    "        printf(\"%d \",m[i]);\n",
    "    }\n",
    "    printf(\"\\n\");\n",
    "}\n",
    "\n",
    "void imprimir2(int m[]){\n",
    "    int i;\n",
    "    for(i=0; i<3; i++){\n",
    "        printf(\"%d \",m[i]);\n",
    "    }\n",
    "    printf(\"\\n\");\n",
    "}\n",
    "\n",
    "void imprimir3(int m[3]){\n",
    "    int i;\n",
    "    for(i=0; i<3; i++){\n",
    "        printf(\"%d \",m[i]);\n",
    "    }\n",
    "    printf(\"\\n\");\n",
    "}\n",
    "\n",
    "int main(){\n",
    "    int a[3] = {1,2,3};\n",
    "    imprimir1(a);\n",
    "    imprimir2(a);\n",
    "    imprimir3(a);\n",
    "}"
   ]
  },
  {
   "cell_type": "markdown",
   "metadata": {},
   "source": [
    "## 8.3 PASSANDO STRUCT PARA FUNÇÃO\n",
    "Para passar uma estrutura para uma função e a utilizarmos lá dentro, temos duas opções.\n",
    "- 1 - Utilizamos (*p).x\n",
    "- 2 - Utilizamos p->x\n",
    "sendo que p é o nome do parâmetro da função que receberá a struct e x é o sub tipo que está dentro da struct em questão.\n",
    "\n",
    "Veja como utilizar os dois métodos."
   ]
  },
  {
   "cell_type": "code",
   "execution_count": 14,
   "metadata": {},
   "outputs": [
    {
     "name": "stdout",
     "output_type": "stream",
     "text": [
      "método 1 x: 10\n",
      "método 1 y: 12\n",
      "método 2 x: 5\n",
      "método 2 y: 6\n"
     ]
    }
   ],
   "source": [
    "# include <stdio.h>\n",
    "\n",
    "struct teste{\n",
    "    int x;\n",
    "    int y;\n",
    "};\n",
    "\n",
    "void metodo_1(struct teste *p){\n",
    "    (*p).x = 10;\n",
    "    (*p).y = 12;\n",
    "}\n",
    "\n",
    "void metodo_2(struct teste *p){\n",
    "    p->x = 5;\n",
    "    p->y = 6;\n",
    "}\n",
    "\n",
    "int main(){\n",
    "    struct teste p1;\n",
    "    metodo_1(&p1);\n",
    "    printf(\"método 1 x: %d\\n\",p1.x);\n",
    "    printf(\"método 1 y: %d\\n\",p1.y);\n",
    "    metodo_2(&p1);\n",
    "    printf(\"método 2 x: %d\\n\",p1.x);\n",
    "    printf(\"método 2 y: %d\\n\",p1.y);\n",
    "}"
   ]
  },
  {
   "cell_type": "markdown",
   "metadata": {},
   "source": [
    "## 8.4 RECURSÃO\n",
    "\n",
    "Recursão é quando a função chama à ela mesma. Veja o exemplo abaixo para calcular o fatorial de um número n.\n",
    "\n",
    "```c\n",
    "int fatorial(int n){\n",
    "    if (n == 0){\n",
    "        return 1;\n",
    "    }\n",
    "    else{\n",
    "        return n*fatorial(n-1);\n",
    "    }\n",
    "}\n",
    "```\n",
    "\n",
    "**Analisando o código**:\n",
    "Vamos trabalhar com o fatorial de 4, ele deve ser feito com a seguinte operação `4*3*2*1`.\n",
    "\n",
    "Quando chamamos um função ela gera algo e retorna isso para quem à chamou, então se fizermos uma função que chama à ela mesma ela vai retornar o resultado para ela mesma.\n",
    "\n",
    "Agora vamos ao código (acompanhe com a imagem).\n",
    "\n",
    "A função main, envia para a função fatorial o número 4, a qual manda para ela mesma o número 3, a qual manda para ela mesma o número 2, e dois o número 1 e depois o número 0. Ao chegar em n=0, entramos no `if` e paramos de chamar a função, e apenas retornamos o 1. que chega na função que o chamou (que é ela mesma, mas no passado), agora essa função faz a operação `n*retorno_de_fatorial` e retorna 1 para a função no passado, que opera e retorna 2 para a função, que por sua vez também opera e retorna 6 para a função, que por sua vez opera e retorna 24 para a função main. Pela figura fica mias facil de entender essa idéia.\n",
    "\n",
    "![](https://github.com/LucasFDutra/Minha-Apostila-De-Linguagem-C/blob/master/Figura_1.png?raw=true)"
   ]
  },
  {
   "cell_type": "markdown",
   "metadata": {},
   "source": [
    "# **9. PONTEIROS**\n",
    "\n",
    "Quando se fala de linguagem C esse é um dos maiores medos de todos, pois ponteiros são coisas bem doidas. Mas vamos tentar colocar eles em melhores termos.\n",
    "\n",
    "Pensa que você foi lá e definiu uma variável. Essa variavel vai ter que ser alocada em algum lugar da sua mémoria, afinal ela não vai ficar pairando no limbo do universo. Um ponteiro tem por função justamente dizer pra gente em que lugar da memoria essa variável está. Ou seja, vamos supor que declaramos a variável `x = 10`, o valor de x é 10, mas o lugar que x está alocada na memória corresponde ao endereço 120. Se colocarmos um ponteiro apontando para x o valor do ponteiro será 120. Basicamente o que um ponteiro faz é nos dizer onde na memoria uma variável está.\n",
    "\n",
    "Beleza, mas como declaramos isso?\n",
    "\n",
    "Simples. Da seguinte forma:\n",
    "\n",
    "```c\n",
    "tipo_do_ponteiro *nome_do_ponteiro\n",
    "```\n",
    "\n",
    "Sendo que o tipo do ponteiro deve ser igual ao tipo da variável para a qual ele está apontando.\n",
    "\n",
    "Agora como nós indicamos para onde ele deve apontar?\n",
    "\n",
    "Assim:\n",
    "\n",
    "```c\n",
    "nome_do_ponteiro = &variavel_para_qual_ele_aponta;\n",
    "```\n",
    "\n",
    "> OBS.: o operador `&` indica o lugar da memóra que está a variável que vem na frente dele.\n",
    "\n",
    "Veja um exemplo:\n",
    "\n",
    "```c\n",
    "int a = 10;\n",
    "int *ponteiro_de_a;\n",
    "ponteiro_de_a = &a;\n",
    "```\n",
    "\n",
    "Agora vamos brincar um pouco com ponteiros para podermos entender melhor como eles funcionam e como podemos utilizá-los."
   ]
  },
  {
   "cell_type": "code",
   "execution_count": 15,
   "metadata": {},
   "outputs": [
    {
     "name": "stdout",
     "output_type": "stream",
     "text": [
      "imprimindo '*ponteiro': 10 \n",
      "imprimindo 'a': 12\n"
     ]
    }
   ],
   "source": [
    "# include <stdio.h>\n",
    "\n",
    "int main(){\n",
    "    int a = 10;\n",
    "    int *ponteiro;\n",
    "    ponteiro = &a;\n",
    "    \n",
    "    // vamos imprimir *ponteiro\n",
    "    printf(\"imprimindo '*ponteiro': %d \\n\", *ponteiro); // veja que temos o valor dentro do espaço de memória.\n",
    "    \n",
    "    \n",
    "    // Vamos mandar o ponteiro atribuir um novo valor ao que está dentro daquele espaço de memória.\n",
    "    *ponteiro = 12;\n",
    "    printf(\"imprimindo 'a': %d\\n\", a); // veja que o valor de `a` foi alterado\n",
    "}"
   ]
  },
  {
   "cell_type": "markdown",
   "metadata": {},
   "source": [
    "Pelo exemplo acima vimos que é possível trabalharmos em cima de uma variável só sabendo seu lugar na memoria, não precisamos efetivamente utilizarmos ela.\n",
    "\n",
    "Mas agora vamos fazer mais do que imprimir o ponteiro. Vamos fazer operações matemáticas com ele. Para isso vamos utilizar o seguinte raciocínio: Se ao mandarmos imprimir `*ponteiro` temos o valor dentro daquele endereço de memória, então quer dizer que para operar precisamos utilizar `*ponteiro` nas operações? Bom, depende, se quisermos trabalhar com o que tem dentro do endereço de memoria, então é sim. Mas também podemos auterar o local para onde o ponteiro aponta à partir de operações matemáticas. Vou dar os dois exemplos.\n",
    "\n",
    "1º) o ponteiro irá apontar para um valor inteiro e iremos somar 1 à esse valor.\n",
    "\n",
    "2º) o ponteiro irá apontar para um endereço de memoria e iremos alterar o local somando 1 a ele."
   ]
  },
  {
   "cell_type": "code",
   "execution_count": 16,
   "metadata": {},
   "outputs": [
    {
     "name": "stderr",
     "output_type": "stream",
     "text": [
      "/tmp/tmp0qe7kjfb.c: In function ‘main’:\n",
      "/tmp/tmp0qe7kjfb.c:6:23: warning: initialization makes pointer from integer without a cast [-Wint-conversion]\n",
      "     int *ponteiro_2 = 0x5DC; // um endereço de memoria em hexadecimal\n",
      "                       ^~~~~\n"
     ]
    },
    {
     "name": "stdout",
     "output_type": "stream",
     "text": [
      "Valor de a: 11\n",
      "local do ponteiro_2: 0x5dc\n",
      "local ponteiro_2: 0x5e0"
     ]
    }
   ],
   "source": [
    "#include <stdio.h>\n",
    "\n",
    "int main(){\n",
    "    int a = 10;\n",
    "    int *ponteiro_1;\n",
    "    int *ponteiro_2 = 0x5DC; // um endereço de memoria em hexadecimal\n",
    "        \n",
    "    ponteiro_1 = &a;\n",
    "    \n",
    "    // vamos somar 1 ao valor de a\n",
    "    *ponteiro_1 = (*ponteiro_1)+1; // veja que precisamos indicar o novo local de alocação\n",
    "    printf(\"Valor de a: %d\\n\", a);\n",
    "    \n",
    "    // mostrando local inicial do ponteiro_2\n",
    "    printf(\"local do ponteiro_2: %p\\n\", ponteiro_2);\n",
    "    \n",
    "    // vamos somar 1 ao local em que ponteiro_2 está apontando.\n",
    "    ponteiro_2++;\n",
    "    printf(\"local ponteiro_2: %p\", ponteiro_2);\n",
    "}"
   ]
  },
  {
   "cell_type": "markdown",
   "metadata": {},
   "source": [
    "Note que desse ultimo código podemos concluir algo que é o principal para trabalhar com ponteiros:\n",
    "Quando estamos falando de `ponteiro` estamos nos referindo ao espaço de memoria.\n",
    "E quando estamos falando `*ponteiro` estamos falando do que tem dentro do espaço de memoria."
   ]
  },
  {
   "cell_type": "markdown",
   "metadata": {},
   "source": [
    "## 9.1 PONTEIROS E ARRAYS\n",
    "\n",
    "Aqui é onde efetivamente vamos utilizar ponteiros. Quando declaramos um array, ele é alocado na memória em sequência, e quando apontamos para ele o que recebemos é o valor do primeiro endereço de memória, pois os outros são apenas sequências desse. Vamos ver um exemplo de como funciona essa interação de arrays e ponteiros."
   ]
  },
  {
   "cell_type": "code",
   "execution_count": 17,
   "metadata": {},
   "outputs": [
    {
     "name": "stdout",
     "output_type": "stream",
     "text": [
      "1 2 3 \n",
      "1 2 3 "
     ]
    }
   ],
   "source": [
    "#include <stdio.h>\n",
    "\n",
    "int main(){\n",
    "    int i;\n",
    "    int vet[3]={1,2,3};\n",
    "    int *p;\n",
    "    p = vet; // isso mesmo, não precisa do &\n",
    "    \n",
    "    // metodo 1\n",
    "    for(i=0; i<3; i++){\n",
    "        printf(\"%d \", p[i]);\n",
    "    }\n",
    "    \n",
    "    printf(\"\\n\");\n",
    "    \n",
    "    // metodo 2\n",
    "    for(i=0; i<3; i++){\n",
    "        printf(\"%d \", *(p+i)); // apontamos para espaços diferentes de memoria\n",
    "    }\n",
    "}"
   ]
  },
  {
   "cell_type": "markdown",
   "metadata": {},
   "source": [
    "> OBS.: Retorne ao topico em que passamos um array para uma função. Veja que para o array também não usamos o operador `&`, assim como agora. Mas para variáveis comuns nós usamos em ambos os casos. Isso é porque o nome do array (sozinho) funciona como indicativo do local na memória em que está aquele array, então não precisamos do operador `&` para cumprir essa função. "
   ]
  },
  {
   "cell_type": "markdown",
   "metadata": {},
   "source": [
    "### **9.1.1 Ponteiro para array de multiplas dimensões**\n",
    "\n",
    "Quando temos um array com multiplas dimensões a figura muda. Não basta apenas dizermos que p = x, e pronto. Quando estamos trabalhando com array multidimensionais é interessante efetuarmos a seguinte implementação:\n",
    "\n",
    "```c\n",
    "int mat[2][2];\n",
    "int *p;\n",
    "p = &mat[0][0];\n",
    "```\n",
    "\n",
    "Veja o exemplo abaixo."
   ]
  },
  {
   "cell_type": "code",
   "execution_count": 18,
   "metadata": {},
   "outputs": [
    {
     "name": "stdout",
     "output_type": "stream",
     "text": [
      "1 2 3 4 "
     ]
    }
   ],
   "source": [
    "#include <stdio.h>\n",
    "\n",
    "int main(){\n",
    "    int i;\n",
    "    int x[2][2] = {{1,2},{3,4}};\n",
    "    int *p;\n",
    "    p = &x[0][0];\n",
    "    \n",
    "    for(i=0; i<4; i++){\n",
    "        printf(\"%d \", *(p+i));\n",
    "    }\n",
    "}"
   ]
  },
  {
   "cell_type": "markdown",
   "metadata": {},
   "source": [
    "Vejamos um exemplo para multiplas dimensões. Note que já não fica muito simples descrever um ponteiro para multiplas dimensões, mas para mostrar um valor dentro do array fica muito mais facil, ou seja, se tivermos muitas dimensões no array compensa declararmos o ponteiro para ele e depois trabalhar só com o ponteiro."
   ]
  },
  {
   "cell_type": "code",
   "execution_count": 19,
   "metadata": {},
   "outputs": [
    {
     "name": "stdout",
     "output_type": "stream",
     "text": [
      "1 2 3 4 5 6 7 8 "
     ]
    }
   ],
   "source": [
    "#include <stdio.h>\n",
    "\n",
    "int main(){\n",
    "    int i;\n",
    "    int x[2][2][2] = {{{1,2},{3,4}}, {{5,6},{7,8}}};\n",
    "    int *p;\n",
    "    p = &x[0][0][0];\n",
    "    \n",
    "    for(i=0; i<8; i++){\n",
    "        printf(\"%d \", *(p+i));\n",
    "    }\n",
    "}"
   ]
  },
  {
   "cell_type": "markdown",
   "metadata": {},
   "source": [
    "## 9.2 PONTEIRO PARA PONTEIRO\n",
    "\n",
    "Se uma variável ocupa um espaço na memória, é obvio que um ponteiro também ocupa espaço na memória, então também é obvio que podemos apontar para onde esse ponteiro está. E isso é o ponteiro de ponteiro, é um ponteiro que aponta para outro ponteiro. Essa tecnica é muito utilizada em estruturas de dados (pilha e fila, uma hora você chega lá). Para definirmos um ponteiro de ponteiro seguimos a seguinte declaração:\n",
    "\n",
    "```c\n",
    "tipo_do_ponteiro **nome_do_ponteiro; \n",
    "```\n",
    "\n",
    "O que é bem intuitivo, já que um ponteiro simples recebe um `*` então um ponteiro de ponteiro deve receber dois `*`.\n",
    "\n",
    "E como nos indicamos o ponteiro que ele deve apontar?\n",
    "\n",
    "Assim:\n",
    "\n",
    "```c\n",
    "int x = 10;\n",
    "int *p1 = &x;\n",
    "int **p2 = &p1;\n",
    "```\n",
    "\n",
    "Se\n",
    "- p1 é o endereço de x.\n",
    "- `*p1` é o valor que está em x.\n",
    "então\n",
    "- p2 é o endereço de p1.\n",
    "- `*p2` é o endereço de x.\n",
    "- `**p2` é o valor que está em x.\n",
    "\n",
    "> OBS.: Isso pode ser extendido, podemos fazer um ponteiro para ponteiro de ponteiro, e assim por diante, é so ir colocando mais `*`."
   ]
  },
  {
   "cell_type": "code",
   "execution_count": 20,
   "metadata": {},
   "outputs": [
    {
     "name": "stdout",
     "output_type": "stream",
     "text": [
      "p2: 0x7ffec5bddd88\n",
      "*p2: 0x7ffec5bddd84\n",
      "p1: 0x7ffec5bddd84\n",
      "**p2: 10"
     ]
    }
   ],
   "source": [
    "#include <stdio.h>\n",
    "\n",
    "int main(){\n",
    "    int x = 10;\n",
    "    int *p1 = &x;\n",
    "    int **p2 = &p1;\n",
    "    \n",
    "    printf(\"p2: %p\\n\", p2); //endereço de p1\n",
    "    printf(\"*p2: %p\\n\", *p2); //endereço de x\n",
    "    printf(\"p1: %p\\n\", p1); //endereço de x\n",
    "    printf(\"**p2: %d\", **p2); // valor de x\n",
    "}"
   ]
  },
  {
   "cell_type": "markdown",
   "metadata": {},
   "source": [
    "# **10. ALOCAÇÃO DINÂMICA**\n",
    "\n",
    "No caso de declarar uma variável ou um array com dimensão pré-definida temos ai um grande problema: Vai que não uso isso tudo ou vai que fica faltando espaço na memória? Que que eu vou fazer? Bom, se você só ta ai criando um cadastro pra testar seus conhecimentos basta apenas aumentar o array e compilar o código novamente. Mas se você fez um programa pra vender ou mesmo distribuir gratuitamente e um usuário leigo abre o seu programa e tudo começa a travar por falta de memória, ele não vai conseguir abrir o código, entender tudo, e saber onde tem que mudar a dimensão do array e nem pra quanto ele tem que mudar, e ainda tem que compilar tudo. Cara, isso não ia dar certo, seu software seria completamente inútil.\n",
    "\n",
    "Então como resolvemos isso de forma elegante? Usando outra linguagem... nãão (recomendo python)... nós usamos alocação dinâmica, que consiste em alocar a memôria conforme necessário. E como fazemos isso? Com ponteiros, porém não vamos usar eles diretamente, vamos utiliar funções que nos auxiliam nesse processo. São elas:\n",
    "\n",
    "- malloc\n",
    "- calloc\n",
    "- realloc\n",
    "- free\n",
    "\n",
    "Todas essas funções estão dentro da biblioteca `stdlib.h`."
   ]
  },
  {
   "cell_type": "markdown",
   "metadata": {},
   "source": [
    "## 10.1 MALLOC\n",
    "A função malloc é a responsável por pedir um endereço de memória para uma dada variável durante a execução do programa. Ela retorna um ponteiro indicando a posição em que foi alocada essa variável, e em caso de erro ela retorna um ponteiro nulo. A declaração dela é feita da seguinte maneira:\n",
    "\n",
    "```c\n",
    "tipo_de_variável *var;\n",
    "var = (tipo_de_variável*) malloc(n*sizeof(tipo_de_varável));\n",
    "```\n",
    "> OBS.: sizeof() retorna a quantidade de bits que um dado tipo de vairável está ocupando.\n",
    "\n",
    "Vamos ver um exemplo de uma variável inteira.\n",
    "\n",
    "```c\n",
    "int *p;\n",
    "p = (int*) malloc(5*sizeof(int));\n",
    "p[0] = 1;\n",
    "p[1] = 2; // agora p é tratado como um array normal.\n",
    "```\n",
    "\n",
    "O que eu fiz foi alocar 5 vezes o espaço de um inteiro. O que daria ná mesma de fazer `p[5]`."
   ]
  },
  {
   "cell_type": "markdown",
   "metadata": {},
   "source": [
    "## 10.2 CALLOC\n",
    "Faz exatamente o mesmo que a função malloc, porém para ela são passados dois parâmetros, sendo eles o valor de `n` e o sizeof(tipo_de_variável). Veja abaixo:\n",
    "\n",
    "```c\n",
    "int *p;\n",
    "p = (int*) calloc(n, sizeof(int));\n",
    "```\n",
    "\n",
    "Veja que a diferença consiste apenas no modo de declarar."
   ]
  },
  {
   "cell_type": "markdown",
   "metadata": {},
   "source": [
    "## 10.3 REALLOC\n",
    "Bem se fazer um calloc ou um malloc é igual à declarar um vetor normal, qual a vantagem disso? Bom, aqui está, o realloc só pode ser usado quando alocamos espaço na memória utilizando malloc ou calloc, e com o realloc nós podemos mudar a dimensão do array em questão.\n",
    "\n",
    "Sua sintax é:\n",
    "\n",
    "```c\n",
    "int *p = malloc(5*sizeof(int)); //sim, pode-se declarar dessa maneira.\n",
    "\n",
    "// diminuindo o tamanho:\n",
    "p = realloc(p, 3*sizeof(int));\n",
    "\n",
    "// aumentando o tamanho:\n",
    "p = realloc(p, 10*sizeof(int));\n",
    "```"
   ]
  },
  {
   "cell_type": "markdown",
   "metadata": {},
   "source": [
    "## 10.4 FREE\n",
    "Quando utilizando o método convencinal de criação de array, a memória do computador será liberada automaticamente pelo programa, mas quando usamos malloc ou calloc isso não acontece. E a função free vem justamente para cumprir esse papel. Então toda vez que utilizarmos malloc ou calloc devemos utilizar o comando free para liberar a memória.\n",
    "\n",
    "```c\n",
    "int *p = malloc(5*sizeof(int));\n",
    "código...\n",
    "    \n",
    "free(p);\n",
    "```\n",
    "\n",
    "Vamos ver um exemplo utilizando todas essas funções.\n",
    "\n",
    "> OBS.: é sempre bom colocar uma condição para o caso do retorno das funções malloc e calloc serem nulos. Uma condição que encerre o programa."
   ]
  },
  {
   "cell_type": "code",
   "execution_count": 21,
   "metadata": {},
   "outputs": [
    {
     "name": "stdout",
     "output_type": "stream",
     "text": [
      "0 1 2 3 4 \n",
      "0 1 2 3 4 \n",
      "0 1 2 3 4 \n",
      "0 1 2 3 4 0 133105 0 0 0 "
     ]
    }
   ],
   "source": [
    "#include <stdio.h>\n",
    "#include <stdlib.h>\n",
    "\n",
    "int main(){\n",
    "    int i;\n",
    "    int *p1;\n",
    "    int *p2;\n",
    "    \n",
    "    p1 = (int*) malloc(5*sizeof(int));\n",
    "    \n",
    "    if(p1 == NULL){\n",
    "        printf(\"erro: memoria insuficiente!\\n\");\n",
    "        exit(1);\n",
    "    }\n",
    "    \n",
    "    p2 = (int*) calloc(5,sizeof(int));\n",
    "    \n",
    "    if(p2 == NULL){\n",
    "        printf(\"erro: memoria insuficiente!\\n\");\n",
    "        exit(1);\n",
    "    }\n",
    "    \n",
    "    // escrevendo valores nos vetores.\n",
    "    for(i=0; i<5; i++){\n",
    "        p1[i] = i;\n",
    "        p2[i] = i;\n",
    "    }\n",
    "    \n",
    "    // mostrando valores\n",
    "    for(i=0; i<5; i++){\n",
    "        printf(\"%d \", p1[i]);\n",
    "    }\n",
    "    printf(\"\\n\");\n",
    "    for(i=0; i<5; i++){\n",
    "        printf(\"%d \", p2[i]);\n",
    "    }\n",
    "    \n",
    "    printf(\"\\n\");\n",
    "    \n",
    "    // diminuindo p1\n",
    "    p1 = realloc(p1, 3*sizeof(int));\n",
    "    for(i=0; i<5; i++){\n",
    "        printf(\"%d \", p1[i]);\n",
    "    }\n",
    "    \n",
    "    printf(\"\\n\");\n",
    "    \n",
    "    // aumentando p2\n",
    "    p2 = realloc(p2, 10*sizeof(int));\n",
    "    for(i=0; i<10; i++){\n",
    "        printf(\"%d \", p2[i]);\n",
    "    }\n",
    "    free(p1);\n",
    "    free(p2);\n",
    "}"
   ]
  },
  {
   "cell_type": "markdown",
   "metadata": {},
   "source": [
    "Para você que acha que errei no tamanho do for quando diminui p1, eu não errei, foi proposital. O que eu queria mostrar é que mesmo que você diminua o tamanho de um array, os valores que forão alocados nele ainda vão estar lá na memória, porém aquele espaço agora está disponível para alocarmos outras coisas.\n",
    "\n",
    "Já no caso de aumentar o p2 eu poderia ter colocado novos valores nos 5 valores a mais que coloquei. Porém preferi deixar assim para mostrar que o espaço que se seguiu ao que já tinha estava cheio de coisas (zeros, ou até mesmo valores aleatórios que seriam lixo de memória) que eu posso sobreescrever."
   ]
  },
  {
   "cell_type": "markdown",
   "metadata": {},
   "source": [
    "## 10.5 ALOCAÇÃO EM ARRAYS DE MULTIPLAS DIMENSÕES\n",
    "\n",
    "Para um array com mais dimensões utilizaremos mais asteríscos (ponteiro de ponteiro).\n",
    "```c\n",
    "int **p; // ** 2 níveis; *** 3 níveis ...\n",
    "p = (int**) malloc(num_linhas*sizeof(int*));\n",
    "for(i=0; i<num_linhas; i++){\n",
    "    p[i] = (int*) malloc(num_colunas*sizeof(int));\n",
    "    for(j=0; j<num_colunas; j++){\n",
    "        p[i][j] = x;\n",
    "    }\n",
    "}\n",
    "```\n",
    "\n",
    "O que eu fiz foi criar um ponteiro que aponta para uma quantidade `num_linhas` de ponteiros os quais apontam para uma quantidade `num_colunas` de posições para alocar."
   ]
  },
  {
   "cell_type": "code",
   "execution_count": 22,
   "metadata": {},
   "outputs": [
    {
     "name": "stdout",
     "output_type": "stream",
     "text": [
      "0 0 0 0 \n",
      "1 1 1 1 \n",
      "2 2 2 2 \n"
     ]
    }
   ],
   "source": [
    "#include <stdio.h>\n",
    "#include <stdlib.h>\n",
    "\n",
    "int main(){\n",
    "    int i, j;\n",
    "    int **p;\n",
    "    p = (int**) malloc(3*sizeof(int*));\n",
    "    \n",
    "    if(p == NULL){\n",
    "        printf(\"erro: memoria insuficiente!\\n\");\n",
    "        exit(1);\n",
    "    }\n",
    "    \n",
    "    // colocando valor em uma matriz 3x4.\n",
    "    for(i=0; i<3; i++){\n",
    "        p[i] = (int*) malloc(4*sizeof(int));\n",
    "        for(j=0; j<4; j++){\n",
    "            p[i][j] = i;\n",
    "        }\n",
    "    }\n",
    "    \n",
    "    // mostrando os valores\n",
    "    for(i=0; i<3; i++){\n",
    "        for(j=0; j<4; j++){\n",
    "            printf(\"%d \", p[i][j]);\n",
    "        }\n",
    "        printf(\"\\n\");\n",
    "    }\n",
    "    free(p);\n",
    "}"
   ]
  },
  {
   "cell_type": "markdown",
   "metadata": {},
   "source": [
    "Veja que como colocamos a quantidade de colunas que iremos utilizar a cada linha, nós ganhamos a opção de criar matrizes com formatos variados. Veja abaixo uma matriz triangular."
   ]
  },
  {
   "cell_type": "code",
   "execution_count": 23,
   "metadata": {},
   "outputs": [
    {
     "name": "stdout",
     "output_type": "stream",
     "text": [
      "1 \n",
      "2 2 \n",
      "3 3 3 \n"
     ]
    }
   ],
   "source": [
    "#include <stdio.h>\n",
    "#include <stdlib.h>\n",
    "\n",
    "int main(){\n",
    "    int i, j;\n",
    "    int **p;\n",
    "    p = (int**) malloc(3*sizeof(int*));\n",
    "    \n",
    "    if(p == NULL){\n",
    "        printf(\"erro: memoria insuficiente!\\n\");\n",
    "        exit(1);\n",
    "    }\n",
    "    \n",
    "    // colocando valor em uma matriz 3x4.\n",
    "    for(i=1; i<4; i++){\n",
    "        p[i] = (int*) malloc(i*sizeof(int));\n",
    "        for(j=0; j<i; j++){\n",
    "            p[i][j] = i;\n",
    "        }\n",
    "    }\n",
    "    \n",
    "    // mostrando os valores\n",
    "    for(i=1; i<4; i++){\n",
    "        for(j=0; j<i; j++){\n",
    "            printf(\"%d \", p[i][j]);\n",
    "        }\n",
    "        printf(\"\\n\");\n",
    "    }\n",
    "    free(p);\n",
    "}"
   ]
  }
 ],
 "metadata": {
  "kernelspec": {
   "display_name": "C",
   "language": "c",
   "name": "c"
  },
  "language_info": {
   "file_extension": ".c",
   "mimetype": "text/plain",
   "name": "c"
  }
 },
 "nbformat": 4,
 "nbformat_minor": 2
}
