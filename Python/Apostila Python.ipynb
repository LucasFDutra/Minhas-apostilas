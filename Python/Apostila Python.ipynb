{
 "cells": [
  {
   "cell_type": "markdown",
   "metadata": {
    "colab_type": "text",
    "id": "view-in-github"
   },
   "source": [
    "<a href=\"https://colab.research.google.com/github/LucasFDutra/Estudos/blob/master/Apostila%20de%20Python/Apostila%20Python.ipynb\" target=\"_parent\"><img src=\"https://colab.research.google.com/assets/colab-badge.svg\" alt=\"Open In Colab\"/></a>"
   ]
  },
  {
   "cell_type": "markdown",
   "metadata": {
    "colab_type": "text",
    "id": "Rdp7Bw4x-5CM"
   },
   "source": [
    "# **Apostila de python**\n",
    "\n",
    "Autor: Lucas Felipe Dutra\n",
    "        \n",
    "**ANTES DE QUALQUER COISA, VEJA ESSE VIDEO [AQUI](https://www.youtube.com/watch?v=9w3o9NHXqu0&list=PLMdYygf53DP5Sc6yFYs6ZmjsuuA2fu0TK) PARA APRENDER MAIS SOBRE CLEAN CODE**    "
   ]
  },
  {
   "cell_type": "markdown",
   "metadata": {
    "colab_type": "text",
    "id": "1NyqYCPb-5CP"
   },
   "source": [
    "# **1. FERRAMENTAS**\n",
    "\n",
    "Além de diversos cursos e livros que pode-se achar para python, um dos melhores lugares para se aprender a linguagem é com a propria documentação, que é muito bem organizada e de fácil entendimento. Segue o [link](https://docs.python.org/3/tutorial/index.html).\n",
    "\n",
    "Abaixo você verá, na ordem de indicação, algumas alternativas de softwares que nos permitem programar em python (Para quem gosta de IDE veja o pycharm - tópico 5).\n",
    "\n",
    "- **1 - Google colaboratory:** É um jupyter notebook que roda totalmente em nuvem e não precisa de nenhuma configuração extra, tudo já está pronto, é só programar.\n",
    "  - Site: [Google colaboratory](https://colab.research.google.com/notebooks/welcome.ipynb#recent=true)\n",
    "  - Tutorial: [Get started with Google Colaboratory](https://www.youtube.com/watch?v=inN8seMm7UI)\n",
    "\n",
    "- **2 - Jupyter notebook:** O google colaboratory é um jupyter notebook, porém em nuvem. O jupyter roda na sua máquina, logo precisará configurar, porém sua interface gráfica roda via browser.\n",
    "  - Site: [Jupyter notebook](https://jupyter.org/)\n",
    "  - Tutorial: [Quick introduction to Jupyter Notebook](https://www.youtube.com/watch?v=jZ952vChhuI)\n",
    "\n",
    "- **3 - Visual Studio Code**  É um editor de texto simples, porém possui diversas extensões que deixam ele melhor do que uma IDE\n",
    "  - Site: [Vscode](https://code.visualstudio.com/)\n",
    "  \n",
    "- **4 - Atom:** É um editor de texto simples, porém possui diversas extensões que deixam ele melhor do que uma IDE\n",
    "  - Site: [Atom](https://atom.io/)\n",
    "\n",
    "- **5 - PyCharm:** Para quem gosta de IDE.\n",
    "  - Site: [PyCharm](https://www.jetbrains.com/pycharm/)\n"
   ]
  },
  {
   "cell_type": "markdown",
   "metadata": {
    "colab_type": "text",
    "id": "k7R1d4jS-5CQ"
   },
   "source": [
    "## 1.1 CONFIGURANDO O SEU COMPUTADOR\n",
    "Caso não tenha optado por usar o google colaboratory então você vai precisar configurar seu computador. "
   ]
  },
  {
   "cell_type": "markdown",
   "metadata": {
    "colab_type": "text",
    "id": "4yHvbKsL-5CS"
   },
   "source": [
    "### **1.1.1 Instalando o python**\n",
    "\n",
    "Para instalar o python em qualquer sistema operacional recomendo assistir o vídeo [Instalando o Python3 e o IDLE](https://www.youtube.com/watch?v=VuKvR1J2LQE&list=PLHz_AreHm4dlKP6QQCekuIPky1CiwmdI6&index=3).\n",
    "\n",
    "**Para usuários linux:** O python já vem instalado nas distribuições linux. Verifique com o comando no terminal:\n",
    "> python3 --version\n",
    "\n",
    "Porém se no seu caso ele não estiver instalado então rode o comando:\n",
    "\n",
    "- Para Debian/Ubuntu/Linux Mint\n",
    "> sudo apt-get install python3\n",
    "\n",
    "- Para OpenSUSE\n",
    "> sudo zypper install python3\n",
    "\n",
    "- Para Fedora\n",
    "> sudo dnf install python3\n",
    "\n",
    "- Para RedHat\n",
    "> sudo yum install python3\n"
   ]
  },
  {
   "cell_type": "markdown",
   "metadata": {
    "colab_type": "text",
    "id": "NUtfdPq4-5CY"
   },
   "source": [
    "### **1.1.2 Instalando o jupyter notebook**"
   ]
  },
  {
   "cell_type": "markdown",
   "metadata": {
    "colab_type": "text",
    "id": "dP0vjnMm-5Ca"
   },
   "source": [
    "#### 1.1.2.1 Linux\n",
    "Digite os comandos abaixo em seu terminal:\n",
    "\n",
    "> sudo apt install python3-dev python3-pip\n",
    "\n",
    "> sudo python3 -m pip install --upgrade pip\n",
    "\n",
    "> sudo python3 -m pip install jupyter"
   ]
  },
  {
   "cell_type": "markdown",
   "metadata": {
    "colab_type": "text",
    "id": "CbFPP0e4-5Cb"
   },
   "source": [
    "#### 1.1.2.2 Windows\n",
    "\n",
    "Digite os comandos no cmd:\n",
    "\n",
    "> python -m pip install --upgrade pip\n",
    "\n",
    "> python -m pip install jupyter\n",
    "\n",
    "\n",
    "\n",
    "> **OBS.: Caso o path do comando python não esteja indicado, o cmd não irá reconhecer o comando. Caso isso aconteça veja o vídeo: [How to add Python Path to Environment Variables in Windows 10](https://www.youtube.com/watch?v=Y2q_b4ugPWk), mas atenção a qual versão do python especificamente você está usando.**"
   ]
  },
  {
   "cell_type": "markdown",
   "metadata": {},
   "source": [
    "### 1.1.3 Instalando o Vscode\n",
    "Abra o link do site, baixe o instalador e de dois cliques. Clique em ctrl+n para iniciar um novo arquivo e o salve com a extensão `.py` por exemplo: `meu_primeiro_programa.py` e o vscode já pedirá para instalar uma extensão, recomendo que a instale (vai aparecer um popup com um botão escrito instalar) e pronto, ele já está pronto para programar em python"
   ]
  },
  {
   "cell_type": "markdown",
   "metadata": {
    "colab_type": "text",
    "id": "OMRIc5VI60qT"
   },
   "source": [
    "### 1.1.4 Instalando o atom\n",
    "Para instalar e configurar o atom veja o vídeo [Tutorial Programando em Python com Atom](https://www.youtube.com/watch?v=0YD-Qjs9HDg)."
   ]
  },
  {
   "cell_type": "markdown",
   "metadata": {
    "colab_type": "text",
    "id": "qg9jpVko4YPT"
   },
   "source": [
    "### **1.1.5 Instalando o pycharm**\n",
    "Para instalar o pycharm é necessário possuir primeiramente o python, e então depois você pode instalá-lo. E para instalar o pycharm em windows e mac recomendo assistir o vídeo [Instalando o PyCharm e o QPython3](https://www.youtube.com/watch?v=ElRd0cbXIv4&list=PLHz_AreHm4dlKP6QQCekuIPky1CiwmdI6&index=6). \n",
    "\n",
    "**Para usuários linux:** não sigam o vídeo, pois é bem mais simples do que o método que ele utilizou, basta entrar na loja da sua distribuição e o pycharm community estará lá para instalar. Se caso não houver ele na sua sua loja, veja o video."
   ]
  },
  {
   "cell_type": "markdown",
   "metadata": {
    "colab_type": "text",
    "id": "tRbsQpkM-5Cc"
   },
   "source": [
    "# 2. IDENTAÇÃO\n",
    "Veja algumas caracteristicas do python:\n",
    "\n",
    "- **Comentários:** Para criar comentários utilize o caracter `#`.\n",
    "\n",
    "- **Fim de comando:** O final de um comando é identificado quando acaba a linha.\n",
    "```python\n",
    "print('olá') # comando 1\n",
    "print('mundo') # comando 2\n",
    "``` \n",
    "\n",
    "- **Bloco de código** Um bloco de código é representado por tabulação.\n",
    "```python\n",
    "for i in range(10): # inicia o bloco do loop\n",
    "    print(i) # linha 1 do loop\n",
    "    print(i+1) # linha 2 do loop\n",
    "print('olá mundo') # não está mais dentro do loop\n",
    "```\n",
    "\n",
    "- **Declaração de variáveis:** Não é necessário declarar variáveis. Ou seja, basta apenas ir utilizando e atribuindo valor às variáveis durante o código que o python entenderá o tipo de variável a qual corresponde. Sendo que os tipos de variável existentes são:\n",
    "    - String (str): Para textos.\n",
    "    - Inteiros (int): Para números inteiros.\n",
    "    - Flutuante (float): Para números reais.\n",
    "```python\n",
    "a = 'teste' # str\n",
    "b = 15 # int\n",
    "c = 3.141592 #float\n",
    "```"
   ]
  },
  {
   "cell_type": "markdown",
   "metadata": {
    "colab_type": "text",
    "id": "j6mA7EEU-5Cd"
   },
   "source": [
    "# **3. INTERAÇÃO USUÁRIO/SOFTWARE**\n",
    "Os comando de entrada e saída de dados já estão implementados nativamente no python, ou seja, não é necessário importar bibliotecas para efetuar a comunicação com teclado ou monitor."
   ]
  },
  {
   "cell_type": "markdown",
   "metadata": {
    "colab_type": "text",
    "id": "ZW6VWy4Y-5Ce"
   },
   "source": [
    "## 3.1 RECEBER ENTRADA\n",
    "Para receber dados do teclado utilizamos o comando `input`.\n",
    "\n",
    "```python \n",
    "Variável = tipo (input('texto'))\n",
    "```\n",
    "\n",
    "Porém quando recebemos uma entrada do teclado, o python entende essa entrada como sendo uma string, logo, se quisermos entrar com outro tipo de dados devemos efetuar uma conversão. Veja o exemplo abaixo.\n",
    "\n",
    "```python \n",
    "N = int(input('digite um número: '))\n",
    "F = float(input('digite um número: '))\n",
    "```\n",
    "\n",
    "Também é possível receber múltiplas entradas de uma única vez, com o auxílio do comando `split`. Veja o exemplo abaixo em que receberemos dois números inteiros.\n",
    "\n",
    "```python\n",
    "split('o_que_vai_espaçar_os_valores)\n",
    "```\n",
    "\n",
    "```python \n",
    "N1, N2 = input('digite os números: ').split(' ') # um espaço irá separar os valores\n",
    "```\n",
    "\n",
    "Uma desvantagem do comando split é que os dados vão obrigatoriamente ser strings. Mas depois é só converter."
   ]
  },
  {
   "cell_type": "markdown",
   "metadata": {
    "colab_type": "text",
    "id": "DRp02jsm-5Cf"
   },
   "source": [
    "## 3.2 IMPRIMIR NA TELA\n",
    "Para mostrar informações na tela vamos utilizar o comando `print`, que atualmente segue dois modos para ser utilizado.\n",
    "```python\n",
    "print('texto {}, {}'.format(a, b))\n",
    "print(f'texto {a}, {b}')\n",
    "```\n",
    "-  **Para o comando .format:** O caracter `{}` indica a posição que a variável que está dentro de `.format` irá aparecer no texto, sendo que a ordem importa.\n",
    "- **Para o comando f:** Nesse caso a variável deve ser colocada dentro de `{}`.\n",
    "    \n",
    "> OBS.: Veja que em nenhum momento é necessário colocar à qual tipo a variável pertence, os comandos ''format'' ou ''f'' já identificam tudo, e com o ''print'' é possivel mostar até listas completas sem precisar de um loop.\n",
    "\n",
    "\n",
    "**Exemplo:**\n",
    "Para o exemplo abaixo irei alocar previamente um valor a uma dada variável, adicionarei outro valor a outra variável, somarei as duas e mostrarei o resultado."
   ]
  },
  {
   "cell_type": "code",
   "execution_count": 0,
   "metadata": {
    "colab": {
     "base_uri": "https://localhost:8080/",
     "height": 51
    },
    "colab_type": "code",
    "id": "TUO4A3vl-5Ch",
    "outputId": "bc46dd2b-1315-4bbc-c49c-a284b5a0cd3a"
   },
   "outputs": [
    {
     "name": "stdout",
     "output_type": "stream",
     "text": [
      "digite o número a ser somado com 40: 20\n",
      "o resultado da soma é 60\n"
     ]
    }
   ],
   "source": [
    "a = 40\n",
    "b = int(input('digite o número a ser somado com {}: '.format(a)))\n",
    "print(f'o resultado da soma é {a+b}')"
   ]
  },
  {
   "cell_type": "markdown",
   "metadata": {
    "colab_type": "text",
    "id": "OhwgRKIu-5Ct"
   },
   "source": [
    "# **4. ESTRUTURAS COMPOSTAS**\n",
    "Como vimos acima, uma variável simples pode armazenar apenas um dado por vez, seja ele um int, float ou string. Porém, se quisermos armazenar em um mesmo lugar vários dados devemos utilizar estruturas compostas.\n",
    "\n",
    "As estruturas compostas estão divididas em.\n",
    "- Listas\n",
    "- Tuplas\n",
    "- Dicionários\n",
    "\n",
    "Sendo que cada uma tem suas finalidades."
   ]
  },
  {
   "cell_type": "markdown",
   "metadata": {
    "colab_type": "text",
    "id": "t5hkJNhy-5Cv"
   },
   "source": [
    "## 4.1 LISTAS\n",
    "\n",
    "- Uma lista já possui dimensões \"ilimitadas\" (dependendo apenas do tamanho da sua memória).\n",
    "\n",
    "- Uma lista é dada por um conjunto de variáveis dentro entre couchetes. Sendo que começamos a contar as posições em zero, ou seja, var_0 é a posição 0, var_1 é a posição 1, e assim por diante.\n",
    "  - Veja a representação de uma lista: `[var_0, var_1,..., var_n]`\n",
    "\n",
    "\n",
    "Veja a seguir quase tudo que é possível fazer com uma lista."
   ]
  },
  {
   "cell_type": "markdown",
   "metadata": {
    "colab_type": "text",
    "id": "NKPEK9vA-5Cw"
   },
   "source": [
    "### **4.1.1 Declaração**\n",
    "\n",
    "```python \n",
    "lista = [] #lista limpa\n",
    "lista = ['a', 1, 2.3] #lista pré-definida\n",
    "```"
   ]
  },
  {
   "cell_type": "markdown",
   "metadata": {
    "colab_type": "text",
    "id": "ULV34aQX-5Cx"
   },
   "source": [
    "### **4.1.2 Acessar um termo**\n",
    "\n",
    "```python\n",
    "lista[posição_do_termo]\n",
    "```"
   ]
  },
  {
   "cell_type": "markdown",
   "metadata": {
    "colab_type": "text",
    "id": "-NlMvYi0-5C7"
   },
   "source": [
    "### **4.1.3 Inserindo novos termos**\n",
    "\n",
    "```python \n",
    "lista.append(variável)\n",
    "```"
   ]
  },
  {
   "cell_type": "markdown",
   "metadata": {
    "colab_type": "text",
    "id": "ek5Owbyr-5DA"
   },
   "source": [
    "### **4.1.4 Incorporando uma lista à outra**\n",
    "\n",
    "```python \n",
    "lista.extend(outra_lista)\n",
    "```"
   ]
  },
  {
   "cell_type": "markdown",
   "metadata": {
    "colab_type": "text",
    "id": "xlIA8hkV-5DC"
   },
   "source": [
    "### **4.1.5 Inserindo elemento em uma posição específica**\n",
    "\n",
    "```python \n",
    "lista.insert(posição, valor_a_ser_inserindo)\n",
    "```"
   ]
  },
  {
   "cell_type": "markdown",
   "metadata": {
    "colab_type": "text",
    "id": "xV_1nANi-5DH"
   },
   "source": [
    "### **4.1.6 Excluindo termo**\n",
    "\n",
    "```python \n",
    "lista.remove(termo_a_ser_removido)\n",
    "\n",
    "del lista[inicio:fim]\n",
    "```\n",
    "O primeiro método vai elimina por valor, já o segundo elimina por posição. Ou seja, se tivermos uma lista `[1,2,3,1]` e mandarmos retirar o valor o segundo valor 1 os resultados serão:\n",
    "```\n",
    "lista.remove(1) # lista final: [2,3,1] -> não cumpre a função quando temos um número mais de uma vez\n",
    "del lista[3:4] # lista final: [1,2,3]\n",
    "```"
   ]
  },
  {
   "cell_type": "markdown",
   "metadata": {
    "colab_type": "text",
    "id": "TQxpVBcD-5DK"
   },
   "source": [
    "### **4.1.7 Remove um item e o retorna**\n",
    "\n",
    "```python \n",
    "lista.pop(posição_do_termo_a_ser_retornado)\n",
    "```\n",
    "\n",
    "Caso não exista argumento, o comando irá retornar o ultimo elemento da lista."
   ]
  },
  {
   "cell_type": "markdown",
   "metadata": {
    "colab_type": "text",
    "id": "e_AZ_l4H-5DO"
   },
   "source": [
    "### **4.1.8 Limpando uma lista**\n",
    "\n",
    "```python \n",
    "lista.clear()\n",
    "\n",
    "lista = []\n",
    "```"
   ]
  },
  {
   "cell_type": "markdown",
   "metadata": {
    "colab_type": "text",
    "id": "P-zo1Om5-5DS"
   },
   "source": [
    "### **4.1.9 Obter índice de um elemento**\n",
    "\n",
    "```python \n",
    "lista.index(termo, inicio)\n",
    "```\n",
    "\n",
    "A busta é feita por valor, ou seja o que a função retorna é o valor da menor posição na lista em que se encontra o termo desejado. Se “inicio” tiver valor, ele pesquisara somente a frente dessa posição, caso contrário a pesquisa  partirá da posição 0.\n",
    "\n"
   ]
  },
  {
   "cell_type": "markdown",
   "metadata": {
    "colab_type": "text",
    "id": "C5o6zjMr5I87"
   },
   "source": [
    "### **4.1.10 Obter o número de vezes que um termo X aparece na lista**\n",
    "\n",
    "```python \n",
    "lista.count(x)\n",
    "```"
   ]
  },
  {
   "cell_type": "markdown",
   "metadata": {
    "colab_type": "text",
    "id": "pCn35XDH-5DW"
   },
   "source": [
    "### **4.1.11 Copiando uma lista**\n",
    "\n",
    "```python \n",
    "nova_lista = lista.copy()\n",
    "```"
   ]
  },
  {
   "cell_type": "markdown",
   "metadata": {
    "colab_type": "text",
    "id": "Ba1z1jJe-5Da"
   },
   "source": [
    "### **4.1.12 Retornar o tamanho de uma lista**\n",
    "\n",
    "```python \n",
    "len(lista)\n",
    "```"
   ]
  },
  {
   "cell_type": "markdown",
   "metadata": {
    "colab_type": "text",
    "id": "7oU2runj-5Dc"
   },
   "source": [
    "### **4.1.13 Inverter os elementos**\n",
    "\n",
    "```python \n",
    "lista.reverse()\n",
    "```"
   ]
  },
  {
   "cell_type": "markdown",
   "metadata": {
    "colab_type": "text",
    "id": "KU8MqYIq-5Df"
   },
   "source": [
    "### **4.1.14 Ordenar uma lista**\n",
    "\n",
    "```python \n",
    "lista_ordenada = sorted(lista)\n",
    "```"
   ]
  },
  {
   "cell_type": "markdown",
   "metadata": {
    "colab_type": "text",
    "id": "P6CZRLEl-5Dh"
   },
   "source": [
    "### **4.1.15 Maior termo da lista**\n",
    "\n",
    "```python \n",
    "max(lista)\n",
    "```\n"
   ]
  },
  {
   "cell_type": "markdown",
   "metadata": {
    "colab_type": "text",
    "id": "4hjeQzqeA0Yn"
   },
   "source": [
    "### **4.1.16 Exemplos**"
   ]
  },
  {
   "cell_type": "code",
   "execution_count": 0,
   "metadata": {
    "colab": {},
    "colab_type": "code",
    "id": "LdmcApdQ-5Di"
   },
   "outputs": [],
   "source": [
    "# Declaração\n",
    "lista = []\n",
    "lista_2 = [1,2,3]"
   ]
  },
  {
   "cell_type": "code",
   "execution_count": 0,
   "metadata": {
    "colab": {
     "base_uri": "https://localhost:8080/",
     "height": 34
    },
    "colab_type": "code",
    "id": "I0_peieo-5Dp",
    "outputId": "be97c91b-2b93-4f9c-8ded-780dd0bcfc8d"
   },
   "outputs": [
    {
     "name": "stdout",
     "output_type": "stream",
     "text": [
      "[40, 20]\n"
     ]
    }
   ],
   "source": [
    "# Inserindo Termos\n",
    "lista.append(a)\n",
    "lista.append(b)\n",
    "print(lista)"
   ]
  },
  {
   "cell_type": "code",
   "execution_count": 0,
   "metadata": {
    "colab": {
     "base_uri": "https://localhost:8080/",
     "height": 68
    },
    "colab_type": "code",
    "id": "Sg7SJSsY-5Dw",
    "outputId": "a6e5cd99-2657-4d25-d8dc-5648c6070ae9"
   },
   "outputs": [
    {
     "name": "stdout",
     "output_type": "stream",
     "text": [
      "digite o 0 valor: 20\n",
      "digite o 1 valor: 40\n",
      "[20, 40]\n"
     ]
    }
   ],
   "source": [
    "# Utilizando comando input para carregar uma lista método 1\n",
    "tamanho_da_lista = 2\n",
    "lista = []\n",
    "for i in range(tamanho_da_lista):\n",
    "    lista.append(int(input(f'digite o {i} valor: ')))\n",
    "print(lista)"
   ]
  },
  {
   "cell_type": "code",
   "execution_count": 0,
   "metadata": {
    "colab": {
     "base_uri": "https://localhost:8080/",
     "height": 51
    },
    "colab_type": "code",
    "id": "4HmOrlej-5EC",
    "outputId": "6cc26e80-6cd3-4df0-cdec-c5b847b4b5f5"
   },
   "outputs": [
    {
     "name": "stdout",
     "output_type": "stream",
     "text": [
      "digite os valores espaçados: 20 40\n",
      "[20, 40]\n"
     ]
    }
   ],
   "source": [
    "# Utilizando comando input para carregar uma lista método 2\n",
    "lista = [int(i) for i in input('digite os valores espaçados: ').split(' ')]\n",
    "print(lista)\n",
    "\n",
    "# Veja que nesse método não é necessário definir o tamanho da lista"
   ]
  },
  {
   "cell_type": "code",
   "execution_count": 0,
   "metadata": {
    "colab": {
     "base_uri": "https://localhost:8080/",
     "height": 34
    },
    "colab_type": "code",
    "id": "PCNz4Uad-5EI",
    "outputId": "87ef7728-7a8f-46cb-ae99-3191a560d1d6"
   },
   "outputs": [
    {
     "name": "stdout",
     "output_type": "stream",
     "text": [
      "[20, 40, 1, 2, 3]\n"
     ]
    }
   ],
   "source": [
    "# Incorporando uma lista a outra\n",
    "lista.extend(lista_2)\n",
    "print(lista)"
   ]
  },
  {
   "cell_type": "code",
   "execution_count": 0,
   "metadata": {
    "colab": {
     "base_uri": "https://localhost:8080/",
     "height": 34
    },
    "colab_type": "code",
    "id": "FqGitDoz-5EQ",
    "outputId": "ea8dc470-d8bc-4f06-e96b-574ed8be4e62"
   },
   "outputs": [
    {
     "name": "stdout",
     "output_type": "stream",
     "text": [
      "[20, 40, 1, 9, 2, 3]\n"
     ]
    }
   ],
   "source": [
    "# Inserindo elemento em uma posição qualquer da lista\n",
    "lista.insert(3,9)\n",
    "print(lista)"
   ]
  },
  {
   "cell_type": "code",
   "execution_count": 0,
   "metadata": {
    "colab": {
     "base_uri": "https://localhost:8080/",
     "height": 34
    },
    "colab_type": "code",
    "id": "T7nfVBMX-5EU",
    "outputId": "41c5a7ca-385d-48a8-d937-42251a8cd364"
   },
   "outputs": [
    {
     "name": "stdout",
     "output_type": "stream",
     "text": [
      "[20, 40, 1, 2, 3]\n"
     ]
    }
   ],
   "source": [
    "# Excluindo termo\n",
    "lista.remove(9)\n",
    "print(lista)"
   ]
  },
  {
   "cell_type": "code",
   "execution_count": 0,
   "metadata": {
    "colab": {
     "base_uri": "https://localhost:8080/",
     "height": 34
    },
    "colab_type": "code",
    "id": "q1OIuUr3-5Eh",
    "outputId": "040a22c9-a688-4cce-abbc-d1fcc0f0b822"
   },
   "outputs": [
    {
     "data": {
      "text/plain": [
       "40"
      ]
     },
     "execution_count": 9,
     "metadata": {
      "tags": []
     },
     "output_type": "execute_result"
    }
   ],
   "source": [
    "# Remove um item e o retorna\n",
    "lista.pop(1)"
   ]
  },
  {
   "cell_type": "code",
   "execution_count": 0,
   "metadata": {
    "colab": {
     "base_uri": "https://localhost:8080/",
     "height": 34
    },
    "colab_type": "code",
    "id": "fccyDDSB-5Em",
    "outputId": "176a3038-6093-4fbe-a09b-1035323c3628"
   },
   "outputs": [
    {
     "name": "stdout",
     "output_type": "stream",
     "text": [
      "[]\n"
     ]
    }
   ],
   "source": [
    "# Limpando uma lista\n",
    "lista.clear()\n",
    "print(lista)"
   ]
  },
  {
   "cell_type": "code",
   "execution_count": 0,
   "metadata": {
    "colab": {
     "base_uri": "https://localhost:8080/",
     "height": 34
    },
    "colab_type": "code",
    "id": "jyl6dHqf-5Et",
    "outputId": "f6908c39-c9a7-40b8-d844-4415dfeb6eaf"
   },
   "outputs": [
    {
     "data": {
      "text/plain": [
       "1"
      ]
     },
     "execution_count": 11,
     "metadata": {
      "tags": []
     },
     "output_type": "execute_result"
    }
   ],
   "source": [
    "# Obter índice de um elemento\n",
    "lista = [1,2,3,1]\n",
    "lista.index(2)"
   ]
  },
  {
   "cell_type": "code",
   "execution_count": 0,
   "metadata": {
    "colab": {
     "base_uri": "https://localhost:8080/",
     "height": 34
    },
    "colab_type": "code",
    "id": "Tl_fShVV-5Ey",
    "outputId": "c5c97e63-1bad-40a1-cddf-026bee2a20c4"
   },
   "outputs": [
    {
     "data": {
      "text/plain": [
       "2"
      ]
     },
     "execution_count": 12,
     "metadata": {
      "tags": []
     },
     "output_type": "execute_result"
    }
   ],
   "source": [
    "# Obter o número de vezes que um termo x aparece na lista\n",
    "lista.count(1)"
   ]
  },
  {
   "cell_type": "code",
   "execution_count": 0,
   "metadata": {
    "colab": {
     "base_uri": "https://localhost:8080/",
     "height": 34
    },
    "colab_type": "code",
    "id": "ay663M29-5E1",
    "outputId": "47558e52-f361-421d-8a7d-1b86121178bd"
   },
   "outputs": [
    {
     "name": "stdout",
     "output_type": "stream",
     "text": [
      "[1, 2, 3, 1]\n"
     ]
    }
   ],
   "source": [
    "# Copiando uma lista\n",
    "lista_nova = lista.copy()\n",
    "print(lista_nova)"
   ]
  },
  {
   "cell_type": "code",
   "execution_count": 0,
   "metadata": {
    "colab": {
     "base_uri": "https://localhost:8080/",
     "height": 34
    },
    "colab_type": "code",
    "id": "oIxMBXc9-5E7",
    "outputId": "1dea5a9b-2a3a-486e-8343-d26fa6a891ce"
   },
   "outputs": [
    {
     "data": {
      "text/plain": [
       "4"
      ]
     },
     "execution_count": 14,
     "metadata": {
      "tags": []
     },
     "output_type": "execute_result"
    }
   ],
   "source": [
    "# Retornando o tamanho de uma lista\n",
    "len(lista)"
   ]
  },
  {
   "cell_type": "code",
   "execution_count": 0,
   "metadata": {
    "colab": {
     "base_uri": "https://localhost:8080/",
     "height": 34
    },
    "colab_type": "code",
    "id": "iiXQkeYW-5FD",
    "outputId": "b8cd8e55-11f1-4242-fdb9-f091101920bc"
   },
   "outputs": [
    {
     "name": "stdout",
     "output_type": "stream",
     "text": [
      "[1, 3, 2, 1]\n"
     ]
    }
   ],
   "source": [
    "# Inverter os elementos de uma lista\n",
    "lista.reverse()\n",
    "print(lista)"
   ]
  },
  {
   "cell_type": "code",
   "execution_count": 0,
   "metadata": {
    "colab": {
     "base_uri": "https://localhost:8080/",
     "height": 34
    },
    "colab_type": "code",
    "id": "IKqZ1Oxm-5FH",
    "outputId": "664be4d0-41e1-4cf4-e78d-8db4684a40d2"
   },
   "outputs": [
    {
     "name": "stdout",
     "output_type": "stream",
     "text": [
      "[1, 1, 2, 3]\n"
     ]
    }
   ],
   "source": [
    "# Ordenando uma lista\n",
    "lista_ordenada = sorted(lista)\n",
    "print(lista_ordenada)"
   ]
  },
  {
   "cell_type": "code",
   "execution_count": 0,
   "metadata": {
    "colab": {
     "base_uri": "https://localhost:8080/",
     "height": 34
    },
    "colab_type": "code",
    "id": "nWbuK9hd-5FR",
    "outputId": "68086122-925c-4d30-e5e8-6805f0422ccc"
   },
   "outputs": [
    {
     "data": {
      "text/plain": [
       "3"
      ]
     },
     "execution_count": 17,
     "metadata": {
      "tags": []
     },
     "output_type": "execute_result"
    }
   ],
   "source": [
    "# Maior termo de uma lista\n",
    "max(lista)"
   ]
  },
  {
   "cell_type": "markdown",
   "metadata": {
    "colab_type": "text",
    "id": "c5-XgR-q-5FX"
   },
   "source": [
    "### **4.1.17 Listas aninhadas**\n",
    "Uma lista aninhada é uma lista que se encontra dentro de outra lista.\n",
    "\n",
    "- Lista normal: `[var_0, var_1,..., var_n]`\n",
    "- Lista aninhada: `[[var_0,..., var_n1],..., [var_0,..., var_nm]]`\n",
    "\n",
    "> OBS.: Veja que as listas não precisão ter as mesmas dimensões. E também é possível colocar mais listas dentro de listas, assim sendo é possível criar uma lista com n dimensões."
   ]
  },
  {
   "cell_type": "markdown",
   "metadata": {
    "colab_type": "text",
    "id": "kfD4orQG-5FX"
   },
   "source": [
    "#### 4.1.17.1 Declaração\n",
    "Uma lista aninhada é declaráda do mesmo jeito que uma lista normal, ou seja:\n",
    "```python\n",
    "lista_aninhada = [] #lista limpa\n",
    "lista_aninhada = [[1,2,3],[1,25]] #lista pré-definida\n",
    "```"
   ]
  },
  {
   "cell_type": "markdown",
   "metadata": {
    "colab_type": "text",
    "id": "SZ2BzMqq-5FY"
   },
   "source": [
    "#### 4.1.17.2 Acessando termos\n",
    "```python\n",
    "lista_aninhada[termo_dim_1][termo_dim_2]...[termo_dim_n]\n",
    "```\n",
    "\n",
    "Agora se quiser preencer uma lista aninhada em tempo de execução, veja o exemplo abaixo:"
   ]
  },
  {
   "cell_type": "code",
   "execution_count": 0,
   "metadata": {
    "colab": {
     "base_uri": "https://localhost:8080/",
     "height": 34
    },
    "colab_type": "code",
    "id": "9-YM5v9A-5Fe",
    "outputId": "6b9bfc46-316e-44c7-c722-22be338c46de"
   },
   "outputs": [
    {
     "name": "stdout",
     "output_type": "stream",
     "text": [
      "[[0, 0, 0], [1, 1, 1], [2, 2, 2]]\n"
     ]
    }
   ],
   "source": [
    "# Criando uma matriz 3x3 método 1\n",
    "matriz = []\n",
    "for i in range(0,3):\n",
    "    vetor = []\n",
    "    for j in range(0,3):\n",
    "        vetor.append(i)\n",
    "    matriz.append(vetor)\n",
    "print(matriz)"
   ]
  },
  {
   "cell_type": "code",
   "execution_count": 0,
   "metadata": {
    "colab": {
     "base_uri": "https://localhost:8080/",
     "height": 85
    },
    "colab_type": "code",
    "id": "cbPsmYG6-5Fj",
    "outputId": "c4ce3021-525b-4ce6-feb0-c515b931366b",
    "scrolled": true
   },
   "outputs": [
    {
     "name": "stdout",
     "output_type": "stream",
     "text": [
      "digite: 0 0 0\n",
      "digite: 1 1 1\n",
      "digite: 2 2 2\n",
      "[[0, 0, 0], [1, 1, 1], [2, 2, 2]]\n"
     ]
    }
   ],
   "source": [
    "# Criando uma matriz 3x3 método 2\n",
    "\n",
    "matriz = [[int(i) for i in input('digite: ').split(' ')] for x in range(3)]\n",
    "print(matriz)"
   ]
  },
  {
   "cell_type": "markdown",
   "metadata": {
    "colab_type": "text",
    "id": "KxAnd4NC-5Fn"
   },
   "source": [
    "#### 4.1.17.3 Algumas características de listas aninhadas\n",
    "\n",
    "- Os comandos empregados para uma lista também se aplicam à uma matriz. \n",
    "\n",
    "- Porém o comando de cópia não é muito bem executado. Para efetuar a cópia faça:"
   ]
  },
  {
   "cell_type": "code",
   "execution_count": 0,
   "metadata": {
    "colab": {
     "base_uri": "https://localhost:8080/",
     "height": 54
    },
    "colab_type": "code",
    "id": "voQ7Tv7l-5Fo",
    "outputId": "305c4ab6-36bd-44be-9496-70df09a37ad5"
   },
   "outputs": [
    {
     "name": "stdout",
     "output_type": "stream",
     "text": [
      "[[0, 0, 0], [1, 1, 1], [2, 2, 2]]\n"
     ]
    }
   ],
   "source": [
    "matriz_copia = []\n",
    "def cópia(matriz_copia):\n",
    "    matriz_2 = [matriz_copia[i].copy() for i in range(len(matriz_copia))]\n",
    "    return matriz_2\n",
    "\n",
    "print(cópia(matriz))"
   ]
  },
  {
   "cell_type": "markdown",
   "metadata": {
    "colab_type": "text",
    "id": "gJJnzB1W-5Ft"
   },
   "source": [
    "#### 4.1.17.4 Matriz transposta"
   ]
  },
  {
   "cell_type": "code",
   "execution_count": 0,
   "metadata": {
    "colab": {
     "base_uri": "https://localhost:8080/",
     "height": 54
    },
    "colab_type": "code",
    "id": "SRXXlNRM-5Fv",
    "outputId": "cb95e4e4-262b-48e5-90e9-429fbda6cd81"
   },
   "outputs": [
    {
     "name": "stdout",
     "output_type": "stream",
     "text": [
      "[(0, 1, 2), (0, 1, 2), (0, 1, 2)]\n"
     ]
    }
   ],
   "source": [
    "matriz_transposta = []\n",
    "matriz_transposta = list(zip(*matriz))\n",
    "print(matriz_transposta)"
   ]
  },
  {
   "cell_type": "markdown",
   "metadata": {
    "colab_type": "text",
    "id": "hGk0BZ9n-5Fz"
   },
   "source": [
    "Veja que as listas internas à matriz, são diferentes, elas são tuplas. Tuplas são imutáveis, e para trabalhar melhor com elas é bom que as converta para listas. Para converter toda a matriz deve-se:"
   ]
  },
  {
   "cell_type": "code",
   "execution_count": 0,
   "metadata": {
    "colab": {
     "base_uri": "https://localhost:8080/",
     "height": 54
    },
    "colab_type": "code",
    "id": "znJqkH1p-5Fz",
    "outputId": "e4664ca7-53a3-4fc9-d11e-662c1d5bd88d"
   },
   "outputs": [
    {
     "name": "stdout",
     "output_type": "stream",
     "text": [
      "[[0, 1, 2], [0, 1, 2], [0, 1, 2]]\n"
     ]
    }
   ],
   "source": [
    "for i in range(0,len(matriz_transposta)):\n",
    "    matriz_transposta[i] = list(matriz_transposta[i])\n",
    "\n",
    "print(matriz_transposta)"
   ]
  },
  {
   "cell_type": "markdown",
   "metadata": {
    "colab_type": "text",
    "id": "dNd2A_oC-5F3"
   },
   "source": [
    "## 4.2 TUPLAS\n",
    "\n",
    "A tupla é uma variável composta, que é muito semelhante à uma lista. Porém uma tupla é imutável, ou seja, ela deve receber seus termos assim que é declarada, e posteriormente é impossível inserir novos termos, retirar termos ou trocar termos.\n",
    "\n",
    "É possível gerar tuplas aninhadas assim como em listas, porém elas possuem as mesmas limitações de uma tupla simples. E também é possível gerar uma lista de tuplas, e uma tupla de listas."
   ]
  },
  {
   "cell_type": "markdown",
   "metadata": {
    "colab_type": "text",
    "id": "aKgxUpLy-5F4"
   },
   "source": [
    "### **4.2.1 Declaração**\n",
    "\n",
    "```python \n",
    "tupla = ('termo 1', 'termo 2', ..., 'termo n')\n",
    "tupla = ('termo 1', [var_0, var_1,..., var_n])\n",
    "```"
   ]
  },
  {
   "cell_type": "markdown",
   "metadata": {
    "colab_type": "text",
    "id": "gAYeExb5-5F5"
   },
   "source": [
    "### **4.2.2 Acessar elementos da tupla**\n",
    "\n",
    "```python \n",
    "tupla[posição do termo]\n",
    "```"
   ]
  },
  {
   "cell_type": "markdown",
   "metadata": {
    "colab_type": "text",
    "id": "P78ZbgGA-5F8"
   },
   "source": [
    "### **4.2.3 Iincorporando uma tupla à outra**\n",
    "\n",
    "```python \n",
    "tupla_3 = tupla_1 + tupla_2\n",
    "```"
   ]
  },
  {
   "cell_type": "markdown",
   "metadata": {
    "colab_type": "text",
    "id": "Is6zgCLu-5GB"
   },
   "source": [
    "### **4.2.4 Limpando uma tupla**\n",
    "\n",
    "```python\n",
    "tupla = ()\n",
    "```"
   ]
  },
  {
   "cell_type": "markdown",
   "metadata": {
    "colab_type": "text",
    "id": "Q4V5ul86-5GE"
   },
   "source": [
    "### **4.2.5 Obter Índice de um elemento**\n",
    "\n",
    "```python \n",
    "tupla.index(termo, inicio)\n",
    "```\n",
    "\n",
    "A busta é feita por valor, ou seja o que a função retorna é o valor da menor posição na tupla em que se encontra o termo desejado. Se “inicio” tiver valor, ele pesquisara somente a frente dessa posição, caso contrário a pesquisa  partirá da posição 0."
   ]
  },
  {
   "cell_type": "markdown",
   "metadata": {
    "colab_type": "text",
    "id": "SJvWIjG5-5GG"
   },
   "source": [
    "### **4.2.6 Obter o número de vezes que um termo X aparece na tupla**\n",
    "\n",
    "```python \n",
    "tupla.count(x)\n",
    "```"
   ]
  },
  {
   "cell_type": "markdown",
   "metadata": {
    "colab_type": "text",
    "id": "_7nulppx-5GH"
   },
   "source": [
    "### **4.2.7 Retornar o tamanho de uma tupla**\n",
    "\n",
    "```python \n",
    "len(tupla)\n",
    "```"
   ]
  },
  {
   "cell_type": "markdown",
   "metadata": {
    "colab_type": "text",
    "id": "vjEb5WpO-5GJ"
   },
   "source": [
    "### **4.2.8 Ordenar uma tupla**\n",
    "\n",
    "```python \n",
    "tupla_ordenada = tuple(sorted(tupla))\n",
    "```\n",
    "\n",
    "O comando `sorted` retorna uma lista, por isso o comando `tuple` para poder converter para tupla."
   ]
  },
  {
   "cell_type": "markdown",
   "metadata": {
    "colab_type": "text",
    "id": "qA2Y_4Rm-5GL"
   },
   "source": [
    "### **4.2.9 Maior termo da tupla**\n",
    "\n",
    "```python \n",
    "max(tupla)\n",
    "```"
   ]
  },
  {
   "cell_type": "markdown",
   "metadata": {
    "colab_type": "text",
    "id": "sAhkIttO-5GP"
   },
   "source": [
    "### **4.2.10 Convertendo uma tupla em uma lista**\n",
    "\n",
    "```python \n",
    "lista = list(tupla)\n",
    "```"
   ]
  },
  {
   "cell_type": "markdown",
   "metadata": {
    "colab_type": "text",
    "id": "XfcZHvFc-5GR"
   },
   "source": [
    "### **4.2.11 Apagar uma tupla**\n",
    "\n",
    "```python \n",
    "del(tupla)\n",
    "```\n"
   ]
  },
  {
   "cell_type": "markdown",
   "metadata": {
    "colab_type": "text",
    "id": "PQHvINwGAwMo"
   },
   "source": [
    "\n",
    "### **4.2.12 Exemplos**"
   ]
  },
  {
   "cell_type": "code",
   "execution_count": 0,
   "metadata": {
    "colab": {},
    "colab_type": "code",
    "id": "_Y4xngfQ-5GT"
   },
   "outputs": [],
   "source": [
    "# Declaração\n",
    "tupla_1 = (1,2,3)\n",
    "tupla_2 = (4,5,6)"
   ]
  },
  {
   "cell_type": "code",
   "execution_count": 0,
   "metadata": {
    "colab": {
     "base_uri": "https://localhost:8080/",
     "height": 54
    },
    "colab_type": "code",
    "id": "NHQ4n9pV-5Gb",
    "outputId": "914c2031-3e4f-4a78-c24c-7c28ae5e19a7"
   },
   "outputs": [
    {
     "data": {
      "text/plain": [
       "2"
      ]
     },
     "execution_count": 24,
     "metadata": {
      "tags": []
     },
     "output_type": "execute_result"
    }
   ],
   "source": [
    "# Acessar elementos da tupla\n",
    "tupla_1[1]"
   ]
  },
  {
   "cell_type": "code",
   "execution_count": 0,
   "metadata": {
    "colab": {
     "base_uri": "https://localhost:8080/",
     "height": 54
    },
    "colab_type": "code",
    "id": "m9I-sYOq-5Gl",
    "outputId": "03765d16-fd18-41b2-e949-a4bf0c5f6790"
   },
   "outputs": [
    {
     "name": "stdout",
     "output_type": "stream",
     "text": [
      "(1, 2, 3, 4, 5, 6)\n"
     ]
    }
   ],
   "source": [
    "# Incorporando uma tupla a outra\n",
    "c = tupla_1 + tupla_2\n",
    "print(c)"
   ]
  },
  {
   "cell_type": "code",
   "execution_count": 0,
   "metadata": {
    "colab": {
     "base_uri": "https://localhost:8080/",
     "height": 54
    },
    "colab_type": "code",
    "id": "6E5VK4YE-5Go",
    "outputId": "e401ba44-1c4a-40c7-9aed-2c2f24ca8e9b"
   },
   "outputs": [
    {
     "name": "stdout",
     "output_type": "stream",
     "text": [
      "()\n"
     ]
    }
   ],
   "source": [
    "# Limpando uma tupla\n",
    "tupla_1 = ()\n",
    "print(tupla_1)"
   ]
  },
  {
   "cell_type": "code",
   "execution_count": 0,
   "metadata": {
    "colab": {
     "base_uri": "https://localhost:8080/",
     "height": 54
    },
    "colab_type": "code",
    "id": "s8kaeFB--5Gr",
    "outputId": "a6100052-9698-43ef-f9eb-1df643f767f7"
   },
   "outputs": [
    {
     "data": {
      "text/plain": [
       "1"
      ]
     },
     "execution_count": 27,
     "metadata": {
      "tags": []
     },
     "output_type": "execute_result"
    }
   ],
   "source": [
    "# Obter índice de um elemento\n",
    "tupla = (1,2,3,1)\n",
    "tupla.index(2)"
   ]
  },
  {
   "cell_type": "code",
   "execution_count": 0,
   "metadata": {
    "colab": {
     "base_uri": "https://localhost:8080/",
     "height": 54
    },
    "colab_type": "code",
    "id": "FFwrHHvc-5Gz",
    "outputId": "bb276375-3344-4233-e737-897815b5a50c"
   },
   "outputs": [
    {
     "data": {
      "text/plain": [
       "2"
      ]
     },
     "execution_count": 28,
     "metadata": {
      "tags": []
     },
     "output_type": "execute_result"
    }
   ],
   "source": [
    "# Obter o número de vezes que um termo x aparece na tupla\n",
    "tupla.count(1)"
   ]
  },
  {
   "cell_type": "code",
   "execution_count": 0,
   "metadata": {
    "colab": {
     "base_uri": "https://localhost:8080/",
     "height": 54
    },
    "colab_type": "code",
    "id": "yfSUkhJ8-5G4",
    "outputId": "f573e553-14d5-48f5-d586-f444d1958a02"
   },
   "outputs": [
    {
     "data": {
      "text/plain": [
       "4"
      ]
     },
     "execution_count": 29,
     "metadata": {
      "tags": []
     },
     "output_type": "execute_result"
    }
   ],
   "source": [
    "# Retornando o tamanho de uma tupla\n",
    "len(tupla)"
   ]
  },
  {
   "cell_type": "code",
   "execution_count": 0,
   "metadata": {
    "colab": {
     "base_uri": "https://localhost:8080/",
     "height": 54
    },
    "colab_type": "code",
    "id": "oFiJ8NLI-5HE",
    "outputId": "4c791f30-bbce-431b-dda1-d5c7c284cd93"
   },
   "outputs": [
    {
     "name": "stdout",
     "output_type": "stream",
     "text": [
      "(1, 1, 2, 3)\n"
     ]
    }
   ],
   "source": [
    "# Ordenando uma tupla\n",
    "tupla_ordenada = tuple(sorted(tupla))\n",
    "print(tupla_ordenada)"
   ]
  },
  {
   "cell_type": "code",
   "execution_count": 0,
   "metadata": {
    "colab": {
     "base_uri": "https://localhost:8080/",
     "height": 54
    },
    "colab_type": "code",
    "id": "Fi0RNMqM-5HJ",
    "outputId": "c791026a-0fee-47db-a62d-1bdb3717ca69"
   },
   "outputs": [
    {
     "data": {
      "text/plain": [
       "3"
      ]
     },
     "execution_count": 31,
     "metadata": {
      "tags": []
     },
     "output_type": "execute_result"
    }
   ],
   "source": [
    "# Maior termo de uma tupla\n",
    "max(tupla)"
   ]
  },
  {
   "cell_type": "code",
   "execution_count": 0,
   "metadata": {
    "colab": {
     "base_uri": "https://localhost:8080/",
     "height": 54
    },
    "colab_type": "code",
    "id": "-DBFGtp4-5HN",
    "outputId": "a7b1bab6-e959-48c2-eea0-a4b31478adee"
   },
   "outputs": [
    {
     "name": "stdout",
     "output_type": "stream",
     "text": [
      "[1, 2, 3, 1]\n"
     ]
    }
   ],
   "source": [
    "# Convertendo uma tupla em uma lista\n",
    "lista = list(tupla)\n",
    "print(lista)"
   ]
  },
  {
   "cell_type": "code",
   "execution_count": 0,
   "metadata": {
    "colab": {},
    "colab_type": "code",
    "id": "vl18ZfGL-5HZ"
   },
   "outputs": [],
   "source": [
    "# Apager uma tupla\n",
    "del(tupla)"
   ]
  },
  {
   "cell_type": "markdown",
   "metadata": {
    "colab_type": "text",
    "id": "lGbSsgTH-5He"
   },
   "source": [
    "## 4.3 DICIONÁRIOS\n",
    "\n",
    "Dicionários não são imutáveis como as tuplas. Dentre as diferenças que existem entre dicionários e listas temos:\n",
    "- Não é possível criar um dicionário de dicionários, o que pode-se fazer é criar tuplas ou listas de dicionários. Ou dicionários de listas e tuplas.\n",
    "\n",
    "- Em listas os índices eram numéricos, em dicionários os índices são literais. Ou seja:\n",
    "\n",
    "  - Lista:\n",
    "      - Estrutura:\n",
    "          - `lista = [maçã, 100]` \n",
    "      - Índices:\n",
    "          - `[0,1]`\n",
    "  - Dicionário:\n",
    "      - Estrutura:\n",
    "          - `dicionário = {maçã, 100}` \n",
    "      - Índices:\n",
    "          - `{fruta, massa}`\n",
    "        "
   ]
  },
  {
   "cell_type": "markdown",
   "metadata": {
    "colab_type": "text",
    "id": "0c4emzwt-5Hl"
   },
   "source": [
    "### **4.3.1 Declaração**\n",
    "\n",
    "```python\n",
    "dicionario = {}\n",
    "dicionario = dict{}\n",
    "dicionario = {'índice1': termo1, 'índice2': termo2, .., 'índice_n': termo_n}\n",
    "dicionario = {'índice1': [var_0,..., var_n], 'índice2': termo2,..., 'índice_n': termo_n}\n",
    "```\n",
    "\n",
    "> OBS.: Os índices podem ser tanto strings como numéricos. Porém para strings é necessário utilizar aspas."
   ]
  },
  {
   "cell_type": "markdown",
   "metadata": {
    "colab_type": "text",
    "id": "CFTkwNFT-5Hn"
   },
   "source": [
    "### **4.3.2 Inserindo termos**\n",
    "\n",
    "```python\n",
    "dicionario['novo_índice'] = novo_elemento\n",
    "```"
   ]
  },
  {
   "cell_type": "markdown",
   "metadata": {
    "colab_type": "text",
    "id": "gXDhBoaz-5Hp"
   },
   "source": [
    "### **4.3.3 Acessar elementos do dicionário**\n",
    "\n",
    "- Pegando todos os elementos do dicionário:\n",
    "\n",
    "```python\n",
    "dicionario.values()\n",
    "```\n",
    "\n",
    "- Pegando todos os índices do dicionário:\n",
    "\n",
    "```python\n",
    "dicionario.keys()\n",
    "```\n",
    "\n",
    "- Pegando tanto os elementos quanto os índices:\n",
    "\n",
    "```python\n",
    "dicionario.items()\n",
    "```\n",
    "\n",
    "- Pegando elemento especifico\n",
    "\n",
    "```python\n",
    "dicionario[indice]\n",
    "```"
   ]
  },
  {
   "cell_type": "markdown",
   "metadata": {
    "colab_type": "text",
    "id": "Uhq7JJ-6-5Hq"
   },
   "source": [
    "### **4.3.4 Excluindo termo**\n",
    "\n",
    "```python\n",
    "del dicionario[índice]\n",
    "```"
   ]
  },
  {
   "cell_type": "markdown",
   "metadata": {
    "colab_type": "text",
    "id": "uN2pSSXV-5Hq"
   },
   "source": [
    "### **4.3.5 Remove um item e o retorna**\n",
    "\n",
    "```python\n",
    "dicionario.pop(índice)\n",
    "```"
   ]
  },
  {
   "cell_type": "markdown",
   "metadata": {
    "colab_type": "text",
    "id": "_VP9kiGm-5Hr"
   },
   "source": [
    "### **4.3.6 Limpando um dicionário**\n",
    "\n",
    "```python\n",
    "dicionario.clear()\n",
    "```"
   ]
  },
  {
   "cell_type": "markdown",
   "metadata": {
    "colab_type": "text",
    "id": "GjxaGEp1-5Hr"
   },
   "source": [
    "### **4.3.7 Copiando um dicionário**\n",
    "\n",
    "```python \n",
    "novo_dicionario = dicionario.copy()\n",
    "```"
   ]
  },
  {
   "cell_type": "markdown",
   "metadata": {
    "colab_type": "text",
    "id": "xrOS1z26-5Hs"
   },
   "source": [
    "### **4.3.8 Retornar o tamanho de um dicionário**\n",
    "```python \n",
    "len(dicionario)\n",
    "```"
   ]
  },
  {
   "cell_type": "markdown",
   "metadata": {
    "colab_type": "text",
    "id": "97AHelZu-5Ht"
   },
   "source": [
    "### **4.3.9 Ordenar um dicionário**\n",
    "\n",
    "```python \n",
    "dicionario_ordenado = dict(sorted(dicionario.items()))\n",
    "```"
   ]
  },
  {
   "cell_type": "markdown",
   "metadata": {
    "colab_type": "text",
    "id": "ZfLfeAfY-5Ht"
   },
   "source": [
    "### **4.3.10 Maior termo do dicionário**\n",
    "\n",
    "- Maior elemento\n",
    "```python \n",
    "max(dicionario.values())\n",
    "```\n",
    "\n",
    "> OBS.: Só funciona se todos os elementos forem do mesmo tipo.\n",
    "\n",
    "- Maior índice\n",
    "```python \n",
    "max(dicionario.keys())\n",
    "```\n",
    "\n",
    "> OBS.: Só funciona se todos os índices forem do mesmo tipo.\n",
    "\n"
   ]
  },
  {
   "cell_type": "markdown",
   "metadata": {
    "colab_type": "text",
    "id": "DZzLFlDFCQdB"
   },
   "source": [
    "### **4.3.11 Exemplos**"
   ]
  },
  {
   "cell_type": "code",
   "execution_count": 0,
   "metadata": {
    "colab": {},
    "colab_type": "code",
    "id": "G16KIApF-5Hu"
   },
   "outputs": [],
   "source": [
    "# Declaração\n",
    "dicionario = {'nome do filme': 'star wars',\n",
    "              'ano': 1997}"
   ]
  },
  {
   "cell_type": "code",
   "execution_count": 0,
   "metadata": {
    "colab": {},
    "colab_type": "code",
    "id": "Az_wxUWq-5Hz"
   },
   "outputs": [],
   "source": [
    "# Inserindo Termos\n",
    "dicionario['diretor'] = 'george lucas'"
   ]
  },
  {
   "cell_type": "code",
   "execution_count": 0,
   "metadata": {
    "colab": {
     "base_uri": "https://localhost:8080/",
     "height": 54
    },
    "colab_type": "code",
    "id": "do3dp7uh-5H4",
    "outputId": "ce99fbcd-648b-4030-a3e9-2d545be171ad"
   },
   "outputs": [
    {
     "data": {
      "text/plain": [
       "dict_values(['star wars', 1997, 'george lucas'])"
      ]
     },
     "execution_count": 36,
     "metadata": {
      "tags": []
     },
     "output_type": "execute_result"
    }
   ],
   "source": [
    "# Pegando todos os elementos do dicionário:\n",
    "dicionario.values()"
   ]
  },
  {
   "cell_type": "code",
   "execution_count": 0,
   "metadata": {
    "colab": {
     "base_uri": "https://localhost:8080/",
     "height": 54
    },
    "colab_type": "code",
    "id": "4fKh1z_d-5H8",
    "outputId": "fc9bf1e7-e97b-4427-91aa-421324e62a13"
   },
   "outputs": [
    {
     "data": {
      "text/plain": [
       "dict_keys(['nome do filme', 'ano', 'diretor'])"
      ]
     },
     "execution_count": 37,
     "metadata": {
      "tags": []
     },
     "output_type": "execute_result"
    }
   ],
   "source": [
    "# Pegando todos os índices do dicionário:\n",
    "dicionario.keys()"
   ]
  },
  {
   "cell_type": "code",
   "execution_count": 0,
   "metadata": {
    "colab": {
     "base_uri": "https://localhost:8080/",
     "height": 54
    },
    "colab_type": "code",
    "id": "Qrx8gENa-5H_",
    "outputId": "c7278369-f2e1-4266-8d50-72118869a585"
   },
   "outputs": [
    {
     "data": {
      "text/plain": [
       "dict_items([('nome do filme', 'star wars'), ('ano', 1997), ('diretor', 'george lucas')])"
      ]
     },
     "execution_count": 38,
     "metadata": {
      "tags": []
     },
     "output_type": "execute_result"
    }
   ],
   "source": [
    "# Pegando tanto os elementos quanto os índices:\n",
    "dicionario.items()"
   ]
  },
  {
   "cell_type": "code",
   "execution_count": 0,
   "metadata": {
    "colab": {
     "base_uri": "https://localhost:8080/",
     "height": 54
    },
    "colab_type": "code",
    "id": "2YVbKrxn-5II",
    "outputId": "c37ad4af-07d6-4447-82ff-b51d9240d18e"
   },
   "outputs": [
    {
     "data": {
      "text/plain": [
       "'star wars'"
      ]
     },
     "execution_count": 39,
     "metadata": {
      "tags": []
     },
     "output_type": "execute_result"
    }
   ],
   "source": [
    "# Pegando elemento especifico\n",
    "dicionario['nome do filme']"
   ]
  },
  {
   "cell_type": "code",
   "execution_count": 0,
   "metadata": {
    "colab": {
     "base_uri": "https://localhost:8080/",
     "height": 54
    },
    "colab_type": "code",
    "id": "3j2qiKi6-5IM",
    "outputId": "586a7fb2-35ab-4fb2-e91e-c98e930043cc"
   },
   "outputs": [
    {
     "name": "stdout",
     "output_type": "stream",
     "text": [
      "{'nome do filme': 'star wars', 'ano': 1997}\n"
     ]
    }
   ],
   "source": [
    "## Excluindo termo\n",
    "del dicionario['diretor']\n",
    "print(dicionario)"
   ]
  },
  {
   "cell_type": "code",
   "execution_count": 0,
   "metadata": {
    "colab": {
     "base_uri": "https://localhost:8080/",
     "height": 54
    },
    "colab_type": "code",
    "id": "f0DLlU5N-5IO",
    "outputId": "543856cb-f641-412c-e590-eb6afa42e5c1"
   },
   "outputs": [
    {
     "name": "stdout",
     "output_type": "stream",
     "text": [
      "{'nome do filme': 'star wars'}\n"
     ]
    }
   ],
   "source": [
    "# Remove um item e o retorna\n",
    "dicionario.pop('ano')\n",
    "print(dicionario)"
   ]
  },
  {
   "cell_type": "code",
   "execution_count": 0,
   "metadata": {
    "colab": {
     "base_uri": "https://localhost:8080/",
     "height": 54
    },
    "colab_type": "code",
    "id": "lIvVtlLX-5IW",
    "outputId": "6eb02fcb-c4e7-4dc4-f413-bc43c73cf5dd"
   },
   "outputs": [
    {
     "name": "stdout",
     "output_type": "stream",
     "text": [
      "{}\n"
     ]
    }
   ],
   "source": [
    "# Limpando um dicionário\n",
    "dicionario.clear()\n",
    "print(dicionario)"
   ]
  },
  {
   "cell_type": "code",
   "execution_count": 0,
   "metadata": {
    "colab": {
     "base_uri": "https://localhost:8080/",
     "height": 54
    },
    "colab_type": "code",
    "id": "jBn7aeNF-5Ia",
    "outputId": "a696da8a-cda6-49a5-cef6-31ecdcbb1055"
   },
   "outputs": [
    {
     "name": "stdout",
     "output_type": "stream",
     "text": [
      "{'nome do filme': 'star wars', 'ano': 1997}\n"
     ]
    }
   ],
   "source": [
    "# Copiando um dicionário\n",
    "dicionario = {'nome do filme': 'star wars', 'ano': 1997}\n",
    "novo_dicionario = dicionario.copy()\n",
    "print(novo_dicionario)"
   ]
  },
  {
   "cell_type": "code",
   "execution_count": 0,
   "metadata": {
    "colab": {
     "base_uri": "https://localhost:8080/",
     "height": 54
    },
    "colab_type": "code",
    "id": "lsmipd6p-5If",
    "outputId": "0ced5f0d-f7f2-4b16-d878-9bf486e0509e"
   },
   "outputs": [
    {
     "data": {
      "text/plain": [
       "2"
      ]
     },
     "execution_count": 44,
     "metadata": {
      "tags": []
     },
     "output_type": "execute_result"
    }
   ],
   "source": [
    "# Retorna o tamanho de um dicionário\n",
    "len(dicionario)"
   ]
  },
  {
   "cell_type": "code",
   "execution_count": 0,
   "metadata": {
    "colab": {
     "base_uri": "https://localhost:8080/",
     "height": 54
    },
    "colab_type": "code",
    "id": "sy0NlCNO-5Ip",
    "outputId": "dfa21861-d9cf-4444-a222-80b2cafbef6b"
   },
   "outputs": [
    {
     "name": "stdout",
     "output_type": "stream",
     "text": [
      "{'ano': 1997, 'nome do filme': 'star wars'}\n"
     ]
    }
   ],
   "source": [
    "# Ordena um dicionário\n",
    "dicionario_ordenado = dict(sorted(dicionario.items()))\n",
    "print(dicionario_ordenado)"
   ]
  },
  {
   "cell_type": "code",
   "execution_count": 0,
   "metadata": {
    "colab": {
     "base_uri": "https://localhost:8080/",
     "height": 54
    },
    "colab_type": "code",
    "id": "I79jZDoH-5It",
    "outputId": "f98f6696-2072-4dfb-d4c4-889921cf17ec"
   },
   "outputs": [
    {
     "data": {
      "text/plain": [
       "'nome do filme'"
      ]
     },
     "execution_count": 46,
     "metadata": {
      "tags": []
     },
     "output_type": "execute_result"
    }
   ],
   "source": [
    "# Maior índice\n",
    "max(dicionario.keys())"
   ]
  },
  {
   "cell_type": "markdown",
   "metadata": {
    "colab_type": "text",
    "id": "vDKB8P41-5Iw"
   },
   "source": [
    "# **5. ESTRUTURAS DE REPETIÇÃO**\n",
    "\n",
    "As estruturas de repetição são utilizadas quando queremos efetuar uma mesma tarefa n vezes, ou até que uma dada condição seja atingida."
   ]
  },
  {
   "cell_type": "markdown",
   "metadata": {
    "colab_type": "text",
    "id": "zxV-Mxc8-5Ix"
   },
   "source": [
    "## 5.1 FOR\n",
    "\n",
    "```python \n",
    "for i in range(de_onde, até_onde, passo):\n",
    "    Código...\n",
    "```"
   ]
  },
  {
   "cell_type": "code",
   "execution_count": 0,
   "metadata": {
    "colab": {
     "base_uri": "https://localhost:8080/",
     "height": 102
    },
    "colab_type": "code",
    "id": "LWPNW058-5I4",
    "outputId": "9f587ff9-0721-405e-cf55-8663e9f229ac",
    "scrolled": false
   },
   "outputs": [
    {
     "name": "stdout",
     "output_type": "stream",
     "text": [
      "0\n",
      "2\n",
      "4\n",
      "6\n",
      "8\n"
     ]
    }
   ],
   "source": [
    "for i in range(0,10,2):\n",
    "    print(i)"
   ]
  },
  {
   "cell_type": "markdown",
   "metadata": {
    "colab_type": "text",
    "id": "aorlteaC-5I9"
   },
   "source": [
    "### **5.1.1 For com listas**\n",
    "```python\n",
    "for i in lista:\n",
    "```"
   ]
  },
  {
   "cell_type": "code",
   "execution_count": 0,
   "metadata": {
    "colab": {
     "base_uri": "https://localhost:8080/",
     "height": 105
    },
    "colab_type": "code",
    "id": "1-rzyHIr-5I-",
    "outputId": "a56899cc-fee8-49b5-fbab-1ae5557b87be"
   },
   "outputs": [
    {
     "name": "stdout",
     "output_type": "stream",
     "text": [
      "10\n",
      "2\n",
      "32\n",
      "1\n"
     ]
    }
   ],
   "source": [
    "lista = [10,2,32,1]\n",
    "\n",
    "for i in lista:\n",
    "    print(i)"
   ]
  },
  {
   "cell_type": "markdown",
   "metadata": {
    "colab_type": "text",
    "id": "VFvkNbl4-5JC"
   },
   "source": [
    "### **5.1.1 For com tuplas**\n",
    "```python\n",
    "for i in tupla:\n",
    "```"
   ]
  },
  {
   "cell_type": "code",
   "execution_count": 0,
   "metadata": {
    "colab": {
     "base_uri": "https://localhost:8080/",
     "height": 105
    },
    "colab_type": "code",
    "id": "XmTzRWJa-5JD",
    "outputId": "763c19fe-d5df-4865-9529-7fecc2cef1ea"
   },
   "outputs": [
    {
     "name": "stdout",
     "output_type": "stream",
     "text": [
      "10\n",
      "2\n",
      "32\n",
      "1\n"
     ]
    }
   ],
   "source": [
    "tupla = (10,2,32,1)\n",
    "\n",
    "for i in tupla:\n",
    "    print(i)"
   ]
  },
  {
   "cell_type": "markdown",
   "metadata": {
    "colab_type": "text",
    "id": "xMAl_4bg-5JL"
   },
   "source": [
    "### **5.1.1 For com dicionários**\n",
    "\n"
   ]
  },
  {
   "cell_type": "code",
   "execution_count": 0,
   "metadata": {
    "colab": {},
    "colab_type": "code",
    "id": "Jead6ezuB36R"
   },
   "outputs": [],
   "source": [
    "dicionario = {'nome do filme': 'star wars',\n",
    "              'ano': 1997}"
   ]
  },
  {
   "cell_type": "markdown",
   "metadata": {
    "colab_type": "text",
    "id": "7kkcohfoB3VS"
   },
   "source": [
    "**Percorrendo apenas elementos:**\n",
    "```python\n",
    "for i in dicionario.values():\n",
    "```"
   ]
  },
  {
   "cell_type": "code",
   "execution_count": 0,
   "metadata": {
    "colab": {
     "base_uri": "https://localhost:8080/",
     "height": 71
    },
    "colab_type": "code",
    "id": "gXblRaOg-5JM",
    "outputId": "29a920f8-767a-49b2-fb4d-43406e409c90"
   },
   "outputs": [
    {
     "name": "stdout",
     "output_type": "stream",
     "text": [
      "star wars\n",
      "1997\n"
     ]
    }
   ],
   "source": [
    "for i in dicionario.values():\n",
    "    print(i) "
   ]
  },
  {
   "cell_type": "markdown",
   "metadata": {
    "colab_type": "text",
    "id": "S1Jh__LS-5JO"
   },
   "source": [
    "**Percorrendo apenas índices:**\n",
    "```python\n",
    "for i in dicionario.keys():\n",
    "```"
   ]
  },
  {
   "cell_type": "code",
   "execution_count": 0,
   "metadata": {
    "colab": {
     "base_uri": "https://localhost:8080/",
     "height": 71
    },
    "colab_type": "code",
    "id": "Cmn8FjQF-5JP",
    "outputId": "daded7e8-43d5-4cb7-c4ae-ea9f6d6f24a4"
   },
   "outputs": [
    {
     "name": "stdout",
     "output_type": "stream",
     "text": [
      "nome do filme\n",
      "ano\n"
     ]
    }
   ],
   "source": [
    "for i in dicionario.keys():\n",
    "    print(i) "
   ]
  },
  {
   "cell_type": "markdown",
   "metadata": {
    "colab_type": "text",
    "id": "9ciw9I1g-5Jb"
   },
   "source": [
    "**Percorrendo elementos e índices:**\n",
    "```python\n",
    "for i,j in dicionario.items():\n",
    "```"
   ]
  },
  {
   "cell_type": "code",
   "execution_count": 0,
   "metadata": {
    "colab": {
     "base_uri": "https://localhost:8080/",
     "height": 71
    },
    "colab_type": "code",
    "id": "eNDOqLrV-5Jc",
    "outputId": "77baf304-e4b4-481d-d646-76480424d9e7"
   },
   "outputs": [
    {
     "name": "stdout",
     "output_type": "stream",
     "text": [
      "nome do filme star wars\n",
      "ano 1997\n"
     ]
    }
   ],
   "source": [
    "for i,j in dicionario.items():\n",
    "    print(i, j) "
   ]
  },
  {
   "cell_type": "markdown",
   "metadata": {
    "colab_type": "text",
    "id": "t7UJ5EI3-5Ji"
   },
   "source": [
    "## 5.2 WHILE\n",
    "\n",
    "```python \n",
    "while (condições):\n",
    "    Código...\n",
    "    ```"
   ]
  },
  {
   "cell_type": "code",
   "execution_count": 0,
   "metadata": {
    "colab": {
     "base_uri": "https://localhost:8080/",
     "height": 102
    },
    "colab_type": "code",
    "id": "wUoDcB3G-5Ji",
    "outputId": "44ac33e1-0269-494b-be2a-42ec6bdee160"
   },
   "outputs": [
    {
     "name": "stdout",
     "output_type": "stream",
     "text": [
      "40\n",
      "39\n",
      "38\n",
      "37\n",
      "36\n"
     ]
    }
   ],
   "source": [
    "while(a > 35 ):\n",
    "    print(a)\n",
    "    a -= 1"
   ]
  },
  {
   "cell_type": "markdown",
   "metadata": {
    "colab_type": "text",
    "id": "yrcvd-pS-5Jq"
   },
   "source": [
    "# **6. CONDICIONAIS**"
   ]
  },
  {
   "cell_type": "markdown",
   "metadata": {
    "colab_type": "text",
    "id": "4qQMibj4-5Jt"
   },
   "source": [
    "## 6.1 IF\n",
    "\n",
    "```python \n",
    "if condição:\n",
    "    Código...```"
   ]
  },
  {
   "cell_type": "markdown",
   "metadata": {
    "colab_type": "text",
    "id": "W6kjK8sA-5Ju"
   },
   "source": [
    "## 6.2 ELIF  \n",
    "É uma condição que só é analisada caso a condição em if não seja atendida.\n",
    "\n",
    "```python \n",
    "elif condição_2:\n",
    "    Código...```"
   ]
  },
  {
   "cell_type": "markdown",
   "metadata": {
    "colab_type": "text",
    "id": "SyLwB8P7-5Ju"
   },
   "source": [
    "## 6.3 ELSE\n",
    "Engloba tudo que for o contrário das condições impostas nos if’s e nos elif.\n",
    "\n",
    "```python \n",
    "else:\n",
    "    Código...\n",
    "    ```"
   ]
  },
  {
   "cell_type": "markdown",
   "metadata": {
    "colab_type": "text",
    "id": "sBeSA6rO-5Jv"
   },
   "source": [
    "## 6.4 OPERADORES\n",
    "\n",
    "- **and:** Condição 'a' e condição 'b' devem ser atendidas.\n",
    "    \n",
    "- **or:** Condição 'a' ou condição 'b' devem ser atendidas.\n",
    "    \n",
    "- **maior:** >\n",
    "    \n",
    "- **maior ou igual:** >=\n",
    "    \n",
    "- **menor:** <\n",
    "    \n",
    "- **menor ou igual:** <=\n",
    "\n",
    "- **diferente:** !=\n",
    "    \n",
    "- **igual:** ==\n",
    "\n",
    "- **Verdadeiro:** True\n",
    "\n",
    "- **Falso:** False\n",
    "\n"
   ]
  },
  {
   "cell_type": "markdown",
   "metadata": {
    "colab_type": "text",
    "id": "OkndDuVPCNMw"
   },
   "source": [
    "## 6.5 EXEMPLOS"
   ]
  },
  {
   "cell_type": "code",
   "execution_count": 0,
   "metadata": {
    "colab": {
     "base_uri": "https://localhost:8080/",
     "height": 34
    },
    "colab_type": "code",
    "id": "Sdn4zCvd-5Jv",
    "outputId": "19bdcd53-815b-4554-a76e-341c888b0923"
   },
   "outputs": [
    {
     "name": "stdout",
     "output_type": "stream",
     "text": [
      "else\n"
     ]
    }
   ],
   "source": [
    "a = 10\n",
    "b = 30\n",
    "\n",
    "if a == 1 and b == 2:\n",
    "    print('if')\n",
    "elif a == 30 or a == 20:\n",
    "    print('elif')\n",
    "else:\n",
    "    print('else')"
   ]
  },
  {
   "cell_type": "markdown",
   "metadata": {
    "colab_type": "text",
    "id": "AFaDEB7j-5Jx"
   },
   "source": [
    "# **7. FUNÇÕES**\n",
    "\n",
    "Funções são blocos de código em que colocam-se tarefas que serão utilizadas várias vezes durante o código.\n",
    "\n",
    "```python \n",
    "def nome_da_função(parâmetro_1, parâmetro_2...):\n",
    "    Código..\n",
    "    return o_que_deve_retornar \n",
    "```\n",
    "\n",
    "O return não é obrigatório."
   ]
  },
  {
   "cell_type": "code",
   "execution_count": 0,
   "metadata": {
    "colab": {
     "base_uri": "https://localhost:8080/",
     "height": 34
    },
    "colab_type": "code",
    "id": "h-s7paWm-5Jx",
    "outputId": "4402a772-c99b-4ccc-a592-e90d03f277f9",
    "scrolled": true
   },
   "outputs": [
    {
     "name": "stdout",
     "output_type": "stream",
     "text": [
      "3\n"
     ]
    }
   ],
   "source": [
    "def função(a,b):\n",
    "    c = a+b\n",
    "    return c\n",
    "\n",
    "soma = função(1,2)\n",
    "print(soma)"
   ]
  },
  {
   "cell_type": "markdown",
   "metadata": {
    "colab_type": "text",
    "id": "unPOXiKD-5Jz"
   },
   "source": [
    "# **8. PROGRAMAÇÃO ORIENTADA A OBJETO**"
   ]
  },
  {
   "cell_type": "markdown",
   "metadata": {
    "colab_type": "text",
    "id": "fW1GiX_d-5J0"
   },
   "source": [
    "## 8.1 CRIAÇÃO DE CLASSES\n",
    "\n",
    "- Toda classe precisa ter a função `__init__` e toda função precisa ter o parâmetro `self`.\n",
    "\n",
    "```python \n",
    "class nome_da_classe:\n",
    "    def __init__(self, parâmetro_1, parâmetro_2):\n",
    "        # Adicione tudo o que quiser para iniciar assim que a classe for chamada.\n",
    "        \n",
    "        # Para declarar uma variável dentro do init\n",
    "        self.var_1 = x\n",
    "        self.var_2 = parâmetro_1\n",
    "        \n",
    "        # Todas as variáveis que aqui estão podem ser usadas em outras funções da classe\n",
    "        \n",
    "    def uma_função_qualquer(self,parâmetros_da_função):\n",
    "        Código_da_função\n",
    "        ```\n",
    "\n",
    "### **8.1.1 Exemplo**"
   ]
  },
  {
   "cell_type": "code",
   "execution_count": 0,
   "metadata": {
    "colab": {
     "base_uri": "https://localhost:8080/",
     "height": 54
    },
    "colab_type": "code",
    "id": "QYkHowBX-5J1",
    "outputId": "435a448d-4fd8-445f-ee7b-8446933e2a28"
   },
   "outputs": [
    {
     "name": "stdout",
     "output_type": "stream",
     "text": [
      "Meu nome é João, e eu tenho 18 anos.\n"
     ]
    }
   ],
   "source": [
    "class person:\n",
    "    def __init__(self, name, age):\n",
    "        self.name = name\n",
    "        self.age = age\n",
    "\n",
    "    def print_objetc(self):\n",
    "        print('Meu nome é {}, e eu tenho {} anos.'.format(self.name, self.age))\n",
    "\n",
    "\n",
    "name = 'João'\n",
    "age = 18\n",
    "\n",
    "person1 = person(name,age)\n",
    "person1.print_objetc()"
   ]
  },
  {
   "cell_type": "markdown",
   "metadata": {
    "colab_type": "text",
    "id": "9yWClgAy-5J9"
   },
   "source": [
    "## 8.2 HERANÇA\n",
    "\n",
    "Herança é o nome dado para a relação entre uma classe mãe e uma classe filha. A filha herda os métodos e os atributos da classe mãe, ou seja, se a mãe faz uma coisa 'x', a filha também fará, se a classe mãe possui y, a classe filha também. Porém, é possível que a classe filha herde somente uma das duas coisas."
   ]
  },
  {
   "cell_type": "markdown",
   "metadata": {
    "colab_type": "text",
    "id": "LC5kW5dC-5J9"
   },
   "source": [
    "### **8.2.1 Herdando apenas os métodos**"
   ]
  },
  {
   "cell_type": "code",
   "execution_count": 0,
   "metadata": {
    "colab": {},
    "colab_type": "code",
    "id": "dnNRfY-Y-5J-"
   },
   "outputs": [],
   "source": [
    "class pai:\n",
    "    def __init__(self):\n",
    "        print('classe pai')\n",
    "    def função_pai(self):\n",
    "        print('função pai')\n",
    "\n",
    "# Para fazer a herança coloque o nome da classe pai dentro do parenteses da classe filha.\n",
    "class filha(pai):\n",
    "    def __init__(self):\n",
    "        print('classe filha')\n",
    "    def função_filha(self):\n",
    "        print('função filha')"
   ]
  },
  {
   "cell_type": "code",
   "execution_count": 0,
   "metadata": {
    "colab": {
     "base_uri": "https://localhost:8080/",
     "height": 71
    },
    "colab_type": "code",
    "id": "dbGW28qO-5J_",
    "outputId": "cbba63a1-5cc7-481a-a1ba-31f22e933c6c"
   },
   "outputs": [
    {
     "name": "stdout",
     "output_type": "stream",
     "text": [
      "classe pai\n",
      "classe filha\n"
     ]
    }
   ],
   "source": [
    "# Criação do objeto pai e filha.\n",
    "p = pai()     # irá exibir o init da classe pai.\n",
    "f = filha()   # irá exibir o init da classe filha."
   ]
  },
  {
   "cell_type": "code",
   "execution_count": 0,
   "metadata": {
    "colab": {
     "base_uri": "https://localhost:8080/",
     "height": 54
    },
    "colab_type": "code",
    "id": "IPAaDTFQ-5KB",
    "outputId": "ad1bcc66-8565-4704-c43c-885e1550db4a"
   },
   "outputs": [
    {
     "name": "stdout",
     "output_type": "stream",
     "text": [
      "função pai\n"
     ]
    }
   ],
   "source": [
    "# Execução da função_pai\n",
    "p.função_pai()"
   ]
  },
  {
   "cell_type": "code",
   "execution_count": 0,
   "metadata": {
    "colab": {
     "base_uri": "https://localhost:8080/",
     "height": 54
    },
    "colab_type": "code",
    "id": "bK6kQ2ge-5KC",
    "outputId": "f3ffb676-58b6-4395-b754-2b8836f18cf8"
   },
   "outputs": [
    {
     "name": "stdout",
     "output_type": "stream",
     "text": [
      "função filha\n"
     ]
    }
   ],
   "source": [
    "# Execução da função_filha\n",
    "f.função_filha()"
   ]
  },
  {
   "cell_type": "code",
   "execution_count": 0,
   "metadata": {
    "colab": {
     "base_uri": "https://localhost:8080/",
     "height": 54
    },
    "colab_type": "code",
    "id": "GGuD1JFk-5KE",
    "outputId": "0ad2a195-2691-4da5-fced-ca2547c4393c",
    "scrolled": true
   },
   "outputs": [
    {
     "name": "stdout",
     "output_type": "stream",
     "text": [
      "função pai\n"
     ]
    }
   ],
   "source": [
    "# A classe filha pode chamar e executar a função_pai.\n",
    "f.função_pai()"
   ]
  },
  {
   "cell_type": "markdown",
   "metadata": {
    "colab_type": "text",
    "id": "oBNqRgmG-5KL"
   },
   "source": [
    "### **8.2.2 Herdando apenas os atributos**"
   ]
  },
  {
   "cell_type": "code",
   "execution_count": 0,
   "metadata": {
    "colab": {},
    "colab_type": "code",
    "id": "mncI7uWI-5KM"
   },
   "outputs": [],
   "source": [
    "class pai:\n",
    "    def __init__(self,peso,altura,cabelo):\n",
    "        print('classe pai')\n",
    "        self.peso = peso\n",
    "        self.altura = altura\n",
    "        self.cabelo = cabelo\n",
    "    def função_pai(self):\n",
    "        print('função pai')\n",
    "        print(self.peso, self.altura, self.cabelo)\n",
    "\n",
    "# Herda o construtor do pai.\n",
    "class filha(pai):\n",
    "    def __init__(self, peso, altura, cabelo):\n",
    "        super().__init__(peso,altura,cabelo) # Passa os parâmetros para a classe pai\n",
    "    def função_filha(self):\n",
    "        print(self.peso, self.altura, self.cabelo)\n",
    "        print('função filha')"
   ]
  },
  {
   "cell_type": "code",
   "execution_count": 0,
   "metadata": {
    "colab": {
     "base_uri": "https://localhost:8080/",
     "height": 54
    },
    "colab_type": "code",
    "id": "I2s-WBs7-5KO",
    "outputId": "2ce3074c-1131-401e-fda8-1c71273a8b0b"
   },
   "outputs": [
    {
     "name": "stdout",
     "output_type": "stream",
     "text": [
      "classe pai\n"
     ]
    }
   ],
   "source": [
    "# Inicia a classe pai.\n",
    "p = pai(80,180,'preto')"
   ]
  },
  {
   "cell_type": "code",
   "execution_count": 0,
   "metadata": {
    "colab": {
     "base_uri": "https://localhost:8080/",
     "height": 71
    },
    "colab_type": "code",
    "id": "6p2IBfAm-5KU",
    "outputId": "e1ebef2c-af8e-4033-a51c-6e4d4046fe91"
   },
   "outputs": [
    {
     "name": "stdout",
     "output_type": "stream",
     "text": [
      "função pai\n",
      "80 180 preto\n"
     ]
    }
   ],
   "source": [
    "# Executa a função_pai\n",
    "p.função_pai()"
   ]
  },
  {
   "cell_type": "code",
   "execution_count": 0,
   "metadata": {
    "colab": {
     "base_uri": "https://localhost:8080/",
     "height": 54
    },
    "colab_type": "code",
    "id": "ZyiOwROY-5KZ",
    "outputId": "02005481-b537-4ebd-e837-bdcc7fe07724"
   },
   "outputs": [
    {
     "name": "stdout",
     "output_type": "stream",
     "text": [
      "classe pai\n"
     ]
    }
   ],
   "source": [
    "# Inicia a classe filha.\n",
    "f = filha(20,160,'loiro')\n",
    "# Como a filha herdou os atributos de pai, o print da classe pai é quem aparece."
   ]
  },
  {
   "cell_type": "code",
   "execution_count": 0,
   "metadata": {
    "colab": {
     "base_uri": "https://localhost:8080/",
     "height": 71
    },
    "colab_type": "code",
    "id": "psZqrxdj-5Ke",
    "outputId": "56aaab3a-b142-47da-b439-1a9f7227c5f6"
   },
   "outputs": [
    {
     "name": "stdout",
     "output_type": "stream",
     "text": [
      "função pai\n",
      "80 180 preto\n"
     ]
    }
   ],
   "source": [
    "# Ao adicionar parâmetros diferentes para filha os parâmetros de pai não foram alterados.\n",
    "p.função_pai()"
   ]
  },
  {
   "cell_type": "code",
   "execution_count": 0,
   "metadata": {
    "colab": {
     "base_uri": "https://localhost:8080/",
     "height": 71
    },
    "colab_type": "code",
    "id": "q3n2cbCX-5Ki",
    "outputId": "825ba4cd-a10d-4018-9a2f-e850796a55f9"
   },
   "outputs": [
    {
     "name": "stdout",
     "output_type": "stream",
     "text": [
      "20 160 loiro\n",
      "função filha\n"
     ]
    }
   ],
   "source": [
    "# Veja que a classe filha possui parâmetros diferentes da classe pai, assim como esperado.\n",
    "f.função_filha()"
   ]
  },
  {
   "cell_type": "code",
   "execution_count": 0,
   "metadata": {
    "colab": {
     "base_uri": "https://localhost:8080/",
     "height": 71
    },
    "colab_type": "code",
    "id": "MkYPnZkh-5Ku",
    "outputId": "685890c8-150d-4695-c132-87c023fbedfa",
    "scrolled": true
   },
   "outputs": [
    {
     "name": "stdout",
     "output_type": "stream",
     "text": [
      "função pai\n",
      "20 160 loiro\n"
     ]
    }
   ],
   "source": [
    "# Se executarmos a função_pai apartir da filha, aparecerão os parâmetros da filha.\n",
    "f.função_pai()"
   ]
  },
  {
   "cell_type": "markdown",
   "metadata": {
    "colab_type": "text",
    "id": "nBZjJiZv-5Ky"
   },
   "source": [
    "> OBS.: Quando houver apenas uma classe superior, utilize o super para fazer a herança do construtor."
   ]
  },
  {
   "cell_type": "markdown",
   "metadata": {
    "colab_type": "text",
    "id": "Q0ZgLS0w-5Kz"
   },
   "source": [
    "### **8.2.3 Herança múltipla**"
   ]
  },
  {
   "cell_type": "code",
   "execution_count": 0,
   "metadata": {
    "colab": {},
    "colab_type": "code",
    "id": "Rrt0umvH-5Kz"
   },
   "outputs": [],
   "source": [
    "class pai:\n",
    "    def __init__(self):\n",
    "        print('classe pai')\n",
    "    def função_pai(self):\n",
    "        print('função pai')\n",
    "\n",
    "class mãe:\n",
    "    def __init__(self):\n",
    "        print('classe mãe')\n",
    "    def função_mãe(self):\n",
    "        print('função mãe')\n",
    "\n",
    "class filha(pai,mãe):\n",
    "    def __init__(self):\n",
    "        print('classe filha')\n",
    "        pai.__init__(self)\n",
    "        mãe.__init__(self)\n",
    "        #com super().__init__() ele herdaria os atributos somente de primeira classe."
   ]
  },
  {
   "cell_type": "code",
   "execution_count": 0,
   "metadata": {
    "colab": {
     "base_uri": "https://localhost:8080/",
     "height": 88
    },
    "colab_type": "code",
    "id": "puJYAE7f-5K2",
    "outputId": "05529d61-d9ce-4ed0-987a-952d0209af11"
   },
   "outputs": [
    {
     "name": "stdout",
     "output_type": "stream",
     "text": [
      "classe filha\n",
      "classe pai\n",
      "classe mãe\n"
     ]
    }
   ],
   "source": [
    "f = filha()"
   ]
  },
  {
   "cell_type": "code",
   "execution_count": 0,
   "metadata": {
    "colab": {
     "base_uri": "https://localhost:8080/",
     "height": 54
    },
    "colab_type": "code",
    "id": "2_5Bu8vU-5K-",
    "outputId": "531096a6-bb65-430f-fd82-b3389738dd7b"
   },
   "outputs": [
    {
     "name": "stdout",
     "output_type": "stream",
     "text": [
      "função pai\n"
     ]
    }
   ],
   "source": [
    "f.função_pai()"
   ]
  },
  {
   "cell_type": "code",
   "execution_count": 0,
   "metadata": {
    "colab": {
     "base_uri": "https://localhost:8080/",
     "height": 54
    },
    "colab_type": "code",
    "id": "pbjurUQa-5LB",
    "outputId": "b05028da-0e13-42ba-f3c3-54526b1ed936"
   },
   "outputs": [
    {
     "name": "stdout",
     "output_type": "stream",
     "text": [
      "função mãe\n"
     ]
    }
   ],
   "source": [
    "f.função_mãe()"
   ]
  },
  {
   "cell_type": "markdown",
   "metadata": {
    "colab_type": "text",
    "id": "8WtdOI8o-5LE"
   },
   "source": [
    "### **8.2.4 Herança com superposição**\n",
    "\n",
    "Aqui teremos uma classe filha substituindo um método da classe pai."
   ]
  },
  {
   "cell_type": "code",
   "execution_count": 0,
   "metadata": {
    "colab": {},
    "colab_type": "code",
    "id": "tMoi5eQe-5LG"
   },
   "outputs": [],
   "source": [
    "class pai:\n",
    "    def __init__(self):\n",
    "        print('classe pai')\n",
    "    def função_pai(self):\n",
    "        print('função pai')\n",
    "    def teste_de_superposição(self):\n",
    "        print('teste pai')\n",
    "        \n",
    "# Coloque o mesmo nome para a função em questão, tanto na classe pai como na filha.\n",
    "class filha(pai):\n",
    "    def __init__(self):\n",
    "        print('classe filha')\n",
    "    def teste_de_superposição(self):\n",
    "        print('teste filha')"
   ]
  },
  {
   "cell_type": "code",
   "execution_count": 0,
   "metadata": {
    "colab": {
     "base_uri": "https://localhost:8080/",
     "height": 34
    },
    "colab_type": "code",
    "id": "WCv6PTCK-5LM",
    "outputId": "d77fa65f-5ca1-48da-dfb9-25ba08fe3f14"
   },
   "outputs": [
    {
     "name": "stdout",
     "output_type": "stream",
     "text": [
      "classe pai\n"
     ]
    }
   ],
   "source": [
    "p = pai()"
   ]
  },
  {
   "cell_type": "code",
   "execution_count": 0,
   "metadata": {
    "colab": {
     "base_uri": "https://localhost:8080/",
     "height": 34
    },
    "colab_type": "code",
    "id": "Rhi5f-Xx-5LP",
    "outputId": "95d902c1-1331-44fc-82e7-183bcf7a0024"
   },
   "outputs": [
    {
     "name": "stdout",
     "output_type": "stream",
     "text": [
      "classe filha\n"
     ]
    }
   ],
   "source": [
    "f = filha()"
   ]
  },
  {
   "cell_type": "code",
   "execution_count": 0,
   "metadata": {
    "colab": {
     "base_uri": "https://localhost:8080/",
     "height": 34
    },
    "colab_type": "code",
    "id": "jzjmkXM1-5LR",
    "outputId": "f5a634a0-af21-4c07-e3c9-9d26a964e641"
   },
   "outputs": [
    {
     "name": "stdout",
     "output_type": "stream",
     "text": [
      "função pai\n"
     ]
    }
   ],
   "source": [
    "p.função_pai()"
   ]
  },
  {
   "cell_type": "code",
   "execution_count": 0,
   "metadata": {
    "colab": {
     "base_uri": "https://localhost:8080/",
     "height": 34
    },
    "colab_type": "code",
    "id": "97ApAcLP-5LV",
    "outputId": "90c248a2-a392-4368-922e-a1cc2c75b3ed"
   },
   "outputs": [
    {
     "name": "stdout",
     "output_type": "stream",
     "text": [
      "teste pai\n"
     ]
    }
   ],
   "source": [
    "p.teste_de_superposição()"
   ]
  },
  {
   "cell_type": "code",
   "execution_count": 0,
   "metadata": {
    "colab": {
     "base_uri": "https://localhost:8080/",
     "height": 34
    },
    "colab_type": "code",
    "id": "vdJy9Lzx-5LZ",
    "outputId": "03cb4900-09f6-496c-b6e7-6a3981a4f374"
   },
   "outputs": [
    {
     "name": "stdout",
     "output_type": "stream",
     "text": [
      "função pai\n"
     ]
    }
   ],
   "source": [
    "f.função_pai()"
   ]
  },
  {
   "cell_type": "code",
   "execution_count": 0,
   "metadata": {
    "colab": {
     "base_uri": "https://localhost:8080/",
     "height": 34
    },
    "colab_type": "code",
    "id": "BXCFaZ_z-5Ld",
    "outputId": "a1498817-da3d-4337-eb21-245efcf4162f",
    "scrolled": true
   },
   "outputs": [
    {
     "name": "stdout",
     "output_type": "stream",
     "text": [
      "teste filha\n"
     ]
    }
   ],
   "source": [
    "# Note que agora a função mesmo existindo na classe pai, não exibe o print que se encontra lá.\n",
    "f.teste_de_superposição()"
   ]
  }
 ],
 "metadata": {
  "colab": {
   "include_colab_link": true,
   "name": "Apostila Python.ipynb",
   "provenance": [],
   "version": "0.3.2"
  },
  "kernelspec": {
   "display_name": "Python 3",
   "language": "python",
   "name": "python3"
  },
  "language_info": {
   "codemirror_mode": {
    "name": "ipython",
    "version": 3
   },
   "file_extension": ".py",
   "mimetype": "text/x-python",
   "name": "python",
   "nbconvert_exporter": "python",
   "pygments_lexer": "ipython3",
   "version": "3.6.8"
  }
 },
 "nbformat": 4,
 "nbformat_minor": 1
}
