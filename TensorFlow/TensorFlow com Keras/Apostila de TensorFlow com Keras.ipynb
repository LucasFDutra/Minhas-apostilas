{
 "cells": [
  {
   "cell_type": "markdown",
   "metadata": {},
   "source": [
    "# Apostila de TensorFlow com Keras\n",
    "\n",
    "Autor: Lucas Felipe Dutra\n",
    "\n",
    "# Sumário\n",
    "\n",
    "- [**0. LINKS ÚTEIS**](#0-links-úteis)\n",
    "- [**1. INTRODUÇÃO**](#1-introdução)\n",
    "  - [1.1 AVISOS](#11-avisos)\n",
    "- [**2. CONSTRUINDO UM MODELO**](#2-construindo-um-modelo)\n",
    "  - [2.1 MODELO SEQUENCIAL](#21-modelo-sequencial)\n",
    "    - [2.1.1 Configuração do layer](#211-configuração-do-layer)\n",
    "- [**3. CONFIGURANDO E TREINANDO UM MODELO**](#3-configurando-e-treinando-um-modelo)\n",
    "  - [3.1 CONFIGURANDO O TREINAMENTO](#31-configurando-o-treinamento)\n",
    "  - [3.2 TREINANDO O MODELO](#32-treinando-o-modelo)\n",
    "- [**4. AVALIANDO UM MODELO**](#4-avaliando-um-modelo)\n",
    "- [**5. EFETUANDO PREVISÕES COM O MODELO GERADO**](#5-efetuando-previsões-com-o-modelo-gerado)\n",
    "- [**6. CONSTRUINDO MODELOS AVANÇADOS**](#6-construindo-modelos-avançados)\n",
    "- [**7. CALLBACK**](#7-callback)\n",
    "- [**8. SALVANDO E UTILIZANDO UM MODELO**](#8-salvando-e-utilizando-um-modelo)\n",
    "    - [8.1 MÉTODO 1](#81-método-1)\n",
    "    - [8.1 MÉTODO 2](#82-método-2)\n",
    "- [**DICIONÁRIO**](#dicionário)\n",
    "    \n",
    "\n",
    "# 0. LINKS ÚTEIS\n",
    "\n",
    "---\n",
    "- Documentação\n",
    "    - [TensorFlow](https://www.tensorflow.org/api_docs/python/)\n",
    "    - [Keras](https://keras.io/)\n",
    "---\n",
    "- Complementos\n",
    "    - [Get Started with TensorFlow](https://www.tensorflow.org/tutorials/)\n",
    "    - [TensorFlow com Keras](https://www.tensorflow.org/guide/keras)\n",
    "---    \n",
    "    \n",
    "# 1. INTRODUÇÃO\n",
    "\n",
    "O Keras servirá como uma api de alto nível para utilização do TensorFlow, tornando assim mais fácil a sua utilização, vamos ver um exemplo de construção de uma rede neural que fará a classificação de dígitos manuscritos com uma precisão de +/- 98%\n",
    "\n",
    "---\n",
    "- **Base de Dados**:\n",
    "    - Mnist\n",
    "---\n",
    "\n",
    "```python\n",
    "#------------------------------Biblioteca-------------------------------------#\n",
    "import tensorflow as tf\n",
    "\n",
    "#--------------------------Adicionando base de dados--------------------------#\n",
    "mnist = tf.keras.datasets.mnist\n",
    "\n",
    "#---------------------Dividindo entre treinamento e teste---------------------#\n",
    "(x_train, y_train),(x_test, y_test) = mnist.load_data()\n",
    "\n",
    "#-----------------------------Passando para float-----------------------------#\n",
    "x_train, x_test = x_train / 255.0, x_test / 255.0\n",
    "\n",
    "#------------------Criando um modelo de forma sequencial----------------------#\n",
    "# Sequencial: o que for declarado primeiro é a camada de entrada, o que for   #\n",
    "# declarado depois será a primeira camada escondida, e assim por diante.      #\n",
    "#-----------------------------------------------------------------------------#\n",
    "model = tf.keras.models.Sequential([\n",
    "  tf.keras.layers.Flatten(input_shape=(28, 28)), # Entrada\n",
    "  tf.keras.layers.Dense(512, activation=tf.nn.relu), # 1ª camada escondida\n",
    "  tf.keras.layers.Dropout(0.2), # Camada de dropout\n",
    "  tf.keras.layers.Dense(10, activation=tf.nn.softmax) # Camada de saída\n",
    "])\n",
    "\n",
    "#----------------Configurando o modelo para o treinamento---------------------#\n",
    "model.compile(optimizer='adam',\n",
    "              loss='sparse_categorical_crossentropy',\n",
    "              metrics=['accuracy'])\n",
    "\n",
    "#-----------------------Treinando o modelo por 5 epocas-----------------------#\n",
    "model.fit(x_train, y_train, epochs=5)\n",
    "\n",
    "#-----------------------------Avaliando o modelo------------------------------#\n",
    "perdas, precisao = model.evaluate(x_test, y_test)\n",
    "print(f'perdas: {perdas}')\n",
    "print(f'precisao: {precisao}')\n",
    "```\n",
    "\n",
    ">  OBS.: Não se preocupe se não entendeu nada do que foi utilizado, tudo será explicado.\n",
    "\n",
    "## 1.1 AVISOS\n",
    "\n",
    "- Clique em todos os links, eles estão ai para ajudar.\n",
    "\n",
    "- A inserção e tratamento de dados foi um tema abordado na Apostila de Machine Learning que está disponível [Aqui](https://github.com/LucasFDutra/Estudos/tree/master/Machine%20Learning/Apostila%20de%20Machine%20Learning).\n",
    "\n",
    "\n",
    "# 2. CONSTRUINDO UM MODELO\n",
    "\n",
    "## 2.1 MODELO SEQUENCIAL\n",
    "\n",
    "Para construir um modelo de rede neural com o keras é muito simples, vamos construir uma rede neural densa com a seguinte estrutura:\n",
    "\n",
    "- 64 neurônios de entrada.\n",
    "    - função de ativação relu.\n",
    "- 64 neurônios na primeira camada oculta.\n",
    "    - função de ativação relu.\n",
    "- 10 neurônios na camada de saída.\n",
    "    - função de ativação softmax.\n",
    "---\n",
    "- Veja o que são:\n",
    "    - [Camada densa](#Camada-densa)\n",
    "    - [Função de ativação](#Função-de-ativação)\n",
    "---\n",
    "1º. Importaremos a biblioteca do [tensorflow](https://www.tensorflow.org/api_docs/python/) e a classe de [layers](https://www.tensorflow.org/api_docs/python/tf/keras/layers) para definirmos os tipos de layers."
   ]
  },
  {
   "cell_type": "code",
   "execution_count": 1,
   "metadata": {},
   "outputs": [],
   "source": [
    "import tensorflow as tf\n",
    "from tensorflow.keras import layers"
   ]
  },
  {
   "cell_type": "markdown",
   "metadata": {},
   "source": [
    "2º. Vamos criar um modelo [sequencial](https://www.tensorflow.org/api_docs/python/tf/keras/models/Sequential) para receber os layers."
   ]
  },
  {
   "cell_type": "code",
   "execution_count": 2,
   "metadata": {},
   "outputs": [],
   "source": [
    "model = tf.keras.Sequential()"
   ]
  },
  {
   "cell_type": "markdown",
   "metadata": {},
   "source": [
    "3º. Vamos [adicionar](https://www.tensorflow.org/api_docs/python/tf/keras/models/Sequential#add) as camadas"
   ]
  },
  {
   "cell_type": "code",
   "execution_count": 3,
   "metadata": {},
   "outputs": [],
   "source": [
    "# Adicionando a camada de entrada\n",
    "model.add(layers.Dense(64, activation='relu'))\n",
    "\n",
    "# Adicionando a primeira camada oculta\n",
    "model.add(layers.Dense(64, activation='relu'))\n",
    "\n",
    "# Adicionando a camada de saída\n",
    "model.add(layers.Dense(10, activation='softmax'))"
   ]
  },
  {
   "cell_type": "markdown",
   "metadata": {},
   "source": [
    "## 2.1.1 Configuração do layer\n",
    "\n",
    "Além de utilizar o número de neurônios que a rede terá, e a função de ativação, também pode-se utilizar dois parâmetros interessantes, são eles: regularizadores e inicializadores. \n",
    "\n",
    "---\n",
    "- Veja o que são:\n",
    "    - [Regularizadores](#Regularizadores)\n",
    "    - [Inicializadores](#Inicializadores)\n",
    "    - [Bias](#Bias)\n",
    "---\n",
    "\n",
    "Para tal utilize os comandos `kernel_regularizer`, `bias_regularizer`, `kernel_initializer` e `bias_initializer`.\n",
    "\n",
    "---\n",
    "```python\n",
    "# Criando uma camada com regularizador L1 com fator de 0.01 aplicado na matriz de kernel\n",
    "layers.Dense(64, kernel_regularizer=tf.keras.regularizers.l1(0.01))\n",
    "\n",
    "# Criando uma camada com regularizador L2 com fator de 0.01 aplicado no vetor de bias\n",
    "layers.Dense(64, bias_regularizer=tf.keras.regularizers.l2(0.01))\n",
    "\n",
    "# Uma camada inicializada com kernel ortogonal\n",
    "layers.Dense(64, kernel_initializer='orthogonal')\n",
    "\n",
    "# Inicializa o bias da camada com o valor 2\n",
    "layers.Dense(64, bias_initializer=tf.keras.initializers.constant(2.0))\n",
    "```\n",
    "---\n",
    "\n",
    "# 3. CONFIGURANDO E TREINANDO UM MODELO\n",
    "\n",
    "## 3.1 CONFIGURANDO O TREINAMENTO\n",
    "\n",
    "Para que o modelo seja treinado primeiro precisa-se configurar o como ele será treinado. Para isso utiliza-se o comando [compile](https://www.tensorflow.org/api_docs/python/tf/keras/models/Model#compile).\n",
    "\n",
    "- Dentre os argumentos da classe temos como principais:\n",
    "    - [Optimizer](#Optimizer)\n",
    "    - [Loss](#Loss)\n",
    "    - [Metrics](#Metrics)\n",
    "\n",
    "> Para ver o que é cada um dos argumentos acesse a documentação [aqui](https://www.tensorflow.org/api_docs/python/tf/keras/models/Model#compile).\n",
    "\n",
    "---\n",
    "- Veja o que é: \n",
    "    - [Learning rate](#Learning-rate)\n",
    "---    \n",
    "    \n",
    "- Configurações do modelo:\n",
    "    - Otimizador: Adam com learning rate igual a 0.01\n",
    "    - Loss: Erro quadrático médio\n",
    "    - Métrica: Erro médio absoluto"
   ]
  },
  {
   "cell_type": "code",
   "execution_count": 4,
   "metadata": {},
   "outputs": [],
   "source": [
    "# Configurando o modelo\n",
    "model.compile(optimizer=tf.keras.optimizers.Adam(lr=0.01),\n",
    "             loss = tf.keras.losses.mse,\n",
    "             metrics = [tf.keras.metrics.mae]) # necessita de colocar []"
   ]
  },
  {
   "cell_type": "markdown",
   "metadata": {},
   "source": [
    "> Existem outros métodos de se fazer isso, utilizando outras classes do tensorflow, uma outra opções é a que foi mostrada na introdução, porém colocando o otimizador daquela maneira não tem como configurar o learning rate.\n",
    "\n",
    "## 3.2 TREINANDO O MODELO\n",
    "\n",
    "Para efetuar o treinamento de um modelo precisamos primeiramente dos dados para serem utilizados, para isso vamos gerar dados randomicamente com o numpy apenas para inserirmos no modelo.\n",
    "\n",
    "> Como a rede projetada anteriormente continha 64 entradas e 10 saídas (o que indica 10 classes diferentes) as entradas também precisão conter essa quantidade de dados.\n",
    "\n",
    "> Como um treinamento para redes neurais necessita de uma base de treinamento e uma de teste, já criarei ambas"
   ]
  },
  {
   "cell_type": "code",
   "execution_count": 5,
   "metadata": {},
   "outputs": [],
   "source": [
    "import numpy as np\n",
    "\n",
    "x_treinamento = np.random.random((1000, 64))\n",
    "y_treinamento = np.random.random((1000, 10))\n",
    "\n",
    "x_teste = np.random.random((100,64))\n",
    "y_teste = np.random.random((100,10))"
   ]
  },
  {
   "cell_type": "markdown",
   "metadata": {},
   "source": [
    "Agora é possível efetuar o treinamento. Para tal utiliza-se o comando [fit](https://www.tensorflow.org/api_docs/python/tf/keras/models/Model#fit).\n",
    "\n",
    "- O comando fit deve receber inúmeros atributos, porém os mais relevantes são:\n",
    "    - X\n",
    "    - Y\n",
    "    - epochs\n",
    "    - batch_size (default = 32)\n",
    "---\n",
    "- Veja o que são:\n",
    "    - [Atributos](#Atributos)\n",
    "    - [Registros](#Registros)\n",
    "    - [Classes](#Classes)\n",
    "    - [Epochs](#Epochs)\n",
    "    - [Batch size](#Batch-size)\n",
    "---\n",
    "> Um atributo não essencial porém em casos de muitas épocas é o verbose, por padrão ele vem igual a 1, o que permite a saída das barras de progresso durante o treinamento, caso coloque verbose=0 isso impedira que as barras apareçam diminuindo a poluição visual."
   ]
  },
  {
   "cell_type": "code",
   "execution_count": 6,
   "metadata": {},
   "outputs": [
    {
     "name": "stdout",
     "output_type": "stream",
     "text": [
      "Epoch 1/10\n",
      "1000/1000 [==============================] - 0s 298us/step - loss: 0.2428 - mean_absolute_error: 0.4101\n",
      "Epoch 2/10\n",
      "1000/1000 [==============================] - 0s 54us/step - loss: 0.2421 - mean_absolute_error: 0.4096\n",
      "Epoch 3/10\n",
      "1000/1000 [==============================] - 0s 57us/step - loss: 0.2421 - mean_absolute_error: 0.4096\n",
      "Epoch 4/10\n",
      "1000/1000 [==============================] - 0s 48us/step - loss: 0.2419 - mean_absolute_error: 0.4095\n",
      "Epoch 5/10\n",
      "1000/1000 [==============================] - 0s 52us/step - loss: 0.2419 - mean_absolute_error: 0.4096\n",
      "Epoch 6/10\n",
      "1000/1000 [==============================] - 0s 49us/step - loss: 0.2417 - mean_absolute_error: 0.4096\n",
      "Epoch 7/10\n",
      "1000/1000 [==============================] - 0s 56us/step - loss: 0.2417 - mean_absolute_error: 0.4096\n",
      "Epoch 8/10\n",
      "1000/1000 [==============================] - 0s 64us/step - loss: 0.2412 - mean_absolute_error: 0.4094\n",
      "Epoch 9/10\n",
      "1000/1000 [==============================] - 0s 62us/step - loss: 0.2410 - mean_absolute_error: 0.4095\n",
      "Epoch 10/10\n",
      "1000/1000 [==============================] - 0s 49us/step - loss: 0.2411 - mean_absolute_error: 0.4095\n"
     ]
    },
    {
     "data": {
      "text/plain": [
       "<tensorflow.python.keras.callbacks.History at 0x7f61b4d7a2b0>"
      ]
     },
     "execution_count": 6,
     "metadata": {},
     "output_type": "execute_result"
    }
   ],
   "source": [
    "model.fit(x=x_treinamento, y=y_treinamento, epochs=10, batch_size=32)"
   ]
  },
  {
   "cell_type": "markdown",
   "metadata": {},
   "source": [
    "# 4. AVALIANDO UM MODELO\n",
    "\n",
    "Após efetuar o treinamento de um modelo, deve-se testá-lo para ver sua precisão. Através da classe [evaluate](https://www.tensorflow.org/api_docs/python/tf/keras/models/Model#evaluate) isso é possível.\n",
    "\n",
    "- Principais atributos:\n",
    "    - X\n",
    "    - Y\n",
    "    - batch_size (default = 32)"
   ]
  },
  {
   "cell_type": "code",
   "execution_count": 7,
   "metadata": {},
   "outputs": [
    {
     "name": "stdout",
     "output_type": "stream",
     "text": [
      "100/100 [==============================] - 0s 668us/step\n"
     ]
    },
    {
     "data": {
      "text/plain": [
       "[0.25475119352340697, 0.42287201642990113]"
      ]
     },
     "execution_count": 7,
     "metadata": {},
     "output_type": "execute_result"
    }
   ],
   "source": [
    "model.evaluate(x=x_teste, y=y_teste, batch_size=32)"
   ]
  },
  {
   "cell_type": "markdown",
   "metadata": {},
   "source": [
    "> Esse teste nos diz que o modelo teve uma precisão horrível, que é pior do que jogar no cara ou coroa, visto que assim teríamos 50% de chance de acertar. Porém isso já era esperado, visto que temos uma base de dados toda gerada aleatoriamente sem nenhum nexo."
   ]
  },
  {
   "cell_type": "markdown",
   "metadata": {},
   "source": [
    "# 5. EFETUANDO PREVISÕES COM O MODELO GERADO\n",
    "\n",
    "Para efetuar a previsão de novos registros utiliza-se o comando [predict](https://www.tensorflow.org/api_docs/python/tf/keras/models/Model#predict)\n",
    "\n",
    "- Principais atributos:\n",
    "    - X\n",
    "    - batch_size (default = 32)"
   ]
  },
  {
   "cell_type": "code",
   "execution_count": 8,
   "metadata": {
    "scrolled": true
   },
   "outputs": [
    {
     "data": {
      "text/plain": [
       "(100, 10)"
      ]
     },
     "execution_count": 8,
     "metadata": {},
     "output_type": "execute_result"
    }
   ],
   "source": [
    "previsoes = model.predict(x=x_teste, batch_size=32)\n",
    "previsoes.shape # dimensão de previsoes"
   ]
  },
  {
   "cell_type": "markdown",
   "metadata": {},
   "source": [
    "# 6. CONSTRUINDO MODELOS AVANÇADOS\n",
    "\n",
    "Um modelo sequencial se trata de um modelo com layers em sequência. Porém também é possível construir modelos mais livres, como por exemplo:\n",
    "- Um modelo com múltiplos modelos.\n",
    "- Esses modelos compartilham um mesmo layer\n",
    "\n",
    "Para criar esses novos modelos utilizaremos a classe [model](https://www.tensorflow.org/api_docs/python/tf/keras/models/Model). \n",
    "\n",
    "Porém deve-se entender que como não é um modelo sequencial a camada de entra deve ser inserida de forma diferente, utilizando a classe [input](https://www.tensorflow.org/api_docs/python/tf/keras/layers/Input) que precisa receber como argumento o número de neurônios que necessitará."
   ]
  },
  {
   "cell_type": "code",
   "execution_count": 9,
   "metadata": {},
   "outputs": [],
   "source": [
    "inputs = tf.keras.Input(shape=(64,))  # Retorna um tensor placeholder para\n",
    "# o shape deve possuir esse formato de (x,) pois isso indica um vetor (nesse caso tupla) de x posições"
   ]
  },
  {
   "cell_type": "markdown",
   "metadata": {},
   "source": [
    "Agora vamos criar as camadas e conectá-las conforme necessário."
   ]
  },
  {
   "cell_type": "code",
   "execution_count": 10,
   "metadata": {},
   "outputs": [],
   "source": [
    "# Criando os layers\n",
    "x = layers.Dense(64, activation='relu')(inputs)\n",
    "x = layers.Dense(64, activation='relu')(x)\n",
    "saida = layers.Dense(10, activation='softmax')(x)"
   ]
  },
  {
   "cell_type": "markdown",
   "metadata": {},
   "source": [
    "> Veja que diferentemente dos exemplos anteriores não foi utilizado o comando `add`, agora foi preciso colocar `layers.Dense(neuronios, função de ativação)(ligação anterior)` ou seja, com esse tipo de construção pode-se montar a configuração que desejar, inclusive um modelo sequencial como foi feito agora.\n",
    "\n",
    "Agora para definirmos o modelo em sí utiliza-se a classe [model](https://www.tensorflow.org/api_docs/python/tf/keras/models/Model), que precisa como argumentos qual é o input e qual o output da rede."
   ]
  },
  {
   "cell_type": "code",
   "execution_count": 11,
   "metadata": {},
   "outputs": [],
   "source": [
    "model = tf.keras.Model(inputs=inputs, outputs=saida)"
   ]
  },
  {
   "cell_type": "markdown",
   "metadata": {},
   "source": [
    "A configuração dos parâmetros de treinamento e o treinamento em si são feitos da mesma forma que para uma rede sequencial."
   ]
  },
  {
   "cell_type": "code",
   "execution_count": 12,
   "metadata": {},
   "outputs": [
    {
     "name": "stdout",
     "output_type": "stream",
     "text": [
      "Epoch 1/5\n",
      "1000/1000 [==============================] - 0s 291us/step - loss: 11.5523 - acc: 0.0960\n",
      "Epoch 2/5\n",
      "1000/1000 [==============================] - 0s 53us/step - loss: 11.5216 - acc: 0.1110\n",
      "Epoch 3/5\n",
      "1000/1000 [==============================] - 0s 53us/step - loss: 11.5105 - acc: 0.1270\n",
      "Epoch 4/5\n",
      "1000/1000 [==============================] - 0s 55us/step - loss: 11.5019 - acc: 0.1410\n",
      "Epoch 5/5\n",
      "1000/1000 [==============================] - 0s 56us/step - loss: 11.4956 - acc: 0.1500\n"
     ]
    },
    {
     "data": {
      "text/plain": [
       "<tensorflow.python.keras.callbacks.History at 0x7f61ac792c88>"
      ]
     },
     "execution_count": 12,
     "metadata": {},
     "output_type": "execute_result"
    }
   ],
   "source": [
    "model.compile(optimizer=tf.keras.optimizers.RMSprop(0.001),\n",
    "             loss=tf.keras.losses.categorical_crossentropy,\n",
    "             metrics=['accuracy'])\n",
    "\n",
    "model.fit(x_treinamento, y_treinamento, batch_size=32, epochs=5)"
   ]
  },
  {
   "cell_type": "markdown",
   "metadata": {},
   "source": [
    "# 7. CALLBACK\n",
    "\n",
    "Um callback é um atributo que fica dentro da função fit, que serve para efetuar ações no meio do processo de treinamento, por exemplo:\n",
    "- Salvar o modelo em intervalos regulares\n",
    "- Mudar o learning rate dinamicamente\n",
    "- Interromper o treinamento caso o modelo não esteja mais melhorando\n",
    "\n",
    "Para ver quais já existem olhe na [Documentação](https://www.tensorflow.org/api_docs/python/tf/keras/callbacks).\n",
    "\n",
    "Para utilizar um callback basta inserir ele como atributo no fit:\n",
    "```python\n",
    "model.fit(x, y, batch_size=32, epochs=5, callbacks=tf.keras.callbacks.ModelCheckpoint)\n",
    "```\n",
    "\n",
    "> Caso queira criar um callback próprio é possível, porém o que deve ser inserido como argumento do método fit é uma lista\n",
    "\n",
    "# 8. SALVANDO E UTILIZANDO UM MODELO\n",
    "\n",
    "## 8.1 MÉTODO 1\n",
    "\n",
    "Quando falamos de salvar um modelo estamos falando de salvar a matriz de pesos que foi gerada durante o treinamento. Para fazer isso utiliza-se a classe [save_weights](https://www.tensorflow.org/api_docs/python/tf/keras/models/Model#save_weights). Vamos utilizar os dois exemplos de modelos, o sequencial e o avançado para poder mostrar como deve ser feito.\n",
    "\n",
    "> Observe as duas previsões que serão executadas a no código logo em seguida do treinamento, e a após carregar os pesos. Veja que darão a mesma coisa, provando que o método funciona."
   ]
  },
  {
   "cell_type": "code",
   "execution_count": 13,
   "metadata": {},
   "outputs": [
    {
     "name": "stdout",
     "output_type": "stream",
     "text": [
      "Epoch 1/10\n",
      "1000/1000 [==============================] - 0s 377us/step - loss: 0.2420 - mean_absolute_error: 0.4092\n",
      "Epoch 2/10\n",
      "1000/1000 [==============================] - 0s 51us/step - loss: 0.2418 - mean_absolute_error: 0.4092\n",
      "Epoch 3/10\n",
      "1000/1000 [==============================] - 0s 49us/step - loss: 0.2418 - mean_absolute_error: 0.4092\n",
      "Epoch 4/10\n",
      "1000/1000 [==============================] - 0s 49us/step - loss: 0.2418 - mean_absolute_error: 0.4092\n",
      "Epoch 5/10\n",
      "1000/1000 [==============================] - 0s 47us/step - loss: 0.2417 - mean_absolute_error: 0.4092\n",
      "Epoch 6/10\n",
      "1000/1000 [==============================] - 0s 70us/step - loss: 0.2417 - mean_absolute_error: 0.4093\n",
      "Epoch 7/10\n",
      "1000/1000 [==============================] - 0s 46us/step - loss: 0.2417 - mean_absolute_error: 0.4092\n",
      "Epoch 8/10\n",
      "1000/1000 [==============================] - 0s 52us/step - loss: 0.2416 - mean_absolute_error: 0.4092\n",
      "Epoch 9/10\n",
      "1000/1000 [==============================] - 0s 45us/step - loss: 0.2416 - mean_absolute_error: 0.4092\n",
      "Epoch 10/10\n",
      "1000/1000 [==============================] - 0s 55us/step - loss: 0.2416 - mean_absolute_error: 0.4093\n",
      "WARNING:tensorflow:This model was compiled with a Keras optimizer (<tensorflow.python.keras.optimizers.Adam object at 0x7f61ac3b6518>) but is being saved in TensorFlow format with `save_weights`. The model's weights will be saved, but unlike with TensorFlow optimizers in the TensorFlow format the optimizer's state will not be saved.\n",
      "\n",
      "Consider using a TensorFlow optimizer from `tf.train`.\n",
      "[[0.09508765 0.11251057 0.17237665 0.10901286 0.05895242 0.07195746\n",
      "  0.13428375 0.07029727 0.12743737 0.04808401]]\n"
     ]
    }
   ],
   "source": [
    "import tensorflow as tf\n",
    "from tensorflow.keras import layers\n",
    "import numpy as np\n",
    "\n",
    "# Gerando valores para o treinamento\n",
    "x_treinamento = np.random.random((1000, 3))\n",
    "y_treinamento = np.random.random((1000, 10))\n",
    "\n",
    "# Definindo valores para teste\n",
    "x = np.array([[1,2,3]])\n",
    "\n",
    "# Definindo um modelo sequêncial\n",
    "model = tf.keras.Sequential()\n",
    "\n",
    "# Adicionando a camada de entrada\n",
    "model.add(layers.Dense(3, activation='relu'))\n",
    "\n",
    "# Adicionando a primeira camada oculta\n",
    "model.add(layers.Dense(64, activation='relu'))\n",
    "\n",
    "# Adicionando a camada de saída\n",
    "model.add(layers.Dense(10, activation='softmax'))\n",
    "\n",
    "# Configurando o modelo\n",
    "model.compile(optimizer=tf.keras.optimizers.Adam(lr=0.01),\n",
    "             loss = tf.keras.losses.mse,\n",
    "             metrics = [tf.keras.metrics.mae]) # necessita de colocar []\n",
    "\n",
    "# Efetuando o treinamento\n",
    "model.fit(x=x_treinamento, y=y_treinamento, epochs=10, batch_size=32)\n",
    "\n",
    "# Efetuando uma previsão\n",
    "previsoes = model.predict(x)\n",
    "\n",
    "# salva os pesos em um tensor\n",
    "model.save_weights('./weights/my_model_1')\n",
    "\n",
    "# Exibindo as previsões\n",
    "print(previsoes)"
   ]
  },
  {
   "cell_type": "markdown",
   "metadata": {},
   "source": [
    "Agora vamos carregar o modelo. Para isso é necessário primeiramente definir o modelo idêntico ao original."
   ]
  },
  {
   "cell_type": "code",
   "execution_count": 14,
   "metadata": {},
   "outputs": [
    {
     "name": "stdout",
     "output_type": "stream",
     "text": [
      "[[0.09508765 0.11251057 0.17237665 0.10901286 0.05895242 0.07195746\n",
      "  0.13428375 0.07029727 0.12743737 0.04808401]]\n"
     ]
    }
   ],
   "source": [
    "import tensorflow as tf\n",
    "from tensorflow.keras import layers\n",
    "import numpy as np\n",
    "\n",
    "# Definindo um modelo sequêncial\n",
    "model = tf.keras.Sequential()\n",
    "\n",
    "# Adicionando a camada de entrada\n",
    "model.add(layers.Dense(3, activation='relu'))\n",
    "\n",
    "# Adicionando a primeira camada oculta\n",
    "model.add(layers.Dense(64, activation='relu'))\n",
    "\n",
    "# Adicionando a camada de saída\n",
    "model.add(layers.Dense(10, activation='softmax'))\n",
    "\n",
    "# Carregando os pesos\n",
    "model.load_weights('./weights/my_model_1')\n",
    "\n",
    "# Definindo valores para teste\n",
    "x = np.array([[1,2,3]])\n",
    "\n",
    "# efetuando previsão com os pesos carregados\n",
    "previsoes = model.predict(x)\n",
    "\n",
    "# Exibindo as previsões\n",
    "print(previsoes)"
   ]
  },
  {
   "cell_type": "markdown",
   "metadata": {},
   "source": [
    "Agora vamos para o exemplo de uma rede avançada."
   ]
  },
  {
   "cell_type": "code",
   "execution_count": 15,
   "metadata": {},
   "outputs": [
    {
     "name": "stdout",
     "output_type": "stream",
     "text": [
      "Epoch 1/5\n",
      "1000/1000 [==============================] - 0s 387us/step - loss: 11.3351 - acc: 0.1040\n",
      "Epoch 2/5\n",
      "1000/1000 [==============================] - 0s 54us/step - loss: 11.3311 - acc: 0.0990\n",
      "Epoch 3/5\n",
      "1000/1000 [==============================] - 0s 52us/step - loss: 11.3302 - acc: 0.1050\n",
      "Epoch 4/5\n",
      "1000/1000 [==============================] - 0s 55us/step - loss: 11.3290 - acc: 0.1150\n",
      "Epoch 5/5\n",
      "1000/1000 [==============================] - 0s 62us/step - loss: 11.3292 - acc: 0.1010\n",
      "WARNING:tensorflow:This model was compiled with a Keras optimizer (<tensorflow.python.keras.optimizers.RMSprop object at 0x7f61ac7c46a0>) but is being saved in TensorFlow format with `save_weights`. The model's weights will be saved, but unlike with TensorFlow optimizers in the TensorFlow format the optimizer's state will not be saved.\n",
      "\n",
      "Consider using a TensorFlow optimizer from `tf.train`.\n",
      "[[0.08622181 0.12789644 0.08234761 0.08800462 0.10584033 0.10083069\n",
      "  0.12122465 0.08486897 0.08694174 0.11582315]]\n"
     ]
    }
   ],
   "source": [
    "import tensorflow as tf\n",
    "from tensorflow.keras import layers\n",
    "import numpy as np\n",
    "\n",
    "# Gerando valores para o treinamento\n",
    "x_treinamento = np.random.random((1000, 3))\n",
    "y_treinamento = np.random.random((1000, 10))\n",
    "\n",
    "# Definindo valores para teste\n",
    "teste = np.array([[1,2,3]])\n",
    "\n",
    "# Criando uma camada para receber os valores de entrada\n",
    "inputs = tf.keras.Input(shape=(3,))\n",
    "\n",
    "# Criando uma camada densa X ligada a inputs\n",
    "x = layers.Dense(64, activation='relu')(inputs)\n",
    "\n",
    "# Criando outra camada densa x ligada ao x anterior\n",
    "x = layers.Dense(64, activation='relu')(x)\n",
    "\n",
    "# Criando a camada de saída ligada a camada x\n",
    "saida = layers.Dense(10, activation='softmax')(x)\n",
    "\n",
    "# Construindo o modelo\n",
    "model = tf.keras.Model(inputs=inputs, outputs=saida)\n",
    "\n",
    "# Configurando o modelo\n",
    "model.compile(optimizer=tf.keras.optimizers.RMSprop(0.001),\n",
    "             loss=tf.keras.losses.categorical_crossentropy,\n",
    "             metrics=['accuracy'])\n",
    "\n",
    "# Efetuando o treinamento\n",
    "model.fit(x_treinamento, y_treinamento, batch_size=32, epochs=5)\n",
    "\n",
    "# Efetuando uma previsão\n",
    "previsao = model.predict(teste)\n",
    "\n",
    "# salva os pesos em um tensor\n",
    "model.save_weights('./weights/my_model_2')\n",
    "\n",
    "# Exibindo as previsões\n",
    "print(previsao)"
   ]
  },
  {
   "cell_type": "markdown",
   "metadata": {},
   "source": [
    "Agora vamos carregar o modelo. Para isso é necessário primeiramente definir o modelo idêntico ao original."
   ]
  },
  {
   "cell_type": "code",
   "execution_count": 16,
   "metadata": {},
   "outputs": [
    {
     "name": "stdout",
     "output_type": "stream",
     "text": [
      "[[0.08622181 0.12789644 0.08234761 0.08800462 0.10584033 0.10083069\n",
      "  0.12122465 0.08486897 0.08694174 0.11582315]]\n"
     ]
    }
   ],
   "source": [
    "import tensorflow as tf\n",
    "from tensorflow.keras import layers\n",
    "import numpy as np\n",
    "\n",
    "# Criando uma camada para receber os valores de entrada\n",
    "inputs = tf.keras.Input(shape=(3,))\n",
    "\n",
    "# Criando uma camada densa X ligada a inputs\n",
    "x = layers.Dense(64, activation='relu')(inputs)\n",
    "\n",
    "# Criando outra camada densa x ligada ao x anterior\n",
    "x = layers.Dense(64, activation='relu')(x)\n",
    "\n",
    "# Criando a camada de saída ligada a camada x\n",
    "saida = layers.Dense(10, activation='softmax')(x)\n",
    "\n",
    "# Construindo o modelo\n",
    "model = tf.keras.Model(inputs=inputs, outputs=saida)\n",
    "\n",
    "# Carregando os pesos\n",
    "model.load_weights('./weights/my_model_2')\n",
    "\n",
    "# Definindo valores para teste\n",
    "teste = np.array([[1,2,3]])\n",
    "\n",
    "# efetuando previsão com os pesos carregados\n",
    "previsao = model.predict(teste)\n",
    "\n",
    "# Exibindo as previsões\n",
    "print(previsao)"
   ]
  },
  {
   "cell_type": "markdown",
   "metadata": {},
   "source": [
    "Agora pode-se utilizar o modelo para efetuar as previsões com os pesos salvos\n",
    "\n",
    "## 8.2 MÉTODO 2\n",
    "\n",
    "Para esse segundo método será salvo o modelo inteiro, sendo assim não é necessário recriar todo o modelo antes de carregar os pesos. Para tal, arquivos HDF5 que é um tipo de arquivo utilizado pelo keras.\n",
    "\n",
    "> Talvés seja necessário instalar o suporte à esses arquivos, para isso utilize o seguinte comando: `pip install h5py pyyaml`. Talvez seja necessário colocar `pip3`para instalar no python 3, depende do python padrão do seu sistema.\n",
    "\n",
    "**Para salvar:**\n",
    "```python\n",
    "model.save('my_model.h5')\n",
    "```\n",
    "\n",
    "**Para utilizar:**\n",
    "```python\n",
    "model_salvo = keras.models.load_model('my_model.h5')\n",
    "```\n",
    "\n",
    "**Se quiser ver a arquitetura do modelo:**\n",
    "```python\n",
    "model.summary()\n",
    "```"
   ]
  },
  {
   "cell_type": "markdown",
   "metadata": {},
   "source": [
    "# DICIONÁRIO\n",
    "\n",
    "---\n",
    "\n",
    "## Atributos\n",
    "\n",
    "- Os atributos são as colunas dos [registros](#Registros).\n",
    "    - Os valores contidos nos atributos são chamados de variáveis independentes.\n",
    "    \n",
    "---    \n",
    "\n",
    "## Batch size\n",
    "\n",
    "- O batch size se trata da quantidade de registros que terá cada bloco de treinamento antes do modelo efetuar a atualização dos pesos.\n",
    "\n",
    "---\n",
    "\n",
    "## Bias\n",
    "\n",
    "- Em uma rede neural é sempre recomendado colocar o bias em todas as camadas. O bias é um valor que é adicionado como entrada em uma camada da rede, sua finalidade é evitar que o resultado da rede neural chegue a zero mesmo que todos os outros valores de entrada sejam iguais a zero, o que auxilia na convergência do modelo.\n",
    "\n",
    "---\n",
    "\n",
    "## Camada densa\n",
    "\n",
    "- Uma camada densa é quando todos os neurônios de uma camada se conectam a todos os neurônios da camada posterior.\n",
    "- **[Documentação](https://www.tensorflow.org/api_docs/python/tf/keras/layers/Dense)**\n",
    "\n",
    "---\n",
    "\n",
    "## Classes\n",
    "\n",
    "- As classes são as 'respostas' que queremos atingir.\n",
    "    - Os valores contidos nas classes são chamados de variáveis dependentes.\n",
    "    \n",
    "---\n",
    "\n",
    "## Dropout\n",
    "\n",
    "- Dropout é quando algumas unidades de neurônios nesse camada são ignoradas durante o processo, horas uns neurônios são ignorados hora outros, isso evita problemas na rede, um deles seria o [overfittin](#Overfittin).\n",
    "- **[Documentação](https://www.tensorflow.org/api_docs/python/tf/keras/layers/Dropout)**\n",
    "\n",
    "---\n",
    "\n",
    "## Epochs\n",
    "\n",
    "- Se trata do número de vezes que o modelo irá passar por todos os registros de treinamento.\n",
    "\n",
    "---\n",
    "\n",
    "## Função de ativação\n",
    "\n",
    "- Uma função de ativação é uma função que tem por função retornar um valor de acordo com sua entrada para indicar se aquele neurônio que a está usando irá ou não ser ativado. Existem diversos tipo de funções de ativação que podem ser vistos [aqui](https://en.wikipedia.org/wiki/Activation_function). As principais funções de ativação que trabalhamos são:\n",
    "    - Softmax: Utilizada na classificação de múltiplas classes, pois retorna probabilidades de uma saída ser de uma dada classe.\n",
    "    - Relu: Muito utilizada nas camadas escondidas de uma rede neural.\n",
    "    - Sigmoid: Também é muito utilizada na camada de saída para classificação, ela também retorna probabilidades, porém é mais utilizada para uma única saída (sim ou não)\n",
    "    - Linear: Essa é utilizada na camada de saída de uma regressão, pois o valor de entrada é igual ao valor de saída.\n",
    "- **[Documentação](https://www.tensorflow.org/api_docs/python/tf/keras/activations)**.\n",
    "\n",
    "---\n",
    "\n",
    "## Kernel\n",
    "\n",
    "- Um kernel seria uma técnica utilizada para auxiliar na classificação de registros. Veja mais [aqui](https://towardsdatascience.com/kernel-function-6f1d2be6091).\n",
    "\n",
    "![](https://qph.fs.quoracdn.net/main-qimg-cd6cde306c8273b2af183f57f25c259d)\n",
    "\n",
    "Fonte: https://www.quora.com/What-are-kernels-in-machine-learning-and-SVM-and-why-do-we-need-them\n",
    "\n",
    "---\n",
    "\n",
    "## Learning rate\n",
    "\n",
    "- O learning rate é basicamente um freio para a descida do gradiente, com um learning rate muito grande o gradiente pode descer de uma vez, e isso pode ocasionar na perda do mínimo global (passou reto), já se o learning rate for pequeno é mais provável que modelo encontre o mínimo erro, porém ele irá demorar mais, o que consequentemente gerará maior gasto computacional.\n",
    "\n",
    "---\n",
    "\n",
    "## Loss\n",
    "\n",
    "- loss é a função que diminui o seu valor durante o processo de otimização. Basicamente a loss é o *erro*.\n",
    "- **[Documentação](https://www.tensorflow.org/api_docs/python/tf/keras/losses)**\n",
    "\n",
    "---\n",
    "\n",
    "## Metrics\n",
    "\n",
    "- Metrics é o que utiliza-se para monitorar o treinamento.\n",
    "- **[Documentação](https://www.tensorflow.org/api_docs/python/tf/keras/metrics)**\n",
    "\n",
    "---\n",
    "\n",
    "## Optimizer\n",
    "\n",
    "- O otimizador tem como função calcular o gradiente da função de erro, o mais comum é o GradientDescentOptimizer, os outros são variações dele com melhorias para encontrar o mínimo global e fugirem de mínimos locais. \n",
    "    - Veja os otimizadores que o tensorFlow oferece: [Link](https://www.tensorflow.org/api_docs/python/tf/keras/optimizers).\n",
    "- **[Documentação](https://www.tensorflow.org/api_docs/python/tf/keras/optimizers)**\n",
    "\n",
    "---\n",
    "\n",
    "## Overfittin\n",
    "\n",
    "- Overfittin é quando a rede neural se 'vícia' nos dados de treinamento e não consegue generalização suficiente para trabalhar com dados extra treinamento.\n",
    "\n",
    "---\n",
    "\n",
    "## Registros\n",
    "\n",
    "- Cada linha que existe em um dadaset é um registro, ou seja, se for um dataset composto por dados pessoais termos em cada linha uma pessoa e seus atributos esse conjunto de atributos é o registro.\n",
    "\n",
    "---\n",
    "\n",
    "## Regularizadores\n",
    "\n",
    "- As regularizações permitem aplicar penalidades aos parâmetros da camada durante a otimização.\n",
    "- **[Documentação](https://www.tensorflow.org/api_docs/python/tf/keras/regularizers)**"
   ]
  }
 ],
 "metadata": {
  "kernelspec": {
   "display_name": "Python 3",
   "language": "python",
   "name": "python3"
  },
  "language_info": {
   "codemirror_mode": {
    "name": "ipython",
    "version": 3
   },
   "file_extension": ".py",
   "mimetype": "text/x-python",
   "name": "python",
   "nbconvert_exporter": "python",
   "pygments_lexer": "ipython3",
   "version": "3.6.8"
  }
 },
 "nbformat": 4,
 "nbformat_minor": 2
}
