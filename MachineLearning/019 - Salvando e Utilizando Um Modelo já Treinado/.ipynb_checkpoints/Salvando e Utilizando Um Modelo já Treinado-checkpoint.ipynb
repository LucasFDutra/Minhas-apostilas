{
 "cells": [
  {
   "cell_type": "markdown",
   "metadata": {
    "_cell_guid": "79c7e3d0-c299-4dcb-8224-4455121ee9b0",
    "_uuid": "d629ff2d2480ee46fbb7e2d37f6b5fab8052498a",
    "collapsed": true
   },
   "source": [
    "# **KERAS**\n",
    "> O keras irá funcionar para as redes neurais\n",
    "\n",
    "## SALVANDO MODELO\n",
    "```python\n",
    "import keras\n",
    "model.save('diretorio/my_model.h5') # é um método dentro da classe models\n",
    "```\n",
    "## UTILIZANDO MODELO\n",
    "```python\n",
    "model = keras.models.load_model('diretorio/my_model.h5')\n",
    "```\n",
    "# **SCIKIT-LEARN (SKLERN)**\n",
    "## SALVANDO MODELO\n",
    "\n",
    "- **Biblioteca:**\n",
    "    - [pickle](https://docs.python.org/3/library/pickle.html)\n",
    "\n",
    "```python\n",
    "#-------------------------------Biblioteca--------------------------------#\n",
    "import pickle\n",
    "\n",
    "#----------------------------Salvando o modelo----------------------------#\n",
    "pickle.dump(model, open('my_model.sav', 'wb'))\n",
    "```\n",
    "\n",
    "## UTILIZANDO MODELO\n",
    "\n",
    "```python\n",
    "#-------------------------------Bibliotecas-----------------------------------#\n",
    "import pickle\n",
    "import numpy as np\n",
    "\n",
    "#----------------------------Criando classificador----------------------------#\n",
    "model = pickle.load('my_model.sav', 'rb')\n",
    "\n",
    "#------------------------Para ver precisão do algoritmo-----------------------#\n",
    "resultado = classificador.score(previsore, classe)\n",
    "\n",
    "#--------------------------Classificar novo registro--------------------------#\n",
    "resposta = classificador.predict(novo_registro)\n",
    "```"
   ]
  }
 ],
 "metadata": {
  "kernelspec": {
   "display_name": "Python 3",
   "language": "python",
   "name": "python3"
  },
  "language_info": {
   "codemirror_mode": {
    "name": "ipython",
    "version": 3
   },
   "file_extension": ".py",
   "mimetype": "text/x-python",
   "name": "python",
   "nbconvert_exporter": "python",
   "pygments_lexer": "ipython3",
   "version": "3.6.8"
  }
 },
 "nbformat": 4,
 "nbformat_minor": 1
}
