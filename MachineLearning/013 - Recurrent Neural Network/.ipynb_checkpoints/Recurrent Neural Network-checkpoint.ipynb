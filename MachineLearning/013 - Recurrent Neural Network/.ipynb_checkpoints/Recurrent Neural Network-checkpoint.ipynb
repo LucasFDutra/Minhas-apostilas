{
 "cells": [
  {
   "cell_type": "markdown",
   "metadata": {
    "_uuid": "7e706dbbd2ef28d5171dd6335c381adc505e3f11"
   },
   "source": [
    "# Redes Neurais Recorrentes\n",
    "\n",
    "![](https://raw.githubusercontent.com/LucasFDutra/Estudos/master/Machine%20Learning/Recurrent%20Neural%20Network/Imagens/Figura_1.png)\n",
    "\n",
    "\n",
    "Uma rede neural recorrente possui a capacidade de prever acontecimentos futuros com base em dados anteriores. \n",
    "- Exemplos: \n",
    "    - Elas são utilizadas para prever as proximas palavras que uma pessoa irá digitar.\n",
    "    - Utilizadas em geração automática de legendas.\n",
    "    - Previsão dos preços de ações.\n",
    "\n",
    "Uma rede neural recorrente possui uma estrutura um pouco diferente das redes neurais convencionais, isso porque elas possui um efeito de memoria, que é adquirido pelo fato de que a saída de um neurônio retorna a sua entrada \"somando-se\" à proxima entrada.\n",
    "\n",
    "Conforme vão sendo acressentadas entradas é como se a rede neural estivesse acressentando mais e mais camadas assim podemos ter dois problemas:\n",
    "\n",
    "- Vanish Gradient: O gradiente abaixa muito conforme aumentam as camadas.\n",
    "    - Soluções:\n",
    "        - Backpropagation through time (BPTT): Algoritmo semelhante que também fuirá para trás a partir do tempo futuro para os termos atuais.\n",
    "        - Xavier initialization (Keras)\n",
    "        - **LSTM** (Long short term memory)\n",
    "- Exploding gradient: O gradiente aumenta muito conforme aumentam as camadas.\n",
    "    - Soluções:\n",
    "        - Não visitar todas as camadas.\n",
    "        - **RMSProp**: divide a taxa de aprendizagem por uma média exponencialmente decrescente do quadrado do gradiente\n",
    "        - Clipping gradiente (evita que ele suba mais do que um dado valor)\n",
    "        \n",
    " ---       \n",
    "- Links para aprender mais:\n",
    "    - [The Sequential Problem - Cognitive Class](https://www.youtube.com/watch?v=PIjH2Ki9mfE&feature=youtu.be)\n",
    "    - [The RNN Model - Cognitive Class](https://www.youtube.com/watch?v=sTejVvlom2Q&feature=youtu.be)\n",
    "    - [Introdução a redes neurais recorrentes - Jones Granatyr](https://www.youtube.com/watch?v=ZvBJxh5O3H0&feature=youtu.be)\n",
    " ---   \n",
    "    \n",
    "## LSTM\n",
    "\n",
    "Se tivermos uma frase curta como por exemplo \"Hoje vai chover forte\", e a rede neural precisa prever a palavra final com base nas inicias (forte), basta utilizar uma rede neural simples. Porém se quisermos que ela preveja as palavras finais de um texto grande, ai precisaremos de uma rede neural LSTM.\n",
    "\n",
    "Essa arquitetura adiciona e manipula células de memória na rede e assim aprendendo dependências de longo prazo.\n",
    "\n",
    "Veja na imagem abaixo como é uma estrutura de um neurônio no tempo em uma rede neural recorrente simples e uma rede neural recorrente LSTM respectivamente.\n",
    "\n",
    "![](https://raw.githubusercontent.com/LucasFDutra/Estudos/master/Machine%20Learning/Recurrent%20Neural%20Network/Imagens/Figura_2.jpg)\n",
    "\n",
    "A celula do centro é a célula de memória, dentro dela temos um 'x' que é onde são apagadas algumas informação, e um '+' que é onde são adicionadas algumas informação.\n",
    "\n",
    "---\n",
    "- Links para aprender mais:\n",
    "    - [Understanding LSTM Networks - Colah's blog](http://colah.github.io/posts/2015-08-Understanding-LSTMs/)\n",
    "    - [Understanding LSTM and its diagrams - Shi Yan](https://medium.com/mlreview/understanding-lstm-and-its-diagrams-37e2f46f1714)\n",
    "    - [The LSTM Model - Cognitive Class](https://www.youtube.com/watch?v=lsRLV7p6WQc&feature=youtu.be)\n",
    "    - [Applying RNNs to Language Modelling - Cognitive Class](https://www.youtube.com/watch?v=PY3VMUArFgs&feature=youtu.be)\n",
    "---"
   ]
  }
 ],
 "metadata": {
  "kernelspec": {
   "display_name": "Python 3",
   "language": "python",
   "name": "python3"
  },
  "language_info": {
   "codemirror_mode": {
    "name": "ipython",
    "version": 3
   },
   "file_extension": ".py",
   "mimetype": "text/x-python",
   "name": "python",
   "nbconvert_exporter": "python",
   "pygments_lexer": "ipython3",
   "version": "3.6.7"
  }
 },
 "nbformat": 4,
 "nbformat_minor": 1
}
