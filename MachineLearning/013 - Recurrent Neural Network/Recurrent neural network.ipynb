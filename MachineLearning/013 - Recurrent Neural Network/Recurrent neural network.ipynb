{
 "cells": [
  {
   "cell_type": "markdown",
   "metadata": {
    "_uuid": "7e706dbbd2ef28d5171dd6335c381adc505e3f11"
   },
   "source": [
    "# **REDES NEURAIS RECORRENTE**\n",
    "\n",
    "Sabe quando você vê algo acontercer tantas vezes que só de ver o início de algo você já sabe o que vai vir no final? Como por exemplo seu tio iniciando a piada do pavê. Quando ele a faz da primeira vez você cai, mas depois você já nota isso e no natal do ano seguinte você já sabe até a hora que ele vai fazer essa piada. Então, uma rede recorrente segue a mesma ideia.\n",
    "\n",
    "Uma RNN absorve informações passadas, as armazenam e utiliza para prever acontecimentos futuros. E essa capacidade de guardar informações é o que a diferencia de uma rede convencional. Numa rede convencional a informação entra na rede, passa pelos neurônios e gera uma saída e depois “some”. Já na RNN isso não acontece, tudo que entra na rede é mantido nela, isso faz com que a rede possa sempre utilizar essas informações para melhorar a sí mesma (esse processo é exatamente igual ao nosso processo de aprendizagem, nós observamos tudo que acontece, treinamos e guardamos as informações adquiridas nesses treinos para então chegarmos a “perfeição”). No diagrama abaixo é possível entender melhor como é esse processo de armazenamento da informação em um RNN.\n",
    "\n",
    "![](https://machinelearningblogcom.files.wordpress.com/2018/02/bildschirmfoto-2018-02-21-um-10-30-04.png?w=1400)\n",
    "\n",
    "Fonte: https://machinelearning-blog.com/2018/02/21/recurrent-neural-networks/\n",
    "\n",
    "\n",
    "Veja que sempre que uma informação passa por um neurônio ela retorna para o início do mesmo. Esse processo acaba sendo equivalente a criar várias camadas na rede. Ou seja, quanto mais informações estão passando pela rede, maior ela fica. \n",
    "\n",
    "Porém é obvio que isso não iria ser uma maravilha dessas sem nenhum probleminha. E o problema em questão é o valor do gradiente, que pode ser extremamente baixo ou extremamente alto. Isso ocorre pois no processo de treinamento de uma rede temos que sempre ir calculando o valor do gradiente, e durante esse calculo ele é multiplicado pelo valor dos pesos em cada uma das camadas (backpropagation), e se tivermos pesos pequenos, o valor do gradiente vai ser pequeno, mas se tivermos dezenas ou centenas de pesos muito pequenos a multiplicação deles vai gerar um resultado extremente pequeno. Isso ocasiona uma modificação quase insignificante no valor dos pesos, ou seja, se fizermos um treinamento com 10 mil épocas, o valor dos pesos podem ter se auterado tanto quanto se tivessemos feito um treinamento com apenas mil épocas. E o contrário também ocorre, os pesos podem ser muito grandes, gerante valores grandes de gradiente que por sua vez variará muito os pesos, fazendo com que a rede jamais convirja. Respectivamente esses problemas são o Vanish Gradient e o Exploding gradient.\n",
    "\n",
    "## LSTM\n",
    "\n",
    "Para solucionar esses problemas entra a rede LSTM. Que é uma variante da RNN e que não passa por esses dois problemas.\n",
    "\n",
    "O segredo de uma LSTM é que ela seleciona quais informações dentre as que chegam que são relevantes e “merecem” serem passadas adiante. Isso faz com que a rede não cresça exacerbadamente, e evita os dois problemas.\n",
    "\n",
    "Veja abaixo duas imagens que representam, respectivamente, os diagramas de uma célula de RNN convencional e um LSTM.\n",
    "\n",
    "![](http://colah.github.io/posts/2015-08-Understanding-LSTMs/img/LSTM3-SimpleRNN.png)\n",
    "\n",
    "Fonte: http://colah.github.io/posts/2015-08-Understanding-LSTMs/\n",
    "\n",
    "![](http://colah.github.io/posts/2015-08-Understanding-LSTMs/img/LSTM3-chain.png)\n",
    "\n",
    "Fonte: http://colah.github.io/posts/2015-08-Understanding-LSTMs/\n",
    "\n",
    "\n",
    "\n",
    "Para entender melhor como funciona uma rede recorrente recomendo fortemente a leitura do artigo que está nesse [link](http://colah.github.io/posts/2015-08-Understanding-LSTMs/).\n",
    "\n",
    " ---       \n",
    "- Links para aprender mais:\n",
    "    - [Introdução a redes neurais recorrentes - Jones Granatyr](https://www.youtube.com/watch?v=ZvBJxh5O3H0&feature=youtu.be)\n",
    "    - [The Sequential Problem - Cognitive Class](https://www.youtube.com/watch?v=PIjH2Ki9mfE&feature=youtu.be)\n",
    "    - [The RNN Model - Cognitive Class](https://www.youtube.com/watch?v=sTejVvlom2Q&feature=youtu.be)\n",
    "    - [Recurrent Neural Networks (RNN) - Ryan Partridge](https://goo.gl/eiyYxj)\n",
    "    - [Understanding LSTM Networks - Colah's blog](http://colah.github.io/posts/2015-08-Understanding-LSTMs/)\n",
    "    - [Understanding LSTM and its diagrams - Shi Yan](https://medium.com/mlreview/understanding-lstm-and-its-diagrams-37e2f46f1714)\n",
    "    - [The LSTM Model - Cognitive Class](https://www.youtube.com/watch?v=lsRLV7p6WQc&feature=youtu.be)\n",
    "    - [Applying RNNs to Language Modelling - Cognitive Class](https://www.youtube.com/watch?v=PY3VMUArFgs&feature=youtu.be)\n",
    "    - [Recurrent Neural Network - The Math of Intelligence - Siraj Raval](https://www.youtube.com/watch?v=BwmddtPFWtA)\n",
    "    - [LSTM Networks - The Math of Intelligence - Siraj Raval](https://www.youtube.com/watch?v=9zhrxE5PQgY)\n",
    "---"
   ]
  },
  {
   "cell_type": "markdown",
   "metadata": {
    "_uuid": "7b0b8042e4bf2d3c6e7c291606b00cea848ccd57",
    "colab_type": "text",
    "id": "gAQkH_68MDXa"
   },
   "source": [
    "# **IMPLEMENTAÇÃO**\n",
    "## IMPORTANDO BIBLIOTECAS"
   ]
  },
  {
   "cell_type": "code",
   "execution_count": 1,
   "metadata": {
    "_uuid": "124ca8436d4b6770a0219ecac41428c34f0b7d07",
    "colab": {},
    "colab_type": "code",
    "id": "Zdfbx_nMtZqd"
   },
   "outputs": [],
   "source": [
    "import tensorflow as tf\n",
    "from sklearn.preprocessing import StandardScaler\n",
    "import numpy as np\n",
    "import matplotlib.pyplot as plt"
   ]
  },
  {
   "cell_type": "markdown",
   "metadata": {
    "_uuid": "de887790d4e269451f9041ff6e8334376c1dc322",
    "colab_type": "text",
    "id": "gU_VCR2-MHEt"
   },
   "source": [
    "## CARREGANDO DATASET\n",
    "Esse exemplo tratará de prever valores y com base nos valores y anteriores. Ou seja, eu vou utilizar apenas uma coluna, no caso utilizarei a última coluna da base de dados, que normalmente é o y_train. Sendo assim o que preveremos será os valores da classe. Basicamente esse é um problema de regressão, que não utiliza os valores de x.\n",
    "\n",
    "Porém temos que pensar em alguns pontos importantes aqui, pois a parte de trabalhar os dados é com toda certeza a parte mais confusa da implementação de uma rede recorrente. Os dados de y serão ao mesmo tempo os valores base e os valores desejados. Ou seja, eles são aqueles valores que temos para inserir no modelo e também os valores que queremos no final.\n",
    "\n",
    "Os valores que utilizaremos estão em uma sequência de ocorrências, ou seja, depois que uma quantidade x de valores aparecerem o proximo vai ser x+1, e agora esse valor x+1 vai compor o novo grupo que preverá x+2, e assim por diante. Ou seja, se tivermos na base de dados os seguintes valores: \n",
    "- a, b, c, d, e, f, g. \n",
    "- Nós vamos treinar o modelo para que ele faça o seguinte: \n",
    "  - 1º - entra [a,b,c] e tem que sair d.\n",
    "  - 2º - entra [b,c,d] e tem que sair e.\n",
    "  - 3º - entra [c,d,e] e tem que sair f.\n",
    "  - 4º - entra [d,e,f] e tem que sair g.\n",
    "- Veja que se compararmos com o que temos em uma rede neural convencional, os termos entre colchetes são os valores de x, e os valores que estão ao final das frases seriam os valores de y. Ficando da seguinte forma:\n",
    "\n",
    "|x1|x2|x3|y|\n",
    "|-|-|-|-|\n",
    "|a|b|c|d|\n",
    "|b|c|d|e|\n",
    "|c|d|e|f|\n",
    "|d|e|f|g|\n",
    "    \n",
    "Então o que precisamos fazer com a nossa base de dados é exatamente isso.\n",
    "## SABENDO DISSO VAMOS COMEÇAR"
   ]
  },
  {
   "cell_type": "code",
   "execution_count": 2,
   "metadata": {
    "_uuid": "60e66d216143a71c8c98298a2312d6dce654a4df",
    "colab": {
     "base_uri": "https://localhost:8080/",
     "height": 34
    },
    "colab_type": "code",
    "id": "Nw16WNgeui03",
    "outputId": "75c01146-db3b-4e48-8ca5-8517a260266d"
   },
   "outputs": [
    {
     "name": "stdout",
     "output_type": "stream",
     "text": [
      "Downloading data from https://storage.googleapis.com/tensorflow/tf-keras-datasets/boston_housing.npz\n",
      "57344/57026 [==============================] - 0s 0us/step\n"
     ]
    },
    {
     "data": {
      "text/plain": [
       "(506,)"
      ]
     },
     "execution_count": 2,
     "metadata": {},
     "output_type": "execute_result"
    }
   ],
   "source": [
    "(_, x),(_,_) = tf.keras.datasets.boston_housing.load_data(test_split=0)\n",
    "x.shape"
   ]
  },
  {
   "cell_type": "markdown",
   "metadata": {
    "_uuid": "39f6c10c41f28501ebcb9c3cc49a4f8e63d21791",
    "colab_type": "text",
    "id": "flAReqyfQZNi"
   },
   "source": [
    "### **Escalonando os dados**\n",
    "Por se tratar de um problema de regressão é necessário escalornar os dados."
   ]
  },
  {
   "cell_type": "code",
   "execution_count": 3,
   "metadata": {
    "_uuid": "4a8739ecb4e5e8c481f7335f7dcf9abce28f6aaa",
    "colab": {},
    "colab_type": "code",
    "id": "NwepW8SiHGKZ"
   },
   "outputs": [],
   "source": [
    "x = x.reshape(506,1)\n",
    "scaler = StandardScaler()\n",
    "x = scaler.fit_transform(x)"
   ]
  },
  {
   "cell_type": "markdown",
   "metadata": {
    "_uuid": "91778047e4d49fdd92fee7d802cd28a8940bcb58",
    "colab_type": "text",
    "id": "CqSlJuf3QqOS"
   },
   "source": [
    "### **Dividindo a base de dados**\n",
    "Vamos trabalhar em uma proporção de 80% da base de dados para treinamento e o restante para teste."
   ]
  },
  {
   "cell_type": "code",
   "execution_count": 4,
   "metadata": {
    "_uuid": "82708a789160739000ae40e958ba95032135ba95",
    "colab": {},
    "colab_type": "code",
    "id": "NwOmLOv78N7l"
   },
   "outputs": [],
   "source": [
    "x_train, x_test = x[:int(len(x)*0.8)], x[int(len(x)*0.8):]"
   ]
  },
  {
   "cell_type": "code",
   "execution_count": 5,
   "metadata": {
    "_uuid": "41c9368d0973de7d3197617f8fbfe51da2159e77",
    "colab": {
     "base_uri": "https://localhost:8080/",
     "height": 34
    },
    "colab_type": "code",
    "id": "L6p8ICO48zKC",
    "outputId": "f41cd771-f331-45f0-e544-4ccaa4955f3c"
   },
   "outputs": [
    {
     "data": {
      "text/plain": [
       "(404, 1)"
      ]
     },
     "execution_count": 5,
     "metadata": {},
     "output_type": "execute_result"
    }
   ],
   "source": [
    "x_train.shape"
   ]
  },
  {
   "cell_type": "code",
   "execution_count": 6,
   "metadata": {
    "_uuid": "c4bb6ce57452c15cf0f327371105ef538e01034e",
    "colab": {
     "base_uri": "https://localhost:8080/",
     "height": 34
    },
    "colab_type": "code",
    "id": "VhUFlFE78zBo",
    "outputId": "caac33fb-4f5d-4a51-81c5-1278cf20914d"
   },
   "outputs": [
    {
     "data": {
      "text/plain": [
       "(102, 1)"
      ]
     },
     "execution_count": 6,
     "metadata": {},
     "output_type": "execute_result"
    }
   ],
   "source": [
    "x_test.shape"
   ]
  },
  {
   "cell_type": "markdown",
   "metadata": {
    "_uuid": "68d2df11136c657e7d59de8e8d08297e629d1c8e",
    "colab_type": "text",
    "id": "zHUDDrDvRTjG"
   },
   "source": [
    "### **Montando a base de dados para o modelo**\n",
    "Como dito anteriormente, precisamos agrupar a base em porções e definir os valores que vem após esse grupo, ou seja, precisamos criar x e y.\n",
    "\n",
    "- Para x: Vamos agrupar os valores de 32 em 32, assim o 33º valor será o nosso y.\n",
    "> Ao final do processo é necessário colocar os dados dentro de um numpy array para podermos trabalhar posteriormente."
   ]
  },
  {
   "cell_type": "code",
   "execution_count": 7,
   "metadata": {
    "_uuid": "d0b2f7f621c3d378f739f2c1cb89b36ec2b840b5",
    "colab": {},
    "colab_type": "code",
    "id": "A4eLXIVDRS-6"
   },
   "outputs": [],
   "source": [
    "# Base de treinamento\n",
    "y_train = []\n",
    "x_train_novo = []\n",
    "batch = 32 # quantidade de termos que serão agrupados\n",
    "\n",
    "# Agrupando os termos\n",
    "for i in range(len(x_train)-batch):\n",
    "    lista = []\n",
    "    for j in range(batch):\n",
    "        lista.append(x_train[i+j][0])\n",
    "    x_train_novo.append(lista)\n",
    "    y_train.append(x_train[i+batch])\n",
    "    \n",
    "# Transformando em numpy array\n",
    "x_train_novo = np.asarray(x_train_novo)  \n",
    "y_train_novo = np.asarray(y_train)\n",
    "\n",
    "# Base de teste\n",
    "y_test = []\n",
    "x_test_novo = []\n",
    "\n",
    "# Agrupando os termos\n",
    "for i in range(len(x_test)-batch):\n",
    "    lista = []\n",
    "    for j in range(batch):\n",
    "        lista.append(x_test[i+j][0])\n",
    "    x_test_novo.append(lista)\n",
    "    y_test.append(x_test[i+batch])\n",
    "\n",
    "# Transformando em numpy array\n",
    "x_test_novo = np.asarray(x_test_novo)  \n",
    "y_test_novo = np.asarray(y_test)"
   ]
  },
  {
   "cell_type": "code",
   "execution_count": 8,
   "metadata": {
    "_uuid": "5e4c6ae0a851025e96a420f8b0efbab7a40e46b2",
    "colab": {
     "base_uri": "https://localhost:8080/",
     "height": 51
    },
    "colab_type": "code",
    "id": "1HZUT8Q1T6TS",
    "outputId": "9020a44e-4ef7-48b7-c069-5796c0ab439c"
   },
   "outputs": [
    {
     "name": "stdout",
     "output_type": "stream",
     "text": [
      "(372, 32)\n",
      "(372, 1)\n"
     ]
    }
   ],
   "source": [
    "print(x_train_novo.shape)\n",
    "print(y_train_novo.shape)"
   ]
  },
  {
   "cell_type": "code",
   "execution_count": 9,
   "metadata": {
    "_uuid": "f97ccde66761d4061321fdf0186bdfd64bda1585",
    "colab": {
     "base_uri": "https://localhost:8080/",
     "height": 51
    },
    "colab_type": "code",
    "id": "0VmcVjoL85hJ",
    "outputId": "2ecff4f9-6862-4278-f36b-766b7147ae7b"
   },
   "outputs": [
    {
     "name": "stdout",
     "output_type": "stream",
     "text": [
      "(70, 32)\n",
      "(70, 1)\n"
     ]
    }
   ],
   "source": [
    "print(x_test_novo.shape)\n",
    "print(y_test_novo.shape)"
   ]
  },
  {
   "cell_type": "markdown",
   "metadata": {
    "_uuid": "818bc69cb26ffad019ac5dd084637e658c47b88b",
    "colab_type": "text",
    "id": "wC2e28gIshhP"
   },
   "source": [
    "# **CRIANDO O MODELO**\n",
    "Agora que a base de dados está toda ajustada para o nosso caso, podemos efetuar a criação do modelo e o treinamento da rede.\n",
    "\n",
    "A construção da rede será dada pela seguinte estrutura:\n",
    "- Quatro blocos com\n",
    "  - Layer LSTM: 100 céluas\n",
    "  - Layer Dropout: 20%\n",
    "- Saída\n",
    "  - Rede densa com um neurônio e função de ativação linear.\n",
    "  \n",
    "> OBS.: Para trabalhar com GPU deve-se utilizar o layer CuDNNLSTM, pois ele é preparado para isso, logo possui melhor desempenho.\n",
    "\n",
    "> OBS.: Para os layers LSTM intermediários é necessário utilizar o parâmetro `return_sequences = True`."
   ]
  },
  {
   "cell_type": "code",
   "execution_count": 10,
   "metadata": {
    "_uuid": "611568d62220be4fbd4db83d6a1a380a1ff702bc",
    "colab": {
     "base_uri": "https://localhost:8080/",
     "height": 428
    },
    "colab_type": "code",
    "id": "mZnTudkkuiwF",
    "outputId": "3406c2e8-0d11-4bb9-ed34-cef850fe115a"
   },
   "outputs": [
    {
     "name": "stdout",
     "output_type": "stream",
     "text": [
      "_________________________________________________________________\n",
      "Layer (type)                 Output Shape              Param #   \n",
      "=================================================================\n",
      "cu_dnnlstm (CuDNNLSTM)       (None, 32, 100)           41200     \n",
      "_________________________________________________________________\n",
      "dropout (Dropout)            (None, 32, 100)           0         \n",
      "_________________________________________________________________\n",
      "cu_dnnlstm_1 (CuDNNLSTM)     (None, 32, 100)           80800     \n",
      "_________________________________________________________________\n",
      "dropout_1 (Dropout)          (None, 32, 100)           0         \n",
      "_________________________________________________________________\n",
      "cu_dnnlstm_2 (CuDNNLSTM)     (None, 32, 100)           80800     \n",
      "_________________________________________________________________\n",
      "dropout_2 (Dropout)          (None, 32, 100)           0         \n",
      "_________________________________________________________________\n",
      "cu_dnnlstm_3 (CuDNNLSTM)     (None, 100)               80800     \n",
      "_________________________________________________________________\n",
      "dropout_3 (Dropout)          (None, 100)               0         \n",
      "_________________________________________________________________\n",
      "dense (Dense)                (None, 1)                 101       \n",
      "=================================================================\n",
      "Total params: 283,701\n",
      "Trainable params: 283,701\n",
      "Non-trainable params: 0\n",
      "_________________________________________________________________\n"
     ]
    }
   ],
   "source": [
    "model = tf.keras.models.Sequential()\n",
    "\n",
    "# 1º Bloco\n",
    "model.add(tf.keras.layers.CuDNNLSTM(100, return_sequences=True, input_shape=(x_train_novo.shape[1],1)))\n",
    "model.add(tf.keras.layers.Dropout(0.2))\n",
    "\n",
    "# 2º Bloco\n",
    "model.add(tf.keras.layers.CuDNNLSTM(units=100, return_sequences = True))\n",
    "model.add(tf.keras.layers.Dropout(0.2))\n",
    "\n",
    "# 3º Bloco\n",
    "model.add(tf.keras.layers.CuDNNLSTM(units=100, return_sequences = True))\n",
    "model.add(tf.keras.layers.Dropout(0.2))\n",
    "\n",
    "# 4º Bloco\n",
    "model.add(tf.keras.layers.CuDNNLSTM(units=100))\n",
    "model.add(tf.keras.layers.Dropout(0.2))\n",
    "\n",
    "# Saída\n",
    "model.add(tf.keras.layers.Dense(1, activation='linear'))\n",
    "\n",
    "# Visualizar estrutura da rede\n",
    "model.summary()"
   ]
  },
  {
   "cell_type": "markdown",
   "metadata": {
    "_uuid": "78e34b2b02702891459362f339d8c4504e3df025",
    "colab_type": "text",
    "id": "J4bpzjpztg1_"
   },
   "source": [
    "# **TREINAMENTO**\n",
    "## CONFIGURANDO O TREINAMENTO\n",
    "Por se tratar de um problema de regressão temos que colocar as medidas para verificar o erro médio quadrático. E para ajudar mais ainda com o problema do gradiente o otimizador será o `rmsprop`."
   ]
  },
  {
   "cell_type": "code",
   "execution_count": 11,
   "metadata": {
    "_uuid": "2d32d0825d64dcfeca38cacd9e5a2c1c1cc4cd16",
    "colab": {
     "base_uri": "https://localhost:8080/",
     "height": 88
    },
    "colab_type": "code",
    "id": "9hnwfVmY_iaE",
    "outputId": "799bd82a-048a-4fe1-d5c5-e0a1d6d47050"
   },
   "outputs": [],
   "source": [
    "model.compile(optimizer='rmsprop',\n",
    "             loss='mse')"
   ]
  },
  {
   "cell_type": "markdown",
   "metadata": {
    "_uuid": "f2c2760777523d743c640d26cef73d628b8f7a49",
    "colab_type": "text",
    "id": "OEb5b1K8vJ09"
   },
   "source": [
    "## TREINANDO\n",
    "Para o treinamento vou utilizar mil épocas, e o parâmetro, callback ReduceLROnPlateau, que irá reduzior o learning rate conforme a perda (loss) não esteja diminuindo, fazendo assim o medelo se adequar melhor.\n",
    "\n",
    "Porém primeiro precisamos modificar a forma dos valores de entrada (x_train e x_test), pois eles devem possuir um formato específico."
   ]
  },
  {
   "cell_type": "code",
   "execution_count": 12,
   "metadata": {
    "_uuid": "72939ca0eae92f516202b8a1d5fbbdfcd00690b1",
    "colab": {},
    "colab_type": "code",
    "id": "K4OhyoaNwdIh"
   },
   "outputs": [],
   "source": [
    "x_train_novo = x_train_novo.reshape(x_train_novo.shape[0], x_train_novo.shape[1], 1)\n",
    "x_test_novo = x_test_novo.reshape(x_test_novo.shape[0], x_test_novo.shape[1], 1)"
   ]
  },
  {
   "cell_type": "code",
   "execution_count": 13,
   "metadata": {
    "_uuid": "f31f60960c077e04a3ac19ea0b384f9e473577f8",
    "colab": {
     "base_uri": "https://localhost:8080/",
     "height": 3505
    },
    "colab_type": "code",
    "id": "jocXaX_8XYbl",
    "outputId": "20c13476-f10d-4668-acbe-27ccfe126511",
    "scrolled": false
   },
   "outputs": [
    {
     "data": {
      "text/plain": [
       "<tensorflow.python.keras.callbacks.History at 0x7fa72b2cdda0>"
      ]
     },
     "execution_count": 13,
     "metadata": {},
     "output_type": "execute_result"
    }
   ],
   "source": [
    "model.fit(x_train_novo, y_train_novo, epochs=1000, batch_size=1, verbose=0,callbacks=[tf.keras.callbacks.ReduceLROnPlateau(monitor='loss')])"
   ]
  },
  {
   "cell_type": "markdown",
   "metadata": {
    "_uuid": "c151eaae2a432f58b65066564ed1202c1b495678",
    "colab_type": "text",
    "id": "laVH9v02zcQK"
   },
   "source": [
    "# **PREVENDO VALORES DE TESTE**\n",
    "Como os valores foram escalonados no início da implementação, o correto é que façamos a inversão para os valores voltarem para a escala real. E então depois podemos plotar um gráfico com os resultados esperados e os resultados previstos."
   ]
  },
  {
   "cell_type": "code",
   "execution_count": 14,
   "metadata": {
    "_uuid": "6e7d5ef57fd499479efdd212d9d8559d7316c587",
    "colab": {},
    "colab_type": "code",
    "id": "mWDayGC4ARfC"
   },
   "outputs": [],
   "source": [
    "previstos = scaler.inverse_transform(model.predict(x_test_novo))\n",
    "y_test_novo = scaler.inverse_transform(y_test_novo)"
   ]
  },
  {
   "cell_type": "code",
   "execution_count": 15,
   "metadata": {
    "_uuid": "39132c2a33a3e076ffc28ee0f2f80b49066e0e8c",
    "colab": {
     "base_uri": "https://localhost:8080/",
     "height": 364
    },
    "colab_type": "code",
    "id": "E8hPbiFtAV2u",
    "outputId": "c83f92ea-dde2-4a4c-ed08-02f2df0b1ff1"
   },
   "outputs": [
    {
     "data": {
      "text/plain": [
       "<matplotlib.legend.Legend at 0x7fa7106fa278>"
      ]
     },
     "execution_count": 15,
     "metadata": {},
     "output_type": "execute_result"
    },
    {
     "data": {
      "image/png": "[encoded data removed]",
      "text/plain": [
       "<Figure size 432x288 with 1 Axes>"
      ]
     },
     "metadata": {},
     "output_type": "display_data"
    }
   ],
   "source": [
    "plt.plot(previstos, 'red', label='previsto')\n",
    "plt.plot(y_test_novo, 'blue', label='real')\n",
    "plt.legend()"
   ]
  },
  {
   "cell_type": "markdown",
   "metadata": {
    "_uuid": "3fe0ab59f7305f728ec4a82b302a672231daf40e"
   },
   "source": []
  }
 ],
 "metadata": {
  "kernelspec": {
   "display_name": "Python 3",
   "language": "python",
   "name": "python3"
  },
  "language_info": {
   "codemirror_mode": {
    "name": "ipython",
    "version": 3
   },
   "file_extension": ".py",
   "mimetype": "text/x-python",
   "name": "python",
   "nbconvert_exporter": "python",
   "pygments_lexer": "ipython3",
   "version": "3.6.8"
  }
 },
 "nbformat": 4,
 "nbformat_minor": 1
}
