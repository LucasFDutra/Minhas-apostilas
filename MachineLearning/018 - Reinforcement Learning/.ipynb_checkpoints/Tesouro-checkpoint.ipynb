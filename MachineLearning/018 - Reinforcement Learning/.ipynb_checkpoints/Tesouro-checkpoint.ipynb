{
 "cells": [
  {
   "cell_type": "markdown",
   "metadata": {
    "colab_type": "text",
    "id": "view-in-github"
   },
   "source": [
    "<a href=\"https://colab.research.google.com/github/LucasFDutra/Estudos/blob/master/TCC/Tesouro.ipynb\" target=\"_parent\"><img src=\"https://colab.research.google.com/assets/colab-badge.svg\" alt=\"Open In Colab\"/></a>"
   ]
  },
  {
   "cell_type": "markdown",
   "metadata": {
    "colab_type": "text",
    "id": "kw_2gsFD_QSc"
   },
   "source": [
    "# Importando bibliotecas"
   ]
  },
  {
   "cell_type": "code",
   "execution_count": 0,
   "metadata": {
    "colab": {},
    "colab_type": "code",
    "id": "0KBFLp-q_QBT"
   },
   "outputs": [],
   "source": [
    "import numpy as np\n",
    "import time"
   ]
  },
  {
   "cell_type": "markdown",
   "metadata": {
    "colab_type": "text",
    "id": "vtj6FZCz_sFp"
   },
   "source": [
    "# Definindo mundo\n",
    "\n",
    "O nosso mundo terá um total de 10 posições até chegar no tesouro\n",
    "\n",
    "Gamma = 0.8"
   ]
  },
  {
   "cell_type": "code",
   "execution_count": 0,
   "metadata": {
    "colab": {},
    "colab_type": "code",
    "id": "9GaDyFRV_PQS"
   },
   "outputs": [],
   "source": [
    "n_states = 10 # ---------T\n",
    "actions = ['left', 'right']\n",
    "gamma = 0.8\n",
    "fresh_time = 0.3"
   ]
  },
  {
   "cell_type": "markdown",
   "metadata": {
    "colab_type": "text",
    "id": "NEXQMO50ABDE"
   },
   "source": [
    "# Construindo a matriz Q"
   ]
  },
  {
   "cell_type": "code",
   "execution_count": 0,
   "metadata": {
    "colab": {},
    "colab_type": "code",
    "id": "r6GCHMy8AAA5"
   },
   "outputs": [],
   "source": [
    "Q = np.matrix(np.zeros([n_states, len(actions)]))"
   ]
  },
  {
   "cell_type": "markdown",
   "metadata": {
    "colab_type": "text",
    "id": "n2dBXLWPEpN0"
   },
   "source": [
    "# Definindo a proxima ação"
   ]
  },
  {
   "cell_type": "code",
   "execution_count": 0,
   "metadata": {
    "colab": {},
    "colab_type": "code",
    "id": "7-12sx3-Eota"
   },
   "outputs": [],
   "source": [
    "def choose_action(state, q_table):\n",
    "  q_line = q_table[state]\n",
    "  if (q_line == 0).all():\n",
    "    action = np.random.choice(actions)\n",
    "  else:\n",
    "    action = actions[np.argmax(q_line)]\n",
    "  return action"
   ]
  },
  {
   "cell_type": "markdown",
   "metadata": {
    "colab_type": "text",
    "id": "VMidlfi4Ldvu"
   },
   "source": [
    "# Recebendo recompensa"
   ]
  },
  {
   "cell_type": "code",
   "execution_count": 0,
   "metadata": {
    "colab": {},
    "colab_type": "code",
    "id": "z0E_2gsQKxTh"
   },
   "outputs": [],
   "source": [
    "def get_reward(state, action):\n",
    "  if (action == 'right'):\n",
    "    if (state == n_states-2): # está na posição 8 das 9, logo a proxima jogada terminará o jogo\n",
    "      reward = 1\n",
    "      new_state = 'T'\n",
    "    else:\n",
    "      reward = 0\n",
    "      new_state = state+1 # andou um para a direita\n",
    "  else:\n",
    "    reward = 0\n",
    "    if (state == 0):\n",
    "      new_state = state\n",
    "    else:\n",
    "      new_state = state-1\n",
    "  return new_state, reward     "
   ]
  },
  {
   "cell_type": "markdown",
   "metadata": {
    "colab_type": "text",
    "id": "fl_72aWxNE3L"
   },
   "source": [
    "# Atualizando ambiente"
   ]
  },
  {
   "cell_type": "code",
   "execution_count": 0,
   "metadata": {
    "colab": {},
    "colab_type": "code",
    "id": "jwJesezsNH3y"
   },
   "outputs": [],
   "source": [
    "def update_env(state, steps, attempt):\n",
    "  env = ['-']*(n_states-1)+['T'] # exibe '---------T'\n",
    "  if (state == 'T'):\n",
    "    print(f'\\rtentativa: {attempt+1}, número de passos: {steps}',end='')\n",
    "    time.sleep(2)\n",
    "  else:\n",
    "    env[state] = 'o'\n",
    "    env_j = ''.join(env)\n",
    "    print(f'\\r{env_j}',end='')\n",
    "    time.sleep(fresh_time)"
   ]
  },
  {
   "cell_type": "markdown",
   "metadata": {
    "colab_type": "text",
    "id": "vblfZ9eiOyAb"
   },
   "source": [
    "# Treinamento"
   ]
  },
  {
   "cell_type": "code",
   "execution_count": 0,
   "metadata": {
    "colab": {
     "base_uri": "https://localhost:8080/",
     "height": 34
    },
    "colab_type": "code",
    "id": "8P5admVxOpRt",
    "outputId": "cb94dc62-4d5d-449a-fa26-c5a502595004"
   },
   "outputs": [
    {
     "name": "stdout",
     "output_type": "stream",
     "text": [
      "tentativa: 10, número de passos: 8"
     ]
    }
   ],
   "source": [
    "for attempt in range(10):\n",
    "  state = 0\n",
    "  step = 0\n",
    "  update_env(state, step, attempt)\n",
    "  while (state != 'T'):\n",
    "    action = choose_action(state, Q)\n",
    "    new_state, reward = get_reward(state, action)\n",
    "    if (new_state != 'T'):\n",
    "      Q[state, actions.index(action)] = reward + (gamma * np.max(Q[new_state,]))\n",
    "    else:\n",
    "      Q[state, actions.index(action)] = reward\n",
    "    state = new_state\n",
    "    update_env(state, step, attempt)\n",
    "    step+=1"
   ]
  }
 ],
 "metadata": {
  "colab": {
   "collapsed_sections": [],
   "include_colab_link": true,
   "name": "Untitled1.ipynb",
   "provenance": [],
   "version": "0.3.2"
  },
  "kernelspec": {
   "display_name": "Python 3",
   "language": "python",
   "name": "python3"
  },
  "language_info": {
   "codemirror_mode": {
    "name": "ipython",
    "version": 3
   },
   "file_extension": ".py",
   "mimetype": "text/x-python",
   "name": "python",
   "nbconvert_exporter": "python",
   "pygments_lexer": "ipython3",
   "version": "3.6.7"
  }
 },
 "nbformat": 4,
 "nbformat_minor": 1
}
