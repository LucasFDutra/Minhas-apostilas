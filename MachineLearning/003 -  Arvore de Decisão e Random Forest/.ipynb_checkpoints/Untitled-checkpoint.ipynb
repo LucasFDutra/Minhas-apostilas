{
 "cells": [
  {
   "cell_type": "markdown",
   "metadata": {},
   "source": [
    "# Sumário\n",
    "\n",
    "- [1. Árvore de Decisão](#1.-Árvore-de-Decisão)\n",
    "\n",
    "\n",
    "- [2. Random Forest](#2.-Random-Forest)\n",
    "\n",
    "\n",
    "- [3. Implementações](#3.-Implementações)\n",
    "  - [3.1 Classificação](#3.1-Classificação)\n",
    "    - [3.1.1 Base de Dados](#3.1.1-Base-de-Dados)\n",
    "    - [3.1.2 Árvore de Decisão](#3.1.2-Árvore-de-Decisão)\n",
    "    - [3.1.3 Random Forest](#3.1.3-Random-Forest)\n",
    "  - [3.2 Regressão](#3.2-Regressão)\n",
    "    - [3.2.1 Base de Dados](#3.2.1-Base-de-Dados)\n",
    "    - [3.2.2 Árvore de Decisão](#3.2.2-Árvore-de-Decisão)\n",
    "    - [3.2.3 Random Forest](#3.2.3-Random-Forest)\n",
    "\n",
    "# 1. Árvore de Decisão\n",
    "\n",
    "Uma árvore de decisão constroi caminhos para à tomada de dicisões. Ela define qual atributo possue maior relevância e o define como sendo a raiz da árvore. Partindo desse ponto ela obtém galhos, os quais também se ramificam de acordo com os proximos graus de importância. Após construida uma árvore de decisão é um algoritmo condicional, que se inicia na raiz e dele vai tomando decisões com base em condições.\n",
    "\n",
    "Uma árvore de decisão também pode ser utilizada para classificação de problemas linearmente e não linearmente separáveis. Ela também pode ter saídas múltiplas.\n",
    "\n",
    "![](https://raw.githubusercontent.com/LucasFDutra/Estudos/master/Machine%20Learning/%20Arvore%20de%20Decis%C3%A3o%20e%20Random%20Forest/Imagens/Figura_1.gif)\n",
    "![](https://raw.githubusercontent.com/LucasFDutra/Estudos/master/Machine%20Learning/%20Arvore%20de%20Decis%C3%A3o%20e%20Random%20Forest/Imagens/Figura_2.gif)\n",
    "\n",
    "---\n",
    "- Links para aprender mais:\n",
    "    - [Intro to Decision Trees - Cognitive Class](https://youtu.be/z3yGRBz8jiI)\n",
    "    - [Building Decision Trees - Cognitive Class](https://youtu.be/Q-fOOMGSxlo)\n",
    "    - [Árvores de Decisão - Gfgioinfo](http://web.tecnico.ulisboa.pt/ana.freitas/bioinformatics.ath.cx/bioinformatics.ath.cx/indexf23d.html?id).\n",
    "    - [Random Forests - The Math of Intelligence - Siraj Raval](https://www.youtube.com/watch?v=QHOazyP-YlM). Veja o inicio do video para árvore de decisão e o restante para random forest \n",
    "---\n",
    "\n",
    "# 2. Random Forest\n",
    "\n",
    "O algoritmo de random forest é uma melhoria do algoritmo de árvores de decisão. Nesse algoritmo temos que as decisões não são feitas apenas por uma árvore, mas sim por várias que trabalham em conjunto para definir os melhores caminhos.\n",
    "\n",
    "Para obter a resposta final normalmente utiliza-se a média entre as decisões ou os votos da maioria. A média é usada para regressão e os votos da maioria para classificação.\n",
    "\n",
    "Pode-se escolher a quantidade de árvores a serem utilizadas, mas nem sempre mais é melhor, além de aumentar o gosto computacional o algoritmo pode se viciar nos dados de treinamento e não acertar nada quando for utilizado.\n",
    "\n",
    "Também é possível definir quantos atributos cada uma das árvores vai utilizar, e ela escolhe quais utilizar de forma aleatória (por isso o nome de floresta randômica). \n",
    "\n",
    "- **Exemplo**: Se tivermos na base de dados os atributos A, B, C, D, E, F e G. E escolhermos 3 árvores sendo que cada uma vai analisar 4 atributos. Assim teriamos por exemplo:\n",
    "    - Árvore 1: A, C, D, G.\n",
    "    - Árvore 2: A, B, E, F.\n",
    "    - Árvore 3: C, D, E, G.\n",
    "\n",
    "![](https://raw.githubusercontent.com/LucasFDutra/Estudos/master/Machine%20Learning/%20Arvore%20de%20Decis%C3%A3o%20e%20Random%20Forest/Imagens/Figura_3.png)\n",
    "\n",
    "---\n",
    "- Link para aprender mais:\n",
    "    - [Wikipedia](https://en.wikipedia.org/wiki/Random_forest).\n",
    "---    \n",
    "\n",
    "> Ambos algoritmos podem ser utilizados para classificação e regressão\n",
    "\n",
    "# 3. Implementações\n",
    "\n",
    "## 3.1 Classificação\n",
    "\n",
    "Para a implementação do algoritmo foi utilizada a biblioteca Sklearn, veja a [Documentação](https://scikit-learn.org/stable/modules/classes.html#)\n",
    "\n",
    "### 3.1.1 Base de Dados\n",
    "A base de dados que será utilizada será a MNIST que já pode ser encontrada na base de dados do keras.\n",
    "Porém para trabalhar com o algoritmo em questão ela deve modificada em sua dimensão."
   ]
  },
  {
   "cell_type": "code",
   "execution_count": null,
   "metadata": {},
   "outputs": [],
   "source": [
    "from keras.datasets import mnist\n",
    "\n",
    "# Importando base de dados\n",
    "(x_train, y_train),(x_test, y_test) = mnist.load_data()\n",
    "\n",
    "# Normalizando os valores\n",
    "x_train, x_test = x_train/255, x_test/255\n",
    "\n",
    "# Ajustando formato\n",
    "x_train = x_train.reshape(x_train.shape[0], x_train.shape[1]*x_train.shape[2])\n",
    "x_test = x_test.reshape(x_test.shape[0], x_test.shape[1]*x_test.shape[2])"
   ]
  },
  {
   "cell_type": "markdown",
   "metadata": {},
   "source": [
    "### 3.1.2 Árvore de Decisão"
   ]
  },
  {
   "cell_type": "code",
   "execution_count": 1,
   "metadata": {},
   "outputs": [
    {
     "ename": "NameError",
     "evalue": "name 'x_train' is not defined",
     "output_type": "error",
     "traceback": [
      "\u001b[0;31m---------------------------------------------------------------------------\u001b[0m",
      "\u001b[0;31mNameError\u001b[0m                                 Traceback (most recent call last)",
      "\u001b[0;32m<ipython-input-1-58e951e7ef80>\u001b[0m in \u001b[0;36m<module>\u001b[0;34m()\u001b[0m\n\u001b[1;32m      6\u001b[0m \u001b[0;34m\u001b[0m\u001b[0m\n\u001b[1;32m      7\u001b[0m \u001b[0;31m#-------------Criando a árvore com base nos dados de treinamento--------------#\u001b[0m\u001b[0;34m\u001b[0m\u001b[0;34m\u001b[0m\u001b[0;34m\u001b[0m\u001b[0m\n\u001b[0;32m----> 8\u001b[0;31m \u001b[0mclassificador\u001b[0m\u001b[0;34m.\u001b[0m\u001b[0mfit\u001b[0m\u001b[0;34m(\u001b[0m\u001b[0mx_train\u001b[0m\u001b[0;34m,\u001b[0m \u001b[0my_train\u001b[0m\u001b[0;34m)\u001b[0m\u001b[0;34m\u001b[0m\u001b[0;34m\u001b[0m\u001b[0m\n\u001b[0m\u001b[1;32m      9\u001b[0m \u001b[0;34m\u001b[0m\u001b[0m\n\u001b[1;32m     10\u001b[0m \u001b[0;31m#-------Passando os dados de teste pala árvore e armazenando as previsões-----#\u001b[0m\u001b[0;34m\u001b[0m\u001b[0;34m\u001b[0m\u001b[0;34m\u001b[0m\u001b[0m\n",
      "\u001b[0;31mNameError\u001b[0m: name 'x_train' is not defined"
     ]
    }
   ],
   "source": [
    "#-------------------------------Bibliotecas-----------------------------------#\n",
    "from sklearn.tree import DecisionTreeClassifier\n",
    "\n",
    "#----------------Crinado um objeto que construirá a árvore--------------------#\n",
    "classificador = DecisionTreeClassifier(criterion='entropy', random_state=0)\n",
    "\n",
    "#-------------Criando a árvore com base nos dados de treinamento--------------#\n",
    "classificador.fit(x_train, y_train)\n",
    "\n",
    "#-------Passando os dados de teste pala árvore e armazenando as previsões-----#\n",
    "previsoes = classificador.predict(x_test)\n",
    "\n",
    "#----------------Exibindo a precisão e a matriz de confusão-------------------#\n",
    "precisao = accuracy_score(y_test, previsoes)\n",
    "matriz = confusion_matrix(y_test, previsoes)\n",
    "print('precisao: {}'.format(precisao),'\\n','matriz de confusão: \\n{}' .format(matriz))"
   ]
  },
  {
   "cell_type": "markdown",
   "metadata": {},
   "source": [
    "### 3.1.3 Random Forest"
   ]
  },
  {
   "cell_type": "code",
   "execution_count": null,
   "metadata": {},
   "outputs": [],
   "source": [
    "#-------------------------------Bibliotecas-----------------------------------#\n",
    "from sklearn.ensemble import RandomForestClassifier\n",
    "from sklearn.metrics import confusion_matrix, accuracy_score\n",
    "\n",
    "#------Criando a floresta com 40 árvores baseando no criterio de entropia-----#\n",
    "classificador = RandomForestClassifier(n_estimators = 40, criterion = 'entropy', random_state = 0)\n",
    "classificador.fit(x_train, y_train)\n",
    "\n",
    "#------Passando os dados de teste palas árvores e armazenando as previsões----#\n",
    "previsoes = classificador.predict(x_test)\n",
    "\n",
    "#----------------Exibindo a precisão e a matriz de confusão-------------------#\n",
    "precisao = accuracy_score(y_test, previsoes)\n",
    "matriz = confusion_matrix(y_test, previsoes)\n",
    "print('precisao: {}'.format(precisao),'\\n','matriz de confusão: \\n{}' .format(matriz))"
   ]
  },
  {
   "cell_type": "markdown",
   "metadata": {},
   "source": [
    "## 3.2 Regressão\n",
    "Para a implementação do algoritmo foi utilizada a biblioteca Sklearn, veja a [Documentação](https://scikit-learn.org/stable/modules/classes.html#)\n",
    "\n",
    "### 3.2.1 Base de Dados\n",
    "A base de dados que será utilizada será a Boston housing price que já pode ser encontrada na base de dados do keras.\n",
    "Porém para trabalhar com o algoritmo em questão ela deve modificada em sua dimensão."
   ]
  },
  {
   "cell_type": "code",
   "execution_count": 2,
   "metadata": {},
   "outputs": [
    {
     "name": "stderr",
     "output_type": "stream",
     "text": [
      "Using TensorFlow backend.\n"
     ]
    }
   ],
   "source": [
    "from keras.datasets import boston_housing\n",
    "\n",
    "(x_train, y_train),(x_test, y_test) = boston_housing.load_data()"
   ]
  },
  {
   "cell_type": "markdown",
   "metadata": {},
   "source": [
    "### 3.2.2 Árvore de Decisão"
   ]
  },
  {
   "cell_type": "code",
   "execution_count": null,
   "metadata": {},
   "outputs": [],
   "source": [
    "#-------------------------------Biblioteca------------------------------------#\n",
    "from sklearn.tree import DecisionTreeRegressor\n",
    "\n",
    "#---------------------------Criando o regressor-------------------------------#\n",
    "regressor = DecisionTreeRegressor()\n",
    "regressor.fit(x_train, y_train)\n",
    "\n",
    "#----Ver a correlação do modelo com relação a base de dados de Treinamento----#\n",
    "score = regressor.score(x_train, y_train)\n",
    "print('A correlação do modelo com a base de dados de treinamento é de: {}'.format(score))\n",
    "\n",
    "#-------Ver a correlação do modelo com relação a base de dados de teste-------#\n",
    "score = regressor.score(x_test, y_test)\n",
    "print('A correlação do modelo com a base de dados de teste é de: {}'.format(score))\n",
    "\n",
    "#------------------------------Prevendo um valor------------------------------#\n",
    "previsoes = regressor.predict(x_test)\n",
    "\n",
    "#------------------Diferança entre valores reais e previstos------------------#\n",
    "erro_absoluto = mean_absolute_error(y_test, previsoes)\n",
    "erro_quadratico = mean_squared_error(y_test, previsoes)\n",
    "print('Erro absoluto: {}'.format(erro_absoluto))\n",
    "print('Erro quadratico: {}'.format(erro_quadratico))"
   ]
  },
  {
   "cell_type": "markdown",
   "metadata": {},
   "source": [
    "### 3.2.3 Random Forest"
   ]
  },
  {
   "cell_type": "code",
   "execution_count": null,
   "metadata": {},
   "outputs": [],
   "source": [
    "#-------------------------------Biblioteca------------------------------------#\n",
    "from sklearn.ensemble import RandomForestRegressor\n",
    "\n",
    "#------------------------------Criando o regressor----------------------------#\n",
    "regressor = RandomForestRegressor(n_estimators=10)\n",
    "regressor.fit(x_train, y_train)\n",
    "\n",
    "#----Ver a correlação do modelo com relação a base de dados de Treinamento----#\n",
    "score = regressor.score(x_train, y_train)\n",
    "print('A correlação do modelo com a base de dados de treinamento é de: {}'.format(score))\n",
    "\n",
    "#-------Ver a correlação do modelo com relação a base de dados de teste-------#\n",
    "score = regressor.score(x_test, y_test)\n",
    "print('A correlação do modelo com a base de dados de teste é de: {}'.format(score))\n",
    "\n",
    "#------------------------------Prevendo um valor------------------------------#\n",
    "previsoes = regressor.predict(x_test)\n",
    "\n",
    "#------------------Diferança entre valores reais e previstos------------------#\n",
    "from sklearn.metrics import mean_absolute_error, mean_squared_error\n",
    "erro_absoluto = mean_absolute_error(y_test, previsoes)\n",
    "erro_quadratico = mean_squared_error(y_test, previsoes)\n",
    "print('Erro absoluto: {}'.format(erro_absoluto))\n",
    "print('Erro quadratico: {}'.format(erro_quadratico))\n"
   ]
  }
 ],
 "metadata": {
  "kernelspec": {
   "display_name": "Python 3",
   "language": "python",
   "name": "python3"
  },
  "language_info": {
   "codemirror_mode": {
    "name": "ipython",
    "version": 3
   },
   "file_extension": ".py",
   "mimetype": "text/x-python",
   "name": "python",
   "nbconvert_exporter": "python",
   "pygments_lexer": "ipython3",
   "version": "3.6.8"
  }
 },
 "nbformat": 4,
 "nbformat_minor": 2
}
