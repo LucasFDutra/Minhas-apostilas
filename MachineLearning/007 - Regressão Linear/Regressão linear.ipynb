{
 "cells": [
  {
   "cell_type": "markdown",
   "metadata": {
    "_cell_guid": "b1076dfc-b9ad-4769-8c92-a6c4dae69d19",
    "_uuid": "8f2839f25d086af736a60e9eeb907d3b93b6e0e5"
   },
   "source": [
    "# **REGRESSÃO LINEAR**\n",
    "\n",
    "O algoritmo de regressão tenta encontrar uma reta que descreve a trajetória dos registros, ou seja, se tivermos registros no plano xy, o algoritmo tenta traçar uma reta que passe por todos eles, mas nunca vai conseguir, dai ele traça uma reta que representa essa distribuição, e que tenha o menor erro possível. O erro é dado pela distância entre o ponto e a reta.\n",
    "\n",
    "![](https://cdn-images-1.medium.com/max/1600/1*eeIvlwkMNG1wSmj3FR6M2g.gif)\n",
    "\n",
    "Fonte: https://towardsdatascience.com/linear-regression-the-easier-way-6f941aa471ea\n",
    "\n",
    "- Regressão linear simples:\n",
    "    - Apenas 1 atributo.\n",
    "    - Equação: $ y=b_0+b_1.x $\n",
    "\n",
    "- Regressão linear múltipla:\n",
    "    - Mais de 1 atributo.\n",
    "    - Equação: $y=b_0+b_1.x_1+b_2.x_2+b_3.x_3+...+b_n.x_n$\n",
    "    \n",
    "- Correlação: Se `x` e `y` tiverem uma correlação forte, quer dizer que `x` influencia `y`. Isso pode ocorrer de forma diretamente proporcional (positiva) ou inversamente proporcional (negativa). Se a correlação for forte é bem provável que o modelo de regressão linear adapte-se bem aos dados.\n",
    "\n",
    "|Correlação (r)|Força|\n",
    "|-|-|\n",
    "|1|Forte|\n",
    "|0|Inexistente|\n",
    "|-1|Forte|\n",
    "\n",
    "---\n",
    "- Links para aprender mais:\n",
    "    - [Introdução a Regressão Linear - IAexpert](https://iaexpert.com.br/index.php/2018/11/30/introducao-a-regressao-linear/).\n",
    "    - [Simple Linear Regression - Cognitive Class](https://www.youtube.com/watch?v=zWcSM59wbHc&feature=youtu.be)\n",
    "    - [Multiple Linear Regression - Cognitive Class](https://www.youtube.com/watch?v=-frTbwhs0Y0&feature=youtu.be)\n",
    "    - [Linear Regression: The Easier Way - SAGAR SHARMA](https://towardsdatascience.com/linear-regression-the-easier-way-6f941aa471ea)\n",
    "    - [Regressão Linear e o Mínimo Quadrado - Khan Academy em Português](https://www.youtube.com/watch?v=sIzQ0my3bRA)\n",
    "    - [Calculando o coeficiente de correlação r - Khan Academy em Português](https://www.youtube.com/watch?v=m1bqsFYVxwM)\n",
    "---\n",
    "\n",
    "# **IMPLEMENTAÇÃO**\n",
    "Para a implementação do algoritmo foi utilizada a biblioteca Sklearn, veja a [Documentação](https://scikit-learn.org/stable/modules/classes.html#)   \n",
    "\n",
    "## REGRESSÃO SIMPLES\n",
    "### **Base de dados**\n",
    "A base de dados que será utilizada será a Boston housing price que já pode ser encontrada na base de dados do keras. Porém essa base de dados possui 13 atributos, logo irei precisar eliminar 12 deles para fazer a regressão simples.\n",
    "\n",
    "> Como irei pegar a primeira coluna como único atributo, é provável que os resultados não sejam muito bons, afinal estou perdendo muitos dados e também podem ser dados que não possuem uma boa correlação com a saída, porém tudo isso aqui é apenas para mostrar como se implementa uma regressão linear.\n",
    "\n",
    "### **Escalonando os dados**\n",
    "Por se tratar de um problema de regressão é necessário efetuar o escalonamento dos dados, para isso será utilizada a biblioteca sklearn. É conveniente que o escalonamento seja feito antes de dividir a base de dados em treinamento e teste."
   ]
  },
  {
   "cell_type": "code",
   "execution_count": 1,
   "metadata": {
    "_cell_guid": "79c7e3d0-c299-4dcb-8224-4455121ee9b0",
    "_uuid": "d629ff2d2480ee46fbb7e2d37f6b5fab8052498a"
   },
   "outputs": [
    {
     "name": "stderr",
     "output_type": "stream",
     "text": [
      "Using TensorFlow backend.\n"
     ]
    },
    {
     "name": "stdout",
     "output_type": "stream",
     "text": [
      "Downloading data from https://s3.amazonaws.com/keras-datasets/boston_housing.npz\n",
      "57344/57026 [==============================] - 0s 0us/step\n"
     ]
    }
   ],
   "source": [
    "from keras.datasets import boston_housing\n",
    "(x, y),(_,_) = boston_housing.load_data(test_split=0) # não carrego os dados de teste"
   ]
  },
  {
   "cell_type": "code",
   "execution_count": 2,
   "metadata": {
    "_uuid": "5f568b568b12b10940c9e515902fd025f16de329"
   },
   "outputs": [
    {
     "data": {
      "text/plain": [
       "(506, 13)"
      ]
     },
     "execution_count": 2,
     "metadata": {},
     "output_type": "execute_result"
    }
   ],
   "source": [
    "x.shape"
   ]
  },
  {
   "cell_type": "code",
   "execution_count": 3,
   "metadata": {
    "_uuid": "4d4e87a9fa71e14d585a3583eb17667254dda25d"
   },
   "outputs": [
    {
     "data": {
      "text/plain": [
       "(506,)"
      ]
     },
     "execution_count": 3,
     "metadata": {},
     "output_type": "execute_result"
    }
   ],
   "source": [
    "y.shape"
   ]
  },
  {
   "cell_type": "markdown",
   "metadata": {
    "_uuid": "de821844c05a74eeb393553f52f86a3cd6e17fe7"
   },
   "source": [
    "É necessário transformar o formato de y, pois para efetuar o escalonamento é necessário que ele possua o formato de (x,y)."
   ]
  },
  {
   "cell_type": "code",
   "execution_count": 4,
   "metadata": {
    "_uuid": "d20d998ea7a07c8eeeb3b1d2d2d1e5c3f5c1411f"
   },
   "outputs": [
    {
     "data": {
      "text/plain": [
       "(506, 1)"
      ]
     },
     "execution_count": 4,
     "metadata": {},
     "output_type": "execute_result"
    }
   ],
   "source": [
    "y = y.reshape(506,1)\n",
    "y.shape"
   ]
  },
  {
   "cell_type": "markdown",
   "metadata": {
    "_uuid": "3c7765400e817a11a93bd47a47d751a9077980ab"
   },
   "source": [
    "### **Escalonando os dados**"
   ]
  },
  {
   "cell_type": "code",
   "execution_count": 5,
   "metadata": {
    "_uuid": "0098bff64aa281b19045afc390c6a8a0687fcc41"
   },
   "outputs": [],
   "source": [
    "from sklearn.preprocessing import StandardScaler\n",
    "scaler_x = StandardScaler()\n",
    "scaler_y = StandardScaler()\n",
    "x = scaler_x.fit_transform(x)\n",
    "y = scaler_y.fit_transform(y)"
   ]
  },
  {
   "cell_type": "code",
   "execution_count": 6,
   "metadata": {
    "_uuid": "f9ee6987654759b15da086677d919a16f9d9d166"
   },
   "outputs": [
    {
     "data": {
      "text/plain": [
       "(506, 13)"
      ]
     },
     "execution_count": 6,
     "metadata": {},
     "output_type": "execute_result"
    }
   ],
   "source": [
    "x.shape"
   ]
  },
  {
   "cell_type": "code",
   "execution_count": 7,
   "metadata": {
    "_uuid": "e5da78331c8330d672414df68816afab119d157f"
   },
   "outputs": [
    {
     "data": {
      "text/plain": [
       "(506, 1)"
      ]
     },
     "execution_count": 7,
     "metadata": {},
     "output_type": "execute_result"
    }
   ],
   "source": [
    "y.shape"
   ]
  },
  {
   "cell_type": "markdown",
   "metadata": {
    "_uuid": "9a972891b9119efea1c1fd2153751ee30ae72a1a"
   },
   "source": [
    "### **Dividindo a base de dados em treinamento e teste**"
   ]
  },
  {
   "cell_type": "code",
   "execution_count": 8,
   "metadata": {
    "_uuid": "58ee291f4c236f9db8f79775d2ca0d139f483ea9"
   },
   "outputs": [],
   "source": [
    "from sklearn.model_selection import train_test_split\n",
    "x_train, x_test, y_train, y_test = train_test_split(x[:,0:1],y, test_size = 0.3, random_state = 0) # 30% de test"
   ]
  },
  {
   "cell_type": "code",
   "execution_count": 9,
   "metadata": {
    "_uuid": "d393a93d551f39de74b07c747e0e9a99387cba73"
   },
   "outputs": [
    {
     "data": {
      "text/plain": [
       "(354, 1)"
      ]
     },
     "execution_count": 9,
     "metadata": {},
     "output_type": "execute_result"
    }
   ],
   "source": [
    "x_train.shape"
   ]
  },
  {
   "cell_type": "markdown",
   "metadata": {
    "_uuid": "b2c3ce6cc6274424e78679ff81f9055ebb4cedc8"
   },
   "source": [
    "### **Criando e treinando o regressor**"
   ]
  },
  {
   "cell_type": "code",
   "execution_count": 10,
   "metadata": {
    "_uuid": "ead2dd3fb9e9006056bfabafc25b8d407cc3651c"
   },
   "outputs": [
    {
     "data": {
      "text/plain": [
       "LinearRegression(copy_X=True, fit_intercept=True, n_jobs=None,\n",
       "         normalize=False)"
      ]
     },
     "execution_count": 10,
     "metadata": {},
     "output_type": "execute_result"
    }
   ],
   "source": [
    "#------------------------------Criando o regressor----------------------------#\n",
    "from sklearn.linear_model import LinearRegression\n",
    "regressor = LinearRegression()\n",
    "regressor.fit(x_train,y_train)"
   ]
  },
  {
   "cell_type": "markdown",
   "metadata": {
    "_uuid": "44d530de46258eaccdd372aa7bbd998c47235c3a"
   },
   "source": [
    "Exibindo os valores dos coeficientes da equação da reta."
   ]
  },
  {
   "cell_type": "code",
   "execution_count": 11,
   "metadata": {
    "_uuid": "ca84480198a92396f4bb7026af7451bfd43248f2"
   },
   "outputs": [
    {
     "name": "stdout",
     "output_type": "stream",
     "text": [
      "b0 = [-0.0163901]\n",
      "b1 = [[-0.48076986]]\n"
     ]
    }
   ],
   "source": [
    "#--------------------------Visualizando os coeficientes-----------------------#\n",
    "print('b0 = {}'.format(regressor.intercept_))\n",
    "print('b1 = {}'.format(regressor.coef_))"
   ]
  },
  {
   "cell_type": "markdown",
   "metadata": {
    "_uuid": "23caed86db7dd5866004786beb20b9e35cf0d6e0"
   },
   "source": [
    "Através da biblioteca matplotlib pode-se visualizar a reta de regressão juntamente com os pontos reais. \n",
    "> Como todos os dados estão na mesma base de escalonamento, não irei reverter a base, pois não fará diferença no desenho do gráfico."
   ]
  },
  {
   "cell_type": "code",
   "execution_count": 12,
   "metadata": {
    "_uuid": "f843f7075bffd86f9637b380389204edc0d80524",
    "scrolled": false
   },
   "outputs": [
    {
     "data": {
      "text/plain": [
       "[<matplotlib.lines.Line2D at 0x7f0802a3b400>]"
      ]
     },
     "execution_count": 12,
     "metadata": {},
     "output_type": "execute_result"
    },
    {
     "data": {
      "image/png": "[encoded data removed]",
      "text/plain": [
       "<Figure size 432x288 with 1 Axes>"
      ]
     },
     "metadata": {},
     "output_type": "display_data"
    }
   ],
   "source": [
    "#---Comando exclusivo para o jupyter. Faz a plotagem do matplotlib ser exibida\n",
    "%matplotlib inline  \n",
    "import matplotlib.pyplot as plt\n",
    "plt.scatter(x_train, y_train, label = 'Valores Reais')\n",
    "plt.plot(x_train, regressor.predict(x_train), color = 'red', label = 'Reta de Regressão')"
   ]
  },
  {
   "cell_type": "markdown",
   "metadata": {
    "_uuid": "cdafa894989bcaba3682698a05eab8d9607f66aa"
   },
   "source": [
    "Pode-se prever um valor e verificar."
   ]
  },
  {
   "cell_type": "code",
   "execution_count": 13,
   "metadata": {
    "_uuid": "7c6d391bc51699645fbbceea1fe83413fc7387bf"
   },
   "outputs": [],
   "source": [
    "#------------------------------Prevendo um valor------------------------------#\n",
    "previsoes = regressor.predict(x_test)"
   ]
  },
  {
   "cell_type": "markdown",
   "metadata": {
    "_uuid": "ced92637253c071badb35d118b7df81459d2e84c"
   },
   "source": [
    "Pode-se verificar a correlação do modelo, que basicamente vai nos dizer a sua precisão.\n",
    "\n",
    "> OBS.: Esse valor é com relação a base de dados de treinamento, logo ele pode dar grande, mas se o fizermos com relação à base de teste ele pode dar pequeno, o que caracteriza overfitting."
   ]
  },
  {
   "cell_type": "code",
   "execution_count": 14,
   "metadata": {
    "_uuid": "9fda0a881b617906ef491edb35c59c5c34ea5167"
   },
   "outputs": [
    {
     "name": "stdout",
     "output_type": "stream",
     "text": [
      "A correlação do modelo com a base de dados de treinamento é de: 0.16392077356972568\n",
      "A correlação do modelo com a base de dados de teste é de: 0.07693708872895111\n"
     ]
    }
   ],
   "source": [
    "#----Ver a correlação do modelo com relação a base de dados de Treinamento----#\n",
    "score = regressor.score(x_train, y_train)\n",
    "print('A correlação do modelo com a base de dados de treinamento é de: {}'.format(score))\n",
    "\n",
    "#-------Ver a correlação do modelo com relação a base de dados de teste-------#\n",
    "score = regressor.score(x_test, y_test)\n",
    "print('A correlação do modelo com a base de dados de teste é de: {}'.format(score))"
   ]
  },
  {
   "cell_type": "markdown",
   "metadata": {
    "_uuid": "b04f627b5b831ca544b9e340915f8d2e4c980413"
   },
   "source": [
    "Outra possibilidade é verificar a distância entre os pontos e a reta de regressão. \n",
    "\n",
    "A biblioteca yellowbrick coloca a reta no eixo x e espaça os pontos em y indicando suas distâncias com relação a reta."
   ]
  },
  {
   "cell_type": "code",
   "execution_count": 15,
   "metadata": {
    "_uuid": "ead6c132364d9131dd4892e57b9ad329eeeb5e5b",
    "scrolled": false
   },
   "outputs": [
    {
     "data": {
      "image/png": "[encoded data removed]",
      "text/plain": [
       "<Figure size 576x396 with 2 Axes>"
      ]
     },
     "metadata": {},
     "output_type": "display_data"
    }
   ],
   "source": [
    "#-----------------------Verificar os desvios (erros)---------------------------#\n",
    "# Mostra a distancia entre cada ponto e a reta, sendo que a reta está no 0     #\n",
    "#------------------------------------------------------------------------------#\n",
    "from yellowbrick.regressor import ResidualsPlot\n",
    "visualizador = ResidualsPlot(regressor)\n",
    "visualizador.fit(x_train,y_train)\n",
    "visualizador.poof()"
   ]
  },
  {
   "cell_type": "markdown",
   "metadata": {
    "_uuid": "b218582bf9fc0ce8c2367ae12330d1419008e77d"
   },
   "source": [
    "> OBS.: Veja na parte superior à direita do gráfico que temos o valor Train $R^2$ = 0.164, esse valor é igual a correlação do modelo.\n",
    "\n",
    "E por fim pode-se medir os erros absoluto e quadrático médio."
   ]
  },
  {
   "cell_type": "code",
   "execution_count": 16,
   "metadata": {
    "_uuid": "ca7e628a0dbbd163e0a4204cb931ce423239e7d3"
   },
   "outputs": [
    {
     "name": "stdout",
     "output_type": "stream",
     "text": [
      "Erro absoluto: 0.6268465400185806\n",
      "Erro quadratico: 0.7834711013236023\n"
     ]
    }
   ],
   "source": [
    "#------------------Diferança entre valores reais e previstos------------------#\n",
    "from sklearn.metrics import mean_absolute_error, mean_squared_error\n",
    "erro_absoluto = mean_absolute_error(y_test, previsoes)\n",
    "erro_quadratico = mean_squared_error(y_test, previsoes)\n",
    "print('Erro absoluto: {}'.format(erro_absoluto))\n",
    "print('Erro quadratico: {}'.format(erro_quadratico))"
   ]
  },
  {
   "cell_type": "markdown",
   "metadata": {
    "_uuid": "6524392b33cc9e73fd553d29927f8a6c40e3b7d0"
   },
   "source": [
    "## REGRESSÃO LINEAR MÚLTIPLA\n",
    "A implementação da regressão múltipla é idêntica a implementação da simples, a diferença está apenas na quantidade de atributos que irão para o x.\n",
    "\n",
    "### **Base de dados**\n",
    "A base de dados que será utilizada será a Boston housing price que já pode ser encontrada na base de dados do keras."
   ]
  },
  {
   "cell_type": "code",
   "execution_count": 17,
   "metadata": {
    "_cell_guid": "79c7e3d0-c299-4dcb-8224-4455121ee9b0",
    "_uuid": "d629ff2d2480ee46fbb7e2d37f6b5fab8052498a"
   },
   "outputs": [],
   "source": [
    "from keras.datasets import boston_housing\n",
    "(x, y),(_,_) = boston_housing.load_data(test_split=0) # não carrego os dados de teste"
   ]
  },
  {
   "cell_type": "code",
   "execution_count": 18,
   "metadata": {
    "_uuid": "5f568b568b12b10940c9e515902fd025f16de329"
   },
   "outputs": [
    {
     "data": {
      "text/plain": [
       "(506, 13)"
      ]
     },
     "execution_count": 18,
     "metadata": {},
     "output_type": "execute_result"
    }
   ],
   "source": [
    "x.shape"
   ]
  },
  {
   "cell_type": "code",
   "execution_count": 19,
   "metadata": {
    "_uuid": "4d4e87a9fa71e14d585a3583eb17667254dda25d"
   },
   "outputs": [
    {
     "data": {
      "text/plain": [
       "(506,)"
      ]
     },
     "execution_count": 19,
     "metadata": {},
     "output_type": "execute_result"
    }
   ],
   "source": [
    "y.shape"
   ]
  },
  {
   "cell_type": "markdown",
   "metadata": {
    "_uuid": "de821844c05a74eeb393553f52f86a3cd6e17fe7"
   },
   "source": [
    "É necessário transformar o formato de y, pois para efetuar o escalonamento é necessário que ele possua o formato de (x,y)."
   ]
  },
  {
   "cell_type": "code",
   "execution_count": 20,
   "metadata": {
    "_uuid": "d20d998ea7a07c8eeeb3b1d2d2d1e5c3f5c1411f"
   },
   "outputs": [
    {
     "data": {
      "text/plain": [
       "(506, 1)"
      ]
     },
     "execution_count": 20,
     "metadata": {},
     "output_type": "execute_result"
    }
   ],
   "source": [
    "y = y.reshape(506,1)\n",
    "y.shape"
   ]
  },
  {
   "cell_type": "markdown",
   "metadata": {
    "_uuid": "3c7765400e817a11a93bd47a47d751a9077980ab"
   },
   "source": [
    "### **Escalonando os dados**"
   ]
  },
  {
   "cell_type": "code",
   "execution_count": 21,
   "metadata": {
    "_uuid": "0098bff64aa281b19045afc390c6a8a0687fcc41"
   },
   "outputs": [],
   "source": [
    "from sklearn.preprocessing import StandardScaler\n",
    "scaler_x = StandardScaler()\n",
    "scaler_y = StandardScaler()\n",
    "x = scaler_x.fit_transform(x)\n",
    "y = scaler_y.fit_transform(y)"
   ]
  },
  {
   "cell_type": "code",
   "execution_count": 22,
   "metadata": {
    "_uuid": "f9ee6987654759b15da086677d919a16f9d9d166"
   },
   "outputs": [
    {
     "data": {
      "text/plain": [
       "(506, 13)"
      ]
     },
     "execution_count": 22,
     "metadata": {},
     "output_type": "execute_result"
    }
   ],
   "source": [
    "x.shape"
   ]
  },
  {
   "cell_type": "code",
   "execution_count": 23,
   "metadata": {
    "_uuid": "e5da78331c8330d672414df68816afab119d157f"
   },
   "outputs": [
    {
     "data": {
      "text/plain": [
       "(506, 1)"
      ]
     },
     "execution_count": 23,
     "metadata": {},
     "output_type": "execute_result"
    }
   ],
   "source": [
    "y.shape"
   ]
  },
  {
   "cell_type": "markdown",
   "metadata": {
    "_uuid": "9a972891b9119efea1c1fd2153751ee30ae72a1a"
   },
   "source": [
    "### **Dividindo a dase de dados em treinamento e teste**"
   ]
  },
  {
   "cell_type": "code",
   "execution_count": 24,
   "metadata": {
    "_uuid": "58ee291f4c236f9db8f79775d2ca0d139f483ea9"
   },
   "outputs": [],
   "source": [
    "from sklearn.model_selection import train_test_split\n",
    "x_train, x_test, y_train, y_test = train_test_split(x,y, test_size = 0.3, random_state = 0) # 30% de test"
   ]
  },
  {
   "cell_type": "code",
   "execution_count": 25,
   "metadata": {
    "_uuid": "d393a93d551f39de74b07c747e0e9a99387cba73"
   },
   "outputs": [
    {
     "data": {
      "text/plain": [
       "(354, 13)"
      ]
     },
     "execution_count": 25,
     "metadata": {},
     "output_type": "execute_result"
    }
   ],
   "source": [
    "x_train.shape"
   ]
  },
  {
   "cell_type": "markdown",
   "metadata": {
    "_uuid": "b2c3ce6cc6274424e78679ff81f9055ebb4cedc8"
   },
   "source": [
    "### **Criando e treinando o regressor**"
   ]
  },
  {
   "cell_type": "code",
   "execution_count": 26,
   "metadata": {
    "_uuid": "9be10ee7de006ecaaf5aec8ff6ddc4b9fce7f687"
   },
   "outputs": [
    {
     "name": "stdout",
     "output_type": "stream",
     "text": [
      "A correlação do modelo com a base de dados de treinamento é de: 0.7385354802462833\n",
      "A correlação do modelo com a base de dados de teste é de: 0.7352897705452341\n",
      "Erro absoluto: 0.3581491001298181\n",
      "Erro quadratico: 0.22467896009056512\n"
     ]
    }
   ],
   "source": [
    "#------------------------------Criando o regressor----------------------------#\n",
    "from sklearn.linear_model import LinearRegression\n",
    "regressor = LinearRegression()\n",
    "regressor.fit(x_train,y_train)\n",
    "\n",
    "#----Ver a correlação do modelo com relação a base de dados de Treinamento----#\n",
    "score = regressor.score(x_train, y_train)\n",
    "print('A correlação do modelo com a base de dados de treinamento é de: {}'.format(score))\n",
    "\n",
    "#-------Ver a correlação do modelo com relação a base de dados de teste-------#\n",
    "score = regressor.score(x_test, y_test)\n",
    "print('A correlação do modelo com a base de dados de teste é de: {}'.format(score))\n",
    "\n",
    "#------------------------------Prevendo um valor------------------------------#\n",
    "previsoes = regressor.predict(x_test)\n",
    "\n",
    "#------------------Diferança entre valores reais e previstos------------------#\n",
    "erro_absoluto = mean_absolute_error(y_test, previsoes)\n",
    "erro_quadratico = mean_squared_error(y_test, previsoes)\n",
    "print('Erro absoluto: {}'.format(erro_absoluto))\n",
    "print('Erro quadratico: {}'.format(erro_quadratico))"
   ]
  }
 ],
 "metadata": {
  "kernelspec": {
   "display_name": "Python 3",
   "language": "python",
   "name": "python3"
  },
  "language_info": {
   "codemirror_mode": {
    "name": "ipython",
    "version": 3
   },
   "file_extension": ".py",
   "mimetype": "text/x-python",
   "name": "python",
   "nbconvert_exporter": "python",
   "pygments_lexer": "ipython3",
   "version": "3.6.8"
  }
 },
 "nbformat": 4,
 "nbformat_minor": 1
}
