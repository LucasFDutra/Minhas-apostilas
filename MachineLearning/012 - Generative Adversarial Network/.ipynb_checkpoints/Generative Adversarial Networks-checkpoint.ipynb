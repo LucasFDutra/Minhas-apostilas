{
 "cells": [
  {
   "cell_type": "markdown",
   "metadata": {
    "_uuid": "422e2a765075f0215ca22a10753eed55388b883d",
    "colab_type": "text",
    "id": "dSC0FBEptpOc"
   },
   "source": [
    "# Redes Adversáriais Generativas (GAN)\n",
    "\n",
    "Uma rede adversárial generativa tem como principal característica a capacidade de criar por conta própria.\n",
    "\n",
    "- Aplicações:\n",
    "  - Criar textos.\n",
    "  - Criar imagens.\n",
    "  - Aumentar a resolução de imagens.\n",
    "  - Converter texto para imagem (descreve a imagem e ele gera).\n",
    "\n",
    "A construção de uma GAN consiste em duas partes, o **Gerador** e o **Discriminador**.\n",
    "\n",
    "Cada uma dessas partes são constituidas por redes neurais. Em que o processo acontece da seguinte forma, o gerador gera uma saída com base numa entrada ruidosa (conjunto de valores aleatórios) e a apresenta ao discriminador, que irá analisar essa saída e ver se ela faz ou não sentido, caso não faça o discriminador retorna falso para o gerador que irá gerar uma nova saída, e assim por diante até termos uma saída que seja satisfatória para o discriminador.\n",
    "\n",
    "![alt text](https://raw.githubusercontent.com/LucasFDutra/Estudos/master/Machine%20Learning/Generative%20Adversarial%20Network/Imagens/Figura_1.png)\n",
    "![alt text](https://raw.githubusercontent.com/LucasFDutra/Estudos/master/Machine%20Learning/Generative%20Adversarial%20Network/Imagens/Figura_2.gif)\n",
    "\n",
    "\n",
    "---\n",
    "\n",
    "\n",
    "- Links para aprender mais:\n",
    "  - [Generative Adversarial Networks - Demystified! - Ibtesam Ahmed](https://www.kaggle.com/ibtesama/generative-adversarial-networks-demystified)\n",
    "  - [Generative Adversarial Networks for beginners - Jon BrunerAdit Deshpande](https://www.oreilly.com/learning/generative-adversarial-networks-for-beginners)\n",
    "  - [Generating Pokemon with a Generative Adversarial Network - Siraj Raval](https://www.youtube.com/watch?v=yz6dNf7X7SA)\n",
    "  - [Generative Adversarial Networks - Siraj Raval](https://www.youtube.com/watch?v=0VPQHbMvGzg)\n",
    "  - [Introdução a redes adversariais generativas - Jones Granatyr](https://www.youtube.com/watch?v=KC1kqBTzO50&feature=youtu.be)\n",
    "  \n",
    "\n",
    "---\n",
    "\n",
    "## Up-Sampling\n",
    "\n",
    "Up-Sampling é quando se efetua o processo contrário do max-pooling. Ou seja, tem o objetivo de aumentar a imagem que está sendo inserida na rede.\n",
    "\n",
    "---\n",
    "- Veja mais em: \n",
    "  - [Up-sampling with Transposed Convolution - Naoki Shibuya](https://towardsdatascience.com/up-sampling-with-transposed-convolution-9ae4f2df52d0)\n",
    "  - [Wikipedia](https://en.wikipedia.org/wiki/Upsampling)\n",
    "---\n",
    "# Implementando a Rede\n",
    "## Importando As Bibiliotecas Necessárias\n",
    "\n",
    "Para trabalhar com esse exemplo utilizaremos o tensorflow com o keras sendo sua High level API.\n",
    "\n",
    "Para ter um melhor entendimento de todos os comando utilizados consulte as documentações do [tensorflow](https://www.tensorflow.org/api_docs/python) e [keras](https://keras.io/)."
   ]
  },
  {
   "cell_type": "code",
   "execution_count": 1,
   "metadata": {
    "_uuid": "00ba254d153d88bf1f0e735810aabf24bf29eee7",
    "colab": {},
    "colab_type": "code",
    "id": "TXfONRNC9_Pj"
   },
   "outputs": [],
   "source": [
    "import tensorflow as tf\n",
    "import matplotlib.pyplot as plt\n",
    "import numpy as np"
   ]
  },
  {
   "cell_type": "markdown",
   "metadata": {
    "_uuid": "28cbac7d9685a4602887f8594d6ef0908af96f7f",
    "colab_type": "text",
    "id": "UMwjhzmxOceb"
   },
   "source": [
    "## Adicionando Dataset\n",
    "\n",
    "O dataset que irei utilizar será o cifar-10 que já se encontra disponivel no repositório de bibliotecas como por exemplo tensorflow e keras."
   ]
  },
  {
   "cell_type": "code",
   "execution_count": 2,
   "metadata": {
    "_uuid": "8dae448938cfa26745034312bbeb828873e91402",
    "colab": {},
    "colab_type": "code",
    "id": "zv--9V4KP8dB"
   },
   "outputs": [
    {
     "name": "stdout",
     "output_type": "stream",
     "text": [
      "Downloading data from https://www.cs.toronto.edu/~kriz/cifar-10-python.tar.gz\n",
      "170500096/170498071 [==============================] - 25s 0us/step\n"
     ]
    }
   ],
   "source": [
    "# Carregando e dividindo a base de dados em treinamento e teste\n",
    "\n",
    "(x_train, y_train),(_, _) = tf.keras.datasets.cifar10.load_data()"
   ]
  },
  {
   "cell_type": "markdown",
   "metadata": {
    "_uuid": "5a41762b074380c1e46457272ddf7f56b6282446",
    "colab_type": "text",
    "id": "eRAL1Eo2RBHo"
   },
   "source": [
    "> Quando se utiliza '_' para receber o retorno de uma função, quer dizer esse retorno não será utilizado, ou seja, não irei precisar dos dados de teste.\n",
    "\n",
    "## Configurando Dataset\n",
    "\n",
    "Verificando qual a disposição dos dados (shape)."
   ]
  },
  {
   "cell_type": "code",
   "execution_count": 3,
   "metadata": {
    "_uuid": "34fa644da637fb9ec9b04d60561fd9f9f26e5bdc",
    "colab": {
     "base_uri": "https://localhost:8080/",
     "height": 34
    },
    "colab_type": "code",
    "id": "MxbLUKoXQ__W",
    "outputId": "76fb381d-7d31-4830-dff9-9836b3fdf87d"
   },
   "outputs": [
    {
     "data": {
      "text/plain": [
       "(50000, 32, 32, 3)"
      ]
     },
     "execution_count": 3,
     "metadata": {},
     "output_type": "execute_result"
    }
   ],
   "source": [
    "x_train.shape"
   ]
  },
  {
   "cell_type": "code",
   "execution_count": 4,
   "metadata": {
    "_uuid": "15005a6145a629439be9bfb64a097368a3da6992",
    "colab": {
     "base_uri": "https://localhost:8080/",
     "height": 34
    },
    "colab_type": "code",
    "id": "JzMujTJrRd-A",
    "outputId": "2a141c4e-c013-4505-99f4-cf960d52b22b"
   },
   "outputs": [
    {
     "data": {
      "text/plain": [
       "(50000, 1)"
      ]
     },
     "execution_count": 4,
     "metadata": {},
     "output_type": "execute_result"
    }
   ],
   "source": [
    "y_train.shape"
   ]
  },
  {
   "cell_type": "markdown",
   "metadata": {
    "_uuid": "d8022bac02c1d8cf8657068d4d7f0a48fdf63d77",
    "colab_type": "text",
    "id": "fcHQM4PxVhh4"
   },
   "source": [
    "Vendo o primeiro registro de x e y."
   ]
  },
  {
   "cell_type": "code",
   "execution_count": 5,
   "metadata": {
    "_uuid": "545333486b0ffd92a8e2368d9ae7d4429975f2fc",
    "colab": {
     "base_uri": "https://localhost:8080/",
     "height": 868
    },
    "colab_type": "code",
    "id": "Y1zZKMBtVgw6",
    "outputId": "2ed04ded-8fd2-4345-f399-714111b07454"
   },
   "outputs": [
    {
     "data": {
      "text/plain": [
       "array([[[ 59,  62,  63],\n",
       "        [ 43,  46,  45],\n",
       "        [ 50,  48,  43],\n",
       "        ...,\n",
       "        [158, 132, 108],\n",
       "        [152, 125, 102],\n",
       "        [148, 124, 103]],\n",
       "\n",
       "       [[ 16,  20,  20],\n",
       "        [  0,   0,   0],\n",
       "        [ 18,   8,   0],\n",
       "        ...,\n",
       "        [123,  88,  55],\n",
       "        [119,  83,  50],\n",
       "        [122,  87,  57]],\n",
       "\n",
       "       [[ 25,  24,  21],\n",
       "        [ 16,   7,   0],\n",
       "        [ 49,  27,   8],\n",
       "        ...,\n",
       "        [118,  84,  50],\n",
       "        [120,  84,  50],\n",
       "        [109,  73,  42]],\n",
       "\n",
       "       ...,\n",
       "\n",
       "       [[208, 170,  96],\n",
       "        [201, 153,  34],\n",
       "        [198, 161,  26],\n",
       "        ...,\n",
       "        [160, 133,  70],\n",
       "        [ 56,  31,   7],\n",
       "        [ 53,  34,  20]],\n",
       "\n",
       "       [[180, 139,  96],\n",
       "        [173, 123,  42],\n",
       "        [186, 144,  30],\n",
       "        ...,\n",
       "        [184, 148,  94],\n",
       "        [ 97,  62,  34],\n",
       "        [ 83,  53,  34]],\n",
       "\n",
       "       [[177, 144, 116],\n",
       "        [168, 129,  94],\n",
       "        [179, 142,  87],\n",
       "        ...,\n",
       "        [216, 184, 140],\n",
       "        [151, 118,  84],\n",
       "        [123,  92,  72]]], dtype=uint8)"
      ]
     },
     "execution_count": 5,
     "metadata": {},
     "output_type": "execute_result"
    }
   ],
   "source": [
    "x_train[0]"
   ]
  },
  {
   "cell_type": "code",
   "execution_count": 6,
   "metadata": {
    "_uuid": "a08e861430800e0846ea360d7c3016d9c771b0ad",
    "colab": {
     "base_uri": "https://localhost:8080/",
     "height": 34
    },
    "colab_type": "code",
    "id": "j-4XlwFqSTcY",
    "outputId": "2465e5f7-53dc-4ddd-d9f9-d6765c334517"
   },
   "outputs": [
    {
     "data": {
      "text/plain": [
       "array([6], dtype=uint8)"
      ]
     },
     "execution_count": 6,
     "metadata": {},
     "output_type": "execute_result"
    }
   ],
   "source": [
    "y_train[0]"
   ]
  },
  {
   "cell_type": "markdown",
   "metadata": {
    "_uuid": "14769d18c57ccda8dcac064b5d37b6d8c363b611",
    "colab_type": "text",
    "id": "g1Mi7sjeVsr8"
   },
   "source": [
    "Plotando imagem de x_train"
   ]
  },
  {
   "cell_type": "code",
   "execution_count": 7,
   "metadata": {
    "_uuid": "cd8a746afe01e4d0984cad963193dc0e67425589",
    "colab": {
     "base_uri": "https://localhost:8080/",
     "height": 364
    },
    "colab_type": "code",
    "id": "h-0gqeyvVwim",
    "outputId": "3759f513-22fb-430a-9583-e9036572f41f"
   },
   "outputs": [
    {
     "data": {
      "text/plain": [
       "<matplotlib.image.AxesImage at 0x7f37b6361c18>"
      ]
     },
     "execution_count": 7,
     "metadata": {},
     "output_type": "execute_result"
    },
    {
     "data": {
      "image/png": "[encoded data removed]",
      "text/plain": [
       "<Figure size 432x288 with 1 Axes>"
      ]
     },
     "metadata": {},
     "output_type": "display_data"
    }
   ],
   "source": [
    "plt.imshow(x_train[0])"
   ]
  },
  {
   "cell_type": "markdown",
   "metadata": {
    "_uuid": "60098f8826d1cbec21701f1a8c19e64397190164",
    "colab_type": "text",
    "id": "APT-lGJsTZtN"
   },
   "source": [
    "Veja que **y_train** possui diversos valores de classes, porém para facilitar o processo de treinamento irá trabalhar apenas com os dados de uma delas. Ou seja, se a classe 1 for de borboletas e a 2 for de pássaros e então a classe 2 for escolhida, a rede neural será treinada apenas para árvores. "
   ]
  },
  {
   "cell_type": "code",
   "execution_count": 8,
   "metadata": {
    "_uuid": "59ebb54b4d40616dc66a7d1af39fc0ad102511a0",
    "colab": {
     "base_uri": "https://localhost:8080/",
     "height": 34
    },
    "colab_type": "code",
    "id": "S7Ax-PZ2URmN",
    "outputId": "ad1300dc-e748-4662-85e7-ff5ab76caf22"
   },
   "outputs": [
    {
     "data": {
      "text/plain": [
       "(5000, 32, 32, 3)"
      ]
     },
     "execution_count": 8,
     "metadata": {},
     "output_type": "execute_result"
    }
   ],
   "source": [
    "# Deixando apenas os dados em que y_train == 2\n",
    "x_train = x_train[y_train.flatten() == 2]\n",
    "x_train.shape"
   ]
  },
  {
   "cell_type": "markdown",
   "metadata": {
    "_uuid": "dfe3ca624dd8231d9c88d5d827886db33bfbe909",
    "colab_type": "text",
    "id": "wTB35id5V0cZ"
   },
   "source": [
    "Veja que agora existem muto menos imagens em** x_train**.\n",
    "\n",
    "Plotando novamente a imagem, pode-se ver que a imagem 0 é diferente de anteriormente."
   ]
  },
  {
   "cell_type": "code",
   "execution_count": 9,
   "metadata": {
    "_uuid": "326c07c44f8eaa4381d9df955d29761d4549c326",
    "colab": {
     "base_uri": "https://localhost:8080/",
     "height": 364
    },
    "colab_type": "code",
    "id": "ijOzQtDPV82-",
    "outputId": "9e97e458-17d0-4e0e-f1ec-b655e514d96d"
   },
   "outputs": [
    {
     "data": {
      "text/plain": [
       "<matplotlib.image.AxesImage at 0x7f37b3af79b0>"
      ]
     },
     "execution_count": 9,
     "metadata": {},
     "output_type": "execute_result"
    },
    {
     "data": {
      "image/png": "[encoded data removed]",
      "text/plain": [
       "<Figure size 432x288 with 1 Axes>"
      ]
     },
     "metadata": {},
     "output_type": "display_data"
    }
   ],
   "source": [
    "plt.imshow(x_train[0])"
   ]
  },
  {
   "cell_type": "markdown",
   "metadata": {
    "_uuid": "1d72104160b51891a43e626b0a2991185005115b",
    "colab_type": "text",
    "id": "zTdoOEcTa5K_"
   },
   "source": [
    "## Configurando parâmetros\n",
    "\n",
    "Primeiramente efetua-se a configuração dos parâmetros fundamentais da rede, sendo eles, as dimensões das imagens e a dimesão do ruido de entrada no gerador."
   ]
  },
  {
   "cell_type": "code",
   "execution_count": 10,
   "metadata": {
    "_uuid": "2c2e9b45e957d399ea15d172b46017059e3591d9",
    "colab": {},
    "colab_type": "code",
    "id": "WHph9C3DaNMv"
   },
   "outputs": [],
   "source": [
    "img_linhas = 32\n",
    "img_colunas = 32\n",
    "img_canais = 3 #RGB\n",
    "img_shape = (img_linhas, img_colunas, img_canais)\n",
    "ruido_dim = 100"
   ]
  },
  {
   "cell_type": "markdown",
   "metadata": {
    "_uuid": "f7d86891661093d99eaac542eec16fe96b6bf3ae",
    "colab_type": "text",
    "id": "h4Mrr4F2WQr5"
   },
   "source": [
    "## Construindo o Gerador\n",
    "\n",
    "O gerador será feito com um rede neural deconvolucional (uma rede convolucional ao contrário)."
   ]
  },
  {
   "cell_type": "markdown",
   "metadata": {
    "_uuid": "bae246501a9456818ea58396832cc7a6bf355fd9",
    "colab_type": "text",
    "id": "1CC-QRkFamPE"
   },
   "source": [
    "> Veja que o ruido foi adcionado de forma linear, logo será necessário efeturar o reshape dele."
   ]
  },
  {
   "cell_type": "code",
   "execution_count": 11,
   "metadata": {
    "_uuid": "5759c928526f45b19f81c8a9a8d5310d21885ba1",
    "colab": {},
    "colab_type": "code",
    "id": "gg9jHzlSWixg"
   },
   "outputs": [],
   "source": [
    "def Construindo_Gerador():\n",
    "    model = tf.keras.models.Sequential()\n",
    "\n",
    "    # Definindo uma camada densa para a entrada com 128*8** neurônios.\n",
    "    model.add(tf.keras.layers.Dense(128*8*8, activation = 'relu', input_dim = ruido_dim))\n",
    "    model.add(tf.keras.layers.Reshape((8,8,128))) # size = (8,8,128) -> 128 Canais\n",
    "\n",
    "    # 1º Up-Sampling\n",
    "    model.add(tf.keras.layers.UpSampling2D(size=(2,2))) # size = (16, 16, 128)\n",
    "\n",
    "    # 1ª Camada de convolução\n",
    "    model.add(tf.keras.layers.Conv2D(128, kernel_size=3, padding=\"same\")) # Same faz com que a dimensão da imagem não seja reduzida após passar pelo kernel preenchendo as laterais com 0.\n",
    "    model.add(tf.keras.layers.BatchNormalization(momentum=0.8))\n",
    "    model.add(tf.keras.layers.Activation('relu')) # Foi preferível colocar a função de ativação fora do Conv2D para poder efetuar a normalização antes de aplicar 'relu'.\n",
    "\n",
    "    # 2º Up-Sampling\n",
    "    model.add(tf.keras.layers.UpSampling2D(size=(2,2))) # size = (32, 32, 128)\n",
    "\n",
    "    # 2ª Camada de convolução\n",
    "    model.add(tf.keras.layers.Conv2D(64, kernel_size=3, padding=\"same\"))\n",
    "    model.add(tf.keras.layers.BatchNormalization(momentum=0.8))\n",
    "    model.add(tf.keras.layers.Activation('relu')) # Foi preferível colocar a função de ativação fora do Conv2D para poder efetuar a normalização antes de aplicar 'relu'.\n",
    "\n",
    "    # 3ª Camada de convolução\n",
    "    model.add(tf.keras.layers.Conv2D(img_canais, activation='tanh', kernel_size=3, padding=\"same\")) # size = (32, 32, 3)\n",
    "    \n",
    "    return model"
   ]
  },
  {
   "cell_type": "markdown",
   "metadata": {
    "_uuid": "0a7f163ebf986212ef7aad8c2a0480d48b6e86ef",
    "colab_type": "text",
    "id": "LcGElToOm5aM"
   },
   "source": [
    "## Construindo o Discriminador\n",
    "\n",
    "O discriminador será uma rede convolucional."
   ]
  },
  {
   "cell_type": "code",
   "execution_count": 12,
   "metadata": {
    "_uuid": "f1661e558f9eb3753228b604d2e9473a1b799218",
    "colab": {},
    "colab_type": "code",
    "id": "79x8lA0hnU5p"
   },
   "outputs": [],
   "source": [
    "def Construindo_Discriminador():\n",
    "    model = tf.keras.models.Sequential()\n",
    "    \n",
    "    # 1ª Camada de Convolução\n",
    "    model.add(tf.keras.layers.Conv2D(32, kernel_size=3, strides=2, input_shape=img_shape, padding=\"same\"))\n",
    "    model.add(tf.keras.layers.LeakyReLU(alpha=0.2)) # Função de ativação\n",
    "    model.add(Dropout(0.25))\n",
    "    \n",
    "    # 2ª Camada de Convolução\n",
    "    model.add(tf.keras.layers.Conv2D(64, kernel_size=3, strides=2, padding=\"same\")) # Adiciona zeros para completar as laterais\n",
    "    model.add(tf.keras.layers.ZeroPadding2D(padding=((0,1),(0,1))))\n",
    "    model.add(tf.keras.layers.BatchNormalization(momentum=0.8))\n",
    "    model.add(tf.keras.layers.LeakyReLU(alpha=0.2))\n",
    "    model.add(tf.keras.layers.Dropout(0.25))\n",
    "    \n",
    "    # 3ª Camada de Convolução\n",
    "    model.add(tf.keras.layers.Conv2D(128, kernel_size=3, strides=2, padding=\"same\"))\n",
    "    model.add(tf.keras.layers.BatchNormalization(momentum=0.8))\n",
    "    model.add(tf.keras.layers.LeakyReLU(alpha=0.2))\n",
    "    model.add(tf.keras.layers.Dropout(0.25))\n",
    "    \n",
    "    # 4ª Camada de Convolução\n",
    "    model.add(tf.keras.layers.Conv2D(256, kernel_size=3, strides=1, padding=\"same\"))\n",
    "    model.add(tf.keras.layers.BatchNormalization(momentum=0.8))\n",
    "    model.add(tf.keras.layers.LeakyReLU(alpha=0.2))\n",
    "    model.add(tf.keras.layers.Dropout(0.25))\n",
    "    \n",
    "    # Camada de Flatten\n",
    "    model.add(tf.keras.layers.Flatten())\n",
    "    \n",
    "    # Camada de Saída\n",
    "    model.add(tf.keras.layers.Dense(1, activation='sigmoid'))\n",
    "    \n",
    "    return model"
   ]
  }
 ],
 "metadata": {
  "accelerator": "GPU",
  "colab": {
   "include_colab_link": true,
   "name": "Generative Adversarial Network.ipynb",
   "provenance": [],
   "version": "0.3.2"
  },
  "kernelspec": {
   "display_name": "Python 3",
   "language": "python",
   "name": "python3"
  },
  "language_info": {
   "codemirror_mode": {
    "name": "ipython",
    "version": 3
   },
   "file_extension": ".py",
   "mimetype": "text/x-python",
   "name": "python",
   "nbconvert_exporter": "python",
   "pygments_lexer": "ipython3",
   "version": "3.6.8"
  }
 },
 "nbformat": 4,
 "nbformat_minor": 1
}
