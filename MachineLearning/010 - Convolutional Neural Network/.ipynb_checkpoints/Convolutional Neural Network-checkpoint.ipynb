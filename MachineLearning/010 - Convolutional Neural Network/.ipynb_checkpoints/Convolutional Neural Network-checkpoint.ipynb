{
 "cells": [
  {
   "cell_type": "markdown",
   "metadata": {
    "_uuid": "47d8c807394360e76e1207f83f9190ae5019ed22"
   },
   "source": [
    "# Redes Neurais Convolucionais (CNN)\n",
    "\n",
    "- Muito usado para visão computaciona (identificação de imagens)\n",
    "    - Carros autônomos.\n",
    "\n",
    "Primeiramente vamos dar uma olhada no que é uma imagem. Como pode ser visto abaixo, uma imagem é um conjunto de pixels, com três camadas (RGB).\n",
    "\n",
    "![](https://raw.githubusercontent.com/LucasFDutra/Estudos/master/Machine%20Learning/Convolutional%20Neural%20Network/Imagens/Figura_1.png)\n",
    "\n",
    "A diferença entre uma rede neural convencional e uma rede neural convolucional é que a rede convolucional pegaria todas as informaçoes contidas em uma imagem o que geraria um gasto computacional imenso, pois uma foto que tiramos com nossas câmeras e celulares elas terão resoluções muito maiores do que 32x32 pixels e 3 camadas, ou seja, teriamos 32x32x3 = 3072 entradas na rede neural, e isso nem é muito, agora uma imagem em full HD teria um total de 1920x1080x3 = 6220800 entradas. Uma rede neural convolucional seleciona dentro da imagem apenas as características que serão relevantes para o aprendizado, assim reduzindo o gasto computacional.\n",
    "\n",
    "O funcionamento de uma rede convolucional consiste no mesmo de uma rede neural convencional, porém antes de iniciar o treinamento ela faz uma seleção de características (entradas) mais relevantes para o treinamento.\n",
    "\n",
    "Uma rede neural convolucional possui quatro etapas, sendo que as três primeiras são de pré-processamento.\n",
    "\n",
    "## Operador de Convolução\n",
    "\n",
    "Convolução é o processo efetua uma operação a multiplicação de cada elemento da imagem por um grupo de valores, nesse caso uma matriz de kelnel.\n",
    "\n",
    "---\n",
    "- Veja mais nos links abaixo:\n",
    "    - [Wikipedia](https://en.wikipedia.org/wiki/Kernel_(image_processing))\n",
    "    - [Image Kernels](http://setosa.io/ev/image-kernels/)\n",
    "---\n",
    "Veja as imagens abaixo que servem como exemplos de como atua a convolução em uma imagem.\n",
    "\n",
    "![](https://raw.githubusercontent.com/LucasFDutra/Estudos/master/Machine%20Learning/Convolutional%20Neural%20Network/Imagens/Figura_2.gif)\n",
    "\n",
    "![](https://raw.githubusercontent.com/LucasFDutra/Estudos/master/Machine%20Learning/Convolutional%20Neural%20Network/Imagens/Figura_3.gif)\n",
    "\n",
    "Vejam que fica claro que um processo de convolução não diminiu a dimensão da imagem, ele apenas extrai as características mais relevantes. No [link](https://en.wikipedia.org/wiki/Kernel_(image_processing)) você pode ver que cada kernel tem uma função diferente do outro.\n",
    "\n",
    "Após passar pelo kernel o resultado passa pela função relu para assim tornar tudo que é negatico em 0.\n",
    "\n",
    "Devido a essa característica que possui uma rede neural convolucional, diz-se que antes da camada de entrada existe a camada de convolução, que possui diversor kernel, para retirar diversas características, e assim pode-se escolher qual o/os melhor (esse processo é feito automaticamente pelas bibliotecas).\n",
    "\n",
    "## Pooling\n",
    "\n",
    "O pooling faz uma seleção entre os maiores valores da matriz dentro de um grupo. Ou seja, após passar pelo kernel e a função relu, vamos agrupar os valores da matriz de x termos em x termos e selecionar o maior dentre eles e colocar em outra matriz, ou seja, assim nós diminuimos a dimensão da imagem.\n",
    "\n",
    "- Seleciona as características mais relevantes.\n",
    "- Reduz o overfitting, e ruídos.\n",
    "\n",
    "Veja as imagens para exemplificação:\n",
    "\n",
    "![](https://raw.githubusercontent.com/LucasFDutra/Estudos/master/Machine%20Learning/Convolutional%20Neural%20Network/Imagens/Figura_4.png)\n",
    "\n",
    "![](https://raw.githubusercontent.com/LucasFDutra/Estudos/master/Machine%20Learning/Convolutional%20Neural%20Network/Imagens/Figura_5.gif)\n",
    "\n",
    "> OBS.: Dependendo da imagem pode-se fazer o processo de convolução e pooling várias vezes.\n",
    "\n",
    "## Flattening\n",
    "\n",
    "O flattening consiste em transformar a imagem do formato de matriz para o formato de vetor, para que assim seja possível passar os dados para uma rede neural.\n",
    "\n",
    "![](https://raw.githubusercontent.com/LucasFDutra/Estudos/master/Machine%20Learning/Convolutional%20Neural%20Network/Imagens/Figura_6.png)\n",
    "\n",
    "![](https://raw.githubusercontent.com/LucasFDutra/Estudos/master/Machine%20Learning/Convolutional%20Neural%20Network/Imagens/Figura_7.png)\n",
    "\n",
    "## Rede Neural Densa\n",
    "\n",
    "Agora temos os mesmos processos que temos em uma rede neural densa (rede neural multicamadas).\n",
    "\n",
    "![](https://raw.githubusercontent.com/LucasFDutra/Estudos/master/Machine%20Learning/Convolutional%20Neural%20Network/Imagens/Figura_8.gif)\n",
    "\n",
    "- Veja o [link](http://scs.ryerson.ca/~aharley/vis/conv/) para entender melhor como funciona uma rede neural convolucional.\n",
    "\n",
    "---\n",
    "- Links para aprender mais:\n",
    "    - [ Intro to CNNs - Cognitive Class](https://www.youtube.com/watch?v=hhUMyjTH2eE&feature=youtu.be)\n",
    "    - [CNN Architecture - Cognitive Class](https://www.youtube.com/watch?v=VMBpsLIWe0M&feature=youtu.be)\n",
    "    - [Introdução a redes neurais convolucionais - Jones Granatyr](https://www.youtube.com/watch?v=7dsDHb6qKYI&feature=youtu.be)\n",
    "---  \n",
    "# Implementando a Rede\n",
    "Para a implementação da rede foi utilizado o tensorflow com o keras como high leval API, Veja a [Documentação](https://www.tensorflow.org/api_docs/python)\n",
    "\n",
    "## Configurando a Base de Dados"
   ]
  },
  {
   "cell_type": "code",
   "execution_count": 1,
   "metadata": {
    "_uuid": "d3d6929355fe56076181cd4e76ac470f67cc945d",
    "colab": {},
    "colab_type": "code",
    "id": "R4at6Y808KjN"
   },
   "outputs": [],
   "source": [
    "# Importando as bibliotecas necessárias\n",
    "import tensorflow as tf"
   ]
  },
  {
   "cell_type": "code",
   "execution_count": 2,
   "metadata": {
    "_uuid": "8f6f3f96d32aed136b0aa66ad5a35d00aa8482af",
    "colab": {
     "base_uri": "https://localhost:8080/",
     "height": 52
    },
    "colab_type": "code",
    "id": "8gB2PS7e8Kjg",
    "outputId": "029f5618-23b7-4419-f2dd-03bc4f2018aa"
   },
   "outputs": [
    {
     "name": "stdout",
     "output_type": "stream",
     "text": [
      "Downloading data from https://storage.googleapis.com/tensorflow/tf-keras-datasets/mnist.npz\n",
      "11493376/11490434 [==============================] - 0s 0us/step\n"
     ]
    }
   ],
   "source": [
    "# Carregando os dados da base mnist\n",
    "mnist = tf.keras.datasets.mnist\n",
    "(x_train, y_train),(x_test, y_test) = mnist.load_data()"
   ]
  },
  {
   "cell_type": "code",
   "execution_count": 3,
   "metadata": {
    "_uuid": "3a7804e038e12ffce160966479101a25d7255814",
    "colab": {
     "base_uri": "https://localhost:8080/",
     "height": 265
    },
    "colab_type": "code",
    "id": "rvgV6blq8KkD",
    "outputId": "d0514cad-59f1-4300-97ac-8360381a237b"
   },
   "outputs": [
    {
     "data": {
      "text/plain": [
       "([], <a list of 0 Text yticklabel objects>)"
      ]
     },
     "execution_count": 3,
     "metadata": {},
     "output_type": "execute_result"
    },
    {
     "data": {
      "image/png": "[encoded data removed]",
      "text/plain": [
       "<Figure size 432x288 with 1 Axes>"
      ]
     },
     "metadata": {},
     "output_type": "display_data"
    }
   ],
   "source": [
    "# Exibindo uma das imagens\n",
    "%matplotlib inline\n",
    "import matplotlib.pyplot as plt\n",
    "plt.imshow(x_train[0])\n",
    "plt.xticks(())\n",
    "plt.yticks(())"
   ]
  },
  {
   "cell_type": "markdown",
   "metadata": {
    "_uuid": "038584e5fa66cfa3c2772e4dc6a0941ca7c26047",
    "colab_type": "text",
    "id": "sr-8W3a7IFdq"
   },
   "source": [
    "Efetuando a verificação das dimensões das entradas para determinar se são adequadas para entrarem na rede."
   ]
  },
  {
   "cell_type": "code",
   "execution_count": 4,
   "metadata": {
    "_uuid": "f231c0d8bc4e1f7b8aa09366e80980e2ad62be88",
    "colab": {
     "base_uri": "https://localhost:8080/",
     "height": 34
    },
    "colab_type": "code",
    "id": "JST51bA58KkN",
    "outputId": "3a75c371-6e0e-4545-f12f-586b9de3fb9d"
   },
   "outputs": [
    {
     "data": {
      "text/plain": [
       "(60000, 28, 28)"
      ]
     },
     "execution_count": 4,
     "metadata": {},
     "output_type": "execute_result"
    }
   ],
   "source": [
    "x_train.shape"
   ]
  },
  {
   "cell_type": "code",
   "execution_count": 5,
   "metadata": {
    "_uuid": "c8eaa24c0677158bc1fdbdb9c0f217013e2f11f2",
    "colab": {
     "base_uri": "https://localhost:8080/",
     "height": 34
    },
    "colab_type": "code",
    "id": "4DaTv2fZTdg7",
    "outputId": "91304455-a0b6-49ca-e450-42110c9b5e14"
   },
   "outputs": [
    {
     "data": {
      "text/plain": [
       "(10000, 28, 28)"
      ]
     },
     "execution_count": 5,
     "metadata": {},
     "output_type": "execute_result"
    }
   ],
   "source": [
    "x_test.shape"
   ]
  },
  {
   "cell_type": "code",
   "execution_count": 6,
   "metadata": {
    "_uuid": "cf6b8d7695ed3001a73378695b248a854e472802",
    "colab": {
     "base_uri": "https://localhost:8080/",
     "height": 34
    },
    "colab_type": "code",
    "id": "q9NjQME68Kkb",
    "outputId": "73ac4e79-97c0-4b7d-f623-a7d24a3b24d1"
   },
   "outputs": [
    {
     "data": {
      "text/plain": [
       "(60000,)"
      ]
     },
     "execution_count": 6,
     "metadata": {},
     "output_type": "execute_result"
    }
   ],
   "source": [
    "y_train.shape"
   ]
  },
  {
   "cell_type": "code",
   "execution_count": 7,
   "metadata": {
    "_uuid": "054cc8fe9908a610503d5a82cc12d81b86e703de",
    "colab": {
     "base_uri": "https://localhost:8080/",
     "height": 34
    },
    "colab_type": "code",
    "id": "wpHQaX4eUoIh",
    "outputId": "325b96bf-33bf-472e-94a9-b92781199ef5"
   },
   "outputs": [
    {
     "data": {
      "text/plain": [
       "(10000,)"
      ]
     },
     "execution_count": 7,
     "metadata": {},
     "output_type": "execute_result"
    }
   ],
   "source": [
    "y_test.shape"
   ]
  },
  {
   "cell_type": "markdown",
   "metadata": {
    "_uuid": "3a3439e010d3fad48f6f444be7960994278e1396",
    "colab_type": "text",
    "id": "SYuht0rbI_4a"
   },
   "source": [
    "Normalizando os dados."
   ]
  },
  {
   "cell_type": "code",
   "execution_count": 8,
   "metadata": {
    "_uuid": "0f18f771a4f5d4c00a5f2740cdc60e964cf831ad",
    "colab": {},
    "colab_type": "code",
    "id": "K4tcwmc_8Kls"
   },
   "outputs": [],
   "source": [
    "x_train, x_test = x_train/255, x_test/255"
   ]
  },
  {
   "cell_type": "code",
   "execution_count": 9,
   "metadata": {
    "_uuid": "952c1f6e108b3e8e2af27a6705fcf3e58ba4baa4",
    "colab": {},
    "colab_type": "code",
    "id": "wPPnKqYWdPvN"
   },
   "outputs": [],
   "source": [
    "x_train = x_train.reshape(60000, 28, 28, 1)\n",
    "x_test = x_test.reshape(10000, 28, 28, 1)"
   ]
  },
  {
   "cell_type": "markdown",
   "metadata": {
    "_uuid": "89f285b6d51f9c3ddbd33269b00b3b8069913f56",
    "colab_type": "text",
    "id": "N-6OdvJNEjzD"
   },
   "source": [
    "## Construindo e Avaliando o Modelo"
   ]
  },
  {
   "cell_type": "code",
   "execution_count": 10,
   "metadata": {
    "_uuid": "9674ee7db808d6123404134aedb87e14534b7f9c",
    "colab": {},
    "colab_type": "code",
    "id": "j7FmeKqIKONd"
   },
   "outputs": [],
   "source": [
    "# Criando o modelo sequêncial\n",
    "model = tf.keras.models.Sequential()"
   ]
  },
  {
   "cell_type": "markdown",
   "metadata": {
    "_uuid": "34b6bf5fe7244b4c2467741eda779be012491873",
    "colab_type": "text",
    "id": "KR_A6nlOJKFi"
   },
   "source": [
    "### Adiciando as camadas de convolução"
   ]
  },
  {
   "cell_type": "code",
   "execution_count": 11,
   "metadata": {
    "_uuid": "543d97e27b49695a830d71eff5fbb1e5b63f0e30",
    "colab": {
     "base_uri": "https://localhost:8080/",
     "height": 89
    },
    "colab_type": "code",
    "id": "gZOlq74X8Kl1",
    "outputId": "3f979734-ab55-4d25-b1b6-044421b85371"
   },
   "outputs": [],
   "source": [
    "# 1ª camada de convolução\n",
    "model.add(tf.keras.layers.Conv2D(64, kernel_size=3, activation='relu', input_shape=(x_train.shape[1],x_train.shape[1],1)))\n",
    "\n",
    "# 1ª camada de pooling\n",
    "model.add(tf.keras.layers.MaxPooling2D(2))\n",
    "\n",
    "# 2ª camada de convolução\n",
    "model.add(tf.keras.layers.Conv2D(64, kernel_size=3, activation='relu'))\n",
    "\n",
    "# 2ª camada de pooling\n",
    "model.add(tf.keras.layers.MaxPooling2D(2))\n",
    "\n",
    "# Camada de Flatten\n",
    "model.add(tf.keras.layers.Flatten())"
   ]
  },
  {
   "cell_type": "markdown",
   "metadata": {
    "_uuid": "dbd1e60b2e5eb08de16520e78b730f344cbad677",
    "colab_type": "text",
    "id": "1wjnP7IsKDDS"
   },
   "source": [
    "### Adicionando as camada da rede neural"
   ]
  },
  {
   "cell_type": "code",
   "execution_count": 12,
   "metadata": {
    "_uuid": "7c94bb289d403c3d07aad01927a677f6fc4be87e",
    "cellView": "both",
    "colab": {
     "base_uri": "https://localhost:8080/",
     "height": 89
    },
    "colab_type": "code",
    "id": "4sxE-G2c8Kmv",
    "outputId": "8a397c96-8502-4c5f-8dba-9b08a762df03"
   },
   "outputs": [],
   "source": [
    "# Camada de entrada\n",
    "model.add(tf.keras.layers.Dense(512, activation=tf.keras.activations.relu))\n",
    "\n",
    "# 1ª camada de dropout\n",
    "model.add(tf.keras.layers.Dropout(0.2))\n",
    "\n",
    "# 1ª Camada escondida\n",
    "model.add(tf.keras.layers.Dense(512, activation=tf.keras.activations.relu))\n",
    "\n",
    "# 2ª camada de dropout\n",
    "model.add(tf.keras.layers.Dropout(0.2))\n",
    "\n",
    "# Camada de saída\n",
    "model.add(tf.keras.layers.Dense(10, activation=tf.keras.activations.softmax))"
   ]
  },
  {
   "cell_type": "markdown",
   "metadata": {
    "_uuid": "6228c3299f8f150472addcc366e1af04d8c36a76",
    "colab_type": "text",
    "id": "9EK97CWLKx3k"
   },
   "source": [
    "### Adicionando as configurações para o treinamento"
   ]
  },
  {
   "cell_type": "code",
   "execution_count": 13,
   "metadata": {
    "_uuid": "db6235695d11e38bc482f3492004e2ad990ce64c",
    "colab": {},
    "colab_type": "code",
    "id": "Lb_oLzc88KnZ"
   },
   "outputs": [],
   "source": [
    "model.compile(optimizer=tf.keras.optimizers.Adadelta(),\n",
    "             loss=tf.keras.losses.sparse_categorical_crossentropy,\n",
    "             metrics=['accuracy'])"
   ]
  },
  {
   "cell_type": "markdown",
   "metadata": {
    "_uuid": "57715ea546b7cc2fb74b523a05ffe5f82dcb7d9f",
    "colab_type": "text",
    "id": "pfB9S-aEK2dd"
   },
   "source": [
    "## Efetuando o treinamento"
   ]
  },
  {
   "cell_type": "code",
   "execution_count": 14,
   "metadata": {
    "_uuid": "e7ebcd8c7a11c4505794b5bc70bab1ce0a09b274",
    "colab": {
     "base_uri": "https://localhost:8080/",
     "height": 2659
    },
    "colab_type": "code",
    "id": "SJeym6i88Knl",
    "outputId": "a7026942-42bc-4a9c-8d29-f8ce06dc3f21",
    "scrolled": true
   },
   "outputs": [
    {
     "name": "stdout",
     "output_type": "stream",
     "text": [
      "Epoch 1/10\n",
      "59840/60000 [============================>.] - ETA: 0s - loss: 0.1279 - acc: 0.9594WARNING:tensorflow:Reduce LR on plateau conditioned on metric `val_acc` which is not available. Available metrics are: loss,acc,lr\n",
      "60000/60000 [==============================] - 18s 305us/step - loss: 0.1280 - acc: 0.9594\n",
      "Epoch 2/10\n",
      "59840/60000 [============================>.] - ETA: 0s - loss: 0.0392 - acc: 0.9877WARNING:tensorflow:Reduce LR on plateau conditioned on metric `val_acc` which is not available. Available metrics are: loss,acc,lr\n",
      "60000/60000 [==============================] - 15s 244us/step - loss: 0.0392 - acc: 0.9877\n",
      "Epoch 3/10\n",
      "59872/60000 [============================>.] - ETA: 0s - loss: 0.0282 - acc: 0.9916WARNING:tensorflow:Reduce LR on plateau conditioned on metric `val_acc` which is not available. Available metrics are: loss,acc,lr\n",
      "60000/60000 [==============================] - 15s 247us/step - loss: 0.0282 - acc: 0.9916\n",
      "Epoch 4/10\n",
      "59808/60000 [============================>.] - ETA: 0s - loss: 0.0207 - acc: 0.9938WARNING:tensorflow:Reduce LR on plateau conditioned on metric `val_acc` which is not available. Available metrics are: loss,acc,lr\n",
      "60000/60000 [==============================] - 15s 248us/step - loss: 0.0209 - acc: 0.9937\n",
      "Epoch 5/10\n",
      "59872/60000 [============================>.] - ETA: 0s - loss: 0.0161 - acc: 0.9950WARNING:tensorflow:Reduce LR on plateau conditioned on metric `val_acc` which is not available. Available metrics are: loss,acc,lr\n",
      "60000/60000 [==============================] - 15s 244us/step - loss: 0.0161 - acc: 0.9950\n",
      "Epoch 6/10\n",
      "59968/60000 [============================>.] - ETA: 0s - loss: 0.0120 - acc: 0.9964WARNING:tensorflow:Reduce LR on plateau conditioned on metric `val_acc` which is not available. Available metrics are: loss,acc,lr\n",
      "60000/60000 [==============================] - 15s 247us/step - loss: 0.0119 - acc: 0.9964\n",
      "Epoch 7/10\n",
      "59872/60000 [============================>.] - ETA: 0s - loss: 0.0105 - acc: 0.9969WARNING:tensorflow:Reduce LR on plateau conditioned on metric `val_acc` which is not available. Available metrics are: loss,acc,lr\n",
      "60000/60000 [==============================] - 15s 249us/step - loss: 0.0105 - acc: 0.9970\n",
      "Epoch 8/10\n",
      "59936/60000 [============================>.] - ETA: 0s - loss: 0.0083 - acc: 0.9976WARNING:tensorflow:Reduce LR on plateau conditioned on metric `val_acc` which is not available. Available metrics are: loss,acc,lr\n",
      "60000/60000 [==============================] - 15s 246us/step - loss: 0.0083 - acc: 0.9976\n",
      "Epoch 9/10\n",
      "59808/60000 [============================>.] - ETA: 0s - loss: 0.0068 - acc: 0.9978WARNING:tensorflow:Reduce LR on plateau conditioned on metric `val_acc` which is not available. Available metrics are: loss,acc,lr\n",
      "60000/60000 [==============================] - 15s 248us/step - loss: 0.0068 - acc: 0.9978\n",
      "Epoch 10/10\n",
      "59776/60000 [============================>.] - ETA: 0s - loss: 0.0061 - acc: 0.9981WARNING:tensorflow:Reduce LR on plateau conditioned on metric `val_acc` which is not available. Available metrics are: loss,acc,lr\n",
      "60000/60000 [==============================] - 15s 248us/step - loss: 0.0061 - acc: 0.9981\n"
     ]
    },
    {
     "data": {
      "text/plain": [
       "<tensorflow.python.keras.callbacks.History at 0x7f15e4cff7f0>"
      ]
     },
     "execution_count": 14,
     "metadata": {},
     "output_type": "execute_result"
    }
   ],
   "source": [
    "model.fit(x_train, y_train, batch_size=32, epochs=10, callbacks=[tf.keras.callbacks.ReduceLROnPlateau(monitor='val_acc')])"
   ]
  },
  {
   "cell_type": "markdown",
   "metadata": {
    "_uuid": "7a68e30bc63e34c12b5a23917ce90b5ebc196417",
    "colab_type": "text",
    "id": "UF_O_TteK5iG"
   },
   "source": [
    "## Efetuando a avaliação do modelo"
   ]
  },
  {
   "cell_type": "code",
   "execution_count": 15,
   "metadata": {
    "_uuid": "13700ed50919fcc842cd92f2bde060b3936f6186",
    "colab": {
     "base_uri": "https://localhost:8080/",
     "height": 52
    },
    "colab_type": "code",
    "id": "EA1sW8Yw8Knr",
    "outputId": "07a55dda-de02-49e2-c62b-b7fa44bf30c0"
   },
   "outputs": [
    {
     "name": "stdout",
     "output_type": "stream",
     "text": [
      "10000/10000 [==============================] - 1s 84us/step\n"
     ]
    },
    {
     "data": {
      "text/plain": [
       "[0.038136203392573224, 0.9928]"
      ]
     },
     "execution_count": 15,
     "metadata": {},
     "output_type": "execute_result"
    }
   ],
   "source": [
    "model.evaluate(x_test, y_test, batch_size=32)"
   ]
  }
 ],
 "metadata": {
  "accelerator": "GPU",
  "colab": {
   "collapsed_sections": [],
   "include_colab_link": true,
   "name": "Convolutional Neural Network.ipynb",
   "provenance": [],
   "version": "0.3.2"
  },
  "kernelspec": {
   "display_name": "Python 3",
   "language": "python",
   "name": "python3"
  },
  "language_info": {
   "codemirror_mode": {
    "name": "ipython",
    "version": 3
   },
   "file_extension": ".py",
   "mimetype": "text/x-python",
   "name": "python",
   "nbconvert_exporter": "python",
   "pygments_lexer": "ipython3",
   "version": "3.6.8"
  }
 },
 "nbformat": 4,
 "nbformat_minor": 1
}
