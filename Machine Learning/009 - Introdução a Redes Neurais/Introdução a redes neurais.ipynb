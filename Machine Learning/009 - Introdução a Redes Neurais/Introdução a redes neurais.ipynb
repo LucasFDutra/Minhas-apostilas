{
 "cells": [
  {
   "cell_type": "markdown",
   "metadata": {
    "_cell_guid": "b1076dfc-b9ad-4769-8c92-a6c4dae69d19",
    "_uuid": "8f2839f25d086af736a60e9eeb907d3b93b6e0e5"
   },
   "source": [
    "# Sumário\n",
    "- [1. REDES NEURAIS](#1.-REDES-NEURAIS)\n",
    "  - [1.1 ARQUITETURA DAS REDES NEURAIS ARTIFICIAIS](#1.1-ARQUITETURA-DAS-REDES-NEURAIS-ARTIFICIAIS)\n",
    "  - [1.2 REDE PERCEPTRON SIMPLES](#1.2-REDE-PERCEPTRON-SIMPLES)\n",
    "  - [1.3 REDE PERCEPTRON MULTICAMADAS - MLP](#1.3-REDE-PERCEPTRON-MULTICAMADAS---MLP)\n",
    "\n",
    "- [2. IMPLEMENTAÇÃO DO PERCEPTRON MULTICAMADAS](#2.-IMPLEMENTAÇÃO-DO-PERCEPTRON-MULTICAMADAS)\n",
    "  - [2.1 CLASSIFICAÇÃO](#2.1-CLASSIFICAÇÃO)\n",
    "    - [2.1.1 Base de dados](#2.1.1-Base-de-dados)\n",
    "    - [2.1.2 Importando bibliotecas necessárias](#2.1.2-Importando-bibliotecas-necessárias)\n",
    "    - [2.1.3 Construindo a rede densa](#2.1.3-Construindo-a-rede-densa)\n",
    "    - [2.1.4 Configurando parâmetros de treinamento](#2.1.4-Configurando-parâmetros-de-treinamento)\n",
    "    - [2.1.5 Efetuando o processo de treinamento](#2.1.5-Efetuando-o-processo-de-treinamento)\n",
    "    - [2.1.6 Efetuando previsões e avaliando o modelo](#2.1.6-Efetuando-previsões-e-avaliando-o-modelo)\n",
    "    \n",
    "  - [2.2 REGRESSÃO](#2.2-REGRESSÃO)\n",
    "    - [2.2.1 Base de dados](#2.2.1-Base-de-dados)\n",
    "    - [2.2.2 Escalonando dados](#2.2.2-Escalonando-dados)\n",
    "    - [2.2.3 Dividindo a base de dados em treinamento e teste](#2.2.3-Dividindo-a-base-de-dados-em-treinamento-e-teste)\n",
    "    - [2.2.4 Criando a rede neural para regressão](#2.2.4-Criando-a-rede-neural-para-regressão)\n",
    "    - [2.2.5 Prevendo valores](#2.2.5-Prevendo-valores)\n",
    "    - [2.2.6 Plotando a previsão e o resultado esperado](#2.2.6-Plotando-a-previsão-e-o-resultado-esperado)"
   ]
  },
  {
   "cell_type": "markdown",
   "metadata": {
    "_cell_guid": "b1076dfc-b9ad-4769-8c92-a6c4dae69d19",
    "_uuid": "8f2839f25d086af736a60e9eeb907d3b93b6e0e5"
   },
   "source": [
    "# **1. REDES NEURAIS**\n",
    "    \n",
    "Redes neurais artificiais são modelos computacionais inspirados no sistema nervoso dos seres vivos. Possuem a capacidade de aquisição e manutenção do conhecimento. Tudo através dos pesos sinápticos.\n",
    "\n",
    "- **Características principais**:\n",
    "\n",
    "    - Adaptação por experiência.\n",
    "    - Capacidade de aprendizado.\n",
    "    - Habilidade de generalização: Após o processo de treinamento, a rede é capaz de generalizar o conhecimento adquirido, possibilitando estimar soluções que eram até então desconhecidas.\n",
    "    - Organização de dados.     \n",
    "    - Tolerância a falhas.\n",
    "    - Armazenamento distribuído.\n",
    "    - Facilidade de prototipagem.\n",
    "    \n",
    "![](https://upload.wikimedia.org/wikipedia/commons/thumb/b/b4/Sadssa.png/1280px-Sadssa.png)\n",
    "\n",
    "Fonte: https://pt.wikipedia.org/wiki/Perceptron_multicamadas\n",
    "\n",
    "- **Neurônio artificial**:\n",
    "    - X: Sinais de entrada.\n",
    "    - w: Pesos sinápticos.\n",
    "    - $\\theta$ : Limiar de ativação, ou bias.\n",
    "    - u: Potencial de ativação.\n",
    "    - g(.): função de ativação.\n",
    "    - y: Sinal de saída.\n",
    "    \n",
    "    \n",
    "- **Funções de um nerônio**:\n",
    "    - Apresentação de um conjunto de valores que representam as variáveis de entrada do neurônio.\n",
    "    - Multiplicação de cada entrada do neurônio pelo seu respectivo penso sináptico.\n",
    "    - Obtenção do potencial de ativação.\n",
    "    - Aplicação de uma [função de de ativação](https://en.wikipedia.org/wiki/Activation_function) apropriada, tendo-se como objetivo limitar a saída do neurônio.\n",
    "    - Compilação da saída a partir da aplicação da função de ativação neural em relação ao seu potencial de ativação."
   ]
  },
  {
   "cell_type": "markdown",
   "metadata": {
    "_cell_guid": "b1076dfc-b9ad-4769-8c92-a6c4dae69d19",
    "_uuid": "8f2839f25d086af736a60e9eeb907d3b93b6e0e5"
   },
   "source": [
    "## 1.1 ARQUITETURA DAS REDES NEURAIS ARTIFICIAIS\n",
    "\n",
    "Elas são divididas em camadas:\n",
    "\n",
    "- **Camada de entrada**: Recebimento dos atributos de cada registro.\n",
    "- **Camadas escondidas**: São aquelas compostas de neurônios que possuem a responsabilidade de extrair as características associadas ao processo ou sistema a ser inferido.\n",
    "- **Camada de saída**: Esta camada é também constituída de neurônios, sendo responsável pela produção e apresentação dos resultados da rede.\n",
    "\n",
    "\n",
    "- **Arquitetura feedforward**: Redes que trabalham com essa arquitetura não possuem realimentação, ou seja, a informação segue um curso unidirecional.\n",
    "\n",
    "- **Arquitetura realimentada**: As saídas dos neurônios retornam para servirem de entrada para o neurônio."
   ]
  },
  {
   "cell_type": "markdown",
   "metadata": {
    "_cell_guid": "b1076dfc-b9ad-4769-8c92-a6c4dae69d19",
    "_uuid": "8f2839f25d086af736a60e9eeb907d3b93b6e0e5"
   },
   "source": [
    "## 1.2 REDE PERCEPTRON SIMPLES\n",
    "\n",
    "- **Características**:\n",
    "    - Não possuí camadas escondidas.\n",
    "    - Se resume a um único neurônio, como na imagem anterior.\n",
    "    - Faz a divisão somente entre duas classes. \n",
    "    - Trabalha com problemas linearmente separáveis.\n",
    "    - A função de ativação utilizada é normalmente a degrau.\n",
    "    \n",
    "    \n",
    "- **Processo de treinamento**:\n",
    "    - Recebe a matriz de entradas.\n",
    "    - Recebe a matriz de resultados.\n",
    "    - Gera de forma randômica a matriz de pesos.\n",
    "    - Calcula o potencial de ativação u.\n",
    "    - Aplica a função de ativação.\n",
    "    - Atualiza o vetor de pesos.\n",
    "    - Repete o processo até que o erro seja o mais próximo possível de 0."
   ]
  },
  {
   "cell_type": "markdown",
   "metadata": {
    "_cell_guid": "b1076dfc-b9ad-4769-8c92-a6c4dae69d19",
    "_uuid": "8f2839f25d086af736a60e9eeb907d3b93b6e0e5"
   },
   "source": [
    "## 1.3 REDE PERCEPTRON MULTICAMADAS - MLP\n",
    "\n",
    "- **Características**:\n",
    "    - Possuí camadas escondidas.\n",
    "    - Múltiplas saídas. \n",
    "    - Trabalha com problemas linearmente não linearmente separáveis.\n",
    "    - A função de ativação típica é a sigmoide.\n",
    "    - É feedforward.\n",
    "    - Algoritmo de treinamento é o beckpropagation.\n",
    "    \n",
    "    \n",
    "- **Processo de treinamento**: Segue a mesma rotina do perceptron simples, porém os cálculos são diferentes, e mais complexos.\n",
    "\n",
    "![](https://cdn-images-1.medium.com/max/1600/1*piYTTh83qsQJVUMOZKmN5w.png)\n",
    "\n",
    "Fonte: https://medium.com/ensina-ai/rede-neural-perceptron-multicamadas-f9de8471f1a9\n",
    "\n",
    "Forma da base de dados para uma rede neural de saída única:\n",
    "\n",
    "|Registros|Atributo 1|Atributo 2|...|Atributo n|Classe|\n",
    "|-|-|-|-|-|-|\n",
    "|1|Var. Independente 1,1|Var. Independente 1,2|...|Var. Independente 1,n|Var. Dependente 1|\n",
    "|2|Var. Independente 2,1|Var. Independente 2,2|...|Var. Independente 2,n|Var. Dependente 2|\n",
    "|...|...|...|...|...|...|\n",
    "|m|Var. Independente m,1|Var. Independente m,2|...|Var. Independente m,n|Var. Dependente m|\n",
    "\n",
    "Forma da base de dados para uma rede neural de saídas múltiplas:\n",
    "\n",
    "|Registros|Atributo 1|Atributo 2|...|Atributo n|Classe 1|Classe 2|...|Classe n|\n",
    "|-|-|-|-|-|-|-|-|-|\n",
    "|1|Var. Independente 1,1|Var. Independente 1,2|...|Var. Independente 1,n|Var. Dependente 1,1|Var. Dependente 1,2|...|Var. Dependente 1,n|\n",
    "|2|Var. Independente 2,1|Var. Independente 2,2|...|Var. Independente 2,n|Var. Dependente 2,1|Var. Dependente 2,2|...|Var. Dependente 2,n|\n",
    "|...|...|...|...|...|...|...|...|...|\n",
    "|m|Var. Independente m,1|Var. Independente m,2|...|Var. Independente m,n|Var. Dependente m,1|Var. Dependente m,2|...|Var. Dependente m,n|\n",
    "\n",
    "---\n",
    "- Link para aprender mais:\n",
    "    - [Introdução a Redes Neurais Multicamadas - IAexpert](https://iaexpert.com.br/index.php/2017/09/29/introducao-a-redes-neurais-multicamada/).\n",
    "---"
   ]
  },
  {
   "cell_type": "markdown",
   "metadata": {
    "_cell_guid": "b1076dfc-b9ad-4769-8c92-a6c4dae69d19",
    "_uuid": "8f2839f25d086af736a60e9eeb907d3b93b6e0e5"
   },
   "source": [
    "# **2. IMPLEMENTAÇÃO DO PERCEPTRON MULTICAMADAS**\n",
    "Para a implementação do perceptron multicamadas será utilizada a biblioteca keras, veja a [Documentação](https://keras.io/).\n",
    "> Caso não seja feito um preprocessamento dos dados para deixá-los no formato adequado, deve-se colocar uma camada de flatten no início, pois assim os dados já serão ajustados."
   ]
  },
  {
   "cell_type": "markdown",
   "metadata": {
    "_cell_guid": "b1076dfc-b9ad-4769-8c92-a6c4dae69d19",
    "_uuid": "8f2839f25d086af736a60e9eeb907d3b93b6e0e5"
   },
   "source": [
    "## 2.1 CLASSIFICAÇÃO\n",
    "- A quantidade de neurônios na camada de entrada não precisa ser correspondente à quantidade de atributos que existem em x_train. Porém é necessário informar à primeira camada quantos atributos ela irá receber, para determinar esse valor, utiliza-se o comando `shape` e utilizar essa informação para colocarmos na camada de flatten.\n",
    "\n",
    "- A quantidade de neurônios na camada de saída deve ser igual a quantidade de classes existentes. Para o exemplo utilizando a base MNIST tem-se 10 saídas, que são os números de 0 a 9."
   ]
  },
  {
   "cell_type": "markdown",
   "metadata": {
    "_cell_guid": "b1076dfc-b9ad-4769-8c92-a6c4dae69d19",
    "_uuid": "8f2839f25d086af736a60e9eeb907d3b93b6e0e5"
   },
   "source": [
    "### **2.1.1 Base de dados**\n",
    "A base de dados que será utilizada será a MNIST que já pode ser encontrada na base de dados do keras.\n",
    "Porém para trabalhar com o algoritmo em questão ela deve modificada em sua dimensão."
   ]
  },
  {
   "cell_type": "code",
   "execution_count": 1,
   "metadata": {
    "_uuid": "1fb4ea39f66048de463125f2eb9f822d9b287f49"
   },
   "outputs": [
    {
     "name": "stderr",
     "output_type": "stream",
     "text": [
      "Using TensorFlow backend.\n"
     ]
    },
    {
     "name": "stdout",
     "output_type": "stream",
     "text": [
      "Downloading data from https://s3.amazonaws.com/img-datasets/mnist.npz\n",
      "11493376/11490434 [==============================] - 0s 0us/step\n"
     ]
    }
   ],
   "source": [
    "from keras.datasets import mnist\n",
    "\n",
    "# Importando base de dados\n",
    "(x_train, y_train),(x_test, y_test) = mnist.load_data()\n",
    "\n",
    "# Normalizando os valores\n",
    "x_train, x_test = x_train/255, x_test/255"
   ]
  },
  {
   "cell_type": "code",
   "execution_count": 2,
   "metadata": {
    "_uuid": "c5f8499f7b56682b6399d7b69cda6554475edd36"
   },
   "outputs": [
    {
     "data": {
      "text/plain": [
       "(60000, 28, 28)"
      ]
     },
     "execution_count": 2,
     "metadata": {},
     "output_type": "execute_result"
    }
   ],
   "source": [
    "x_train.shape"
   ]
  },
  {
   "cell_type": "markdown",
   "metadata": {
    "_uuid": "3420148680a6265f86b837097514c671405bbe52"
   },
   "source": [
    "Logo a quantidade de neurônios de entrada é igual a 784.\n",
    "\n",
    "### **2.1.2 Importando bibliotecas necessárias**"
   ]
  },
  {
   "cell_type": "code",
   "execution_count": 3,
   "metadata": {
    "_uuid": "e0bda45d3c516cea25ef690b9b2cb5c2f961965f"
   },
   "outputs": [],
   "source": [
    "#-------------------------------Bibliotecas-----------------------------------#\n",
    "# Sequential: Rede feedforward.                                               #\n",
    "# Dense: Rede densa, ou seja, uma rede em que todos os neurônios de uma       #\n",
    "#        camada se conectam com os da camada seguinte.                        #\n",
    "#-----------------------------------------------------------------------------#\n",
    "from keras.models import Sequential\n",
    "from keras.layers import Dense, Flatten"
   ]
  },
  {
   "cell_type": "markdown",
   "metadata": {
    "_uuid": "838a85035b87b4768625c34a4a3424ce628db451"
   },
   "source": [
    "### **2.1.3 Construindo a rede densa**\n",
    "> Veja que utilizei a função `relu` como função de ativação, em geral, para redes neurais, essa é uma boa escolha. Porém pode ser que a função LeakyReLU se comporte melhor, porém no keras ela não é incorporada como uma função de ativação na camada densa, e sim como um novo layer, veja maiores informações [aqui](https://keras.io/layers/advanced-activations/).\n",
    "    \n",
    "> Para a função de saída foi utilizada a função `softmax` que é mais indicada para multiplas saídas.\n",
    "\n",
    "As funções de ativação que existem para o keras podem ser encontradas [aqui](https://keras.io/activations/)."
   ]
  },
  {
   "cell_type": "code",
   "execution_count": 4,
   "metadata": {
    "_uuid": "e0bda45d3c516cea25ef690b9b2cb5c2f961965f"
   },
   "outputs": [],
   "source": [
    "#----------------------------Criando classificador----------------------------#\n",
    "model = Sequential()\n",
    "\n",
    "#-----------------------------Criando as camadas------------------------------#\n",
    "#   - entrada:                                                                #\n",
    "#       - Flatten para linearizar os dados                                    # \n",
    "#   - 1ª camada oculta:                                                       #\n",
    "#       - 64 neurônios, com função de ativação relu.                          #\n",
    "#       - input_dim é opbrigatório para a 1ª, camada, as outras não podem ter #\n",
    "#         ele define quantas entradas ela recebera.                           #\n",
    "#                                                                             #\n",
    "#   - 2ª camada oculta:                                                       #\n",
    "#       - 64 neurônios, com função de ativação relu.                          #\n",
    "#                                                                             #\n",
    "#   - Camada de saída: 10 neurônio, com função de ativação softmax            #\n",
    "#-----------------------------------------------------------------------------#\n",
    "model.add(Flatten(input_shape=(28,28)))                     #Entrada  #\n",
    "model.add(Dense(64, activation='relu'))                     #1ª camada#\n",
    "model.add(Dense(64,activation='relu'))                      #2ª camada#\n",
    "model.add(Dense(10, activation='softmax'))                  #Saída    #"
   ]
  },
  {
   "cell_type": "markdown",
   "metadata": {
    "_uuid": "06282df73e60e4c49d269490286b0ff12d550843"
   },
   "source": [
    "### **2.1.4 Configurando parâmetros de treinamento**\n",
    "Para esses parâmetros é importante configurar:\n",
    "- **optimizer:** O otimizador tem como função calcular o gradiente da função de erro, o mais comum é o GradientDescentOptimizer, os outros são variações dele com melhorias para encontrar o mínimo global e fugirem de mínimos locais. \n",
    "    - [Veja os otimizadores disponíveis](https://keras.io/optimizers/)\n",
    "\n",
    "- **loss:** É a função que diminui o seu valor durante o processo de otimização. Basicamente a loss é o *erro*.\n",
    "    - [Veja as loss disponíveis](https://keras.io/losses/)\n",
    "\n",
    "- **metrics:** É o que utiliza-se para monitorar o treinamento.\n",
    "    - [Veja as métricas disponíveis](https://keras.io/metrics/)"
   ]
  },
  {
   "cell_type": "code",
   "execution_count": 5,
   "metadata": {
    "_uuid": "e0bda45d3c516cea25ef690b9b2cb5c2f961965f"
   },
   "outputs": [],
   "source": [
    "#-------------------Define como fazer a otimização dos pesos------------------#\n",
    "model.compile(optimizer='adam', loss = 'sparse_categorical_crossentropy', metrics=['accuracy'])"
   ]
  },
  {
   "cell_type": "markdown",
   "metadata": {
    "_uuid": "1d0ad4c8b3798f378d7607f856126254f58aad24"
   },
   "source": [
    "### **2.1.5 Efetuando o processo de treinamento**\n",
    "\n",
    "- **batch size:** Trata-se da quantidade de registros que terá cada bloco de treinamento antes do modelo efetuar a atualização dos pesos.\n",
    "\n",
    "- **epochs:** Trata-se do número de vezes que o modelo irá passar por todos os registros de treinamento."
   ]
  },
  {
   "cell_type": "code",
   "execution_count": 6,
   "metadata": {
    "_uuid": "e0bda45d3c516cea25ef690b9b2cb5c2f961965f"
   },
   "outputs": [
    {
     "name": "stdout",
     "output_type": "stream",
     "text": [
      "Epoch 1/30\n",
      "60000/60000 [==============================] - 9s 144us/step - loss: 0.2706 - acc: 0.9208\n",
      "Epoch 2/30\n",
      "60000/60000 [==============================] - 8s 128us/step - loss: 0.1225 - acc: 0.9625\n",
      "Epoch 3/30\n",
      "60000/60000 [==============================] - 8s 125us/step - loss: 0.0889 - acc: 0.9724\n",
      "Epoch 4/30\n",
      "60000/60000 [==============================] - 8s 129us/step - loss: 0.0698 - acc: 0.9785\n",
      "Epoch 5/30\n",
      "60000/60000 [==============================] - 8s 128us/step - loss: 0.0568 - acc: 0.9820\n",
      "Epoch 6/30\n",
      "60000/60000 [==============================] - 8s 129us/step - loss: 0.0473 - acc: 0.9848\n",
      "Epoch 7/30\n",
      "60000/60000 [==============================] - 8s 131us/step - loss: 0.0414 - acc: 0.9869\n",
      "Epoch 8/30\n",
      "60000/60000 [==============================] - 8s 126us/step - loss: 0.0352 - acc: 0.9882\n",
      "Epoch 9/30\n",
      "60000/60000 [==============================] - 7s 122us/step - loss: 0.0284 - acc: 0.9906\n",
      "Epoch 10/30\n",
      "60000/60000 [==============================] - 7s 122us/step - loss: 0.0286 - acc: 0.9906\n",
      "Epoch 11/30\n",
      "60000/60000 [==============================] - 8s 126us/step - loss: 0.0222 - acc: 0.9923\n",
      "Epoch 12/30\n",
      "60000/60000 [==============================] - 8s 132us/step - loss: 0.0221 - acc: 0.9924\n",
      "Epoch 13/30\n",
      "60000/60000 [==============================] - 8s 125us/step - loss: 0.0205 - acc: 0.9931\n",
      "Epoch 14/30\n",
      "60000/60000 [==============================] - 8s 129us/step - loss: 0.0174 - acc: 0.9943\n",
      "Epoch 15/30\n",
      "60000/60000 [==============================] - 7s 125us/step - loss: 0.0171 - acc: 0.9945\n",
      "Epoch 16/30\n",
      "60000/60000 [==============================] - 7s 123us/step - loss: 0.0152 - acc: 0.9947\n",
      "Epoch 17/30\n",
      "60000/60000 [==============================] - 7s 124us/step - loss: 0.0136 - acc: 0.9953\n",
      "Epoch 18/30\n",
      "60000/60000 [==============================] - 7s 124us/step - loss: 0.0129 - acc: 0.9956\n",
      "Epoch 19/30\n",
      "60000/60000 [==============================] - 8s 126us/step - loss: 0.0140 - acc: 0.9954\n",
      "Epoch 20/30\n",
      "60000/60000 [==============================] - 7s 123us/step - loss: 0.0124 - acc: 0.9959\n",
      "Epoch 21/30\n",
      "60000/60000 [==============================] - 7s 118us/step - loss: 0.0103 - acc: 0.9968\n",
      "Epoch 22/30\n",
      "60000/60000 [==============================] - 7s 118us/step - loss: 0.0120 - acc: 0.9960\n",
      "Epoch 23/30\n",
      "60000/60000 [==============================] - 7s 120us/step - loss: 0.0102 - acc: 0.9970\n",
      "Epoch 24/30\n",
      "60000/60000 [==============================] - 8s 133us/step - loss: 0.0120 - acc: 0.9963\n",
      "Epoch 25/30\n",
      "60000/60000 [==============================] - 10s 158us/step - loss: 0.0104 - acc: 0.9966\n",
      "Epoch 26/30\n",
      "60000/60000 [==============================] - 9s 149us/step - loss: 0.0089 - acc: 0.9970\n",
      "Epoch 27/30\n",
      "60000/60000 [==============================] - 9s 153us/step - loss: 0.0111 - acc: 0.9963\n",
      "Epoch 28/30\n",
      "60000/60000 [==============================] - 9s 146us/step - loss: 0.0081 - acc: 0.9974\n",
      "Epoch 29/30\n",
      "60000/60000 [==============================] - 9s 153us/step - loss: 0.0080 - acc: 0.9974\n",
      "Epoch 30/30\n",
      "60000/60000 [==============================] - 9s 142us/step - loss: 0.0113 - acc: 0.9966\n"
     ]
    },
    {
     "data": {
      "text/plain": [
       "<keras.callbacks.History at 0x7f005a68ac50>"
      ]
     },
     "execution_count": 6,
     "metadata": {},
     "output_type": "execute_result"
    }
   ],
   "source": [
    "#--------------------------------Treinamento----------------------------------#\n",
    "# batch_size: de quantos em quantos registros a atualização nos pesos é feita #\n",
    "# epochs: número de epocas que ele vai executar                               #\n",
    "#-----------------------------------------------------------------------------#\n",
    "model.fit(x_train, y_train, batch_size=32, epochs = 30)"
   ]
  },
  {
   "cell_type": "markdown",
   "metadata": {
    "_uuid": "de32c6a5c710b5c625aaf1e05f3b9f025b60f390"
   },
   "source": [
    "### **2.1.6 Efetuando previsões e avaliando o modelo**"
   ]
  },
  {
   "cell_type": "code",
   "execution_count": 7,
   "metadata": {
    "_uuid": "e0bda45d3c516cea25ef690b9b2cb5c2f961965f"
   },
   "outputs": [
    {
     "name": "stdout",
     "output_type": "stream",
     "text": [
      "10000/10000 [==============================] - 1s 56us/step\n",
      "precisao: 0.9741 \n",
      " perdas: 0.1608294597032247\n"
     ]
    }
   ],
   "source": [
    "#----Passando os dados de teste pelo algoritmo e armazenando as previsões-----#\n",
    "previsoes = model.predict(x_test)\n",
    "\n",
    "#----------------Exibindo a precisão e a matriz de confusão-------------------#\n",
    "loss, precisao = model.evaluate(x_test, y_test, batch_size=32)\n",
    "print('precisao: {}'.format(precisao),'\\n','perdas: {}' .format(loss))"
   ]
  },
  {
   "cell_type": "markdown",
   "metadata": {
    "_uuid": "1c8efafdfe7cebcf822c08b0c64d0eb9961fd09d"
   },
   "source": [
    "## 2.2 REGRESSÃO\n",
    "\n",
    "- Na saída deve ter apenas um neurônio, afinal não busca-se classificar nada, e sim encontrar um único valor.\n",
    "- Função de ativação da saída deve obrigatoriamente ser uma função linear.\n",
    "- Função de ativação das camadas ocultas e de entrada podem ser outras, porém o que vem apresentando melhores resultados é a função 'relu'.\n",
    "- Toda a implementação e funcionamento de uma rede neural para classificação e regressão são iguais."
   ]
  },
  {
   "cell_type": "markdown",
   "metadata": {
    "_uuid": "1c8efafdfe7cebcf822c08b0c64d0eb9961fd09d"
   },
   "source": [
    "### **2.2.1 Base de dados**\n",
    "A base de dados que será utilizada será a Boston housing price que já pode ser encontrada na base de dados do keras.\n",
    "\n",
    "> Por se tratar de um problema de regressão é necessário efetuar o escalonamento dos dados, para isso será utilizada a biblioteca sklearn. Para efetuar a normalização é conveniente que à façamos antes de dividir os dados em treinamento e teste."
   ]
  },
  {
   "cell_type": "code",
   "execution_count": 8,
   "metadata": {
    "_uuid": "937044afcb1ab68a3f0bdd7196a382b3f97ee1c1"
   },
   "outputs": [
    {
     "name": "stdout",
     "output_type": "stream",
     "text": [
      "Downloading data from https://s3.amazonaws.com/keras-datasets/boston_housing.npz\n",
      "57344/57026 [==============================] - 0s 0us/step\n"
     ]
    }
   ],
   "source": [
    "from keras.datasets import boston_housing\n",
    "(x, y),(_,_) = boston_housing.load_data(test_split=0) # não carrego os dados de teste"
   ]
  },
  {
   "cell_type": "code",
   "execution_count": 9,
   "metadata": {
    "_uuid": "d4fc48ddf115bd4c904b65b44025162f6669d5b7"
   },
   "outputs": [
    {
     "data": {
      "text/plain": [
       "(506, 13)"
      ]
     },
     "execution_count": 9,
     "metadata": {},
     "output_type": "execute_result"
    }
   ],
   "source": [
    "x.shape"
   ]
  },
  {
   "cell_type": "code",
   "execution_count": 10,
   "metadata": {
    "_uuid": "d9e724b810e04521a0e95817d56ff1c7ae22af6d"
   },
   "outputs": [
    {
     "data": {
      "text/plain": [
       "(506,)"
      ]
     },
     "execution_count": 10,
     "metadata": {},
     "output_type": "execute_result"
    }
   ],
   "source": [
    "y.shape"
   ]
  },
  {
   "cell_type": "markdown",
   "metadata": {
    "_uuid": "de821844c05a74eeb393553f52f86a3cd6e17fe7"
   },
   "source": [
    "É necessário transformar o formato de y, pois para efetuar o escalonamento é necessário que ele possua o formato de (x,y)."
   ]
  },
  {
   "cell_type": "code",
   "execution_count": 11,
   "metadata": {
    "_uuid": "3004dfc396b77af25fd25b31b6db8ac46faacbf2"
   },
   "outputs": [
    {
     "data": {
      "text/plain": [
       "(506, 1)"
      ]
     },
     "execution_count": 11,
     "metadata": {},
     "output_type": "execute_result"
    }
   ],
   "source": [
    "y = y.reshape(y.shape[0],1)\n",
    "y.shape"
   ]
  },
  {
   "cell_type": "markdown",
   "metadata": {
    "_uuid": "d7056b6fa4aeccca6ec09f4b2d32e017fdc0b4a6"
   },
   "source": [
    "### **2.2.2 Escalonando dados**"
   ]
  },
  {
   "cell_type": "code",
   "execution_count": 12,
   "metadata": {
    "_uuid": "dbcc8c5c2060b82d8c77d31e1e92695fada40859"
   },
   "outputs": [],
   "source": [
    "from sklearn.preprocessing import StandardScaler\n",
    "scaler_x = StandardScaler()\n",
    "scaler_y = StandardScaler()\n",
    "x = scaler_x.fit_transform(x)\n",
    "y = scaler_y.fit_transform(y)"
   ]
  },
  {
   "cell_type": "code",
   "execution_count": 13,
   "metadata": {
    "_uuid": "628a6e8046bf2dc4b805d76fcd0b24a7432232db"
   },
   "outputs": [
    {
     "data": {
      "text/plain": [
       "(506, 13)"
      ]
     },
     "execution_count": 13,
     "metadata": {},
     "output_type": "execute_result"
    }
   ],
   "source": [
    "x.shape"
   ]
  },
  {
   "cell_type": "code",
   "execution_count": 14,
   "metadata": {
    "_uuid": "81df46a5869316dc7880c305223fa53143e5ff2a"
   },
   "outputs": [
    {
     "data": {
      "text/plain": [
       "(506, 1)"
      ]
     },
     "execution_count": 14,
     "metadata": {},
     "output_type": "execute_result"
    }
   ],
   "source": [
    "y.shape"
   ]
  },
  {
   "cell_type": "markdown",
   "metadata": {
    "_uuid": "9a972891b9119efea1c1fd2153751ee30ae72a1a"
   },
   "source": [
    "### **2.2.3 Dividindo a base de dados em treinamento e teste**"
   ]
  },
  {
   "cell_type": "code",
   "execution_count": 15,
   "metadata": {
    "_uuid": "58ee291f4c236f9db8f79775d2ca0d139f483ea9"
   },
   "outputs": [],
   "source": [
    "from sklearn.model_selection import train_test_split\n",
    "x_train, x_test, y_train, y_test = train_test_split(x,y, test_size = 0.3, random_state = 0) # 30% de test"
   ]
  },
  {
   "cell_type": "code",
   "execution_count": 16,
   "metadata": {
    "_uuid": "d393a93d551f39de74b07c747e0e9a99387cba73"
   },
   "outputs": [
    {
     "data": {
      "text/plain": [
       "(354, 13)"
      ]
     },
     "execution_count": 16,
     "metadata": {},
     "output_type": "execute_result"
    }
   ],
   "source": [
    "x_train.shape"
   ]
  },
  {
   "cell_type": "markdown",
   "metadata": {
    "_uuid": "6cb0ceaf7f970fae50f9f144d0591148619c83b9"
   },
   "source": [
    "### **2.2.4 Criando a rede neural para regressão**"
   ]
  },
  {
   "cell_type": "code",
   "execution_count": 17,
   "metadata": {
    "_uuid": "2cc941decf1064f3fd875ea4758934e9f2e6816e"
   },
   "outputs": [
    {
     "data": {
      "text/plain": [
       "<keras.callbacks.History at 0x7f0057b1e278>"
      ]
     },
     "execution_count": 17,
     "metadata": {},
     "output_type": "execute_result"
    }
   ],
   "source": [
    "from keras.models import Sequential\n",
    "from keras.layers import Dense\n",
    "from keras.optimizers import RMSprop\n",
    "\n",
    "#----------------------------Criando classificador----------------------------#\n",
    "model_regression = Sequential()\n",
    "\n",
    "#-----------------------------Criando as camadas------------------------------#\n",
    "#   - 1ª camada oculta:                                                       #\n",
    "#       - 64 neurônios, com função de ativação relu.                          #\n",
    "#       - input_dim é opbrigatório para a 1ª, camada, as outras não podem ter #\n",
    "#         ele define quantas entradas ela recebera.                           #\n",
    "#                                                                             #\n",
    "#   - 2ª camada oculta:                                                       #\n",
    "#       - 64 neurônios, com função de ativação relu.                          #\n",
    "#                                                                             #\n",
    "#   - Camada de saída: 10 neurônio, com função de ativação softmax            #\n",
    "#-----------------------------------------------------------------------------#\n",
    "model_regression.add(Dense(64, activation='relu', input_dim = 13))     #Entrada  #\n",
    "model_regression.add(Dense(64,activation='relu'))                      #2ª camada#\n",
    "model_regression.add(Dense(1, activation='linear'))                    #Saída    #\n",
    "\n",
    "#-------------------Define como fazer a otimização dos pesos------------------#\n",
    "model_regression.compile(optimizer=RMSprop(0.001), loss = 'mse', metrics=['mae', 'mse']) # Quando é regressão o interessante é modificar a metrica para os erros\n",
    "\n",
    "#--------------------------------Treinamento----------------------------------#\n",
    "# batch_size: de quantos em quantos registros a atualização nos pesos é feita #\n",
    "# epochs: número de epocas que ele vai executar                               #\n",
    "#-----------------------------------------------------------------------------#\n",
    "model_regression.fit(x_train, y_train, batch_size=32, epochs = 1000, verbose=0)"
   ]
  },
  {
   "cell_type": "markdown",
   "metadata": {
    "_uuid": "89a933f3483437595031046fa31aa65ee2a70494"
   },
   "source": [
    "### **2.2.5 Prevendo valores**\n",
    "\n",
    "Como os dados foram todos escalonados, deve-se voltá-los para a escala normal, para assim efetuarmos uma melhor visualização deles.\n",
    "> A inversão tem que acontecer com scaler_y, pois os resultados que sairão do predict serão valores em y."
   ]
  },
  {
   "cell_type": "code",
   "execution_count": 18,
   "metadata": {
    "_uuid": "f267704ff8d22aa29d6d4676eada5ae0b7e02f7c"
   },
   "outputs": [],
   "source": [
    "previsoes = scaler_y.inverse_transform(model_regression.predict(x_test))\n",
    "y_test = scaler_y.inverse_transform(y_test)"
   ]
  },
  {
   "cell_type": "markdown",
   "metadata": {
    "_uuid": "9498a2ee2315b9f2dd96a1621912da92346b5bb2"
   },
   "source": [
    "### **2.2.6 Plotando a previsão e o resultado esperado**"
   ]
  },
  {
   "cell_type": "code",
   "execution_count": 19,
   "metadata": {
    "_uuid": "733e5fa6eda9118fb6f93ac3437f47e2ef4c647a"
   },
   "outputs": [
    {
     "data": {
      "text/plain": [
       "<matplotlib.legend.Legend at 0x7f00577c1978>"
      ]
     },
     "execution_count": 19,
     "metadata": {},
     "output_type": "execute_result"
    },
    {
     "data": {
      "image/png": "[encoded data removed]",
      "text/plain": [
       "<Figure size 432x288 with 1 Axes>"
      ]
     },
     "metadata": {},
     "output_type": "display_data"
    }
   ],
   "source": [
    "import matplotlib.pyplot as plt\n",
    "plt.plot(y_test, 'red', label = 'Esperados')\n",
    "plt.plot(previsoes, 'b', label = 'previstos')\n",
    "plt.legend()"
   ]
  }
 ],
 "metadata": {
  "kernelspec": {
   "display_name": "Python 3",
   "language": "python",
   "name": "python3"
  },
  "language_info": {
   "codemirror_mode": {
    "name": "ipython",
    "version": 3
   },
   "file_extension": ".py",
   "mimetype": "text/x-python",
   "name": "python",
   "nbconvert_exporter": "python",
   "pygments_lexer": "ipython3",
   "version": "3.6.8"
  }
 },
 "nbformat": 4,
 "nbformat_minor": 1
}
