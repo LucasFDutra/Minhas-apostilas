{
 "cells": [
  {
   "cell_type": "markdown",
   "metadata": {
    "_uuid": "58d6732f760dfbd1e0205565394a9f71d906468d"
   },
   "source": [
    "# **NAIVE BAYES**\n",
    "\n",
    "O algoritmo Naive Bayes é um algoritmo que gera uma tabela de probabilidade com base nos registros. E quando novos registros dão entrada no sistema ele retorna a resposta mais provável.\n",
    "\n",
    "O algoritmo de Naive Bayes funciona para problemas linearmente e não linearmente separáveis. Ele também pode conter múltiplas saídas.\n",
    "\n",
    "---\n",
    "- Links para aprender mais:\n",
    "    - [Introdução ao Algoritimo Naive Bayes - IAexpert](https://iaexpert.com.br/index.php/2017/08/04/introducao-ao-algoritmo-naive-bayes/).\n",
    "    - [Wikipedia](https://en.wikipedia.org/wiki/Naive_Bayes_classifier)\n",
    "---\n",
    "\n",
    "# **IMPLEMENTAÇÃO**\n",
    "Para a implementação do algoritmo foi utilizada a biblioteca Sklearn, veja a [Documentação](https://scikit-learn.org/stable/modules/classes.html#)\n",
    "\n",
    "## Base de dados\n",
    "A base de dados que será utilizada será a MNIST que já pode ser encontrada na base de dados do keras.\n",
    "Porém para trabalhar com o algoritmo em questão ela deve modificada em sua dimensão."
   ]
  },
  {
   "cell_type": "code",
   "execution_count": 1,
   "metadata": {
    "_uuid": "becd961f9e1b816068dc1370f6910ae06d8806f0"
   },
   "outputs": [
    {
     "name": "stderr",
     "output_type": "stream",
     "text": [
      "Using TensorFlow backend.\n"
     ]
    },
    {
     "name": "stdout",
     "output_type": "stream",
     "text": [
      "Downloading data from https://s3.amazonaws.com/img-datasets/mnist.npz\n",
      "11493376/11490434 [==============================] - 0s 0us/step\n"
     ]
    }
   ],
   "source": [
    "from keras.datasets import mnist\n",
    "\n",
    "# Importando base de dados\n",
    "(x_train, y_train),(x_test, y_test) = mnist.load_data()\n",
    "\n",
    "# Normalizando os valores\n",
    "x_train, x_test = x_train/255, x_test/255\n",
    "\n",
    "# Ajustando formato\n",
    "x_train = x_train.reshape(x_train.shape[0], x_train.shape[1]*x_train.shape[2])\n",
    "x_test = x_test.reshape(x_test.shape[0], x_test.shape[1]*x_test.shape[2])"
   ]
  },
  {
   "cell_type": "code",
   "execution_count": 2,
   "metadata": {
    "_cell_guid": "b1076dfc-b9ad-4769-8c92-a6c4dae69d19",
    "_uuid": "8f2839f25d086af736a60e9eeb907d3b93b6e0e5",
    "scrolled": true
   },
   "outputs": [
    {
     "name": "stdout",
     "output_type": "stream",
     "text": [
      "precisao: 0.5558 \n",
      " matriz de confusão: \n",
      "[[ 870    0    3    5    2    5   31    1   35   28]\n",
      " [   0 1079    2    1    0    0   10    0   38    5]\n",
      " [  79   25  266   91    5    2  269    4  271   20]\n",
      " [  32   39    6  353    2    3   51    8  409  107]\n",
      " [  19    2    5    4  168    7   63    7  210  497]\n",
      " [  71   25    1   20    3   44   40    2  586  100]\n",
      " [  12   12    3    1    1    7  895    0   26    1]\n",
      " [   0   15    2   10    5    1    5  280   39  671]\n",
      " [  13   72    3    7    3   11   12    4  648  201]\n",
      " [   5    7    3    6    1    0    1   13   18  955]]\n"
     ]
    }
   ],
   "source": [
    "#-------------------------------Bibliotecas-----------------------------------#\n",
    "from sklearn.naive_bayes import GaussianNB\n",
    "from sklearn.metrics import confusion_matrix, accuracy_score\n",
    "\n",
    "#------------------------Criando um objeto GaussianNB-------------------------#\n",
    "classificador = GaussianNB()\n",
    "\n",
    "#--------Indicando a base de dados para geração da tabela de probabilidade----#\n",
    "classificador.fit(x_train, y_train)\n",
    "\n",
    "#--------Criando lista de valores preditos com base nos dados de teste--------#\n",
    "previsoes = classificador.predict(x_test)\n",
    "\n",
    "#----------------Exibindo a precisão e a matriz de confusão-------------------#\n",
    "precisao = accuracy_score(y_test, previsoes)\n",
    "matriz = confusion_matrix(y_test, previsoes)\n",
    "print('precisao: {}'.format(precisao),'\\n','matriz de confusão: \\n{}' .format(matriz))"
   ]
  }
 ],
 "metadata": {
  "kernelspec": {
   "display_name": "Python 3",
   "language": "python",
   "name": "python3"
  },
  "language_info": {
   "codemirror_mode": {
    "name": "ipython",
    "version": 3
   },
   "file_extension": ".py",
   "mimetype": "text/x-python",
   "name": "python",
   "nbconvert_exporter": "python",
   "pygments_lexer": "ipython3",
   "version": "3.6.7"
  }
 },
 "nbformat": 4,
 "nbformat_minor": 1
}
