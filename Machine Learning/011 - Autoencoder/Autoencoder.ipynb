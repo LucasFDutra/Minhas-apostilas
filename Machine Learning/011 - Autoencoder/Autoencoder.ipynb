{
 "cells": [
  {
   "cell_type": "markdown",
   "metadata": {
    "_uuid": "d4c3551a689dac026f632235692bb0bc49e3c412"
   },
   "source": [
    "# **AUTOENCODERS**\n",
    "\n",
    "Os dados entram, são codificados e decodificados. Para isso, ele faz por exemplo: 5 entradas virão duas e essas duas voltam a ser as 5. Veja que um autoencoder pode ser utilizado para reduzir a quantidade de dados, ou seja, ele é muito viável para trabalhar com imagens reduzindo suas dimensionalidades, afinal como no exemplo que citei, se tivermos 5 entradas ele reduz para 2 e consegue voltar para 5, então é mais fácil representarmos apenas com dois valores de entra, assim economizamos processamento.\n",
    "\n",
    "![](https://blog.keras.io/img/ae/autoencoder_schema.jpg)\n",
    "\n",
    "Fonte: https://blog.keras.io/building-autoencoders-in-keras.html"
   ]
  },
  {
   "cell_type": "markdown",
   "metadata": {
    "_uuid": "d4c3551a689dac026f632235692bb0bc49e3c412"
   },
   "source": [
    "Veja na imagem abaixo que temos uma representação muito parecida com uma rede neural, isso se deve ao fato de que tanto a estrutura quanto o funcionamento de um autoencoder são muito parecidos com o de uma rede neural, a principal diferença está no número de saídas, que necessariamente precisa ser igual ao número de entradas.\n",
    "\n",
    "![](https://miro.medium.com/max/361/1*iDcAplzGhttLcYI56MIMxQ.png)\n",
    "\n",
    "Fonte: https://towardsdatascience.com/deep-autoencoders-using-tensorflow-c68f075fd1a3\n",
    "\n",
    "> Uma outra utilização para autoencoders é aumentar a base de dados, por exemplo, se tivermos uma base de dados pequena e queremos maior representatividade para ela, utilizamos um autoencoder para aumentá-la.\n",
    "\n",
    "---\n",
    "- Links para aprender mais:\n",
    "    - [Intro to Autoencoders - Cognitive Class](https://www.youtube.com/watch?v=-Cp5bgLcybI&feature=youtu.be)\n",
    "    - [Autoencoders - Cognitive Class](https://www.youtube.com/watch?v=sFs16rIykGk&feature=youtu.be)\n",
    "    - [Introduction to autoencoders - Jeremy Jordan](https://www.jeremyjordan.me/autoencoders/)\n",
    "    - [Building Autoencoders in Keras](https://blog.keras.io/building-autoencoders-in-keras.html)\n",
    "    - [Introdução a autoencoders - Jones Granatyr](https://www.youtube.com/watch?v=ADbPhK5-bvE&feature=youtu.be)\n",
    "---   \n",
    "# **IMPLEMENTAÇÃO**\n",
    "Para a implementação da rede foi utilizado o tensorflow com o keras como high leval API, Veja a [Documentação](https://www.tensorflow.org/api_docs/python)\n",
    "\n",
    "## CONFIGURANDO A BASE DE DADOS"
   ]
  },
  {
   "cell_type": "code",
   "execution_count": 1,
   "metadata": {
    "_uuid": "ff0e60d0ccda94022fe21fa3da4cfce6c7b72d55",
    "colab": {
     "base_uri": "https://localhost:8080/",
     "height": 34
    },
    "colab_type": "code",
    "id": "R4at6Y808KjN",
    "outputId": "01496fe7-2a9b-4069-be1e-d385a46d07b4"
   },
   "outputs": [
    {
     "name": "stderr",
     "output_type": "stream",
     "text": [
      "Using TensorFlow backend.\n"
     ]
    }
   ],
   "source": [
    "# Importando as bibliotecas necessárias\n",
    "import tensorflow as tf\n",
    "import keras"
   ]
  },
  {
   "cell_type": "code",
   "execution_count": 2,
   "metadata": {
    "_uuid": "b29a540a6035425437139c18fde035babde4ac0d",
    "colab": {},
    "colab_type": "code",
    "id": "8gB2PS7e8Kjg"
   },
   "outputs": [
    {
     "name": "stdout",
     "output_type": "stream",
     "text": [
      "Downloading data from https://s3.amazonaws.com/img-datasets/mnist.npz\n",
      "11493376/11490434 [==============================] - 0s 0us/step\n"
     ]
    }
   ],
   "source": [
    "# Carregando os dados da base mnist\n",
    "mnist = keras.datasets.mnist\n",
    "(x_train, y_train),(x_test, y_test) = mnist.load_data()"
   ]
  },
  {
   "cell_type": "code",
   "execution_count": 3,
   "metadata": {
    "_uuid": "21152a6383f982648d59f88b1e567a6cb600dd30",
    "colab": {
     "base_uri": "https://localhost:8080/",
     "height": 265
    },
    "colab_type": "code",
    "id": "rvgV6blq8KkD",
    "outputId": "6d05da10-f4c0-4b91-c2c9-f5cfa9b105a8"
   },
   "outputs": [
    {
     "data": {
      "text/plain": [
       "([], <a list of 0 Text yticklabel objects>)"
      ]
     },
     "execution_count": 3,
     "metadata": {},
     "output_type": "execute_result"
    },
    {
     "data": {
      "image/png": "[encoded data removed]",
      "text/plain": [
       "<Figure size 432x288 with 1 Axes>"
      ]
     },
     "metadata": {},
     "output_type": "display_data"
    }
   ],
   "source": [
    "# Exibindo uma das imagens\n",
    "%matplotlib inline\n",
    "import matplotlib.pyplot as plt\n",
    "plt.imshow(x_train[0])\n",
    "plt.xticks(())\n",
    "plt.yticks(())"
   ]
  },
  {
   "cell_type": "markdown",
   "metadata": {
    "_uuid": "c209585f5302f7ca7ac9950df4f968d868f71527",
    "colab_type": "text",
    "id": "sr-8W3a7IFdq"
   },
   "source": [
    "Efetuando a verificação das dimensões das entradas para determinar se são adequadas para entrarem na rede."
   ]
  },
  {
   "cell_type": "code",
   "execution_count": 4,
   "metadata": {
    "_uuid": "29c71e3daf5f2eaea98791d2e1e6f4412debaad4",
    "colab": {
     "base_uri": "https://localhost:8080/",
     "height": 34
    },
    "colab_type": "code",
    "id": "JST51bA58KkN",
    "outputId": "03ff6b35-237c-4675-9f11-33f01cafb9d2"
   },
   "outputs": [
    {
     "data": {
      "text/plain": [
       "(60000, 28, 28)"
      ]
     },
     "execution_count": 4,
     "metadata": {},
     "output_type": "execute_result"
    }
   ],
   "source": [
    "x_train.shape"
   ]
  },
  {
   "cell_type": "code",
   "execution_count": 5,
   "metadata": {
    "_uuid": "3c91519b7b7ec2b701753104ee1542da2613bda7",
    "colab": {
     "base_uri": "https://localhost:8080/",
     "height": 34
    },
    "colab_type": "code",
    "id": "4DaTv2fZTdg7",
    "outputId": "3d4e80f1-ba7f-4d7d-8fa0-6db565b75df1"
   },
   "outputs": [
    {
     "data": {
      "text/plain": [
       "(10000, 28, 28)"
      ]
     },
     "execution_count": 5,
     "metadata": {},
     "output_type": "execute_result"
    }
   ],
   "source": [
    "x_test.shape"
   ]
  },
  {
   "cell_type": "code",
   "execution_count": 6,
   "metadata": {
    "_uuid": "70c3225b1d65668d4ed23bd27274fa46997afd45",
    "colab": {
     "base_uri": "https://localhost:8080/",
     "height": 34
    },
    "colab_type": "code",
    "id": "q9NjQME68Kkb",
    "outputId": "6b137166-34e1-465d-b2f1-5815a18e8a82"
   },
   "outputs": [
    {
     "data": {
      "text/plain": [
       "(60000,)"
      ]
     },
     "execution_count": 6,
     "metadata": {},
     "output_type": "execute_result"
    }
   ],
   "source": [
    "y_train.shape"
   ]
  },
  {
   "cell_type": "code",
   "execution_count": 7,
   "metadata": {
    "_uuid": "d3d4212154ba61c7ce714655e8f4812f5014324c",
    "colab": {
     "base_uri": "https://localhost:8080/",
     "height": 34
    },
    "colab_type": "code",
    "id": "wpHQaX4eUoIh",
    "outputId": "1d76d820-bec7-44d3-e554-f86a109ca21b"
   },
   "outputs": [
    {
     "data": {
      "text/plain": [
       "(10000,)"
      ]
     },
     "execution_count": 7,
     "metadata": {},
     "output_type": "execute_result"
    }
   ],
   "source": [
    "y_test.shape"
   ]
  },
  {
   "cell_type": "markdown",
   "metadata": {
    "_uuid": "d901380b30e76d86f25d06e4e92fa4310654fe60",
    "colab_type": "text",
    "id": "osggW5a5IZCk"
   },
   "source": [
    "As bases x_train e x_teste precisão serem arrumadas para a dimensão (60000, 784)"
   ]
  },
  {
   "cell_type": "code",
   "execution_count": 8,
   "metadata": {
    "_uuid": "019c1fec22467f7a905597cf8311b4b2c38df8e1",
    "colab": {},
    "colab_type": "code",
    "id": "QTcpLiUr8KlA"
   },
   "outputs": [],
   "source": [
    "# Ajustando os shapes\n",
    "x_train = x_train.reshape(60000, 784)\n",
    "x_test = x_test.reshape(10000, 784)"
   ]
  },
  {
   "cell_type": "markdown",
   "metadata": {
    "_uuid": "6ad20912da9354c95b5727b60d500e40e4e6be69",
    "colab_type": "text",
    "id": "xyibjCmpIq48"
   },
   "source": [
    "Verificando se as modificações foram executadas com sucesso"
   ]
  },
  {
   "cell_type": "code",
   "execution_count": 9,
   "metadata": {
    "_uuid": "53157f396308804086bb08b5a2b88cfe54a6efbe",
    "colab": {
     "base_uri": "https://localhost:8080/",
     "height": 34
    },
    "colab_type": "code",
    "id": "UPOy27zwI1ge",
    "outputId": "cd3d8fed-2cb4-470d-d8d4-364aba5024da"
   },
   "outputs": [
    {
     "data": {
      "text/plain": [
       "(784,)"
      ]
     },
     "execution_count": 9,
     "metadata": {},
     "output_type": "execute_result"
    }
   ],
   "source": [
    "x_train[0].shape"
   ]
  },
  {
   "cell_type": "code",
   "execution_count": 10,
   "metadata": {
    "_uuid": "d4c68bef82b793490204c1398d69008549c68446",
    "colab": {
     "base_uri": "https://localhost:8080/",
     "height": 34
    },
    "colab_type": "code",
    "id": "QzN0ZDRjI3_-",
    "outputId": "6475d815-cfa5-4ede-ba44-358c45b68598"
   },
   "outputs": [
    {
     "data": {
      "text/plain": [
       "(784,)"
      ]
     },
     "execution_count": 10,
     "metadata": {},
     "output_type": "execute_result"
    }
   ],
   "source": [
    "x_test[0].shape"
   ]
  },
  {
   "cell_type": "markdown",
   "metadata": {
    "_uuid": "c7dc7eab30f70a31b68348a5023bd4f4060249b0",
    "colab_type": "text",
    "id": "SYuht0rbI_4a"
   },
   "source": [
    "Após constatar que as mudanças foram executadas, normalizou-se os dados."
   ]
  },
  {
   "cell_type": "code",
   "execution_count": 11,
   "metadata": {
    "_uuid": "e7fd8d46f9a3edda820915a4b0539c225ae13946",
    "colab": {},
    "colab_type": "code",
    "id": "K4tcwmc_8Kls"
   },
   "outputs": [],
   "source": [
    "x_train, x_test = x_train/255, x_test/255"
   ]
  },
  {
   "cell_type": "markdown",
   "metadata": {
    "_uuid": "81015ff53d54eefd87fb561700546dc838314cbc",
    "colab_type": "text",
    "id": "4RV3VuD7Ek7E"
   },
   "source": [
    "## CONSTRUINDO O AUTOENCODER\n",
    "### **Criando as camadas de encode**"
   ]
  },
  {
   "cell_type": "code",
   "execution_count": 12,
   "metadata": {
    "_uuid": "465657570057257dd243aed907db84ca93b24a0b",
    "colab": {
     "base_uri": "https://localhost:8080/",
     "height": 141
    },
    "colab_type": "code",
    "id": "gNFNs1_eGNFB",
    "outputId": "aa5eaebe-b2cb-4c62-8bc4-c320b104cfcd"
   },
   "outputs": [],
   "source": [
    "# Camada de entrada\n",
    "entrada = keras.layers.Input(shape=(784,))\n",
    "\n",
    "# 1ª Camada de encode\n",
    "encode_1 = keras.layers.Dense(600, activation=keras.activations.relu)(entrada)\n",
    "\n",
    "# 1ª Camada de dropout\n",
    "dropout_1 = keras.layers.Dropout(0.2)(encode_1)\n",
    "\n",
    "# 2ª Camada de encode\n",
    "encode_2 = keras.layers.Dense(400, activation=keras.activations.relu)(dropout_1)\n",
    "\n",
    "# 2ª Camada de dropout\n",
    "dropout_2 = keras.layers.Dropout(0.2)(encode_2)\n",
    "\n",
    "# 3ª Camada de encode\n",
    "encode_3 = keras.layers.Dense(200, activation=keras.activations.relu)(dropout_2)\n",
    "\n",
    "# 3ª Camada de dropout\n",
    "dropout_3 = keras.layers.Dropout(0.2)(encode_3)\n",
    "\n",
    "# Camada final do encode\n",
    "encode_final = keras.layers.Dense(36, activation=keras.activations.relu)(dropout_3)"
   ]
  },
  {
   "cell_type": "markdown",
   "metadata": {
    "_uuid": "b26851480e3de1344fa3cf5f6f997c4b537c5a4e",
    "colab_type": "text",
    "id": "r1r4weCyNjB_"
   },
   "source": [
    "### **Criando camadas de decode**"
   ]
  },
  {
   "cell_type": "code",
   "execution_count": 13,
   "metadata": {
    "_uuid": "0bc8501923ec79f42969bfa4cb5f9898e6dcce38",
    "colab": {},
    "colab_type": "code",
    "id": "jAhd6BC1FJ1m"
   },
   "outputs": [],
   "source": [
    "# 1ª Camada de decode\n",
    "decode_1 = keras.layers.Dense(200, activation=keras.activations.relu)(encode_final)\n",
    "\n",
    "# 1ª Camada de dropout\n",
    "dropout_1 = keras.layers.Dropout(0.2)(decode_1)\n",
    "\n",
    "# 2ª Camada de decode\n",
    "decode_2 = keras.layers.Dense(400, activation=keras.activations.relu)(dropout_1)\n",
    "\n",
    "# 2ª Camada de dropout\n",
    "dropout_2 = keras.layers.Dropout(0.2)(decode_2)\n",
    "\n",
    "# 3ª Camada de decode\n",
    "decode_3 = keras.layers.Dense(600, activation=keras.activations.relu)(dropout_2)\n",
    "\n",
    "# 3ª Camada de dropout\n",
    "dropout_3 = keras.layers.Dropout(0.2)(decode_3)\n",
    "\n",
    "# Camada final de decode\n",
    "decode_final = keras.layers.Dense(784, activation=keras.activations.softmax)(dropout_3)"
   ]
  },
  {
   "cell_type": "markdown",
   "metadata": {
    "_uuid": "93f1e475aaae88937ba21658ae15116919e6f5c7",
    "colab_type": "text",
    "id": "pQ1R0fl8OlLV"
   },
   "source": [
    "### **Criando o modelo do autoencoder como um todo**"
   ]
  },
  {
   "cell_type": "code",
   "execution_count": 14,
   "metadata": {
    "_uuid": "eef0175af780020c0bd739708cf3e208492e2289",
    "colab": {},
    "colab_type": "code",
    "id": "fV4KxrNQOkW5"
   },
   "outputs": [],
   "source": [
    "autoencoder = keras.models.Model(entrada, decode_final)"
   ]
  },
  {
   "cell_type": "code",
   "execution_count": 15,
   "metadata": {
    "_uuid": "a747b855af6f809aed4e06ac1f88b82e60a93a7e",
    "colab": {
     "base_uri": "https://localhost:8080/",
     "height": 660
    },
    "colab_type": "code",
    "id": "I77Vz4-cXbNx",
    "outputId": "6b76e6c2-0a09-49cb-e388-319a1e029c11"
   },
   "outputs": [
    {
     "name": "stdout",
     "output_type": "stream",
     "text": [
      "_________________________________________________________________\n",
      "Layer (type)                 Output Shape              Param #   \n",
      "=================================================================\n",
      "input_1 (InputLayer)         (None, 784)               0         \n",
      "_________________________________________________________________\n",
      "dense_1 (Dense)              (None, 600)               471000    \n",
      "_________________________________________________________________\n",
      "dropout_1 (Dropout)          (None, 600)               0         \n",
      "_________________________________________________________________\n",
      "dense_2 (Dense)              (None, 400)               240400    \n",
      "_________________________________________________________________\n",
      "dropout_2 (Dropout)          (None, 400)               0         \n",
      "_________________________________________________________________\n",
      "dense_3 (Dense)              (None, 200)               80200     \n",
      "_________________________________________________________________\n",
      "dropout_3 (Dropout)          (None, 200)               0         \n",
      "_________________________________________________________________\n",
      "dense_4 (Dense)              (None, 36)                7236      \n",
      "_________________________________________________________________\n",
      "dense_5 (Dense)              (None, 200)               7400      \n",
      "_________________________________________________________________\n",
      "dropout_4 (Dropout)          (None, 200)               0         \n",
      "_________________________________________________________________\n",
      "dense_6 (Dense)              (None, 400)               80400     \n",
      "_________________________________________________________________\n",
      "dropout_5 (Dropout)          (None, 400)               0         \n",
      "_________________________________________________________________\n",
      "dense_7 (Dense)              (None, 600)               240600    \n",
      "_________________________________________________________________\n",
      "dropout_6 (Dropout)          (None, 600)               0         \n",
      "_________________________________________________________________\n",
      "dense_8 (Dense)              (None, 784)               471184    \n",
      "=================================================================\n",
      "Total params: 1,598,420\n",
      "Trainable params: 1,598,420\n",
      "Non-trainable params: 0\n",
      "_________________________________________________________________\n"
     ]
    }
   ],
   "source": [
    "autoencoder.summary()"
   ]
  },
  {
   "cell_type": "markdown",
   "metadata": {
    "_uuid": "36bca089b9cbef2766d8c581a12aa0a05e50109a",
    "colab_type": "text",
    "id": "BRUKjgpEPji9"
   },
   "source": [
    "### **Criando uma seção apenas de codificação**"
   ]
  },
  {
   "cell_type": "code",
   "execution_count": 16,
   "metadata": {
    "_uuid": "27a5e84e352b405b3ed964b9dad03af99b1ec912",
    "colab": {},
    "colab_type": "code",
    "id": "H0Qw77n-Pqqe"
   },
   "outputs": [],
   "source": [
    "encoder = keras.models.Model(entrada, encode_final)"
   ]
  },
  {
   "cell_type": "code",
   "execution_count": 17,
   "metadata": {
    "_uuid": "3c6994f7238f0b32a93ba4c1e6ee1fa07118cc11",
    "colab": {
     "base_uri": "https://localhost:8080/",
     "height": 416
    },
    "colab_type": "code",
    "id": "c79e43Yu0nwd",
    "outputId": "076dc2e2-902a-4e97-a5c7-eb0190d7fb6e"
   },
   "outputs": [
    {
     "name": "stdout",
     "output_type": "stream",
     "text": [
      "_________________________________________________________________\n",
      "Layer (type)                 Output Shape              Param #   \n",
      "=================================================================\n",
      "input_1 (InputLayer)         (None, 784)               0         \n",
      "_________________________________________________________________\n",
      "dense_1 (Dense)              (None, 600)               471000    \n",
      "_________________________________________________________________\n",
      "dropout_1 (Dropout)          (None, 600)               0         \n",
      "_________________________________________________________________\n",
      "dense_2 (Dense)              (None, 400)               240400    \n",
      "_________________________________________________________________\n",
      "dropout_2 (Dropout)          (None, 400)               0         \n",
      "_________________________________________________________________\n",
      "dense_3 (Dense)              (None, 200)               80200     \n",
      "_________________________________________________________________\n",
      "dropout_3 (Dropout)          (None, 200)               0         \n",
      "_________________________________________________________________\n",
      "dense_4 (Dense)              (None, 36)                7236      \n",
      "=================================================================\n",
      "Total params: 798,836\n",
      "Trainable params: 798,836\n",
      "Non-trainable params: 0\n",
      "_________________________________________________________________\n"
     ]
    }
   ],
   "source": [
    "encoder.summary()"
   ]
  },
  {
   "cell_type": "markdown",
   "metadata": {
    "_uuid": "6c0ff4a3d450ead425adfdb7249c339e2807e453",
    "colab_type": "text",
    "id": "7izxohLtGXjd"
   },
   "source": [
    "### **Criando uma seção apenas de decodificação**\n",
    "\n",
    "> É necessário puxar os layers do autoencoder referentes ao decoder e conectá-los novamente, isso se deve ao fato de ser necessário acrescentar uma nova entrada.\n"
   ]
  },
  {
   "cell_type": "code",
   "execution_count": 18,
   "metadata": {
    "_uuid": "b96aa0f2544a9fee907f23d771787618ae95374b",
    "colab": {},
    "colab_type": "code",
    "id": "J9lTLPsMGjFM"
   },
   "outputs": [],
   "source": [
    "# Conectando camadas de decodificação\n",
    "decoder_layer_0 = keras.layers.Input(shape=(36,))\n",
    "decoder_layer_1 = autoencoder.layers[8](decoder_layer_0)\n",
    "decoder_layer_2 = autoencoder.layers[9](decoder_layer_1)\n",
    "decoder_layer_3 = autoencoder.layers[10](decoder_layer_2)\n",
    "decoder_layer_4 = autoencoder.layers[11](decoder_layer_3)\n",
    "decoder_layer_5 = autoencoder.layers[12](decoder_layer_4)\n",
    "decoder_layer_6 = autoencoder.layers[13](decoder_layer_5)\n",
    "decoder_layer_7 = autoencoder.layers[14](decoder_layer_6)\n",
    "\n",
    "decoder = keras.models.Model(decoder_layer_0, decoder_layer_7)"
   ]
  },
  {
   "cell_type": "code",
   "execution_count": 19,
   "metadata": {
    "_uuid": "5481819d738faf2ddea93b3919f56355ed1087ea",
    "colab": {
     "base_uri": "https://localhost:8080/",
     "height": 416
    },
    "colab_type": "code",
    "id": "1U-sMRC1HShs",
    "outputId": "ddae82b9-5524-4540-f0e2-8cbf24650b95"
   },
   "outputs": [
    {
     "name": "stdout",
     "output_type": "stream",
     "text": [
      "_________________________________________________________________\n",
      "Layer (type)                 Output Shape              Param #   \n",
      "=================================================================\n",
      "input_2 (InputLayer)         (None, 36)                0         \n",
      "_________________________________________________________________\n",
      "dense_5 (Dense)              (None, 200)               7400      \n",
      "_________________________________________________________________\n",
      "dropout_4 (Dropout)          (None, 200)               0         \n",
      "_________________________________________________________________\n",
      "dense_6 (Dense)              (None, 400)               80400     \n",
      "_________________________________________________________________\n",
      "dropout_5 (Dropout)          (None, 400)               0         \n",
      "_________________________________________________________________\n",
      "dense_7 (Dense)              (None, 600)               240600    \n",
      "_________________________________________________________________\n",
      "dropout_6 (Dropout)          (None, 600)               0         \n",
      "_________________________________________________________________\n",
      "dense_8 (Dense)              (None, 784)               471184    \n",
      "=================================================================\n",
      "Total params: 799,584\n",
      "Trainable params: 799,584\n",
      "Non-trainable params: 0\n",
      "_________________________________________________________________\n"
     ]
    }
   ],
   "source": [
    "decoder.summary()"
   ]
  },
  {
   "cell_type": "markdown",
   "metadata": {
    "_uuid": "e6bd6ebfd579dac4e26e133cefa7522bbe7811d1",
    "colab_type": "text",
    "id": "HKZqSLwFQPdf"
   },
   "source": [
    "### **Configurando o modelo para o treinamento**"
   ]
  },
  {
   "cell_type": "code",
   "execution_count": 20,
   "metadata": {
    "_uuid": "65c6facf5ca9c500e25b415d8a6c5c7434431c1a",
    "colab": {},
    "colab_type": "code",
    "id": "NS-lmdzkQUua"
   },
   "outputs": [],
   "source": [
    "autoencoder.compile(optimizer=keras.optimizers.Adadelta(),\n",
    "                   loss='binary_crossentropy',\n",
    "                   metrics=['accuracy'])"
   ]
  },
  {
   "cell_type": "markdown",
   "metadata": {
    "_uuid": "dde6098701edf97ef33f8313e24c5bfd536ca184",
    "colab_type": "text",
    "id": "D-pve-OHRkwR"
   },
   "source": [
    "### **Efetuando o treinamento e avaliando**"
   ]
  },
  {
   "cell_type": "code",
   "execution_count": 21,
   "metadata": {
    "_uuid": "c9e8ddb7c95cf8bab72af8df96a791c616619f2c",
    "colab": {
     "base_uri": "https://localhost:8080/",
     "height": 1148
    },
    "colab_type": "code",
    "id": "xuiG8dBeR4CZ",
    "outputId": "dda95808-db2b-4530-dee7-3e1b97cf2b1e"
   },
   "outputs": [
    {
     "name": "stdout",
     "output_type": "stream",
     "text": [
      "Epoch 1/30\n",
      "60000/60000 [==============================] - 26s 434us/step - loss: 0.7638 - acc: 0.8088\n",
      "Epoch 2/30\n",
      "60000/60000 [==============================] - 23s 377us/step - loss: 0.7296 - acc: 0.8088\n",
      "Epoch 3/30\n",
      "60000/60000 [==============================] - 23s 378us/step - loss: 0.7142 - acc: 0.8088\n",
      "Epoch 4/30\n",
      "60000/60000 [==============================] - 23s 377us/step - loss: 0.7071 - acc: 0.8088\n",
      "Epoch 5/30\n",
      "60000/60000 [==============================] - 23s 379us/step - loss: 0.7031 - acc: 0.8088\n",
      "Epoch 6/30\n",
      "60000/60000 [==============================] - 23s 378us/step - loss: 0.7005 - acc: 0.8088\n",
      "Epoch 7/30\n",
      "60000/60000 [==============================] - 23s 378us/step - loss: 0.6985 - acc: 0.8088\n",
      "Epoch 8/30\n",
      "60000/60000 [==============================] - 23s 379us/step - loss: 0.6969 - acc: 0.8088\n",
      "Epoch 9/30\n",
      "60000/60000 [==============================] - 23s 379us/step - loss: 0.6955 - acc: 0.8088\n",
      "Epoch 10/30\n",
      "60000/60000 [==============================] - 23s 378us/step - loss: 0.6942 - acc: 0.8088\n",
      "Epoch 11/30\n",
      "60000/60000 [==============================] - 23s 379us/step - loss: 0.6931 - acc: 0.8088\n",
      "Epoch 12/30\n",
      "60000/60000 [==============================] - 23s 379us/step - loss: 0.6921 - acc: 0.8088\n",
      "Epoch 13/30\n",
      "60000/60000 [==============================] - 23s 380us/step - loss: 0.6913 - acc: 0.8088\n",
      "Epoch 14/30\n",
      "60000/60000 [==============================] - 23s 379us/step - loss: 0.6906 - acc: 0.8088\n",
      "Epoch 15/30\n",
      "60000/60000 [==============================] - 23s 379us/step - loss: 0.6899 - acc: 0.8088\n",
      "Epoch 16/30\n",
      "60000/60000 [==============================] - 23s 378us/step - loss: 0.6893 - acc: 0.8088\n",
      "Epoch 17/30\n",
      "43520/60000 [====================>.........] - ETA: 6s - loss: 0.6893 - acc: 0.8088"
     ]
    }
   ],
   "source": [
    "autoencoder.fit(x_train, x_train, batch_size=32, epochs=30)"
   ]
  },
  {
   "cell_type": "code",
   "execution_count": 22,
   "metadata": {
    "_uuid": "1a6995e7c9c1b3445482ce3dd89f97ca553966b5",
    "colab": {
     "base_uri": "https://localhost:8080/",
     "height": 52
    },
    "colab_type": "code",
    "id": "9IP87B9RcVEm",
    "outputId": "32de376c-bc20-4c23-b9e2-84948dfbe09c"
   },
   "outputs": [
    {
     "name": "stdout",
     "output_type": "stream",
     "text": [
      "10000/10000 [==============================] - 1s 78us/step\n"
     ]
    },
    {
     "data": {
      "text/plain": [
       "[0.6845628787994384, 0.8072424722671508]"
      ]
     },
     "execution_count": 22,
     "metadata": {},
     "output_type": "execute_result"
    }
   ],
   "source": [
    "autoencoder.evaluate(x_test, x_test)"
   ]
  },
  {
   "cell_type": "markdown",
   "metadata": {
    "_uuid": "2e49e91ca1042364822311e6316ece255223bd8a",
    "colab_type": "text",
    "id": "eZt9Yg3NnBlE"
   },
   "source": [
    "### **Utilizando o matplotlib para mostrar os três estágios de 10 imagens**\n",
    "- Entrada\n",
    "- Codificada\n",
    "- Decodificada\n",
    "\n",
    "Codificando 10 imagens."
   ]
  },
  {
   "cell_type": "code",
   "execution_count": 23,
   "metadata": {
    "_uuid": "d9f9773583d463ceea9f660bcc82825e7ba40e1b",
    "colab": {},
    "colab_type": "code",
    "id": "QrhES86YoHSe"
   },
   "outputs": [],
   "source": [
    "imagens_codificadas = encoder.predict(x_test[0:10])"
   ]
  },
  {
   "cell_type": "markdown",
   "metadata": {
    "_uuid": "6d1d5a0a7947aebf959a93cf8f90d43f3b6cc1a8",
    "colab_type": "text",
    "id": "HdxBBfjcorql"
   },
   "source": [
    "Decodificando as 10 imagens."
   ]
  },
  {
   "cell_type": "code",
   "execution_count": 24,
   "metadata": {
    "_uuid": "56770669ea965ea76f34e041c6d58efef6b89fe9",
    "colab": {},
    "colab_type": "code",
    "id": "zxjvH2dGot_n"
   },
   "outputs": [],
   "source": [
    "imagens_decodificadas = decoder.predict(imagens_codificadas)"
   ]
  },
  {
   "cell_type": "code",
   "execution_count": 25,
   "metadata": {
    "_uuid": "25e2a1f72c4b3200265ec7272d3c7c6aa90be0e5",
    "colab": {
     "base_uri": "https://localhost:8080/",
     "height": 186
    },
    "colab_type": "code",
    "id": "CFfwRC2rnK76",
    "outputId": "f868947c-2322-49f6-f665-2acd9bdce7dd"
   },
   "outputs": [
    {
     "data": {
      "image/png": "[encoded data removed]",
      "text/plain": [
       "<Figure size 1296x1296 with 30 Axes>"
      ]
     },
     "metadata": {},
     "output_type": "display_data"
    }
   ],
   "source": [
    "import matplotlib.pyplot as plt\n",
    "\n",
    "n = 10  # Quantidade de números que serão mostrados por linha\n",
    "plt.figure(figsize=(18, 18))\n",
    "for i in range(n):\n",
    "    # Imagem original\n",
    "    ax = plt.subplot(18, n, i + 1)\n",
    "    plt.imshow(x_test[i].reshape(28, 28))\n",
    "    plt.gray()\n",
    "    ax.get_xaxis().set_visible(False)\n",
    "    ax.get_yaxis().set_visible(False)\n",
    "\n",
    "    # Imagem codificada\n",
    "    ax = plt.subplot(18, n, i + 1 + n)\n",
    "    plt.imshow(imagens_codificadas[i].reshape(6, 6))\n",
    "    ax.get_xaxis().set_visible(False)\n",
    "    ax.get_yaxis().set_visible(False)\n",
    "    \n",
    "    # Imagem decodificada\n",
    "    ax = plt.subplot(18, n, i + 1 + n*2)\n",
    "    plt.imshow(imagens_decodificadas[i].reshape(28, 28))\n",
    "    ax.get_xaxis().set_visible(False)\n",
    "    ax.get_yaxis().set_visible(False)\n",
    "plt.show()"
   ]
  }
 ],
 "metadata": {
  "accelerator": "GPU",
  "colab": {
   "collapsed_sections": [],
   "include_colab_link": true,
   "name": "Autoencoder.ipynb",
   "provenance": [],
   "version": "0.3.2"
  },
  "kernelspec": {
   "display_name": "Python 3",
   "language": "python",
   "name": "python3"
  },
  "language_info": {
   "codemirror_mode": {
    "name": "ipython",
    "version": 3
   },
   "file_extension": ".py",
   "mimetype": "text/x-python",
   "name": "python",
   "nbconvert_exporter": "python",
   "pygments_lexer": "ipython3",
   "version": "3.6.8"
  }
 },
 "nbformat": 4,
 "nbformat_minor": 1
}
