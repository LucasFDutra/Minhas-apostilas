{
 "cells": [
  {
   "cell_type": "markdown",
   "metadata": {
    "_uuid": "47f4847bc696678799601fd1e048a87500b2d88d"
   },
   "source": [
    "# Sumário\n",
    "\n",
    "- [1. ÁRVORE DE DECISÃO](#1.-ÁRVORE-DE-DECISÃO)\n",
    "\n",
    "\n",
    "- [2. RANDOM FOREST](#2.-RANDOM-FOREST)\n",
    "\n",
    "\n",
    "- [3. IMPLEMENTAÇÕES](#3.-IMPLEMENTAÇÕES)\n",
    "  - [3.1 CLASSIFICAÇÃO](#3.1-CLASSIFICAÇÃO)\n",
    "    - [3.1.1 Base de dados](#3.1.1-Base-de-dados)\n",
    "    - [3.1.2 Árvore de decisão](#3.1.2-Árvore-de-decisão)\n",
    "    - [3.1.3 Random forest](#3.1.3-Random-forest)\n",
    "  - [3.2 REGRESSÃO](#3.2-REGRESSÃO)\n",
    "    - [3.2.1 Base de dados](#3.2.1-Base-de-dados)\n",
    "    - [3.2.2 Árvore de decisão](#3.2.2-Árvore-de-decisão)\n",
    "    - [3.2.3 Random forest](#3.2.3-Random-forest)"
   ]
  },
  {
   "cell_type": "markdown",
   "metadata": {
    "_uuid": "47f4847bc696678799601fd1e048a87500b2d88d"
   },
   "source": [
    "# **1. ÁRVORE DE DECISÃO**\n",
    "\n",
    "Uma árvore de decisão constrói caminhos para à tomada de decisões. Ela define qual atributo possui maior relevância e o define como sendo a raiz da árvore. Partindo desse ponto ela obtém galhos, os quais também se ramificam de acordo com os próximos graus de importância. Após construída uma árvore de decisão é um algoritmo condicional, que se inicia na raiz e dele vai tomando decisões com base em condições.\n",
    "\n",
    "Uma árvore de decisão também pode ser utilizada para classificação de problemas linearmente e não linearmente separáveis. Ela também pode ter saídas múltiplas.\n",
    "\n",
    "![](https://annalyzin.files.wordpress.com/2016/07/decision-tree-tutorial-animated3.gif)\n",
    "\n",
    "Fonte: https://algobeans.com/2016/07/27/decision-trees-tutorial/\n",
    "\n",
    "![](https://cdn-images-1.medium.com/max/600/1*OuB7IlENrdpXozK1R0UEzw.gif)\n",
    "\n",
    "Fonte: http://tonyhschu.ca/"
   ]
  },
  {
   "cell_type": "markdown",
   "metadata": {
    "_uuid": "47f4847bc696678799601fd1e048a87500b2d88d"
   },
   "source": [
    "# **2. RANDOM FOREST**\n",
    "\n",
    "O algoritmo de random forest é uma melhoria do algoritmo de árvores de decisão. Nesse algoritmo temos que as decisões não são feitas apenas por uma árvore, mas sim por várias que trabalham em conjunto para definir os melhores caminhos.\n",
    "\n",
    "Para obter a resposta final normalmente utiliza-se a média entre as decisões ou os votos da maioria. A média é usada para regressão e os votos da maioria para classificação.\n",
    "\n",
    "Pode-se escolher a quantidade de árvores a serem utilizadas, mas nem sempre mais é melhor, além de aumentar o gosto computacional o algoritmo pode se viciar nos dados de treinamento e não acertar nada quando for utilizado.\n",
    "\n",
    "Também é possível definir quantos atributos cada uma das árvores vai utilizar, e ela escolhe quais utilizar de forma aleatória (por isso o nome de floresta randômica). \n",
    "\n",
    "- **Exemplo**: Se tivermos na base de dados os atributos A, B, C, D, E, F e G. E escolhermos 3 árvores sendo que cada uma vai analisar 4 atributos. Assim teríamos por exemplo:\n",
    "    - Árvore 1: A, C, D, G.\n",
    "    - Árvore 2: A, B, E, F.\n",
    "    - Árvore 3: C, D, E, G.\n",
    "\n",
    "![](https://cdn-images-1.medium.com/max/800/1*i0o8mjFfCn-uD79-F1Cqkw.png)\n",
    "\n",
    "Fonte: https://medium.com/@williamkoehrsen/random-forest-simple-explanation-377895a60d2d\n",
    "\n",
    "---\n",
    "- Link para aprender mais:\n",
    "    - [Intro to Decision Trees - Cognitive Class](https://youtu.be/z3yGRBz8jiI)\n",
    "    - [Building Decision Trees - Cognitive Class](https://youtu.be/Q-fOOMGSxlo)\n",
    "    - [Árvores de Decisão - Gfgioinfo](http://web.tecnico.ulisboa.pt/ana.freitas/bioinformatics.ath.cx/bioinformatics.ath.cx/indexf23d.html?id).\n",
    "    - [DECISION TREES TUTORIAL - ALGOBEANS](https://algobeans.com/2016/07/27/decision-trees-tutorial/)\n",
    "    - [Random Forests - The Math of Intelligence - Siraj Raval](https://www.youtube.com/watch?v=QHOazyP-YlM).\n",
    "    - [Random Forest Simple Explanation - Will Koehrsen](https://medium.com/@williamkoehrsen/random-forest-simple-explanation-377895a60d2d)\n",
    "    - [Random forest - Wikipédia](https://en.wikipedia.org/wiki/Random_forest).\n",
    "---    \n",
    "\n",
    "> Ambos algoritmos podem ser utilizados para classificação e regressão"
   ]
  },
  {
   "cell_type": "markdown",
   "metadata": {
    "_uuid": "47f4847bc696678799601fd1e048a87500b2d88d"
   },
   "source": [
    "# **3. IMPLEMENTAÇÕES**"
   ]
  },
  {
   "cell_type": "markdown",
   "metadata": {
    "_uuid": "47f4847bc696678799601fd1e048a87500b2d88d"
   },
   "source": [
    "## 3.1 CLASSIFICAÇÃO\n",
    "\n",
    "Para a implementação do algoritmo foi utilizada a biblioteca Sklearn, veja a [Documentação](https://scikit-learn.org/stable/modules/classes.html#)"
   ]
  },
  {
   "cell_type": "markdown",
   "metadata": {
    "_uuid": "47f4847bc696678799601fd1e048a87500b2d88d"
   },
   "source": [
    "### **3.1.1 Base de dados**\n",
    "A base de dados que será utilizada será a MNIST que já pode ser encontrada na base de dados do keras.\n",
    "Porém para trabalhar com o algoritmo em questão ela deve modificada em sua dimensão."
   ]
  },
  {
   "cell_type": "code",
   "execution_count": 1,
   "metadata": {
    "_uuid": "eb9fcac711d973c5750d38066e9eeaaa73b36a4e"
   },
   "outputs": [
    {
     "name": "stderr",
     "output_type": "stream",
     "text": [
      "Using TensorFlow backend.\n"
     ]
    },
    {
     "name": "stdout",
     "output_type": "stream",
     "text": [
      "Downloading data from https://s3.amazonaws.com/img-datasets/mnist.npz\n",
      "11493376/11490434 [==============================] - 0s 0us/step\n"
     ]
    }
   ],
   "source": [
    "from keras.datasets import mnist\n",
    "\n",
    "# Importando base de dados\n",
    "(x_train, y_train),(x_test, y_test) = mnist.load_data()\n",
    "\n",
    "# Normalizando os valores\n",
    "x_train, x_test = x_train/255, x_test/255\n",
    "\n",
    "# Ajustando formato\n",
    "x_train = x_train.reshape(x_train.shape[0], x_train.shape[1]*x_train.shape[2])\n",
    "x_test = x_test.reshape(x_test.shape[0], x_test.shape[1]*x_test.shape[2])"
   ]
  },
  {
   "cell_type": "markdown",
   "metadata": {
    "_uuid": "ae94859ad21d38db6a3f6ab7bd2e531c4e97357d"
   },
   "source": [
    "### **3.1.2 Árvore de decisão**"
   ]
  },
  {
   "cell_type": "code",
   "execution_count": 2,
   "metadata": {
    "_uuid": "5d9c3f1a6260f11b29f91fb9387568201deedc08"
   },
   "outputs": [
    {
     "name": "stdout",
     "output_type": "stream",
     "text": [
      "precisao: 0.8864 \n",
      " matriz de confusão: \n",
      "[[ 917    1    6    3    3   22    7    7    7    7]\n",
      " [   1 1098    6    4    0    8    4    5    8    1]\n",
      " [   6    4  899   20    9   11   22   23   27   11]\n",
      " [   7    7   20  868    5   42    5   16   24   16]\n",
      " [   7    2   19    7  859    5   16   13   14   40]\n",
      " [  17    7    6   40    4  751   19    2   27   19]\n",
      " [   9    4   11    5   22   21  864    5   14    3]\n",
      " [   2   11   32   15   12    7    2  915   10   22]\n",
      " [   7    7   23   36   20   18   12    6  819   26]\n",
      " [   7    4    6   20   32   21    6   15   24  874]]\n"
     ]
    }
   ],
   "source": [
    "#-------------------------------Bibliotecas-----------------------------------#\n",
    "from sklearn.tree import DecisionTreeClassifier\n",
    "from sklearn.metrics import confusion_matrix, accuracy_score\n",
    "\n",
    "#----------------Crinado um objeto que construirá a árvore--------------------#\n",
    "classificador = DecisionTreeClassifier(criterion='entropy', random_state=0)\n",
    "\n",
    "#-------------Criando a árvore com base nos dados de treinamento--------------#\n",
    "classificador.fit(x_train, y_train)\n",
    "\n",
    "#-------Passando os dados de teste pala árvore e armazenando as previsões-----#\n",
    "previsoes = classificador.predict(x_test)\n",
    "\n",
    "#----------------Exibindo a precisão e a matriz de confusão-------------------#\n",
    "precisao = accuracy_score(y_test, previsoes)\n",
    "matriz = confusion_matrix(y_test, previsoes)\n",
    "print('precisao: {}'.format(precisao),'\\n','matriz de confusão: \\n{}' .format(matriz))"
   ]
  },
  {
   "cell_type": "markdown",
   "metadata": {
    "_uuid": "15dae7091ff31cec48a0af972fc7e39e824d95e3"
   },
   "source": [
    "### **3.1.3 Random forest**"
   ]
  },
  {
   "cell_type": "code",
   "execution_count": 3,
   "metadata": {
    "_uuid": "b38a78241eea28bd9740c41859c718cba3184af5"
   },
   "outputs": [
    {
     "name": "stdout",
     "output_type": "stream",
     "text": [
      "precisao: 0.9653 \n",
      " matriz de confusão: \n",
      "[[ 968    0    0    0    0    3    5    1    3    0]\n",
      " [   0 1123    4    3    0    1    2    1    1    0]\n",
      " [   6    0  997    4    3    1    4   10    7    0]\n",
      " [   1    1   11  963    0    9    1   12    9    3]\n",
      " [   1    0    1    0  952    0    5    2    4   17]\n",
      " [   4    0    1   15    2  852    6    1    8    3]\n",
      " [   8    3    0    0    6    3  933    0    5    0]\n",
      " [   1    5   22    2    1    0    0  984    3   10]\n",
      " [   5    0    6    5    4   10    6    2  925   11]\n",
      " [   8    7    1   12   13    3    1    2    6  956]]\n"
     ]
    }
   ],
   "source": [
    "#-------------------------------Bibliotecas-----------------------------------#\n",
    "from sklearn.ensemble import RandomForestClassifier\n",
    "from sklearn.metrics import confusion_matrix, accuracy_score\n",
    "\n",
    "#------Criando a floresta com 40 árvores baseando no criterio de entropia-----#\n",
    "classificador = RandomForestClassifier(n_estimators = 40, criterion = 'entropy', random_state = 0)\n",
    "classificador.fit(x_train, y_train)\n",
    "\n",
    "#------Passando os dados de teste palas árvores e armazenando as previsões----#\n",
    "previsoes = classificador.predict(x_test)\n",
    "\n",
    "#----------------Exibindo a precisão e a matriz de confusão-------------------#\n",
    "precisao = accuracy_score(y_test, previsoes)\n",
    "matriz = confusion_matrix(y_test, previsoes)\n",
    "print('precisao: {}'.format(precisao),'\\n','matriz de confusão: \\n{}' .format(matriz))"
   ]
  },
  {
   "cell_type": "markdown",
   "metadata": {
    "_uuid": "c9d87d4f638c1a3118ddc65079b8d6cad7c01e22"
   },
   "source": [
    "## 3.2 REGRESSÃO\n",
    "Para a implementação do algoritmo foi utilizada a biblioteca Sklearn, veja a [Documentação](https://scikit-learn.org/stable/modules/classes.html#)"
   ]
  },
  {
   "cell_type": "markdown",
   "metadata": {
    "_uuid": "c9d87d4f638c1a3118ddc65079b8d6cad7c01e22"
   },
   "source": [
    "### **3.2.1 Base de dados**\n",
    "A base de dados que será utilizada será a Boston housing price que já pode ser encontrada na base de dados do keras."
   ]
  },
  {
   "cell_type": "code",
   "execution_count": 4,
   "metadata": {
    "_uuid": "c91b04c51c1df6439ee63c9aa932a084124c075c"
   },
   "outputs": [
    {
     "name": "stdout",
     "output_type": "stream",
     "text": [
      "Downloading data from https://s3.amazonaws.com/keras-datasets/boston_housing.npz\n",
      "57344/57026 [==============================] - 0s 1us/step\n"
     ]
    }
   ],
   "source": [
    "from keras.datasets import boston_housing\n",
    "\n",
    "(x_train, y_train),(x_test, y_test) = boston_housing.load_data()"
   ]
  },
  {
   "cell_type": "markdown",
   "metadata": {
    "_uuid": "bda77a825c6e39f4f0474f732a63569bb58f9b7b"
   },
   "source": [
    "### **3.2.2 Árvore de decisão**"
   ]
  },
  {
   "cell_type": "code",
   "execution_count": 5,
   "metadata": {
    "_uuid": "dbc86611e86d28cd979ba89346963cc0758c0016"
   },
   "outputs": [
    {
     "name": "stdout",
     "output_type": "stream",
     "text": [
      "A correlação do modelo com a base de dados de treinamento é de: 1.0\n",
      "A correlação do modelo com a base de dados de teste é de: 0.7087967125021217\n",
      "Erro absoluto: 3.4049019607843136\n",
      "Erro quadratico: 24.240882352941178\n"
     ]
    }
   ],
   "source": [
    "#-------------------------------Biblioteca------------------------------------#\n",
    "from sklearn.tree import DecisionTreeRegressor\n",
    "from sklearn.metrics import mean_absolute_error, mean_squared_error\n",
    "\n",
    "#---------------------------Criando o regressor-------------------------------#\n",
    "regressor = DecisionTreeRegressor()\n",
    "regressor.fit(x_train, y_train)\n",
    "\n",
    "#----Ver a correlação do modelo com relação a base de dados de Treinamento----#\n",
    "score = regressor.score(x_train, y_train)\n",
    "print('A correlação do modelo com a base de dados de treinamento é de: {}'.format(score))\n",
    "\n",
    "#-------Ver a correlação do modelo com relação a base de dados de teste-------#\n",
    "score = regressor.score(x_test, y_test)\n",
    "print('A correlação do modelo com a base de dados de teste é de: {}'.format(score))\n",
    "\n",
    "#------------------------------Prevendo um valor------------------------------#\n",
    "previsoes = regressor.predict(x_test)\n",
    "\n",
    "#------------------Diferança entre valores reais e previstos------------------#\n",
    "erro_absoluto = mean_absolute_error(y_test, previsoes)\n",
    "erro_quadratico = mean_squared_error(y_test, previsoes)\n",
    "print('Erro absoluto: {}'.format(erro_absoluto))\n",
    "print('Erro quadratico: {}'.format(erro_quadratico))"
   ]
  },
  {
   "cell_type": "markdown",
   "metadata": {
    "_uuid": "dfeed29964644d9bd865102fb951dbef4116e73d"
   },
   "source": [
    "### **3.2.3 Random forest**"
   ]
  },
  {
   "cell_type": "code",
   "execution_count": 6,
   "metadata": {
    "_uuid": "6d82c9143795e5031aef4ee5288e2bdde33994af"
   },
   "outputs": [
    {
     "name": "stdout",
     "output_type": "stream",
     "text": [
      "A correlação do modelo com a base de dados de treinamento é de: 0.9757642453079799\n",
      "A correlação do modelo com a base de dados de teste é de: 0.7965798108464799\n",
      "Erro absoluto: 2.567156862745098\n",
      "Erro quadratico: 16.933479411764704\n"
     ]
    }
   ],
   "source": [
    "#-------------------------------Biblioteca------------------------------------#\n",
    "from sklearn.ensemble import RandomForestRegressor\n",
    "from sklearn.metrics import mean_absolute_error, mean_squared_error\n",
    "\n",
    "#------------------------------Criando o regressor----------------------------#\n",
    "regressor = RandomForestRegressor(n_estimators=10)\n",
    "regressor.fit(x_train, y_train)\n",
    "\n",
    "#----Ver a correlação do modelo com relação a base de dados de Treinamento----#\n",
    "score = regressor.score(x_train, y_train)\n",
    "print('A correlação do modelo com a base de dados de treinamento é de: {}'.format(score))\n",
    "\n",
    "#-------Ver a correlação do modelo com relação a base de dados de teste-------#\n",
    "score = regressor.score(x_test, y_test)\n",
    "print('A correlação do modelo com a base de dados de teste é de: {}'.format(score))\n",
    "\n",
    "#------------------------------Prevendo um valor------------------------------#\n",
    "previsoes = regressor.predict(x_test)\n",
    "\n",
    "#------------------Diferança entre valores reais e previstos------------------#\n",
    "erro_absoluto = mean_absolute_error(y_test, previsoes)\n",
    "erro_quadratico = mean_squared_error(y_test, previsoes)\n",
    "print('Erro absoluto: {}'.format(erro_absoluto))\n",
    "print('Erro quadratico: {}'.format(erro_quadratico))\n"
   ]
  }
 ],
 "metadata": {
  "kernelspec": {
   "display_name": "Python 3",
   "language": "python",
   "name": "python3"
  },
  "language_info": {
   "codemirror_mode": {
    "name": "ipython",
    "version": 3
   },
   "file_extension": ".py",
   "mimetype": "text/x-python",
   "name": "python",
   "nbconvert_exporter": "python",
   "pygments_lexer": "ipython3",
   "version": "3.6.8"
  }
 },
 "nbformat": 4,
 "nbformat_minor": 1
}
