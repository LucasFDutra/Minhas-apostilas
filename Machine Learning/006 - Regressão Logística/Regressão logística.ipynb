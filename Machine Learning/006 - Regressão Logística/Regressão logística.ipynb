{
 "cells": [
  {
   "cell_type": "markdown",
   "metadata": {
    "_uuid": "4c59fab53d06cfcaf4bc709d7622a46370610e52"
   },
   "source": [
    "# **REGRESSÃO LOGÍSTICA**\n",
    "\n",
    "Esse algoritmo faz primeiramente uma regressão linear, para assim poder gerar uma função sigmoide que estabeleça a melhor divisão entre as classes. Ou seja, esse algoritmo testa qual a melhor função sigmoide que irá gerar uma classificação \"perfeita\".\n",
    "\n",
    "Novamente, como esse algoritmo faz cálculos com os atributos, é necessário que haja a conversão dos valores de categóricos para numéricos.\n",
    "\n",
    "O resultado desse algoritmo é em porcentagem, ou seja, se entramos com `A` ele vai dizer que `A` tem 25% de chance de ser classificado como `X`. Existem algoritmos que permitem definir a porcentagem mínima que é necessário atingir para que algo seja enquadrado numa dada classe. Ou seja, `A` só será classificado como `X` se a probabilidade for maior que um valor `Y`.\n",
    "\n",
    "![](https://www.machinelearningplus.com/wp-content/uploads/2017/09/linear_vs_logistic_regression-1024x454.jpg)\n",
    "\n",
    "Fonte: https://www.machinelearningplus.com/machine-learning/logistic-regression-tutorial-examples-r/\n",
    "\n",
    "---\n",
    "- Links para aprender mais:\n",
    "    - [Intro to Logistic Regression - Cognitive Class](https://youtu.be/i_Tyr-U-eYE)\n",
    "    - [Logistic Regression vs Linear Regression - Cognitive Class](https://youtu.be/tDL4HcJ4vTc)\n",
    "    - [Logistic Regression - Training - Cognitive Class](https://youtu.be/gGiOc592_ho)\n",
    "    - [Logistic Regression – A Complete Tutorial With Examples in R - Machine Learning Plus](https://www.machinelearningplus.com/machine-learning/logistic-regression-tutorial-examples-r/)\n",
    "    - [Wikipedia](https://pt.wikipedia.org/wiki/Fun%C3%A7%C3%A3o_sigm%C3%B3ide)\n",
    "---\n",
    "\n",
    "# **IMPLEMENTAÇÃO**\n",
    "Para a implementação do algoritmo foi utilizada a biblioteca Sklearn, veja a [Documentação](https://scikit-learn.org/stable/modules/classes.html#)\n",
    "\n",
    "## BASE DE DADOS\n",
    "A base de dados que será utilizada será a MNIST que já pode ser encontrada na base de dados do keras.\n",
    "Porém para trabalhar com o algoritmo em questão ela deve modificada em sua dimensão."
   ]
  },
  {
   "cell_type": "code",
   "execution_count": 1,
   "metadata": {
    "_uuid": "b39cdbeae97a346b630e0dbffb716c0c06978bb5"
   },
   "outputs": [
    {
     "name": "stderr",
     "output_type": "stream",
     "text": [
      "Using TensorFlow backend.\n"
     ]
    },
    {
     "name": "stdout",
     "output_type": "stream",
     "text": [
      "Downloading data from https://s3.amazonaws.com/img-datasets/mnist.npz\n",
      "11493376/11490434 [==============================] - 1s 0us/step\n"
     ]
    }
   ],
   "source": [
    "from keras.datasets import mnist\n",
    "\n",
    "# Importando base de dados\n",
    "(x_train, y_train),(x_test, y_test) = mnist.load_data()\n",
    "\n",
    "# Normalizando os valores\n",
    "x_train, x_test = x_train/255, x_test/255\n",
    "\n",
    "# Ajustando formato\n",
    "x_train = x_train.reshape(x_train.shape[0], x_train.shape[1]*x_train.shape[2])\n",
    "x_test = x_test.reshape(x_test.shape[0], x_test.shape[1]*x_test.shape[2])"
   ]
  },
  {
   "cell_type": "code",
   "execution_count": 2,
   "metadata": {
    "_uuid": "4637f2a654ecbb1161026c9d6a1d605917518f80"
   },
   "outputs": [
    {
     "name": "stderr",
     "output_type": "stream",
     "text": [
      "/opt/conda/lib/python3.6/site-packages/sklearn/linear_model/logistic.py:460: FutureWarning: Default multi_class will be changed to 'auto' in 0.22. Specify the multi_class option to silence this warning.\n",
      "  \"this warning.\", FutureWarning)\n",
      "/opt/conda/lib/python3.6/site-packages/sklearn/linear_model/logistic.py:758: ConvergenceWarning: lbfgs failed to converge. Increase the number of iterations.\n",
      "  \"of iterations.\", ConvergenceWarning)\n",
      "/opt/conda/lib/python3.6/site-packages/sklearn/linear_model/logistic.py:758: ConvergenceWarning: lbfgs failed to converge. Increase the number of iterations.\n",
      "  \"of iterations.\", ConvergenceWarning)\n",
      "/opt/conda/lib/python3.6/site-packages/sklearn/linear_model/logistic.py:758: ConvergenceWarning: lbfgs failed to converge. Increase the number of iterations.\n",
      "  \"of iterations.\", ConvergenceWarning)\n",
      "/opt/conda/lib/python3.6/site-packages/sklearn/linear_model/logistic.py:758: ConvergenceWarning: lbfgs failed to converge. Increase the number of iterations.\n",
      "  \"of iterations.\", ConvergenceWarning)\n",
      "/opt/conda/lib/python3.6/site-packages/sklearn/linear_model/logistic.py:758: ConvergenceWarning: lbfgs failed to converge. Increase the number of iterations.\n",
      "  \"of iterations.\", ConvergenceWarning)\n",
      "/opt/conda/lib/python3.6/site-packages/sklearn/linear_model/logistic.py:758: ConvergenceWarning: lbfgs failed to converge. Increase the number of iterations.\n",
      "  \"of iterations.\", ConvergenceWarning)\n",
      "/opt/conda/lib/python3.6/site-packages/sklearn/linear_model/logistic.py:758: ConvergenceWarning: lbfgs failed to converge. Increase the number of iterations.\n",
      "  \"of iterations.\", ConvergenceWarning)\n",
      "/opt/conda/lib/python3.6/site-packages/sklearn/linear_model/logistic.py:758: ConvergenceWarning: lbfgs failed to converge. Increase the number of iterations.\n",
      "  \"of iterations.\", ConvergenceWarning)\n",
      "/opt/conda/lib/python3.6/site-packages/sklearn/linear_model/logistic.py:758: ConvergenceWarning: lbfgs failed to converge. Increase the number of iterations.\n",
      "  \"of iterations.\", ConvergenceWarning)\n"
     ]
    },
    {
     "name": "stdout",
     "output_type": "stream",
     "text": [
      "precisao: 0.9198 \n",
      " matriz de confusão: \n",
      "[[ 959    0    1    2    1    5    6    4    1    1]\n",
      " [   0 1111    3    2    0    1    5    1   12    0]\n",
      " [   9    9  919   20   11    4   10   10   37    3]\n",
      " [   4    0   17  922    2   20    4   12   20    9]\n",
      " [   1    2    5    3  914    0   10    2    6   39]\n",
      " [  10    2    0   42   10  769   17    7   28    7]\n",
      " [   9    3    7    2    6   20  907    1    3    0]\n",
      " [   2    8   23    5    8    1    1  949    4   27]\n",
      " [  10   14    6   22   13   27    8   10  852   12]\n",
      " [   9    8    2   13   32   13    0   24   12  896]]\n"
     ]
    },
    {
     "name": "stderr",
     "output_type": "stream",
     "text": [
      "/opt/conda/lib/python3.6/site-packages/sklearn/linear_model/logistic.py:758: ConvergenceWarning: lbfgs failed to converge. Increase the number of iterations.\n",
      "  \"of iterations.\", ConvergenceWarning)\n"
     ]
    }
   ],
   "source": [
    "#-------------------------------Bibliotecas-----------------------------------#\n",
    "from sklearn.linear_model import LogisticRegression\n",
    "from sklearn.metrics import confusion_matrix, accuracy_score\n",
    "\n",
    "#----------------------------Criando classificador----------------------------# \n",
    "classificador = LogisticRegression(random_state = 0, solver = 'lbfgs')\n",
    "classificador.fit(x_train, y_train)\n",
    "\n",
    "#----Passando os dados de teste pelo algoritmo e armazenando as previsões-----#\n",
    "previsoes = classificador.predict(x_test)\n",
    "\n",
    "#----------------Exibindo a precisão e a matriz de confusão-------------------#\n",
    "precisao = accuracy_score(y_test, previsoes)\n",
    "matriz = confusion_matrix(y_test, previsoes)\n",
    "print('precisao: {}'.format(precisao),'\\n','matriz de confusão: \\n{}' .format(matriz))"
   ]
  }
 ],
 "metadata": {
  "kernelspec": {
   "display_name": "Python 3",
   "language": "python",
   "name": "python3"
  },
  "language_info": {
   "codemirror_mode": {
    "name": "ipython",
    "version": 3
   },
   "file_extension": ".py",
   "mimetype": "text/x-python",
   "name": "python",
   "nbconvert_exporter": "python",
   "pygments_lexer": "ipython3",
   "version": "3.6.8"
  }
 },
 "nbformat": 4,
 "nbformat_minor": 1
}
