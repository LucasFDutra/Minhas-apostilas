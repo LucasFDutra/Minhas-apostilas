{
 "cells": [
  {
   "cell_type": "markdown",
   "metadata": {
    "_uuid": "219c5f2629ded8eb33c411a0e7e64d83f0c6bda2"
   },
   "source": [
    "# **DBSCAN**\n",
    "\n",
    "- Baseado em densidade, agrupando os pontos similares no mesmo espaço.\n",
    "- Não é necessário especificar o número de clusters.\n",
    "- Em geral apresenta melhores resultados que o k-means.\n",
    "- Mais rápido que o k-means.\n",
    "- Tenta encontrar os pontos que são separados por uma distância não maior do que o limiar (threshold distance)\n",
    "- Encontra padrões não lineares.\n",
    "- Robusto contra outliers.\n",
    "- O resultado pode ser mais consistente que o k-mens porque a inicialização dos `centroides` não afeta tanto o algoritmo.\n",
    "- Dependendo da inicialização, um ponto pode pertencer ou a outro.\n",
    "- Pode ser difícil encontrar um bom valor para o parâmetro da distância.\n",
    "\n",
    "O funcionamento desse algoritmo é dado pela inserção de um circulo com um raio `r` centrado em um dos pontos, dai tudo que estiver dentro desse circulo é enquadrado dentro desse cluster, depois o algoritmo muda o centro pra outro ponto já classificado desse cluster e verifica quem está dentro dele, e os agrupa. Quando não houver mais nenhum registro para agrupar ele parte para outro registro como sendo o centro e então reinicia o processo para outro cluster.\n",
    "\n",
    "![](https://cdn-images-1.medium.com/max/640/1*tc8UF-h0nQqUfLC8-0uInQ.gif)\n",
    "\n",
    "Fonte: http://primo.ai/index.php?title=Density-Based_Spatial_Clustering_of_Applications_with_Noise_(DBSCAN)\n",
    "\n",
    "---\n",
    "- Links para aprender mais:\n",
    "    - [Introdução ao Algoritmo DBSCAN - IAexpert](https://iaexpert.com.br/index.php/2018/10/13/introducao-ao-algoritmo-dbscan/)\n",
    "    - [More on Hierarchical Clustering - Cognitive Class](https://youtu.be/d92Pcj_zxu8)\n",
    "    - [Clustering with Scikit with GIFs - David Sheehan](https://dashee87.github.io/data%20science/general/Clustering-with-Scikit-with-GIFs/)\n",
    "---\n",
    "\n",
    "# **IMPLEMENTAÇÃO**\n",
    "Para a implementação do algoritmo foi utilizada a biblioteca Sklearn, veja a [Documentação](https://scikit-learn.org/stable/modules/classes.html#)\n",
    "\n",
    "## EXEMPLO SIMPLES\n",
    "Para esse exemplo vamos analisar um exemplo simples, com uma base de dados pequena."
   ]
  },
  {
   "cell_type": "code",
   "execution_count": 1,
   "metadata": {
    "_uuid": "30e29e498d4857e94978edb103aca65810a00c08"
   },
   "outputs": [
    {
     "name": "stderr",
     "output_type": "stream",
     "text": [
      "/opt/conda/lib/python3.6/site-packages/sklearn/utils/validation.py:595: DataConversionWarning: Data with input dtype int64 was converted to float64 by StandardScaler.\n",
      "  warnings.warn(msg, DataConversionWarning)\n",
      "/opt/conda/lib/python3.6/site-packages/sklearn/utils/validation.py:595: DataConversionWarning: Data with input dtype int64 was converted to float64 by StandardScaler.\n",
      "  warnings.warn(msg, DataConversionWarning)\n"
     ]
    }
   ],
   "source": [
    "import numpy as np\n",
    "#----------------------------Criando uma base teste---------------------------#\n",
    "base = np.array([[20,1000],[27,1200],[21,2900],[37,1850],[46,900],\n",
    "                 [53,950],[55,2000],[47,2100],[52,3000],[32,5900],\n",
    "                 [39,4100],[41,5100],[39,7000],[48,5000],[48,6500]])\n",
    "\n",
    "#----------------------------Escalonando registros----------------------------#\n",
    "from sklearn.preprocessing import StandardScaler\n",
    "scaler = StandardScaler()\n",
    "base = scaler.fit_transform(base)"
   ]
  },
  {
   "cell_type": "markdown",
   "metadata": {
    "_uuid": "d874af74a431b3098b02456354ace3d91adf29c8"
   },
   "source": [
    "Criando o agrupador e regulando os parâmetros:\n",
    "- eps: raio\n",
    "- min_samples: número mínimo de pontos para formar um cluster\n",
    "\n",
    "> OBS.: Até encontrar os melhores valores demora, tem que ir testando."
   ]
  },
  {
   "cell_type": "code",
   "execution_count": 2,
   "metadata": {
    "_uuid": "05ad9db152d0b62dce5178638e97e44a6609a758"
   },
   "outputs": [
    {
     "data": {
      "image/png": "[encoded data removed]",
      "text/plain": [
       "<Figure size 432x288 with 1 Axes>"
      ]
     },
     "metadata": {},
     "output_type": "display_data"
    }
   ],
   "source": [
    "#------------Criando agrupador e fazendo a previsão dos registros-------------#\n",
    "from sklearn.cluster import DBSCAN\n",
    "dbscan = DBSCAN(eps = 0.95, min_samples = 2)\n",
    "previsoes = dbscan.fit_predict(base)\n",
    "\n",
    "#---------------------------Visualizando os dados-----------------------------#\n",
    "import matplotlib.pyplot as plt\n",
    "cores = [\"g.\", \"r.\", \"b.\"]\n",
    "for i in range(len(base)):\n",
    "    plt.plot(base[i][0], base[i][1], cores[previsoes[i]], markersize = 15)"
   ]
  },
  {
   "cell_type": "markdown",
   "metadata": {
    "_uuid": "dba937618187a127c201c62570d388c54bd62222"
   },
   "source": [
    "## EXEMPLO REAL\n",
    "> OBS.: Se tiver duvidas de como inserir uma base de dados no kaggle, nesse kernel [aqui](https://www.kaggle.com/lucasfdutra/regras-de-associa-o?scriptVersionId=10604491) (mais ou menos na metade dele) eu mostrei como fazer isso.   "
   ]
  },
  {
   "cell_type": "code",
   "execution_count": 3,
   "metadata": {
    "_uuid": "bbcbe6e332d2031d0ab87bf113fac814fdb1a7eb",
    "scrolled": false
   },
   "outputs": [
    {
     "name": "stderr",
     "output_type": "stream",
     "text": [
      "/opt/conda/lib/python3.6/site-packages/sklearn/utils/validation.py:595: DataConversionWarning: Data with input dtype int64 was converted to float64 by StandardScaler.\n",
      "  warnings.warn(msg, DataConversionWarning)\n",
      "/opt/conda/lib/python3.6/site-packages/sklearn/utils/validation.py:595: DataConversionWarning: Data with input dtype int64 was converted to float64 by StandardScaler.\n",
      "  warnings.warn(msg, DataConversionWarning)\n"
     ]
    },
    {
     "data": {
      "image/png": "[encoded data removed]",
      "text/plain": [
       "<Figure size 432x288 with 1 Axes>"
      ]
     },
     "metadata": {},
     "output_type": "display_data"
    }
   ],
   "source": [
    "#----------------Coloca a base de dados na variável 'base'--------------------#\n",
    "import pandas as pd\n",
    "base = pd.read_csv('../input/credit_card_clients.csv', header = 1)\n",
    "\n",
    "#--------------------------Somando as dividas---------------------------------#\n",
    "base['BILL_TOTAL'] = base['BILL_AMT1'] + base['BILL_AMT2'] + base['BILL_AMT3'] + base['BILL_AMT4'] + base['BILL_AMT5'] + base['BILL_AMT6']\n",
    "\n",
    "#----------------Definindo os previsores e os escalonando---------------------#\n",
    "X = base.iloc[:,[1,25]].values\n",
    "scaler = StandardScaler()\n",
    "X = scaler.fit_transform(X)\n",
    "\n",
    "#------------Criando agrupador e fazendo a previsão dos registros-------------#\n",
    "dbscan = DBSCAN(eps = 0.37, min_samples = 4)\n",
    "previsoes = dbscan.fit_predict(X)\n",
    "\n",
    "#---------------------------------Ruídos--------------------------------------#\n",
    "# unicos: São os grupos classificados que possuem registros ruídosos.         #\n",
    "# quantidade: É a quantidade de registros ruidosos pertencente a cada classe  #\n",
    "#             ruídosa em unicos.                                              #\n",
    "# Exemplo: unicos = [-1, 0] -> classes ruidosas -1 e 0                        #\n",
    "#          quantidade = [23, 2] -> 23 registros ruídosos em -1 e 2 em 0       #\n",
    "#-----------------------------------------------------------------------------#\n",
    "unicos, quantidade = np.unique(previsoes, return_counts = True)\n",
    "\n",
    "#---------------------------Visualizando os dados-----------------------------#\n",
    "plt.scatter(X[previsoes == 0, 0], X[previsoes == 0, 1], s = 100, c = 'red', label = 'Cluster 1')\n",
    "plt.scatter(X[previsoes == 1, 0], X[previsoes == 1, 1], s = 100, c = 'orange', label = 'Cluster 2')\n",
    "plt.scatter(X[previsoes == 2, 0], X[previsoes == 2, 1], s = 100, c = 'green', label = 'Cluster 3')\n",
    "plt.xlabel('Limite')\n",
    "plt.ylabel('Gastos')\n",
    "plt.legend()\n",
    "\n",
    "#-Agrupando a previsão à base e ordenando os clientes em relação na previsão--#\n",
    "lista_clientes = np.column_stack((base, previsoes))\n",
    "lista_clientes = lista_clientes[lista_clientes[:,26].argsort()]"
   ]
  }
 ],
 "metadata": {
  "kernelspec": {
   "display_name": "Python 3",
   "language": "python",
   "name": "python3"
  },
  "language_info": {
   "codemirror_mode": {
    "name": "ipython",
    "version": 3
   },
   "file_extension": ".py",
   "mimetype": "text/x-python",
   "name": "python",
   "nbconvert_exporter": "python",
   "pygments_lexer": "ipython3",
   "version": "3.6.8"
  }
 },
 "nbformat": 4,
 "nbformat_minor": 1
}
