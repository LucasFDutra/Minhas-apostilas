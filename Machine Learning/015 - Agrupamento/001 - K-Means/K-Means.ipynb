{
 "cells": [
  {
   "cell_type": "markdown",
   "metadata": {
    "_uuid": "b64df115ae561f0ac49a176595ce3f13abd86f01"
   },
   "source": [
    "# **K-MEANS**\n",
    "\n",
    "Para efetuar esse algoritmo seguimos os seguintes passos:\n",
    "\n",
    "- 1. Inicializar os centroides aleatoriamente (centros de um cluster)\n",
    "- 2. Para cada ponto na base de dados, calcular a `distância` para cada centroide e associar ao que estiver perto.\n",
    "- 3. Calcular a média de todos os pontos ligados a cada centroide e definir um novo centroide.\n",
    "- 4. Repita 2 e 3, até que não tenha mais atualizações para fazer.\n",
    "\n",
    "O valor de `K` define a quantidade de grupos que serão encontrados. Para definir o valor de `K`: \n",
    "- Método 1: utilize a equação: $K=\\sqrt{N\\over2}$, em que `N` é o número total de registros.\n",
    "- Método 2: Utilize o método de Elbow.\n",
    "\n",
    "![](https://sandipanweb.files.wordpress.com/2017/03/kmeans3.gif?w=676)\n",
    "\n",
    "\n",
    "Fonte: https://sandipanweb.wordpress.com/2017/03/19/hard-soft-clustering-with-k-means-weighted-k-means-and-gmm-em/\n",
    "\n",
    "---\n",
    "- Links para aprender mais:\n",
    "    - [K-Means Clustering - The Math of Intelligence - Siraj Raval](https://www.youtube.com/watch?v=9991JlKnFmk).\n",
    "    - [K-Means Clustering - Cognitive Class](https://youtu.be/wWESal01T-w)\n",
    "    - [More on K-Means - Cognitive Class](https://youtu.be/OUyfpK6Prj4)\n",
    "    - [Entendendo como funciona o algoritmo de Cluster K-Means - Diego Nogare](http://www.diegonogare.net/2015/08/entendendo-como-funciona-o-algoritmo-de-cluster-k-means/)\n",
    "    - [Hard & Soft Clustering with K-means, Weighted K-means and GMM-EM in Python - SANDIPANWEB](https://sandipanweb.wordpress.com/2017/03/19/hard-soft-clustering-with-k-means-weighted-k-means-and-gmm-em/)\n",
    "---\n",
    "\n",
    "# **IMPLEMENTAÇÃO**\n",
    "Para a implementação do algoritmo foi utilizada a biblioteca sklearn, veja a [Documentação](https://scikit-learn.org/stable/modules/classes.html#)\n",
    "\n",
    "## EXEMPLO SIMPLES\n",
    "Para um primeiro exemplo vamos gerar uma base de dados pequena, serão 1000 amostras divididas de forma que fique centradas em 5 centros diferentes."
   ]
  },
  {
   "cell_type": "code",
   "execution_count": 1,
   "metadata": {
    "_uuid": "399dfe99220af7d7b35ce61263d85cc61bd65e1c"
   },
   "outputs": [],
   "source": [
    "#-----Criando uma base aleatória com 200 amostras e divididas em 5 centros----#\n",
    "from sklearn.datasets import make_blobs\n",
    "base, clusters_correto = make_blobs(n_samples = 1000, centers = 5)"
   ]
  },
  {
   "cell_type": "markdown",
   "metadata": {
    "_uuid": "4e72340497977dcec85b416bba902d9f6629d5fc"
   },
   "source": [
    "Como estamos trabalhando com um algoritmo que tem como base a distância entre pontos, é importante efetuar o escalonamento dos dados."
   ]
  },
  {
   "cell_type": "code",
   "execution_count": 2,
   "metadata": {
    "_uuid": "974788103e5ee859e7be05110999431314f40f9c"
   },
   "outputs": [],
   "source": [
    "from sklearn.preprocessing import StandardScaler\n",
    "scaler = StandardScaler()\n",
    "base = scaler.fit_transform(base)"
   ]
  },
  {
   "cell_type": "markdown",
   "metadata": {
    "_uuid": "f46a3faf569ce11fa5fc516a609903c934220c02"
   },
   "source": [
    "Agora pode-se criar o agrupador e efetuar as previsões.\n",
    "\n",
    "> OBS.: nesse caso, como a base de dados foi gerada por make_blobs, já possuímos as respostas corretas, mas lembre-se, esse algoritmo é do tipo aprendizagem não supervisionada."
   ]
  },
  {
   "cell_type": "code",
   "execution_count": 3,
   "metadata": {
    "_uuid": "1264ade645540580528d89f08997c12bfe09dd82"
   },
   "outputs": [],
   "source": [
    "#-------------------Definindo o agrupador kmeans para 5 clusters--------------#\n",
    "from sklearn.cluster import KMeans\n",
    "kmeans = KMeans(n_clusters = 5)\n",
    "kmeans.fit(base)\n",
    "\n",
    "#-------------------Efetuar a previsão para cada registro---------------------#\n",
    "previsoes = kmeans.predict(base)"
   ]
  },
  {
   "cell_type": "markdown",
   "metadata": {
    "_uuid": "a2e3b69f55e070bdb9ceccc5faa611f7044828b4"
   },
   "source": [
    "Para melhor visualização dos resultados é possível plotá-los com o auxilio da biblioteca matplotlib."
   ]
  },
  {
   "cell_type": "code",
   "execution_count": 4,
   "metadata": {
    "_uuid": "c17ab9c3b32256ffdce1e9be2adcff5abb20be29"
   },
   "outputs": [
    {
     "data": {
      "text/plain": [
       "<matplotlib.collections.PathCollection at 0x7fbc10399780>"
      ]
     },
     "execution_count": 4,
     "metadata": {},
     "output_type": "execute_result"
    },
    {
     "data": {
      "image/png": "[encoded data removed]",
      "text/plain": [
       "<Figure size 432x288 with 1 Axes>"
      ]
     },
     "metadata": {},
     "output_type": "display_data"
    }
   ],
   "source": [
    "#------------------Exibindo os clusters de forma colorida---------------------#\n",
    "import matplotlib.pyplot as plt\n",
    "plt.scatter(base[:,0], base[:,1], c = previsoes)"
   ]
  },
  {
   "cell_type": "markdown",
   "metadata": {
    "_uuid": "3b3ce903d57da5cd561ebc058bad86a80e7473de"
   },
   "source": [
    "## EXEMPLO REAL\n",
    "\n",
    "### **Base de dados**\n",
    "A base de dados que irei utilizar é a credit_card_clients.csv\n",
    "\n",
    "> OBS.: Se tiver duvidas de como inserir uma base de dados no kaggle, nesse kernel [aqui](https://www.kaggle.com/lucasfdutra/regras-de-associa-o?scriptVersionId=10604491) (mais ou menos na metade dele) eu mostrei como fazer isso.    \n",
    "### **Trabalhando a base de dados**"
   ]
  },
  {
   "cell_type": "code",
   "execution_count": 5,
   "metadata": {
    "_uuid": "59a9603599cf07d9103e0a71bf50076408639e8c"
   },
   "outputs": [
    {
     "name": "stderr",
     "output_type": "stream",
     "text": [
      "/opt/conda/lib/python3.6/site-packages/sklearn/utils/validation.py:595: DataConversionWarning: Data with input dtype int64 was converted to float64 by StandardScaler.\n",
      "  warnings.warn(msg, DataConversionWarning)\n",
      "/opt/conda/lib/python3.6/site-packages/sklearn/utils/validation.py:595: DataConversionWarning: Data with input dtype int64 was converted to float64 by StandardScaler.\n",
      "  warnings.warn(msg, DataConversionWarning)\n"
     ]
    }
   ],
   "source": [
    "import pandas as pd\n",
    "#----------------Coloca a base de dados na variável 'base'--------------------#\n",
    "base = pd.read_csv('../input/credit_card_clients.csv', header = 1)\n",
    "\n",
    "#--------------------------Somando as dividas---------------------------------#\n",
    "base['BILL_TOTAL'] = base['BILL_AMT1'] + base['BILL_AMT2'] + base['BILL_AMT3'] + base['BILL_AMT4'] + base['BILL_AMT5'] + base['BILL_AMT6']\n",
    "\n",
    "#----------------Definindo os previsores e os escalonando---------------------#\n",
    "X = base.iloc[:,[1,2,3,4,5,25]].values\n",
    "scaler = StandardScaler()\n",
    "X = scaler.fit_transform(X)"
   ]
  },
  {
   "cell_type": "markdown",
   "metadata": {
    "_uuid": "fa8ff6df493a27b9b2ee7b45d84595baf1ceb6e0"
   },
   "source": [
    "### **Definindo o valor de K**\n",
    "Agora vamos definir qual o valor `ideal` para o k. Para isso vamos traçar a curva de Elbow, e verificar aquele valor para o qual já não há mais muita variação na curva."
   ]
  },
  {
   "cell_type": "code",
   "execution_count": 6,
   "metadata": {
    "_uuid": "f2c1aa99a43e2c20c63937cfe934a81f7962029d"
   },
   "outputs": [
    {
     "data": {
      "text/plain": [
       "Text(0,0.5,'WCSS')"
      ]
     },
     "execution_count": 6,
     "metadata": {},
     "output_type": "execute_result"
    },
    {
     "data": {
      "image/png": "[encoded data removed]",
      "text/plain": [
       "<Figure size 432x288 with 1 Axes>"
      ]
     },
     "metadata": {},
     "output_type": "display_data"
    }
   ],
   "source": [
    "#------Criando varios agrupadores com quantidades diferentes de clusters-----#\n",
    "wcss = []\n",
    "for i in range(1, 11):\n",
    "    kmeans = KMeans(n_clusters = i, random_state = 0)\n",
    "    kmeans.fit(X)\n",
    "    wcss.append(kmeans.inertia_)\n",
    "plt.plot(range(1, 11), wcss)\n",
    "plt.xlabel('Número de clusters')\n",
    "plt.ylabel('WCSS')"
   ]
  },
  {
   "cell_type": "markdown",
   "metadata": {
    "_uuid": "8fff7c661888b798e656d6e0c5688123550207de"
   },
   "source": [
    "Eu escolherei o valor de k=6.\n",
    "\n",
    "### **Construindo modelo**\n",
    "Agora com o valor de `k` já definido, podemos efetuar o treinamento e verificar as previsões do nosso método. Outra possibilidade é agrupar os dados de previsão à base de dados e ordená-los, para assim efetuarmos uma avaliação melhor dos dados (essa avaliação é feita de forma manual)."
   ]
  },
  {
   "cell_type": "code",
   "execution_count": 7,
   "metadata": {
    "_uuid": "ff1797ae9170d0fdeaf7b4f518a7853b617eddce"
   },
   "outputs": [],
   "source": [
    "import numpy as np\n",
    "#-------------------Criando agrupador final com 6 clusters--------------------#\n",
    "kmeans = KMeans(n_clusters = 6, random_state = 0)\n",
    "kmeans.fit(X)\n",
    "\n",
    "#-------------------Prevendo os clusters para cada registro-------------------#\n",
    "previsoes = kmeans.predict(X)\n",
    "\n",
    "#-Agrupando a previsão à base e ordenando os clientes em relação na previsão--#\n",
    "# A previsão será adicionada à ultima coluna, que é a coluna 26               #\n",
    "#-----------------------------------------------------------------------------#\n",
    "lista_clientes = np.column_stack((base, previsoes))\n",
    "lista_clientes = lista_clientes[lista_clientes[:,26].argsort()]"
   ]
  }
 ],
 "metadata": {
  "kernelspec": {
   "display_name": "Python 3",
   "language": "python",
   "name": "python3"
  },
  "language_info": {
   "codemirror_mode": {
    "name": "ipython",
    "version": 3
   },
   "file_extension": ".py",
   "mimetype": "text/x-python",
   "name": "python",
   "nbconvert_exporter": "python",
   "pygments_lexer": "ipython3",
   "version": "3.6.8"
  }
 },
 "nbformat": 4,
 "nbformat_minor": 1
}
