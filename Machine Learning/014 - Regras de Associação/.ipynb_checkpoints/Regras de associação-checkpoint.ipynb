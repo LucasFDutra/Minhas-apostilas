{
 "cells": [
  {
   "cell_type": "markdown",
   "metadata": {
    "_uuid": "ffe6933a6f4d874dd6794dbe859da61e1febae5d"
   },
   "source": [
    "# **REGRAS DE ASSOCIAÇÃO**\n",
    "\n",
    "A associação é um método descritivo. A associação tem como principio se basear nos padrões que ocorrem na base de dados e definir respostas a esses padrões, ou seja, ele entende que se ocorre `A` e `B` e a resposta normalmente é `C` então sempre que ele ver `A` e `B` então a resposta será `C`. \n",
    "\n",
    "---\n",
    "- Link para aprender mais:\n",
    "    - [Mineração de Regras de Associação - Jones Granatyr](https://www.youtube.com/playlist?list=PLZ3V9XyVA528CGY3s1l4F-qllhwxhDqkc)\n",
    "---\n",
    "\n",
    "## ALGORITMO APRIORI\n",
    "\n",
    "A metodologia do algoritmo se baseiam em três fases:\n",
    "- **Fase 1**: Descobrir todos os conjuntos de itens com suporte maior ou igual ao mínimo especificado pelo usuário.\n",
    "- **Fase 2**: Descobrir regras de associação com fator de confiança maior ou igual ao especificado pelo usuário tomando como base o conjunto de itens selecionados na fase 1.\n",
    "- **Fase 3**: Verificando quais regras se enquadram no lift mínimo (Pode ou não acontecer, depende da biblioteca escolhida, mas é melhor fazer e a maioria já faz).\n",
    "\n",
    "- **Suporte**: É a frequência com que determinada entrada aparece na base de dados. \n",
    "    - **Exemplo**: Suponha a seguinte base de dados:\n",
    "\n",
    "|.|A|B|C|\n",
    "|-|-|-|-|\n",
    "|1|1|0|0|        \n",
    "|2|0|1|0|\n",
    "|3|1|1|0|\n",
    "|4|0|1|1|\n",
    "|Suporte|2/4|3/4|1/4|\n",
    "\n",
    "Após definido o suporte mínimo, seleciona-se aqueles que o atenderam e faz o suporte de suas combinações, depois faz-se o suporte para a combinação de 3 a 3 itens dos que passaram no primeiro passo, e assim sucessivamente.\n",
    "\n",
    "- **Confiança**: Analisa quantas vezes `A` e `B` ocorrem com relação a `A`.\n",
    "    - **Exemplo**: Supondo que a combinação AB passou teste do suporte mínimo, e que nas 3 vezes que ocorreu `A` também ocorreu `B`, e que nas 5 vezes que ocorreu `B` em 3 ocorreu `A`. Logo:\n",
    "        - Se A então B: confiança = $3/3$\n",
    "        - Se B então A: confiança = $3/5$\n",
    "        Ou seja, a regra `se A etão B` é mais confiável que `se B então A`. E se a regra `se B então A` der menor do que o mínimo de confiança estabelecido o algoritmo irá desconsiderá-la. No caso se o mínimo fosse: confiança >= $4/5$ a segunda regra seria desconsiderada.\n",
    "\n",
    "\n",
    "- **Lift**:Depois que se verifica quais regras que estão dentro do grau de confiança pre estabelecido, aplica-se o lift para definir quais dessas regras é a mais relevante.\n",
    "    - Se A então B\n",
    "        - lift = confiança(A)/suporte(B) = x\n",
    "            - O significado disso é: se ocorrer `A` a chance de também ocorrer `B` é de `x` vezes. \n",
    "    Depois de obter o valor do lift de cada regra, ordena-se elas do maior para o menor, assim conseguimos olhar quais regras são as mais relevantes.\n",
    "    \n",
    "> OBS.: Outra forma de como pode aparecer as tabelas de bancos de dados é (sem os traços de `-`, eles estão aqui pois o jupyter não entende tabelas que não estiverem simétricas):\n",
    "\n",
    "|-|-|-|-|\n",
    "|-|-|-|-|\n",
    "|1|A|-|-|        \n",
    "|2|B|-|-|\n",
    "|3|A|B|-|\n",
    "|4|B|C|-|\n",
    "\n",
    "Esse formato é mais fácil para trabalhar com o python, inclusive a biblioteca que utilizarei trabalha com ele.\n",
    "\n",
    "- **Definir os parâmetros utilizando o exemplo de um mercado**:\n",
    "    - **Suporte**: Supondo que eu quero saber sobre produtos que vendam no mínimo x vezes na semana (supondo que minha base de dados é de uma semana). Então meu valor de suporte mínimo é de x/(quantidade total de compras)\n",
    "    - **Confiança**: Na base do teste.\n",
    "    - **Lift**: o ideal é de 5 a 7 no mínimo.\n",
    "    \n",
    "> OBS.: Os valores de confiança tem que serem adequados com muito cuidado, pois podem gerar apenas regras obvias, tipo se uma pessoa comprar pão ela compra compra café, isso ocorre devido ao fato de termos um valor de suporte e de confiança muitas vezes muito altos, logo nem sempre é bom esses valores serem altos. O que devemos fazer é pegar uma quantidade x de regras, analisá-las e definir se elas são interessantes (esse processo é manual).\n",
    "\n",
    "# **IMPLEMENTAÇÃO**\n",
    "\n",
    "Primeiramente precisamos instalar a biblioteca apyori. Essa biblioteca pode ser encontrada em [link](https://pypi.org/project/apyori/)"
   ]
  },
  {
   "cell_type": "code",
   "execution_count": 1,
   "metadata": {
    "_uuid": "fd1d849b00e2e133bd545b8836277c34601f6730"
   },
   "outputs": [
    {
     "name": "stdout",
     "output_type": "stream",
     "text": [
      "Collecting apyori\r\n",
      "  Downloading https://files.pythonhosted.org/packages/25/fd/0561e2dd29aeed544bad2d1991636e38700cdaef9530490b863741f35295/apyori-1.1.1.tar.gz\r\n",
      "Building wheels for collected packages: apyori\r\n",
      "  Running setup.py bdist_wheel for apyori ... \u001b[?25l-\b \bdone\r\n",
      "\u001b[?25h  Stored in directory: /tmp/.cache/pip/wheels/7b/2a/35/c0c3749c1a36d4f454ea22d8396e1b854b86340d63cbbb7949\r\n",
      "Successfully built apyori\r\n",
      "Installing collected packages: apyori\r\n",
      "Successfully installed apyori-1.1.1\r\n",
      "\u001b[33mYou are using pip version 18.1, however version 19.0.2 is available.\r\n",
      "You should consider upgrading via the 'pip install --upgrade pip' command.\u001b[0m\r\n"
     ]
    }
   ],
   "source": [
    "!pip install apyori"
   ]
  },
  {
   "cell_type": "markdown",
   "metadata": {
    "_uuid": "ffe6933a6f4d874dd6794dbe859da61e1febae5d"
   },
   "source": [
    "## Base de dados\n",
    "A base de dados que será utilizada será a `Basket Optimisation` que pode ser encontrada entre os datasets do kaggle no [link](https://www.kaggle.com/dragonheir/basket-optimisation).\n",
    "\n",
    "## DEFINIÇÕES NECESSÁRIAS PARA TRABALHAR\n",
    "- **Definindo o suporte**: Quero produtos que vendam no mínimo 28 vezes na semana, logo suporte = 28/7501.\n",
    "\n",
    "## SOBRE A BIBLIOTECA APYORI\n",
    "- min_support: valor mínimo do suporte (é dado na base 1 -> 0.3 = 30%)\n",
    "- min_confidence: valor mínimo da confiança\n",
    "- min_lift: valor mínimo de lift\n",
    "- min_lenght: a quantidade mínima de componentes a serem utilizados para efetuar um agrupamento"
   ]
  },
  {
   "cell_type": "code",
   "execution_count": 2,
   "metadata": {
    "_uuid": "e17d4950cd9112ba1d8c8653ee8160449a5f7058",
    "scrolled": true
   },
   "outputs": [
    {
     "name": "stdout",
     "output_type": "stream",
     "text": [
      "Regra 0:  [OrderedStatistic(items_base=frozenset({'light cream'}), items_add=frozenset({'chicken'}), confidence=0.29059829059829057, lift=4.84395061728395)] \n",
      "\n",
      "Regra 1:  [OrderedStatistic(items_base=frozenset({'mushroom cream sauce'}), items_add=frozenset({'escalope'}), confidence=0.3006993006993007, lift=3.790832696715049)] \n",
      "\n",
      "Regra 2:  [OrderedStatistic(items_base=frozenset({'pasta'}), items_add=frozenset({'escalope'}), confidence=0.3728813559322034, lift=4.700811850163794)] \n",
      "\n",
      "Regra 3:  [OrderedStatistic(items_base=frozenset({'fromage blanc'}), items_add=frozenset({'honey'}), confidence=0.2450980392156863, lift=5.164270764485569)] \n",
      "\n",
      "Regra 4:  [OrderedStatistic(items_base=frozenset({'herb & pepper'}), items_add=frozenset({'ground beef'}), confidence=0.3234501347708895, lift=3.2919938411349285)] \n",
      "\n"
     ]
    }
   ],
   "source": [
    "#-------------------------------Bibliotecas-----------------------------------#\n",
    "import pandas as pd\n",
    "from apyori import apriori\n",
    "\n",
    "#----------------Coloca a base de dados na variável 'base'--------------------#\n",
    "# header = None: indica que não há cabeçalho.                                 #\n",
    "#-----------------------------------------------------------------------------#\n",
    "base = pd.read_csv('../input/Market_Basket_Optimisation.csv', header = None)\n",
    "\n",
    "#--------------------Convertendo para o formato de lista----------------------#\n",
    "transacoes = [[str(base.values[i, j]) for j in range(0,base.shape[1])] for i in range(0,base.shape[0])]\n",
    "\n",
    "#----------------------------Criando as regras--------------------------------#\n",
    "regras = apriori(transacoes, min_support = 0.003, min_confidence = 0.2, min_lift = 3, min_lenght = 2)\n",
    "\n",
    "#--------------------------Visualizar as regras-------------------------------#\n",
    "resultados = list(regras)\n",
    "resultados2 = [list(i) for i in resultados]\n",
    "\n",
    "#----------------Visualizando apenas as 5 primeiras regras--------------------#\n",
    "resultado_formatado = [list(resultados2[i][2]) for i in range(0,5)]\n",
    "for i in range(0,5):\n",
    "    print('Regra {}: '.format(i), resultado_formatado[i],'\\n')"
   ]
  },
  {
   "cell_type": "markdown",
   "metadata": {
    "_uuid": "7098dfc2ad8bc443573457fc78925d2cc612eddb"
   },
   "source": [
    "Analisando a Regra `0` temos que pessoas que compram `light cream` tendem a comprar `chicken`, o grau de confiança para essa regra é de 29.05% com um lift de 4.843, ou seja, quem compra `light cream` tem 4.83 vezes mais chance de comparar `chicken`."
   ]
  }
 ],
 "metadata": {
  "kernelspec": {
   "display_name": "Python 3",
   "language": "python",
   "name": "python3"
  },
  "language_info": {
   "codemirror_mode": {
    "name": "ipython",
    "version": 3
   },
   "file_extension": ".py",
   "mimetype": "text/x-python",
   "name": "python",
   "nbconvert_exporter": "python",
   "pygments_lexer": "ipython3",
   "version": "3.6.8"
  }
 },
 "nbformat": 4,
 "nbformat_minor": 1
}
