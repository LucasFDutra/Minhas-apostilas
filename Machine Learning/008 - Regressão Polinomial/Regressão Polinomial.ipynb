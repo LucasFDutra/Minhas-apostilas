{
 "cells": [
  {
   "cell_type": "markdown",
   "metadata": {
    "_uuid": "42ec886acee8ddebd83e312358e47af8c3bd1476"
   },
   "source": [
    "# **REGRESSÃO POLINOMIAL**\n",
    " \n",
    "A regressão linear é utilizada para problemas cujos registros se relacionam de forma linear com a classe. Para outras distribuições temos outros métodos, e um deles é a regressão polinomial.\n",
    "- Equação: $y=b_0+(b_1.x_1+b_2.x_1^2+...+b_n.x_1^n)+(b_1.x_2+b_2.x_2^2+...+b_n.x_2^n)+...+(b_1.x_n+b_2.x_n^2+...+b_n.x_n^n)$\n",
    "\n",
    "Para executar esse método vamos utilizar a seguinte técnica:\n",
    "- Eleva-se os valores dos previsores a ordem 1, 2, 3,...,n e então utiliza o mesmo algoritmo de regressão linear.\n",
    "\n",
    "![](https://cdn-images-1.medium.com/max/1200/1*QKcwvXU0UZ9YtkmRNKBM3w.gif)\n",
    "\n",
    "Fonte: https://towardsdatascience.com/5-types-of-regression-and-their-properties-c5e1fa12d55e\n",
    "\n",
    "---\n",
    "- Links para aprender mais:\n",
    "    - [Non-Linear Regression - Cognitive Class](https://www.youtube.com/watch?v=ub3UlaYRt9I&feature=youtu.be)\n",
    "    - [Regressão polinomial - Mariah Tenorio](https://www.youtube.com/watch?v=2RgPsGuDD6I)\n",
    "    - [Regressão Polinomial, grau n, modelo teórico - Matemática&Geologia](https://www.youtube.com/watch?v=IXX-ysDk6Vs)\n",
    "---\n",
    "\n",
    "# **IMPLEMENTAÇÃO**\n",
    "## BASE DE DADOS\n",
    "A base de dados que será utilizada será a Boston housing price que já pode ser encontrada na base de dados do keras.\n",
    "\n",
    "> Por se tratar de um problema de regressão é necessário efetuar o escalonamento dos dados, para isso será utilizada a biblioteca sklearn. É conveniente que o escalonamento seja feito antes de dividir a base de dados em treinamento e teste."
   ]
  },
  {
   "cell_type": "code",
   "execution_count": 1,
   "metadata": {
    "_uuid": "937044afcb1ab68a3f0bdd7196a382b3f97ee1c1"
   },
   "outputs": [
    {
     "name": "stderr",
     "output_type": "stream",
     "text": [
      "Using TensorFlow backend.\n"
     ]
    },
    {
     "name": "stdout",
     "output_type": "stream",
     "text": [
      "Downloading data from https://s3.amazonaws.com/keras-datasets/boston_housing.npz\n",
      "57344/57026 [==============================] - 0s 1us/step\n"
     ]
    }
   ],
   "source": [
    "from keras.datasets import boston_housing\n",
    "(x, y),(_,_) = boston_housing.load_data(test_split=0) # não carrego os dados de teste"
   ]
  },
  {
   "cell_type": "code",
   "execution_count": 2,
   "metadata": {
    "_uuid": "d4fc48ddf115bd4c904b65b44025162f6669d5b7"
   },
   "outputs": [
    {
     "data": {
      "text/plain": [
       "(506, 13)"
      ]
     },
     "execution_count": 2,
     "metadata": {},
     "output_type": "execute_result"
    }
   ],
   "source": [
    "x.shape"
   ]
  },
  {
   "cell_type": "code",
   "execution_count": 3,
   "metadata": {
    "_uuid": "d9e724b810e04521a0e95817d56ff1c7ae22af6d"
   },
   "outputs": [
    {
     "data": {
      "text/plain": [
       "(506,)"
      ]
     },
     "execution_count": 3,
     "metadata": {},
     "output_type": "execute_result"
    }
   ],
   "source": [
    "y.shape"
   ]
  },
  {
   "cell_type": "markdown",
   "metadata": {
    "_uuid": "de821844c05a74eeb393553f52f86a3cd6e17fe7"
   },
   "source": [
    "É necessário transformar o formato de y, pois para efetuar o escalonamento é necessário que ele possua o formato de (x,y)."
   ]
  },
  {
   "cell_type": "code",
   "execution_count": 4,
   "metadata": {
    "_uuid": "3004dfc396b77af25fd25b31b6db8ac46faacbf2"
   },
   "outputs": [
    {
     "data": {
      "text/plain": [
       "(506, 1)"
      ]
     },
     "execution_count": 4,
     "metadata": {},
     "output_type": "execute_result"
    }
   ],
   "source": [
    "y = y.reshape(y.shape[0],1)\n",
    "y.shape"
   ]
  },
  {
   "cell_type": "markdown",
   "metadata": {
    "_uuid": "d7056b6fa4aeccca6ec09f4b2d32e017fdc0b4a6"
   },
   "source": [
    "## ESCALONANDO DADOS"
   ]
  },
  {
   "cell_type": "code",
   "execution_count": 5,
   "metadata": {
    "_uuid": "dbcc8c5c2060b82d8c77d31e1e92695fada40859"
   },
   "outputs": [],
   "source": [
    "from sklearn.preprocessing import StandardScaler\n",
    "scaler_x = StandardScaler()\n",
    "scaler_y = StandardScaler()\n",
    "x = scaler_x.fit_transform(x)\n",
    "y = scaler_y.fit_transform(y)"
   ]
  },
  {
   "cell_type": "code",
   "execution_count": 6,
   "metadata": {
    "_uuid": "628a6e8046bf2dc4b805d76fcd0b24a7432232db"
   },
   "outputs": [
    {
     "data": {
      "text/plain": [
       "(506, 13)"
      ]
     },
     "execution_count": 6,
     "metadata": {},
     "output_type": "execute_result"
    }
   ],
   "source": [
    "x.shape"
   ]
  },
  {
   "cell_type": "code",
   "execution_count": 7,
   "metadata": {
    "_uuid": "81df46a5869316dc7880c305223fa53143e5ff2a"
   },
   "outputs": [
    {
     "data": {
      "text/plain": [
       "(506, 1)"
      ]
     },
     "execution_count": 7,
     "metadata": {},
     "output_type": "execute_result"
    }
   ],
   "source": [
    "y.shape"
   ]
  },
  {
   "cell_type": "markdown",
   "metadata": {
    "_uuid": "9a972891b9119efea1c1fd2153751ee30ae72a1a"
   },
   "source": [
    "## DIVIDINDO A BASE DE DADOS EM TREINAMENTO E TESTE"
   ]
  },
  {
   "cell_type": "code",
   "execution_count": 8,
   "metadata": {
    "_uuid": "58ee291f4c236f9db8f79775d2ca0d139f483ea9"
   },
   "outputs": [],
   "source": [
    "from sklearn.model_selection import train_test_split\n",
    "x_train, x_test, y_train, y_test = train_test_split(x,y, test_size = 0.3, random_state = 0) # 30% de test"
   ]
  },
  {
   "cell_type": "code",
   "execution_count": 9,
   "metadata": {
    "_uuid": "d393a93d551f39de74b07c747e0e9a99387cba73"
   },
   "outputs": [
    {
     "data": {
      "text/plain": [
       "(354, 13)"
      ]
     },
     "execution_count": 9,
     "metadata": {},
     "output_type": "execute_result"
    }
   ],
   "source": [
    "x_train.shape"
   ]
  },
  {
   "cell_type": "markdown",
   "metadata": {
    "_uuid": "b2b3462593768443c0345693a104d5cc3af3da90"
   },
   "source": [
    "## MODIFICANDO A BASE DE DADOS\n",
    "Para for fazer uma regressão polinomial na verdade é feita uma regressão linear, porém os atributos que entram no modelo são todos elevados a uma dada ordem preestabelecida pelo programador gerando novos atributos sendo que são o resultado dessa exponenciação, e isso define a ordem do modelo.\n",
    "Exemplo, suponha que tenhamos a seguinte base de dados e queremos efetuar uma regressão polinomial de segunda ordem:\n",
    "\n",
    "|$Atributo_1$|$Atributo_2$|Classe|\n",
    "|-|-|-|\n",
    "|2|3|4|\n",
    "|1|2|1|\n",
    "|3|5|1|\n",
    "\n",
    "O resultado que obteremos após aplicar a exponenciação será\n",
    "\n",
    "|$Atributo_1^1$|$Atributo_1^2$|$Atributo_2^1$|$Atributo_2^2$|Classe|\n",
    "|-|-|-|-|-|\n",
    "|2|4|3|9|4|\n",
    "|1|1|2|4|1|\n",
    "|3|9|5|25|1|"
   ]
  },
  {
   "cell_type": "code",
   "execution_count": 10,
   "metadata": {
    "_uuid": "ed1df19a22adebbad054a82332a253896ae1782a"
   },
   "outputs": [],
   "source": [
    "#-------------------------------Biblioteca------------------------------------#\n",
    "from sklearn.preprocessing import PolynomialFeatures\n",
    "\n",
    "#--------------------Elevando as entradas a ordem degree----------------------#\n",
    "poly = PolynomialFeatures(degree=4) # cada atributo será elevado a 1, 2, 3 e 4 criando assim 3 novos atributos, esse número é definido por escolha do programador\n",
    "x_train = poly.fit_transform(x_train)\n",
    "x_test = poly.transform(x_test)"
   ]
  },
  {
   "cell_type": "markdown",
   "metadata": {
    "_uuid": "f644602f0cbad033fc895bad5fb73c485ebe481e"
   },
   "source": [
    "## CONSTRUINDO E TREINANDO O MODELO"
   ]
  },
  {
   "cell_type": "code",
   "execution_count": 11,
   "metadata": {
    "_uuid": "ed1df19a22adebbad054a82332a253896ae1782a"
   },
   "outputs": [
    {
     "data": {
      "text/plain": [
       "LinearRegression(copy_X=True, fit_intercept=True, n_jobs=None,\n",
       "         normalize=False)"
      ]
     },
     "execution_count": 11,
     "metadata": {},
     "output_type": "execute_result"
    }
   ],
   "source": [
    "#---------------------------Criando o regressor-------------------------------#\n",
    "from sklearn.linear_model import LinearRegression\n",
    "regressor = LinearRegression()\n",
    "regressor.fit(x_train, y_train)"
   ]
  },
  {
   "cell_type": "markdown",
   "metadata": {
    "_uuid": "ff971f7a6de05e74145ccc047bb57bc3e6fcd627"
   },
   "source": [
    "## VERIFICANDO CORRELAÇÃO DO MODELO"
   ]
  },
  {
   "cell_type": "code",
   "execution_count": 12,
   "metadata": {
    "_uuid": "ed1df19a22adebbad054a82332a253896ae1782a"
   },
   "outputs": [
    {
     "name": "stdout",
     "output_type": "stream",
     "text": [
      "A correlação do modelo com a base de dados de treinamento é de: 1.0\n",
      "A correlação do modelo com a base de dados de teste é de: -32.19088532232489\n"
     ]
    }
   ],
   "source": [
    "#----Ver a correlação do modelo com relação a base de dados de Treinamento----#\n",
    "score = regressor.score(x_train, y_train)\n",
    "print('A correlação do modelo com a base de dados de treinamento é de: {}'.format(score))\n",
    "\n",
    "#-------Ver a correlação do modelo com relação a base de dados de teste-------#\n",
    "score = regressor.score(x_test, y_test)\n",
    "print('A correlação do modelo com a base de dados de teste é de: {}'.format(score))"
   ]
  },
  {
   "cell_type": "markdown",
   "metadata": {
    "_uuid": "b4b57fa50cbf8514cbf8b9d73be94833af6b9374"
   },
   "source": [
    "## EFETUANDO PREVISÃO E AVALIANDO OS ERROS"
   ]
  },
  {
   "cell_type": "code",
   "execution_count": 13,
   "metadata": {
    "_uuid": "ed1df19a22adebbad054a82332a253896ae1782a"
   },
   "outputs": [
    {
     "name": "stdout",
     "output_type": "stream",
     "text": [
      "Erro absoluto: 1.1950515444394518\n",
      "Erro quadratico: 28.171535395761783\n"
     ]
    }
   ],
   "source": [
    "#------------------------------Prevendo um valor------------------------------#\n",
    "previsoes = regressor.predict(x_test)\n",
    "\n",
    "#------------------Diferança entre valores reais e previstos------------------#\n",
    "from sklearn.metrics import mean_absolute_error, mean_squared_error\n",
    "erro_absoluto = mean_absolute_error(y_test, previsoes)\n",
    "erro_quadratico = mean_squared_error(y_test, previsoes)\n",
    "print('Erro absoluto: {}'.format(erro_absoluto))\n",
    "print('Erro quadratico: {}'.format(erro_quadratico))"
   ]
  },
  {
   "cell_type": "markdown",
   "metadata": {
    "_uuid": "f2a0d27b2787ca2fa41d323e05c658d1e3f60c5a"
   },
   "source": [
    "> Polinômios com grau muito alto podem gerar overfitting.\n",
    "- Overfittin é quando o modelo \"vícia\" nos dados de treinamento e não consegue generalização suficiente para trabalhar com dados além dos da base de treinamento."
   ]
  }
 ],
 "metadata": {
  "kernelspec": {
   "display_name": "Python 3",
   "language": "python",
   "name": "python3"
  },
  "language_info": {
   "codemirror_mode": {
    "name": "ipython",
    "version": 3
   },
   "file_extension": ".py",
   "mimetype": "text/x-python",
   "name": "python",
   "nbconvert_exporter": "python",
   "pygments_lexer": "ipython3",
   "version": "3.6.8"
  }
 },
 "nbformat": 4,
 "nbformat_minor": 1
}
